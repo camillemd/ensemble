{
 "cells": [
  {
   "cell_type": "markdown",
   "metadata": {
    "colab_type": "text",
    "id": "JQhP7Lf1cIZ-"
   },
   "source": [
    "## Course Project: Text Classification with Rakuten France Product Data\n",
    "\n",
    "The project focuses on the topic of large-scale product type code text classification where the goal is to predict each product’s type code as defined in the catalog of Rakuten France. This project is derived from a data challenge proposed by Rakuten Institute of Technology, Paris. Details of the data challenge is [available in this link](https://challengedata.ens.fr/challenges/35).\n",
    "\n",
    "The above data challenge focuses on multimodal product type code classification using text and image data. **For this project we will work with only text part of the data.**\n",
    "\n",
    "Please read carefully the description of the challenge provided in the above link. **You can disregard any information related to the image part of the data.**\n",
    "\n",
    "### To obtain the data\n",
    "You have to register yourself [in this link](https://challengedata.ens.fr/challenges/35) to get access to the data.\n",
    "\n",
    "For this project you will only need the text data. Download the training files `x_train` and `y_train`, containing the item texts, and the corresponding product type code labels.\n",
    "\n",
    "### Pandas for handling the data\n",
    "The files you obtained are in CSV format. We strongly suggest to use Python Pandas package to load and visualize the data. [Here is a basic tutorial](https://data36.com/pandas-tutorial-1-basics-reading-data-files-dataframes-data-selection/) on how to handle data in CSV file using Pandas.\n",
    "\n",
    "If you open the `x_train` dataset using Pandas, you will find that it contains following columns:\n",
    "1. an integer ID for the product\n",
    "2. **designation** - The product title\n",
    "3. description\n",
    "4. productid\n",
    "5. imageid\n",
    "\n",
    "For this project we will only need the integer ID and the designation. You can [`drop`](https://pandas.pydata.org/pandas-docs/stable/reference/api/pandas.DataFrame.drop.html) the other columns.\n",
    "\n",
    "The training output file `y_train.csv` contains the **prdtypecode**, the target/output variable for the classification task, for each integer id in the training input file `X_train.csv`.\n",
    "\n",
    "### Task for the break\n",
    "1. Register yourself and download the training and test for text data. You do not need the `supplementary files` for this project.\n",
    "2. Load the data using pandas and disregard unnecessary columns as mentioned above.\n",
    "3. On the **designation** column, apply the preprocessing techniques.\n",
    "\n",
    "### Task for the end of the course\n",
    "After this preprocessing step, you have now access to a TF-IDF matrix that constitute our data set for the final evaluation project. The project guidelines are:\n",
    "1. Apply all approaches taught in the course and practiced in lab sessions (Decision Trees, Bagging, Random forests, Boosting, Gradient Boosted Trees, AdaBoost, etc.) on this data set. The goal is to predict the target variable (prdtypecode).\n",
    "2. Compare performances of all these models in terms of the weighted-f1 scores you can output. \n",
    "3. Conclude about the most appropriate approach on this data set for the predictive task. \n",
    "4. Write a report in .tex format that adress all these guidelines with a maximal page number of 5 (including figures, tables and references). We will take into account the quality of writing and presentation of the report."
   ]
  },
  {
   "cell_type": "code",
<<<<<<< Updated upstream
   "execution_count": 2,
=======
   "execution_count": 1,
>>>>>>> Stashed changes
   "metadata": {
    "colab": {
     "base_uri": "https://localhost:8080/",
     "height": 574
    },
    "colab_type": "code",
    "id": "yNZUdNYqh3z3",
<<<<<<< Updated upstream
    "outputId": "02eae444-e74f-4412-b2ac-a45d0f5d67cf"
=======
    "outputId": "8925b089-7310-4df0-8cb1-49f7a8efef17"
>>>>>>> Stashed changes
   },
   "outputs": [
    {
     "name": "stdout",
     "output_type": "stream",
     "text": [
      "Collecting fr_core_news_sm==2.2.5\n",
      "\u001b[?25l  Downloading https://github.com/explosion/spacy-models/releases/download/fr_core_news_sm-2.2.5/fr_core_news_sm-2.2.5.tar.gz (14.7MB)\n",
<<<<<<< Updated upstream
      "\u001b[K     |████████████████████████████████| 14.7MB 1.8MB/s \n",
      "\u001b[?25hRequirement already satisfied: spacy>=2.2.2 in /usr/local/lib/python3.6/dist-packages (from fr_core_news_sm==2.2.5) (2.2.3)\n",
      "Requirement already satisfied: wasabi<1.1.0,>=0.4.0 in /usr/local/lib/python3.6/dist-packages (from spacy>=2.2.2->fr_core_news_sm==2.2.5) (0.6.0)\n",
      "Requirement already satisfied: catalogue<1.1.0,>=0.0.7 in /usr/local/lib/python3.6/dist-packages (from spacy>=2.2.2->fr_core_news_sm==2.2.5) (1.0.0)\n",
      "Requirement already satisfied: setuptools in /usr/local/lib/python3.6/dist-packages (from spacy>=2.2.2->fr_core_news_sm==2.2.5) (45.2.0)\n",
      "Requirement already satisfied: plac<1.2.0,>=0.9.6 in /usr/local/lib/python3.6/dist-packages (from spacy>=2.2.2->fr_core_news_sm==2.2.5) (1.1.3)\n",
      "Requirement already satisfied: murmurhash<1.1.0,>=0.28.0 in /usr/local/lib/python3.6/dist-packages (from spacy>=2.2.2->fr_core_news_sm==2.2.5) (1.0.2)\n",
      "Requirement already satisfied: thinc<7.4.0,>=7.3.0 in /usr/local/lib/python3.6/dist-packages (from spacy>=2.2.2->fr_core_news_sm==2.2.5) (7.3.1)\n",
      "Requirement already satisfied: blis<0.5.0,>=0.4.0 in /usr/local/lib/python3.6/dist-packages (from spacy>=2.2.2->fr_core_news_sm==2.2.5) (0.4.1)\n",
      "Requirement already satisfied: srsly<1.1.0,>=0.1.0 in /usr/local/lib/python3.6/dist-packages (from spacy>=2.2.2->fr_core_news_sm==2.2.5) (1.0.2)\n",
      "Requirement already satisfied: requests<3.0.0,>=2.13.0 in /usr/local/lib/python3.6/dist-packages (from spacy>=2.2.2->fr_core_news_sm==2.2.5) (2.21.0)\n",
      "Requirement already satisfied: numpy>=1.15.0 in /usr/local/lib/python3.6/dist-packages (from spacy>=2.2.2->fr_core_news_sm==2.2.5) (1.18.1)\n",
      "Requirement already satisfied: preshed<3.1.0,>=3.0.2 in /usr/local/lib/python3.6/dist-packages (from spacy>=2.2.2->fr_core_news_sm==2.2.5) (3.0.2)\n",
      "Requirement already satisfied: cymem<2.1.0,>=2.0.2 in /usr/local/lib/python3.6/dist-packages (from spacy>=2.2.2->fr_core_news_sm==2.2.5) (2.0.3)\n",
      "Requirement already satisfied: importlib-metadata>=0.20; python_version < \"3.8\" in /usr/local/lib/python3.6/dist-packages (from catalogue<1.1.0,>=0.0.7->spacy>=2.2.2->fr_core_news_sm==2.2.5) (1.5.0)\n",
      "Requirement already satisfied: tqdm<5.0.0,>=4.10.0 in /usr/local/lib/python3.6/dist-packages (from thinc<7.4.0,>=7.3.0->spacy>=2.2.2->fr_core_news_sm==2.2.5) (4.28.1)\n",
      "Requirement already satisfied: chardet<3.1.0,>=3.0.2 in /usr/local/lib/python3.6/dist-packages (from requests<3.0.0,>=2.13.0->spacy>=2.2.2->fr_core_news_sm==2.2.5) (3.0.4)\n",
      "Requirement already satisfied: idna<2.9,>=2.5 in /usr/local/lib/python3.6/dist-packages (from requests<3.0.0,>=2.13.0->spacy>=2.2.2->fr_core_news_sm==2.2.5) (2.8)\n",
      "Requirement already satisfied: certifi>=2017.4.17 in /usr/local/lib/python3.6/dist-packages (from requests<3.0.0,>=2.13.0->spacy>=2.2.2->fr_core_news_sm==2.2.5) (2019.11.28)\n",
      "Requirement already satisfied: urllib3<1.25,>=1.21.1 in /usr/local/lib/python3.6/dist-packages (from requests<3.0.0,>=2.13.0->spacy>=2.2.2->fr_core_news_sm==2.2.5) (1.24.3)\n",
      "Requirement already satisfied: zipp>=0.5 in /usr/local/lib/python3.6/dist-packages (from importlib-metadata>=0.20; python_version < \"3.8\"->catalogue<1.1.0,>=0.0.7->spacy>=2.2.2->fr_core_news_sm==2.2.5) (3.1.0)\n",
      "Building wheels for collected packages: fr-core-news-sm\n",
      "  Building wheel for fr-core-news-sm (setup.py) ... \u001b[?25l\u001b[?25hdone\n",
      "  Created wheel for fr-core-news-sm: filename=fr_core_news_sm-2.2.5-cp36-none-any.whl size=14727027 sha256=8172dc8ff3ac9f5937bebb9fc4724a2c2d567e9f9545a02a717f59785f42d027\n",
      "  Stored in directory: /tmp/pip-ephem-wheel-cache-pcnpz2te/wheels/46/1b/e6/29b020e3f9420a24c3f463343afe5136aaaf955dbc9e46dfc5\n",
=======
      "\u001b[K     |████████████████████████████████| 14.7MB 4.0MB/s \n",
      "\u001b[?25hRequirement already satisfied: spacy>=2.2.2 in /usr/local/lib/python3.6/dist-packages (from fr_core_news_sm==2.2.5) (2.2.4)\n",
      "Requirement already satisfied: numpy>=1.15.0 in /usr/local/lib/python3.6/dist-packages (from spacy>=2.2.2->fr_core_news_sm==2.2.5) (1.18.2)\n",
      "Requirement already satisfied: srsly<1.1.0,>=1.0.2 in /usr/local/lib/python3.6/dist-packages (from spacy>=2.2.2->fr_core_news_sm==2.2.5) (1.0.2)\n",
      "Requirement already satisfied: catalogue<1.1.0,>=0.0.7 in /usr/local/lib/python3.6/dist-packages (from spacy>=2.2.2->fr_core_news_sm==2.2.5) (1.0.0)\n",
      "Requirement already satisfied: blis<0.5.0,>=0.4.0 in /usr/local/lib/python3.6/dist-packages (from spacy>=2.2.2->fr_core_news_sm==2.2.5) (0.4.1)\n",
      "Requirement already satisfied: setuptools in /usr/local/lib/python3.6/dist-packages (from spacy>=2.2.2->fr_core_news_sm==2.2.5) (46.0.0)\n",
      "Requirement already satisfied: preshed<3.1.0,>=3.0.2 in /usr/local/lib/python3.6/dist-packages (from spacy>=2.2.2->fr_core_news_sm==2.2.5) (3.0.2)\n",
      "Requirement already satisfied: thinc==7.4.0 in /usr/local/lib/python3.6/dist-packages (from spacy>=2.2.2->fr_core_news_sm==2.2.5) (7.4.0)\n",
      "Requirement already satisfied: plac<1.2.0,>=0.9.6 in /usr/local/lib/python3.6/dist-packages (from spacy>=2.2.2->fr_core_news_sm==2.2.5) (1.1.3)\n",
      "Requirement already satisfied: requests<3.0.0,>=2.13.0 in /usr/local/lib/python3.6/dist-packages (from spacy>=2.2.2->fr_core_news_sm==2.2.5) (2.21.0)\n",
      "Requirement already satisfied: wasabi<1.1.0,>=0.4.0 in /usr/local/lib/python3.6/dist-packages (from spacy>=2.2.2->fr_core_news_sm==2.2.5) (0.6.0)\n",
      "Requirement already satisfied: murmurhash<1.1.0,>=0.28.0 in /usr/local/lib/python3.6/dist-packages (from spacy>=2.2.2->fr_core_news_sm==2.2.5) (1.0.2)\n",
      "Requirement already satisfied: cymem<2.1.0,>=2.0.2 in /usr/local/lib/python3.6/dist-packages (from spacy>=2.2.2->fr_core_news_sm==2.2.5) (2.0.3)\n",
      "Requirement already satisfied: tqdm<5.0.0,>=4.38.0 in /usr/local/lib/python3.6/dist-packages (from spacy>=2.2.2->fr_core_news_sm==2.2.5) (4.38.0)\n",
      "Requirement already satisfied: importlib-metadata>=0.20; python_version < \"3.8\" in /usr/local/lib/python3.6/dist-packages (from catalogue<1.1.0,>=0.0.7->spacy>=2.2.2->fr_core_news_sm==2.2.5) (1.5.0)\n",
      "Requirement already satisfied: urllib3<1.25,>=1.21.1 in /usr/local/lib/python3.6/dist-packages (from requests<3.0.0,>=2.13.0->spacy>=2.2.2->fr_core_news_sm==2.2.5) (1.24.3)\n",
      "Requirement already satisfied: certifi>=2017.4.17 in /usr/local/lib/python3.6/dist-packages (from requests<3.0.0,>=2.13.0->spacy>=2.2.2->fr_core_news_sm==2.2.5) (2019.11.28)\n",
      "Requirement already satisfied: idna<2.9,>=2.5 in /usr/local/lib/python3.6/dist-packages (from requests<3.0.0,>=2.13.0->spacy>=2.2.2->fr_core_news_sm==2.2.5) (2.8)\n",
      "Requirement already satisfied: chardet<3.1.0,>=3.0.2 in /usr/local/lib/python3.6/dist-packages (from requests<3.0.0,>=2.13.0->spacy>=2.2.2->fr_core_news_sm==2.2.5) (3.0.4)\n",
      "Requirement already satisfied: zipp>=0.5 in /usr/local/lib/python3.6/dist-packages (from importlib-metadata>=0.20; python_version < \"3.8\"->catalogue<1.1.0,>=0.0.7->spacy>=2.2.2->fr_core_news_sm==2.2.5) (3.1.0)\n",
      "Building wheels for collected packages: fr-core-news-sm\n",
      "  Building wheel for fr-core-news-sm (setup.py) ... \u001b[?25l\u001b[?25hdone\n",
      "  Created wheel for fr-core-news-sm: filename=fr_core_news_sm-2.2.5-cp36-none-any.whl size=14727027 sha256=d8e84254f87d0b31d0592f4c2b88ab5dfa342d35c0f0f88a3b37e04e8b9bc152\n",
      "  Stored in directory: /tmp/pip-ephem-wheel-cache-dxggv078/wheels/46/1b/e6/29b020e3f9420a24c3f463343afe5136aaaf955dbc9e46dfc5\n",
>>>>>>> Stashed changes
      "Successfully built fr-core-news-sm\n",
      "Installing collected packages: fr-core-news-sm\n",
      "Successfully installed fr-core-news-sm-2.2.5\n",
      "\u001b[38;5;2m✔ Download and installation successful\u001b[0m\n",
      "You can now load the model via spacy.load('fr_core_news_sm')\n"
     ]
    }
   ],
   "source": [
    "!python -m spacy download fr_core_news_sm"
   ]
  },
  {
   "cell_type": "code",
   "execution_count": 0,
   "metadata": {
    "colab": {},
    "colab_type": "code",
    "id": "tUfoMyxocIaC"
   },
   "outputs": [],
   "source": [
    "import numpy as np\n",
    "import pandas as pd\n",
    "import spacy\n",
    "import fr_core_news_sm\n",
    "\n",
    "# Load spaCy for french\n",
    "spacy_nlp = fr_core_news_sm.load()"
   ]
  },
  {
   "cell_type": "code",
<<<<<<< Updated upstream
   "execution_count": 5,
=======
   "execution_count": 3,
>>>>>>> Stashed changes
   "metadata": {
    "colab": {
     "base_uri": "https://localhost:8080/",
     "height": 121
    },
    "colab_type": "code",
    "id": "eR_HqRt_euvF",
<<<<<<< Updated upstream
    "outputId": "83bc94b0-b216-4e5e-87c9-16bbdfca0c30"
=======
    "outputId": "1a9e5348-fa79-4cda-b173-f3957ec212ba"
>>>>>>> Stashed changes
   },
   "outputs": [
    {
     "name": "stdout",
     "output_type": "stream",
     "text": [
      "Go to this URL in a browser: https://accounts.google.com/o/oauth2/auth?client_id=947318989803-6bn6qk8qdgf4n4g3pfee6491hc0brc4i.apps.googleusercontent.com&redirect_uri=urn%3aietf%3awg%3aoauth%3a2.0%3aoob&response_type=code&scope=email%20https%3a%2f%2fwww.googleapis.com%2fauth%2fdocs.test%20https%3a%2f%2fwww.googleapis.com%2fauth%2fdrive%20https%3a%2f%2fwww.googleapis.com%2fauth%2fdrive.photos.readonly%20https%3a%2f%2fwww.googleapis.com%2fauth%2fpeopleapi.readonly\n",
      "\n",
      "Enter your authorization code:\n",
      "··········\n",
      "Mounted at /content/drive\n"
     ]
    }
   ],
   "source": [
    "# linking Google-Drive to save plots\n",
    "from google.colab import drive\n",
    "drive = drive.mount('/content/drive')"
   ]
  },
  {
   "cell_type": "code",
   "execution_count": 0,
   "metadata": {
    "colab": {},
    "colab_type": "code",
    "id": "PJdb1QTRfiRj"
   },
   "outputs": [],
   "source": [
    "# create a directory for saving the models and the training progress\n",
    "save_folder = '/content/drive/My Drive/MScDSBA/Data_Science/Ensemble_Learning/'"
   ]
  },
  {
   "cell_type": "code",
   "execution_count": 0,
   "metadata": {
    "colab": {},
    "colab_type": "code",
    "id": "cGgaeZqRcIaM"
   },
   "outputs": [],
   "source": [
    "# download data\n",
    "X_train = pd.read_csv(save_folder + 'data/X_train.csv')\n",
    "Y_train = pd.read_csv(save_folder + 'data/Y_train.csv')\n",
    "X_test = pd.read_csv(save_folder + 'data/X_test.csv')"
   ]
  },
  {
   "cell_type": "code",
   "execution_count": 0,
   "metadata": {
    "colab": {},
    "colab_type": "code",
    "id": "j1Xs6pX0cIaS"
   },
   "outputs": [],
   "source": [
    "# X_train.head()\n",
    "# Y_train.head()\n",
    "# X_test.head()"
   ]
  },
  {
   "cell_type": "markdown",
   "metadata": {
    "colab_type": "text",
    "id": "dlQlsV6xcIaW"
   },
   "source": [
    "## Pre-processing\n",
    "\n",
    "1. We only keep the designation and id. \n",
    "2. We normalize the accents, put the text in lower-case, remove the punctuation, tokenise the extracts"
   ]
  },
  {
   "cell_type": "code",
   "execution_count": 0,
   "metadata": {
    "colab": {},
    "colab_type": "code",
    "id": "NU1JUqUscIaY"
   },
   "outputs": [],
   "source": [
    "# designation and ids\n",
    "def cleaning(X_train): \n",
    "    X_train = X_train.drop(['description', 'productid','imageid'], axis=1)\n",
    "    X_train.columns = ['integer_id', 'designation']\n",
    "    return X_train"
   ]
  },
  {
   "cell_type": "code",
   "execution_count": 0,
   "metadata": {
    "colab": {},
    "colab_type": "code",
    "id": "rey2YgHKcIab"
   },
   "outputs": [],
   "source": [
    "def normalize_accent(string):\n",
    "    string = string.replace('á', 'a')\n",
    "    string = string.replace('â', 'a')\n",
    "\n",
    "    string = string.replace('é', 'e')\n",
    "    string = string.replace('è', 'e')\n",
    "    string = string.replace('ê', 'e')\n",
    "    string = string.replace('ë', 'e')\n",
    "\n",
    "    string = string.replace('î', 'i')\n",
    "    string = string.replace('ï', 'i')\n",
    "\n",
    "    string = string.replace('ö', 'o')\n",
    "    string = string.replace('ô', 'o')\n",
    "    string = string.replace('ò', 'o')\n",
    "    string = string.replace('ó', 'o')\n",
    "\n",
    "    string = string.replace('ù', 'u')\n",
    "    string = string.replace('û', 'u')\n",
    "    string = string.replace('ü', 'u')\n",
    "\n",
    "    string = string.replace('ç', 'c')\n",
    "    \n",
    "    return string"
   ]
  },
  {
   "cell_type": "code",
   "execution_count": 0,
   "metadata": {
    "colab": {},
    "colab_type": "code",
    "id": "8wNlScwQcIae"
   },
   "outputs": [],
   "source": [
    "def raw_to_tokens(raw_string, spacy_nlp):\n",
    "    # Write code for lower-casing\n",
    "    string = raw_string.lower()\n",
    "    \n",
    "    # Write code to normalize the accents\n",
    "    string = normalize_accent(string)\n",
    "        \n",
    "    # Write code to tokenize\n",
    "    spacy_tokens = spacy_nlp(string)\n",
    "        \n",
    "    # Write code to remove punctuation tokens and create string tokens\n",
    "    string_tokens = [token.orth_ for token in spacy_tokens if not token.is_punct if not token.is_stop]\n",
    "    \n",
    "    # Write code to join the tokens back into a single string\n",
    "    clean_string = \" \".join(string_tokens)\n",
    "    \n",
    "    return clean_string"
   ]
  },
  {
   "cell_type": "markdown",
   "metadata": {
    "colab_type": "text",
    "id": "Wlhkp71NcIak"
   },
   "source": [
    "### Apply pre-processing functions\n",
    "\n",
    "N.B.: Section takes about ~20 min to run, skip-it if you have the pre-processed data folders. "
   ]
  },
  {
   "cell_type": "code",
   "execution_count": 0,
   "metadata": {
    "colab": {},
    "colab_type": "code",
    "id": "O3Ap5EIhcIam"
   },
   "outputs": [],
   "source": [
    "# X_train - step takes roughly ~15:30 min > Uncomment below to run text procesing\n",
    "X_train = cleaning(X_train)\n",
    "X_train['designation_cleaned'] = X_train['designation'].apply(lambda x: raw_to_tokens(x, spacy_nlp))"
   ]
  },
  {
   "cell_type": "code",
   "execution_count": 0,
   "metadata": {
    "colab": {},
    "colab_type": "code",
    "id": "V_-Nxa_bcIaq"
   },
   "outputs": [],
   "source": [
    "# X_test - step takes roughly ~2:20 min > Uncomment below to run text procesing\n",
    "X_test = cleaning(X_test)\n",
    "X_test['designation_cleaned'] = X_test['designation'].apply(lambda x: raw_to_tokens(x, spacy_nlp))"
   ]
  },
  {
   "cell_type": "code",
   "execution_count": 0,
   "metadata": {
    "colab": {},
    "colab_type": "code",
    "id": "Y0CrkgjrcIav"
   },
   "outputs": [],
   "source": [
    "# save folders to avoid re-processing everytime\n",
    "X_train.to_csv(r(save_folder + 'data/X_train_cleaned.csv'), index = False, header=True)\n",
    "X_test.to_csv(r(save_folder + 'data/X_test_cleaned.csv'), index = False, header=True)"
   ]
  },
  {
   "cell_type": "markdown",
   "metadata": {
    "colab_type": "text",
    "id": "locvGtwKcIa0"
   },
   "source": [
    "## TF-IDF matrix\n",
    "\n",
    "Construct the TF-IDF matrix from the pre-processed data. "
   ]
  },
  {
   "cell_type": "code",
   "execution_count": 0,
   "metadata": {
    "colab": {},
    "colab_type": "code",
    "id": "btqxRLUNcIa1"
   },
   "outputs": [],
   "source": [
    "X_train = pd.read_csv(save_folder + 'data/X_train_cleaned.csv')\n",
    "X_test = pd.read_csv(save_folder + 'data/X_test_cleaned.csv')"
   ]
  },
  {
   "cell_type": "code",
   "execution_count": 0,
   "metadata": {
    "colab": {},
    "colab_type": "code",
    "id": "y4VbcBOqcIa4"
   },
   "outputs": [],
   "source": [
    "# create a list from the processed cells\n",
    "doc_clean_train =  X_train['designation_cleaned'].astype('U').tolist()\n",
    "doc_clean_test = X_test['designation_cleaned'].astype('U').tolist()\n",
    "#doc_clean = doc_clean_train + doc_clean_test\n",
    "doc_clean = doc_clean_train"
   ]
  },
  {
   "cell_type": "code",
<<<<<<< Updated upstream
   "execution_count": 14,
=======
   "execution_count": 13,
>>>>>>> Stashed changes
   "metadata": {
    "colab": {
     "base_uri": "https://localhost:8080/",
     "height": 50
    },
    "colab_type": "code",
    "id": "HbEVHH7OcIa7",
<<<<<<< Updated upstream
    "outputId": "aa79edd8-37a0-497a-f736-ea14f74fe2c5"
=======
    "outputId": "3fd054eb-5433-4f4c-b1c4-e57cccab1cf4"
>>>>>>> Stashed changes
   },
   "outputs": [
    {
     "name": "stdout",
     "output_type": "stream",
     "text": [
      "Shape of the TF-IDF Matrix:\n",
      "(84916, 79402)\n"
     ]
    }
   ],
   "source": [
    "# import TfidfVectorizer\n",
    "from sklearn.feature_extraction.text import TfidfVectorizer\n",
    "\n",
    "# convert raw documents into TF-IDF matrix.\n",
    "tfidf = TfidfVectorizer()\n",
    "X_tfidf = tfidf.fit_transform(doc_clean)\n",
    "\n",
    "print(\"Shape of the TF-IDF Matrix:\")\n",
    "print(X_tfidf.shape)"
   ]
  },
  {
   "cell_type": "markdown",
   "metadata": {
    "colab_type": "text",
    "id": "oO0UjVRRcIa_"
   },
   "source": [
    "### PCA of the TFIDF matrix \n",
    "We apply a PCA on the TF-IDF matrix to reduce the dimension. Given the matrix is very sparse, this improves the speed of the algorithms. We opt for **XY** principal components corresponding to 85% variance explained. Since the matrix is very sparse, Sparse PCA model is used. \n",
    "\n",
    "https://scikit-learn.org/stable/modules/generated/sklearn.decomposition.SparsePCA.html\n",
    "\n",
    "**Conclusion:** This model is not functional as it requires a lot of memory to store the dense array of size (98728, 86833). "
   ]
  },
  {
   "cell_type": "code",
   "execution_count": 0,
   "metadata": {
    "colab": {},
    "colab_type": "code",
    "id": "7Sqjhg13cIbA"
   },
   "outputs": [],
   "source": [
    "from sklearn.decomposition import SparsePCA\n",
    "\n",
    "transformer = SparsePCA(n_components=5, random_state=0)\n",
    "transformer.fit(X_tfidf.toarray())\n",
    "\n",
    "X_transformed = transformer.transform(X_tfidf)\n",
    "X_transformed.shape\n",
    "\n",
    "# most values in the components_ are zero (sparsity)\n",
    "np.mean(transformer.components_ == 0)"
   ]
  },
  {
   "cell_type": "markdown",
   "metadata": {
    "colab_type": "text",
    "id": "rrhaJYDGue4S"
   },
   "source": [
    "### Truncated SVD\n",
    "Since PCA cannot be used here, truncated SVD, a method which is used to reduce the dimensions of TF-IDF matrices is applied on our matrix. We opt for **XY** principal components corresponding to 85% variance explained."
   ]
  },
  {
   "cell_type": "code",
   "execution_count": 0,
   "metadata": {
    "colab": {
     "base_uri": "https://localhost:8080/",
     "height": 67
    },
    "colab_type": "code",
    "id": "F1i3PXH2uc2k",
    "outputId": "a07bf8e8-6d6e-420c-bb7f-8b0d9b866dda"
   },
   "outputs": [
    {
     "name": "stdout",
     "output_type": "stream",
     "text": [
      "Explained variance:\n",
      "0.3814342673501049\n",
      "(98728, 1000)\n"
     ]
    }
   ],
   "source": [
    "from sklearn.decomposition import TruncatedSVD\n",
    "\n",
    "# number of chosen SVD components is 1000 only, it should be updated\n",
    "SVD = TruncatedSVD(n_components = 1000, algorithm='arpack', random_state = 42)\n",
    "X_transformed = SVD.fit_transform(X_tfidf)\n",
    "\n",
    "print('Explained variance:')\n",
    "print(SVD.explained_variance_ratio_.sum())\n",
    "print(X_transformed.shape)"
   ]
  },
  {
   "cell_type": "code",
   "execution_count": 0,
   "metadata": {
    "colab": {
     "base_uri": "https://localhost:8080/",
     "height": 298
    },
    "colab_type": "code",
    "id": "PkZmUDR429N5",
    "outputId": "2dd50243-eba7-48f0-aa68-adec866da70d"
   },
   "outputs": [
    {
     "data": {
      "text/plain": [
       "<Figure size 720x576 with 0 Axes>"
      ]
     },
     "execution_count": 31,
     "metadata": {
      "tags": []
     },
     "output_type": "execute_result"
    },
    {
     "data": {
      "image/png": "iVBORw0KGgoAAAANSUhEUgAAAYAAAAD4CAYAAADlwTGnAAAABHNCSVQICAgIfAhkiAAAAAlwSFlz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\nM8soB4CZWUY5AMzMMsoBYGaWUf8fnJqs3pTO7akAAAAASUVORK5CYII=\n",
      "text/plain": [
       "<Figure size 432x288 with 1 Axes>"
      ]
     },
     "metadata": {
      "tags": []
     },
     "output_type": "display_data"
    },
    {
     "data": {
      "text/plain": [
       "<Figure size 720x576 with 0 Axes>"
      ]
     },
     "metadata": {
      "tags": []
     },
     "output_type": "display_data"
    }
   ],
   "source": [
    "import matplotlib.pyplot as plt\n",
    "plt.plot(SVD.explained_variance_ratio_)\n",
    "plt.figure(figsize=(10, 8))\n",
    "# 1000 : 0.3814 variance explained "
   ]
  },
  {
   "cell_type": "markdown",
   "metadata": {
    "colab_type": "text",
    "id": "szJY3EbK-QYD"
   },
   "source": [
    "### Use the TF-IDF matrix as the training set\n",
    "\n",
    "If applicable, based on the applied transformations:\n",
    "*   Define the X_train_T matrix as the truncated or TF-IDF matrix\n",
    "*   Divide back in train and test\n",
    "\n"
   ]
  },
  {
   "cell_type": "code",
   "execution_count": 0,
   "metadata": {
    "colab": {},
    "colab_type": "code",
    "id": "FElzRvq2cIbG"
   },
   "outputs": [],
   "source": [
    "# if no transformation is applied i.e. no PCA / truncated SVD: \n",
    "X_transformed = X_tfidf\n",
    "# print(X_transformed)"
   ]
  },
  {
   "cell_type": "code",
<<<<<<< Updated upstream
   "execution_count": 16,
=======
   "execution_count": 15,
>>>>>>> Stashed changes
   "metadata": {
    "colab": {
     "base_uri": "https://localhost:8080/",
     "height": 50
    },
    "colab_type": "code",
    "id": "le0ndD_L-P9c",
<<<<<<< Updated upstream
    "outputId": "22f7d521-f1d2-4834-9813-33f90ea2eaab"
=======
    "outputId": "fc94e070-1f2e-43ed-84b7-a07290cb6cb9"
>>>>>>> Stashed changes
   },
   "outputs": [
    {
     "name": "stdout",
     "output_type": "stream",
     "text": [
      "(84916, 79402)\n",
      "(0, 79402)\n"
     ]
    }
   ],
   "source": [
    "X_train_T = X_transformed[:84916]\n",
    "X_test_T = X_transformed[84916:]\n",
    "\n",
    "print(X_train_T.shape) # 84916\n",
    "print(X_test_T.shape) # 13812"
   ]
  },
  {
   "cell_type": "markdown",
   "metadata": {
    "colab_type": "text",
    "id": "AzjmYOR9cIbJ"
   },
   "source": [
    "## Apply various models to predict the target variable\n",
    "1. Decision Trees\n",
    "2. Bagging\n",
    "3. Random forests\n",
    "4. Boosting\n",
    "5. Gradient Boosted Trees\n",
    "6. AdaBoost, etc."
   ]
  },
  {
   "cell_type": "markdown",
   "metadata": {
    "colab_type": "text",
    "id": "aPk03wxL-_EC"
   },
   "source": [
    "### Reduce the dataset to 10% of its initial size for faster training\n",
    "\n",
    "The selection is done at random i.e. 10% of the training samples are chosen at random within the training set. Assuming the data is uniformly distributed."
   ]
  },
  {
   "cell_type": "code",
   "execution_count": 0,
   "metadata": {
    "colab": {},
    "colab_type": "code",
    "id": "Vnmk1fljBVyT"
   },
   "outputs": [],
   "source": [
    "# CHOOSE NUMBER OF SAMPLES TESTED\n",
    "import math \n",
    "row, col = X_train.shape\n",
    "N = math.ceil(row * 0.2) # 10% of the data\n",
    "#N = 1000"
   ]
  },
  {
   "cell_type": "code",
<<<<<<< Updated upstream
   "execution_count": 18,
=======
   "execution_count": 17,
>>>>>>> Stashed changes
   "metadata": {
    "colab": {
     "base_uri": "https://localhost:8080/",
     "height": 50
    },
    "colab_type": "code",
    "id": "zIk8-0JJ-FAI",
<<<<<<< Updated upstream
    "outputId": "f81ebdf4-c0d1-4425-94f4-1cc2cc328fee"
=======
    "outputId": "0302bf6c-ac17-41d7-cded-2fb67360c80f"
>>>>>>> Stashed changes
   },
   "outputs": [
    {
     "name": "stdout",
     "output_type": "stream",
     "text": [
      "(16984, 79402)\n",
      "(16984, 1)\n"
     ]
    }
   ],
   "source": [
    "# pick at random 10% of the total samples\n",
    "import random \n",
    "\n",
    "rdsample = random.sample(range(1, row), N) \n",
    "\n",
    "X_train_sample = X_train_T[rdsample,]\n",
    "Y_train_sample = Y_train.to_numpy()[rdsample,]\n",
    "Y_train_sample = pd.DataFrame(Y_train_sample[:,1])\n",
    "\n",
    "print(X_train_sample.shape)\n",
    "print(Y_train_sample.shape)"
   ]
  },
  {
   "cell_type": "markdown",
   "metadata": {
    "colab_type": "text",
    "id": "MtafdfGAcIbK"
   },
   "source": [
    "### 1. Decision trees - Ariel\n",
    "\n",
    "1.   First parameters tried: { 'criterion':['gini','entropy'],'max_depth': np.arange(3, 15), 'splitter':['best', 'random']} - **Optimal:** { 'criterion':['gini'],'max_depth': 14, 'splitter':['best']}\n",
    "2.   Second parameters tried: { 'criterion':['gini','entropy'],'max_depth': np.arange(13, 30), 'splitter':['best', 'random']} - **Optimal:** { 'criterion':['gini'],'max_depth': 27, 'splitter':['random']}\n",
    "\n"
   ]
  },
  {
   "cell_type": "code",
<<<<<<< Updated upstream
   "execution_count": 0,
   "metadata": {
    "colab": {},
    "colab_type": "code",
    "id": "1G15rXjucIbL"
   },
   "outputs": [],
=======
   "execution_count": 21,
   "metadata": {
    "colab": {
     "base_uri": "https://localhost:8080/",
     "height": 118
    },
    "colab_type": "code",
    "id": "1G15rXjucIbL",
    "outputId": "43cb03e8-0735-4183-9207-f7a5cd1e9964"
   },
   "outputs": [
    {
     "name": "stdout",
     "output_type": "stream",
     "text": [
      "Fitting 5 folds for each of 40 candidates, totalling 200 fits\n"
     ]
    },
    {
     "name": "stderr",
     "output_type": "stream",
     "text": [
      "[Parallel(n_jobs=-1)]: Using backend LokyBackend with 4 concurrent workers.\n",
      "[Parallel(n_jobs=-1)]: Done  10 tasks      | elapsed:    7.2s\n",
      "[Parallel(n_jobs=-1)]: Done  64 tasks      | elapsed:   36.5s\n",
      "[Parallel(n_jobs=-1)]: Done 154 tasks      | elapsed:  2.1min\n",
      "[Parallel(n_jobs=-1)]: Done 200 out of 200 | elapsed:  3.2min finished\n"
     ]
    }
   ],
>>>>>>> Stashed changes
   "source": [
    "from sklearn import tree\n",
    "from sklearn.tree import DecisionTreeClassifier\n",
    "from sklearn.model_selection import GridSearchCV\n",
    "from sklearn.model_selection import cross_val_score\n",
    "\n",
<<<<<<< Updated upstream
    "parameters = { 'criterion':['gini','entropy'],'max_depth': np.arange(13, 30), 'splitter':['best', 'random']}\n",
    "grid_dec_tree = GridSearchCV(tree.DecisionTreeClassifier(), parameters, cv = 5, scoring = 'f1_weighted', verbose=5)\n",
=======
    "parameters = {'criterion':['gini','entropy'],'max_depth': np.arange(25, 35), 'splitter':['best', 'random']}\n",
    "grid_dec_tree = GridSearchCV(tree.DecisionTreeClassifier(), parameters, cv = 5, scoring = 'f1_weighted', verbose=5, n_jobs=-1)\n",
>>>>>>> Stashed changes
    "result = grid_dec_tree.fit(X_train_sample, Y_train_sample)\n",
    "\n",
    "# update verbose to 2 for more steps\n",
    "# add-in progress bar to evaluate time taken / time it will take\n",
    "# https://infocenter.informationbuilders.com/wf80/index.jsp?topic=%2Fpubdocs%2FRStat16%2Fsource%2Ftopic47.htm"
   ]
  },
  {
   "cell_type": "code",
<<<<<<< Updated upstream
   "execution_count": 0,
=======
   "execution_count": 22,
>>>>>>> Stashed changes
   "metadata": {
    "colab": {
     "base_uri": "https://localhost:8080/",
     "height": 34
    },
    "colab_type": "code",
    "id": "LkCWgRmVcIbN",
<<<<<<< Updated upstream
    "outputId": "e7ab1b2d-4bad-4478-9b33-366cbd50cf6e"
=======
    "outputId": "5877e7e8-e010-4c67-d209-dc3058c5a710"
>>>>>>> Stashed changes
   },
   "outputs": [
    {
     "data": {
      "text/plain": [
<<<<<<< Updated upstream
       "{'criterion': 'entropy', 'max_depth': 27, 'splitter': 'random'}"
      ]
     },
     "execution_count": 37,
=======
       "{'criterion': 'entropy', 'max_depth': 34, 'splitter': 'random'}"
      ]
     },
     "execution_count": 22,
>>>>>>> Stashed changes
     "metadata": {
      "tags": []
     },
     "output_type": "execute_result"
    }
   ],
   "source": [
    "# print results from grid search \n",
    "result.best_params_\n",
    "# result.cv_results_"
   ]
  },
  {
   "cell_type": "code",
   "execution_count": 0,
   "metadata": {
    "colab": {},
    "colab_type": "code",
<<<<<<< Updated upstream
=======
    "id": "y3CAo5vCwERN"
   },
   "outputs": [],
   "source": [
    "import seaborn as sns\n",
    "\n",
    "table = pd.pivot_table(pd.DataFrame(result.cv_results_),\n",
    "    values='f1_weighted', index='parameters_max_depth', \n",
    "                       columns='parameters_criterion')\n",
    "     \n",
    "sns.heatmap(table)"
   ]
  },
  {
   "cell_type": "code",
   "execution_count": 0,
   "metadata": {
    "colab": {},
    "colab_type": "code",
    "id": "gmfU5ohOoOjP"
   },
   "outputs": [],
   "source": [
    "from sklearn.model_selection import validation_curve\n",
    "\n",
    "param_range = np.arange(50, 200, 5)\n",
    "train_scores, test_scores = validation_curve(\n",
    "                            DecisionTreeClassifier(criterion = 'gini', splitter = 'random'),\n",
    "                            X = X_train_sample, y = Y_train_sample, scoring = \"f1_weighted\",\n",
    "                            param_name = 'max_depth', \n",
    "                            param_range = param_range, cv = 5)"
   ]
  },
  {
   "cell_type": "code",
   "execution_count": 0,
   "metadata": {
    "colab": {
     "base_uri": "https://localhost:8080/",
     "height": 297
    },
    "colab_type": "code",
    "id": "MAyyrcAnr_Qu",
    "outputId": "68b5485a-10cf-4c3f-ef13-b59c8fe85ffa"
   },
   "outputs": [
    {
     "data": {
      "image/png": "iVBORw0KGgoAAAANSUhEUgAAAagAAAEYCAYAAAAJeGK1AAAABHNCSVQICAgIfAhkiAAAAAlwSFlz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\n",
      "text/plain": [
       "<Figure size 432x288 with 1 Axes>"
      ]
     },
     "metadata": {
      "tags": []
     },
     "output_type": "display_data"
    }
   ],
   "source": [
    "import matplotlib.pyplot as plt\n",
    "\n",
    "# Calculate mean and standard deviation for training set scores\n",
    "train_mean = np.mean(train_scores, axis=1)\n",
    "train_std = np.std(train_scores, axis=1)\n",
    "\n",
    "# Calculate mean and standard deviation for test set scores\n",
    "test_mean = np.mean(test_scores, axis=1)\n",
    "test_std = np.std(test_scores, axis=1)\n",
    "\n",
    "# Plot mean accuracy scores for training and test sets\n",
    "plt.plot(param_range, train_mean, label=\"Training score\", color=\"black\")\n",
    "plt.plot(param_range, test_mean, label=\"Cross-validation score\", color=\"dimgrey\")\n",
    "\n",
    "# Plot accurancy bands for training and test sets\n",
    "plt.fill_between(param_range, train_mean - train_std, train_mean + train_std, color=\"gray\")\n",
    "plt.fill_between(param_range, test_mean - test_std, test_mean + test_std, color=\"gainsboro\")\n",
    "\n",
    "# Create plot\n",
    "plt.title(\"Validation Curve With Decision Tree\")\n",
    "plt.xlabel(\"Max Depth\")\n",
    "plt.ylabel(\"Accuracy Score\")\n",
    "plt.tight_layout()\n",
    "plt.legend(loc=\"best\")\n",
    "plt.show()"
   ]
  },
  {
   "cell_type": "code",
   "execution_count": 0,
   "metadata": {
    "colab": {},
    "colab_type": "code",
>>>>>>> Stashed changes
    "id": "zKECU-0VMDV2"
   },
   "outputs": [],
   "source": [
    "dec_tree = DecisionTreeClassifier(result.best_params_)\n",
    "#result_model = dec_tree.fit(X_train_sample, Y_train_sample)\n",
<<<<<<< Updated upstream
    "cross_val_score(dec_tree, X_train_sample, Y_train_sample, cv = 5, score = \"f1_weighted\")\n",
    "#dec_tree"
=======
    "cross_val_score(dec_tree, X_train_sample, Y_train_sample, cv = 5, score = \"f1_weighted\")\n"
>>>>>>> Stashed changes
   ]
  },
  {
   "cell_type": "code",
   "execution_count": 0,
   "metadata": {
    "colab": {},
    "colab_type": "code",
    "id": "GO0HKre_OyY9"
   },
   "outputs": [],
   "source": [
    "# predict on X_test\n",
    "Y_test = dec_tree.predict(X_test_T)"
   ]
  },
  {
   "cell_type": "markdown",
   "metadata": {
    "colab_type": "text",
    "id": "REurW7slmOu8"
   },
   "source": [
    "### 2. Random forests - Camille"
   ]
  },
  {
   "cell_type": "code",
   "execution_count": 0,
   "metadata": {
    "colab": {},
    "colab_type": "code",
    "id": "mrOx8y6Pz_Jv"
   },
   "outputs": [],
   "source": [
    "from sklearn.ensemble import RandomForestClassifier\n",
    "from sklearn.model_selection import GridSearchCV\n",
    "from sklearn.model_selection import cross_val_score\n",
    "\n",
    "parameters = {\n",
<<<<<<< Updated upstream
    "    'bootstrap': [True],\n",
    "    'max_depth': [None],\n",
    "    'max_features': [None],\n",
    "    'min_samples_leaf': [1, 2],\n",
    "    'min_samples_split': [2],\n",
    "    'n_estimators': [10]}\n",
=======
    "    'bootstrap': [True, False], # whether bootstrap samples are used when building trees. If False, the whole datset is used to build each tree\n",
    "    'max_depth': [None],\n",
    "    # 'max_features': [None, auto], # \"auto\" = max_features=sqrt(n_features)\n",
    "    'min_samples_leaf': [1, 2],\n",
    "    'min_samples_split': [2],\n",
    "    'n_estimators': [10]} # flat validation curve - best at 15\n",
>>>>>>> Stashed changes
    "\n",
    "rand_forest = GridSearchCV(RandomForestClassifier(), parameters, cv = 5, scoring = 'f1_weighted', verbose=5)\n",
    "result = rand_forest.fit(X_train_sample, Y_train_sample)"
   ]
  },
  {
   "cell_type": "code",
   "execution_count": 0,
   "metadata": {
<<<<<<< Updated upstream
    "colab": {},
    "colab_type": "code",
    "id": "Q-WuPl0ZavL7"
   },
   "outputs": [],
   "source": []
  },
  {
   "cell_type": "code",
   "execution_count": 102,
   "metadata": {
    "colab": {
     "base_uri": "https://localhost:8080/",
     "height": 760
    },
    "colab_type": "code",
    "id": "OUaXpNZ7M-V4",
    "outputId": "e00ddd2d-3c99-468c-ccb8-29604b5b83e2"
=======
    "colab": {
     "base_uri": "https://localhost:8080/"
    },
    "colab_type": "code",
    "id": "OUaXpNZ7M-V4",
    "outputId": "ff52d3ac-0cdc-474d-d63f-ab0b4224dd33"
>>>>>>> Stashed changes
   },
   "outputs": [
    {
     "name": "stderr",
     "output_type": "stream",
     "text": [
      "/usr/local/lib/python3.6/dist-packages/sklearn/model_selection/_validation.py:515: DataConversionWarning: A column-vector y was passed when a 1d array was expected. Please change the shape of y to (n_samples,), for example using ravel().\n",
      "  estimator.fit(X_train, y_train, **fit_params)\n",
      "/usr/local/lib/python3.6/dist-packages/sklearn/model_selection/_validation.py:515: DataConversionWarning: A column-vector y was passed when a 1d array was expected. Please change the shape of y to (n_samples,), for example using ravel().\n",
      "  estimator.fit(X_train, y_train, **fit_params)\n",
      "/usr/local/lib/python3.6/dist-packages/sklearn/model_selection/_validation.py:515: DataConversionWarning: A column-vector y was passed when a 1d array was expected. Please change the shape of y to (n_samples,), for example using ravel().\n",
      "  estimator.fit(X_train, y_train, **fit_params)\n",
      "/usr/local/lib/python3.6/dist-packages/sklearn/model_selection/_validation.py:515: DataConversionWarning: A column-vector y was passed when a 1d array was expected. Please change the shape of y to (n_samples,), for example using ravel().\n",
      "  estimator.fit(X_train, y_train, **fit_params)\n",
      "/usr/local/lib/python3.6/dist-packages/sklearn/model_selection/_validation.py:515: DataConversionWarning: A column-vector y was passed when a 1d array was expected. Please change the shape of y to (n_samples,), for example using ravel().\n",
      "  estimator.fit(X_train, y_train, **fit_params)\n",
      "/usr/local/lib/python3.6/dist-packages/sklearn/model_selection/_validation.py:515: DataConversionWarning: A column-vector y was passed when a 1d array was expected. Please change the shape of y to (n_samples,), for example using ravel().\n",
      "  estimator.fit(X_train, y_train, **fit_params)\n",
      "/usr/local/lib/python3.6/dist-packages/sklearn/model_selection/_validation.py:515: DataConversionWarning: A column-vector y was passed when a 1d array was expected. Please change the shape of y to (n_samples,), for example using ravel().\n",
      "  estimator.fit(X_train, y_train, **fit_params)\n",
      "/usr/local/lib/python3.6/dist-packages/sklearn/model_selection/_validation.py:515: DataConversionWarning: A column-vector y was passed when a 1d array was expected. Please change the shape of y to (n_samples,), for example using ravel().\n",
      "  estimator.fit(X_train, y_train, **fit_params)\n",
      "/usr/local/lib/python3.6/dist-packages/sklearn/model_selection/_validation.py:515: DataConversionWarning: A column-vector y was passed when a 1d array was expected. Please change the shape of y to (n_samples,), for example using ravel().\n",
      "  estimator.fit(X_train, y_train, **fit_params)\n",
      "/usr/local/lib/python3.6/dist-packages/sklearn/model_selection/_validation.py:515: DataConversionWarning: A column-vector y was passed when a 1d array was expected. Please change the shape of y to (n_samples,), for example using ravel().\n",
      "  estimator.fit(X_train, y_train, **fit_params)\n",
      "/usr/local/lib/python3.6/dist-packages/sklearn/model_selection/_validation.py:515: DataConversionWarning: A column-vector y was passed when a 1d array was expected. Please change the shape of y to (n_samples,), for example using ravel().\n",
      "  estimator.fit(X_train, y_train, **fit_params)\n",
      "/usr/local/lib/python3.6/dist-packages/sklearn/model_selection/_validation.py:515: DataConversionWarning: A column-vector y was passed when a 1d array was expected. Please change the shape of y to (n_samples,), for example using ravel().\n",
<<<<<<< Updated upstream
      "  estimator.fit(X_train, y_train, **fit_params)\n"
     ]
    },
    {
     "ename": "KeyboardInterrupt",
     "evalue": "ignored",
     "output_type": "error",
     "traceback": [
      "\u001b[0;31m---------------------------------------------------------------------------\u001b[0m",
      "\u001b[0;31mKeyboardInterrupt\u001b[0m                         Traceback (most recent call last)",
      "\u001b[0;32m<ipython-input-102-8e8a8918d717>\u001b[0m in \u001b[0;36m<module>\u001b[0;34m()\u001b[0m\n\u001b[1;32m      6\u001b[0m                             \u001b[0mX\u001b[0m \u001b[0;34m=\u001b[0m \u001b[0mX_train_sample\u001b[0m\u001b[0;34m,\u001b[0m \u001b[0my\u001b[0m \u001b[0;34m=\u001b[0m \u001b[0mY_train_sample\u001b[0m\u001b[0;34m,\u001b[0m \u001b[0mscoring\u001b[0m \u001b[0;34m=\u001b[0m \u001b[0;34m\"f1_weighted\"\u001b[0m\u001b[0;34m,\u001b[0m\u001b[0;34m\u001b[0m\u001b[0;34m\u001b[0m\u001b[0m\n\u001b[1;32m      7\u001b[0m                             \u001b[0mparam_name\u001b[0m \u001b[0;34m=\u001b[0m \u001b[0;34m'n_estimators'\u001b[0m\u001b[0;34m,\u001b[0m\u001b[0;34m\u001b[0m\u001b[0;34m\u001b[0m\u001b[0m\n\u001b[0;32m----> 8\u001b[0;31m                             param_range = param_range, cv = 5)\n\u001b[0m",
      "\u001b[0;32m/usr/local/lib/python3.6/dist-packages/sklearn/model_selection/_validation.py\u001b[0m in \u001b[0;36mvalidation_curve\u001b[0;34m(estimator, X, y, param_name, param_range, groups, cv, scoring, n_jobs, pre_dispatch, verbose, error_score)\u001b[0m\n\u001b[1;32m   1470\u001b[0m         error_score=error_score)\n\u001b[1;32m   1471\u001b[0m         \u001b[0;31m# NOTE do not change order of iteration to allow one time cv splitters\u001b[0m\u001b[0;34m\u001b[0m\u001b[0;34m\u001b[0m\u001b[0;34m\u001b[0m\u001b[0m\n\u001b[0;32m-> 1472\u001b[0;31m         for train, test in cv.split(X, y, groups) for v in param_range)\n\u001b[0m\u001b[1;32m   1473\u001b[0m     \u001b[0mout\u001b[0m \u001b[0;34m=\u001b[0m \u001b[0mnp\u001b[0m\u001b[0;34m.\u001b[0m\u001b[0masarray\u001b[0m\u001b[0;34m(\u001b[0m\u001b[0mout\u001b[0m\u001b[0;34m)\u001b[0m\u001b[0;34m\u001b[0m\u001b[0;34m\u001b[0m\u001b[0m\n\u001b[1;32m   1474\u001b[0m     \u001b[0mn_params\u001b[0m \u001b[0;34m=\u001b[0m \u001b[0mlen\u001b[0m\u001b[0;34m(\u001b[0m\u001b[0mparam_range\u001b[0m\u001b[0;34m)\u001b[0m\u001b[0;34m\u001b[0m\u001b[0;34m\u001b[0m\u001b[0m\n",
      "\u001b[0;32m/usr/local/lib/python3.6/dist-packages/joblib/parallel.py\u001b[0m in \u001b[0;36m__call__\u001b[0;34m(self, iterable)\u001b[0m\n\u001b[1;32m   1005\u001b[0m                 \u001b[0mself\u001b[0m\u001b[0;34m.\u001b[0m\u001b[0m_iterating\u001b[0m \u001b[0;34m=\u001b[0m \u001b[0mself\u001b[0m\u001b[0;34m.\u001b[0m\u001b[0m_original_iterator\u001b[0m \u001b[0;32mis\u001b[0m \u001b[0;32mnot\u001b[0m \u001b[0;32mNone\u001b[0m\u001b[0;34m\u001b[0m\u001b[0;34m\u001b[0m\u001b[0m\n\u001b[1;32m   1006\u001b[0m \u001b[0;34m\u001b[0m\u001b[0m\n\u001b[0;32m-> 1007\u001b[0;31m             \u001b[0;32mwhile\u001b[0m \u001b[0mself\u001b[0m\u001b[0;34m.\u001b[0m\u001b[0mdispatch_one_batch\u001b[0m\u001b[0;34m(\u001b[0m\u001b[0miterator\u001b[0m\u001b[0;34m)\u001b[0m\u001b[0;34m:\u001b[0m\u001b[0;34m\u001b[0m\u001b[0;34m\u001b[0m\u001b[0m\n\u001b[0m\u001b[1;32m   1008\u001b[0m                 \u001b[0;32mpass\u001b[0m\u001b[0;34m\u001b[0m\u001b[0;34m\u001b[0m\u001b[0m\n\u001b[1;32m   1009\u001b[0m \u001b[0;34m\u001b[0m\u001b[0m\n",
      "\u001b[0;32m/usr/local/lib/python3.6/dist-packages/joblib/parallel.py\u001b[0m in \u001b[0;36mdispatch_one_batch\u001b[0;34m(self, iterator)\u001b[0m\n\u001b[1;32m    833\u001b[0m                 \u001b[0;32mreturn\u001b[0m \u001b[0;32mFalse\u001b[0m\u001b[0;34m\u001b[0m\u001b[0;34m\u001b[0m\u001b[0m\n\u001b[1;32m    834\u001b[0m             \u001b[0;32melse\u001b[0m\u001b[0;34m:\u001b[0m\u001b[0;34m\u001b[0m\u001b[0;34m\u001b[0m\u001b[0m\n\u001b[0;32m--> 835\u001b[0;31m                 \u001b[0mself\u001b[0m\u001b[0;34m.\u001b[0m\u001b[0m_dispatch\u001b[0m\u001b[0;34m(\u001b[0m\u001b[0mtasks\u001b[0m\u001b[0;34m)\u001b[0m\u001b[0;34m\u001b[0m\u001b[0;34m\u001b[0m\u001b[0m\n\u001b[0m\u001b[1;32m    836\u001b[0m                 \u001b[0;32mreturn\u001b[0m \u001b[0;32mTrue\u001b[0m\u001b[0;34m\u001b[0m\u001b[0;34m\u001b[0m\u001b[0m\n\u001b[1;32m    837\u001b[0m \u001b[0;34m\u001b[0m\u001b[0m\n",
      "\u001b[0;32m/usr/local/lib/python3.6/dist-packages/joblib/parallel.py\u001b[0m in \u001b[0;36m_dispatch\u001b[0;34m(self, batch)\u001b[0m\n\u001b[1;32m    752\u001b[0m         \u001b[0;32mwith\u001b[0m \u001b[0mself\u001b[0m\u001b[0;34m.\u001b[0m\u001b[0m_lock\u001b[0m\u001b[0;34m:\u001b[0m\u001b[0;34m\u001b[0m\u001b[0;34m\u001b[0m\u001b[0m\n\u001b[1;32m    753\u001b[0m             \u001b[0mjob_idx\u001b[0m \u001b[0;34m=\u001b[0m \u001b[0mlen\u001b[0m\u001b[0;34m(\u001b[0m\u001b[0mself\u001b[0m\u001b[0;34m.\u001b[0m\u001b[0m_jobs\u001b[0m\u001b[0;34m)\u001b[0m\u001b[0;34m\u001b[0m\u001b[0;34m\u001b[0m\u001b[0m\n\u001b[0;32m--> 754\u001b[0;31m             \u001b[0mjob\u001b[0m \u001b[0;34m=\u001b[0m \u001b[0mself\u001b[0m\u001b[0;34m.\u001b[0m\u001b[0m_backend\u001b[0m\u001b[0;34m.\u001b[0m\u001b[0mapply_async\u001b[0m\u001b[0;34m(\u001b[0m\u001b[0mbatch\u001b[0m\u001b[0;34m,\u001b[0m \u001b[0mcallback\u001b[0m\u001b[0;34m=\u001b[0m\u001b[0mcb\u001b[0m\u001b[0;34m)\u001b[0m\u001b[0;34m\u001b[0m\u001b[0;34m\u001b[0m\u001b[0m\n\u001b[0m\u001b[1;32m    755\u001b[0m             \u001b[0;31m# A job can complete so quickly than its callback is\u001b[0m\u001b[0;34m\u001b[0m\u001b[0;34m\u001b[0m\u001b[0;34m\u001b[0m\u001b[0m\n\u001b[1;32m    756\u001b[0m             \u001b[0;31m# called before we get here, causing self._jobs to\u001b[0m\u001b[0;34m\u001b[0m\u001b[0;34m\u001b[0m\u001b[0;34m\u001b[0m\u001b[0m\n",
      "\u001b[0;32m/usr/local/lib/python3.6/dist-packages/joblib/_parallel_backends.py\u001b[0m in \u001b[0;36mapply_async\u001b[0;34m(self, func, callback)\u001b[0m\n\u001b[1;32m    207\u001b[0m     \u001b[0;32mdef\u001b[0m \u001b[0mapply_async\u001b[0m\u001b[0;34m(\u001b[0m\u001b[0mself\u001b[0m\u001b[0;34m,\u001b[0m \u001b[0mfunc\u001b[0m\u001b[0;34m,\u001b[0m \u001b[0mcallback\u001b[0m\u001b[0;34m=\u001b[0m\u001b[0;32mNone\u001b[0m\u001b[0;34m)\u001b[0m\u001b[0;34m:\u001b[0m\u001b[0;34m\u001b[0m\u001b[0;34m\u001b[0m\u001b[0m\n\u001b[1;32m    208\u001b[0m         \u001b[0;34m\"\"\"Schedule a func to be run\"\"\"\u001b[0m\u001b[0;34m\u001b[0m\u001b[0;34m\u001b[0m\u001b[0m\n\u001b[0;32m--> 209\u001b[0;31m         \u001b[0mresult\u001b[0m \u001b[0;34m=\u001b[0m \u001b[0mImmediateResult\u001b[0m\u001b[0;34m(\u001b[0m\u001b[0mfunc\u001b[0m\u001b[0;34m)\u001b[0m\u001b[0;34m\u001b[0m\u001b[0;34m\u001b[0m\u001b[0m\n\u001b[0m\u001b[1;32m    210\u001b[0m         \u001b[0;32mif\u001b[0m \u001b[0mcallback\u001b[0m\u001b[0;34m:\u001b[0m\u001b[0;34m\u001b[0m\u001b[0;34m\u001b[0m\u001b[0m\n\u001b[1;32m    211\u001b[0m             \u001b[0mcallback\u001b[0m\u001b[0;34m(\u001b[0m\u001b[0mresult\u001b[0m\u001b[0;34m)\u001b[0m\u001b[0;34m\u001b[0m\u001b[0;34m\u001b[0m\u001b[0m\n",
      "\u001b[0;32m/usr/local/lib/python3.6/dist-packages/joblib/_parallel_backends.py\u001b[0m in \u001b[0;36m__init__\u001b[0;34m(self, batch)\u001b[0m\n\u001b[1;32m    588\u001b[0m         \u001b[0;31m# Don't delay the application, to avoid keeping the input\u001b[0m\u001b[0;34m\u001b[0m\u001b[0;34m\u001b[0m\u001b[0;34m\u001b[0m\u001b[0m\n\u001b[1;32m    589\u001b[0m         \u001b[0;31m# arguments in memory\u001b[0m\u001b[0;34m\u001b[0m\u001b[0;34m\u001b[0m\u001b[0;34m\u001b[0m\u001b[0m\n\u001b[0;32m--> 590\u001b[0;31m         \u001b[0mself\u001b[0m\u001b[0;34m.\u001b[0m\u001b[0mresults\u001b[0m \u001b[0;34m=\u001b[0m \u001b[0mbatch\u001b[0m\u001b[0;34m(\u001b[0m\u001b[0;34m)\u001b[0m\u001b[0;34m\u001b[0m\u001b[0;34m\u001b[0m\u001b[0m\n\u001b[0m\u001b[1;32m    591\u001b[0m \u001b[0;34m\u001b[0m\u001b[0m\n\u001b[1;32m    592\u001b[0m     \u001b[0;32mdef\u001b[0m \u001b[0mget\u001b[0m\u001b[0;34m(\u001b[0m\u001b[0mself\u001b[0m\u001b[0;34m)\u001b[0m\u001b[0;34m:\u001b[0m\u001b[0;34m\u001b[0m\u001b[0;34m\u001b[0m\u001b[0m\n",
      "\u001b[0;32m/usr/local/lib/python3.6/dist-packages/joblib/parallel.py\u001b[0m in \u001b[0;36m__call__\u001b[0;34m(self)\u001b[0m\n\u001b[1;32m    254\u001b[0m         \u001b[0;32mwith\u001b[0m \u001b[0mparallel_backend\u001b[0m\u001b[0;34m(\u001b[0m\u001b[0mself\u001b[0m\u001b[0;34m.\u001b[0m\u001b[0m_backend\u001b[0m\u001b[0;34m,\u001b[0m \u001b[0mn_jobs\u001b[0m\u001b[0;34m=\u001b[0m\u001b[0mself\u001b[0m\u001b[0;34m.\u001b[0m\u001b[0m_n_jobs\u001b[0m\u001b[0;34m)\u001b[0m\u001b[0;34m:\u001b[0m\u001b[0;34m\u001b[0m\u001b[0;34m\u001b[0m\u001b[0m\n\u001b[1;32m    255\u001b[0m             return [func(*args, **kwargs)\n\u001b[0;32m--> 256\u001b[0;31m                     for func, args, kwargs in self.items]\n\u001b[0m\u001b[1;32m    257\u001b[0m \u001b[0;34m\u001b[0m\u001b[0m\n\u001b[1;32m    258\u001b[0m     \u001b[0;32mdef\u001b[0m \u001b[0m__len__\u001b[0m\u001b[0;34m(\u001b[0m\u001b[0mself\u001b[0m\u001b[0;34m)\u001b[0m\u001b[0;34m:\u001b[0m\u001b[0;34m\u001b[0m\u001b[0;34m\u001b[0m\u001b[0m\n",
      "\u001b[0;32m/usr/local/lib/python3.6/dist-packages/joblib/parallel.py\u001b[0m in \u001b[0;36m<listcomp>\u001b[0;34m(.0)\u001b[0m\n\u001b[1;32m    254\u001b[0m         \u001b[0;32mwith\u001b[0m \u001b[0mparallel_backend\u001b[0m\u001b[0;34m(\u001b[0m\u001b[0mself\u001b[0m\u001b[0;34m.\u001b[0m\u001b[0m_backend\u001b[0m\u001b[0;34m,\u001b[0m \u001b[0mn_jobs\u001b[0m\u001b[0;34m=\u001b[0m\u001b[0mself\u001b[0m\u001b[0;34m.\u001b[0m\u001b[0m_n_jobs\u001b[0m\u001b[0;34m)\u001b[0m\u001b[0;34m:\u001b[0m\u001b[0;34m\u001b[0m\u001b[0;34m\u001b[0m\u001b[0m\n\u001b[1;32m    255\u001b[0m             return [func(*args, **kwargs)\n\u001b[0;32m--> 256\u001b[0;31m                     for func, args, kwargs in self.items]\n\u001b[0m\u001b[1;32m    257\u001b[0m \u001b[0;34m\u001b[0m\u001b[0m\n\u001b[1;32m    258\u001b[0m     \u001b[0;32mdef\u001b[0m \u001b[0m__len__\u001b[0m\u001b[0;34m(\u001b[0m\u001b[0mself\u001b[0m\u001b[0;34m)\u001b[0m\u001b[0;34m:\u001b[0m\u001b[0;34m\u001b[0m\u001b[0;34m\u001b[0m\u001b[0m\n",
      "\u001b[0;32m/usr/local/lib/python3.6/dist-packages/sklearn/model_selection/_validation.py\u001b[0m in \u001b[0;36m_fit_and_score\u001b[0;34m(estimator, X, y, scorer, train, test, verbose, parameters, fit_params, return_train_score, return_parameters, return_n_test_samples, return_times, return_estimator, error_score)\u001b[0m\n\u001b[1;32m    513\u001b[0m             \u001b[0mestimator\u001b[0m\u001b[0;34m.\u001b[0m\u001b[0mfit\u001b[0m\u001b[0;34m(\u001b[0m\u001b[0mX_train\u001b[0m\u001b[0;34m,\u001b[0m \u001b[0;34m**\u001b[0m\u001b[0mfit_params\u001b[0m\u001b[0;34m)\u001b[0m\u001b[0;34m\u001b[0m\u001b[0;34m\u001b[0m\u001b[0m\n\u001b[1;32m    514\u001b[0m         \u001b[0;32melse\u001b[0m\u001b[0;34m:\u001b[0m\u001b[0;34m\u001b[0m\u001b[0;34m\u001b[0m\u001b[0m\n\u001b[0;32m--> 515\u001b[0;31m             \u001b[0mestimator\u001b[0m\u001b[0;34m.\u001b[0m\u001b[0mfit\u001b[0m\u001b[0;34m(\u001b[0m\u001b[0mX_train\u001b[0m\u001b[0;34m,\u001b[0m \u001b[0my_train\u001b[0m\u001b[0;34m,\u001b[0m \u001b[0;34m**\u001b[0m\u001b[0mfit_params\u001b[0m\u001b[0;34m)\u001b[0m\u001b[0;34m\u001b[0m\u001b[0;34m\u001b[0m\u001b[0m\n\u001b[0m\u001b[1;32m    516\u001b[0m \u001b[0;34m\u001b[0m\u001b[0m\n\u001b[1;32m    517\u001b[0m     \u001b[0;32mexcept\u001b[0m \u001b[0mException\u001b[0m \u001b[0;32mas\u001b[0m \u001b[0me\u001b[0m\u001b[0;34m:\u001b[0m\u001b[0;34m\u001b[0m\u001b[0;34m\u001b[0m\u001b[0m\n",
      "\u001b[0;32m/usr/local/lib/python3.6/dist-packages/sklearn/ensemble/_forest.py\u001b[0m in \u001b[0;36mfit\u001b[0;34m(self, X, y, sample_weight)\u001b[0m\n\u001b[1;32m    381\u001b[0m                     \u001b[0mverbose\u001b[0m\u001b[0;34m=\u001b[0m\u001b[0mself\u001b[0m\u001b[0;34m.\u001b[0m\u001b[0mverbose\u001b[0m\u001b[0;34m,\u001b[0m \u001b[0mclass_weight\u001b[0m\u001b[0;34m=\u001b[0m\u001b[0mself\u001b[0m\u001b[0;34m.\u001b[0m\u001b[0mclass_weight\u001b[0m\u001b[0;34m,\u001b[0m\u001b[0;34m\u001b[0m\u001b[0;34m\u001b[0m\u001b[0m\n\u001b[1;32m    382\u001b[0m                     n_samples_bootstrap=n_samples_bootstrap)\n\u001b[0;32m--> 383\u001b[0;31m                 for i, t in enumerate(trees))\n\u001b[0m\u001b[1;32m    384\u001b[0m \u001b[0;34m\u001b[0m\u001b[0m\n\u001b[1;32m    385\u001b[0m             \u001b[0;31m# Collect newly grown trees\u001b[0m\u001b[0;34m\u001b[0m\u001b[0;34m\u001b[0m\u001b[0;34m\u001b[0m\u001b[0m\n",
      "\u001b[0;32m/usr/local/lib/python3.6/dist-packages/joblib/parallel.py\u001b[0m in \u001b[0;36m__call__\u001b[0;34m(self, iterable)\u001b[0m\n\u001b[1;32m   1005\u001b[0m                 \u001b[0mself\u001b[0m\u001b[0;34m.\u001b[0m\u001b[0m_iterating\u001b[0m \u001b[0;34m=\u001b[0m \u001b[0mself\u001b[0m\u001b[0;34m.\u001b[0m\u001b[0m_original_iterator\u001b[0m \u001b[0;32mis\u001b[0m \u001b[0;32mnot\u001b[0m \u001b[0;32mNone\u001b[0m\u001b[0;34m\u001b[0m\u001b[0;34m\u001b[0m\u001b[0m\n\u001b[1;32m   1006\u001b[0m \u001b[0;34m\u001b[0m\u001b[0m\n\u001b[0;32m-> 1007\u001b[0;31m             \u001b[0;32mwhile\u001b[0m \u001b[0mself\u001b[0m\u001b[0;34m.\u001b[0m\u001b[0mdispatch_one_batch\u001b[0m\u001b[0;34m(\u001b[0m\u001b[0miterator\u001b[0m\u001b[0;34m)\u001b[0m\u001b[0;34m:\u001b[0m\u001b[0;34m\u001b[0m\u001b[0;34m\u001b[0m\u001b[0m\n\u001b[0m\u001b[1;32m   1008\u001b[0m                 \u001b[0;32mpass\u001b[0m\u001b[0;34m\u001b[0m\u001b[0;34m\u001b[0m\u001b[0m\n\u001b[1;32m   1009\u001b[0m \u001b[0;34m\u001b[0m\u001b[0m\n",
      "\u001b[0;32m/usr/local/lib/python3.6/dist-packages/joblib/parallel.py\u001b[0m in \u001b[0;36mdispatch_one_batch\u001b[0;34m(self, iterator)\u001b[0m\n\u001b[1;32m    833\u001b[0m                 \u001b[0;32mreturn\u001b[0m \u001b[0;32mFalse\u001b[0m\u001b[0;34m\u001b[0m\u001b[0;34m\u001b[0m\u001b[0m\n\u001b[1;32m    834\u001b[0m             \u001b[0;32melse\u001b[0m\u001b[0;34m:\u001b[0m\u001b[0;34m\u001b[0m\u001b[0;34m\u001b[0m\u001b[0m\n\u001b[0;32m--> 835\u001b[0;31m                 \u001b[0mself\u001b[0m\u001b[0;34m.\u001b[0m\u001b[0m_dispatch\u001b[0m\u001b[0;34m(\u001b[0m\u001b[0mtasks\u001b[0m\u001b[0;34m)\u001b[0m\u001b[0;34m\u001b[0m\u001b[0;34m\u001b[0m\u001b[0m\n\u001b[0m\u001b[1;32m    836\u001b[0m                 \u001b[0;32mreturn\u001b[0m \u001b[0;32mTrue\u001b[0m\u001b[0;34m\u001b[0m\u001b[0;34m\u001b[0m\u001b[0m\n\u001b[1;32m    837\u001b[0m \u001b[0;34m\u001b[0m\u001b[0m\n",
      "\u001b[0;32m/usr/local/lib/python3.6/dist-packages/joblib/parallel.py\u001b[0m in \u001b[0;36m_dispatch\u001b[0;34m(self, batch)\u001b[0m\n\u001b[1;32m    752\u001b[0m         \u001b[0;32mwith\u001b[0m \u001b[0mself\u001b[0m\u001b[0;34m.\u001b[0m\u001b[0m_lock\u001b[0m\u001b[0;34m:\u001b[0m\u001b[0;34m\u001b[0m\u001b[0;34m\u001b[0m\u001b[0m\n\u001b[1;32m    753\u001b[0m             \u001b[0mjob_idx\u001b[0m \u001b[0;34m=\u001b[0m \u001b[0mlen\u001b[0m\u001b[0;34m(\u001b[0m\u001b[0mself\u001b[0m\u001b[0;34m.\u001b[0m\u001b[0m_jobs\u001b[0m\u001b[0;34m)\u001b[0m\u001b[0;34m\u001b[0m\u001b[0;34m\u001b[0m\u001b[0m\n\u001b[0;32m--> 754\u001b[0;31m             \u001b[0mjob\u001b[0m \u001b[0;34m=\u001b[0m \u001b[0mself\u001b[0m\u001b[0;34m.\u001b[0m\u001b[0m_backend\u001b[0m\u001b[0;34m.\u001b[0m\u001b[0mapply_async\u001b[0m\u001b[0;34m(\u001b[0m\u001b[0mbatch\u001b[0m\u001b[0;34m,\u001b[0m \u001b[0mcallback\u001b[0m\u001b[0;34m=\u001b[0m\u001b[0mcb\u001b[0m\u001b[0;34m)\u001b[0m\u001b[0;34m\u001b[0m\u001b[0;34m\u001b[0m\u001b[0m\n\u001b[0m\u001b[1;32m    755\u001b[0m             \u001b[0;31m# A job can complete so quickly than its callback is\u001b[0m\u001b[0;34m\u001b[0m\u001b[0;34m\u001b[0m\u001b[0;34m\u001b[0m\u001b[0m\n\u001b[1;32m    756\u001b[0m             \u001b[0;31m# called before we get here, causing self._jobs to\u001b[0m\u001b[0;34m\u001b[0m\u001b[0;34m\u001b[0m\u001b[0;34m\u001b[0m\u001b[0m\n",
      "\u001b[0;32m/usr/local/lib/python3.6/dist-packages/joblib/_parallel_backends.py\u001b[0m in \u001b[0;36mapply_async\u001b[0;34m(self, func, callback)\u001b[0m\n\u001b[1;32m    207\u001b[0m     \u001b[0;32mdef\u001b[0m \u001b[0mapply_async\u001b[0m\u001b[0;34m(\u001b[0m\u001b[0mself\u001b[0m\u001b[0;34m,\u001b[0m \u001b[0mfunc\u001b[0m\u001b[0;34m,\u001b[0m \u001b[0mcallback\u001b[0m\u001b[0;34m=\u001b[0m\u001b[0;32mNone\u001b[0m\u001b[0;34m)\u001b[0m\u001b[0;34m:\u001b[0m\u001b[0;34m\u001b[0m\u001b[0;34m\u001b[0m\u001b[0m\n\u001b[1;32m    208\u001b[0m         \u001b[0;34m\"\"\"Schedule a func to be run\"\"\"\u001b[0m\u001b[0;34m\u001b[0m\u001b[0;34m\u001b[0m\u001b[0m\n\u001b[0;32m--> 209\u001b[0;31m         \u001b[0mresult\u001b[0m \u001b[0;34m=\u001b[0m \u001b[0mImmediateResult\u001b[0m\u001b[0;34m(\u001b[0m\u001b[0mfunc\u001b[0m\u001b[0;34m)\u001b[0m\u001b[0;34m\u001b[0m\u001b[0;34m\u001b[0m\u001b[0m\n\u001b[0m\u001b[1;32m    210\u001b[0m         \u001b[0;32mif\u001b[0m \u001b[0mcallback\u001b[0m\u001b[0;34m:\u001b[0m\u001b[0;34m\u001b[0m\u001b[0;34m\u001b[0m\u001b[0m\n\u001b[1;32m    211\u001b[0m             \u001b[0mcallback\u001b[0m\u001b[0;34m(\u001b[0m\u001b[0mresult\u001b[0m\u001b[0;34m)\u001b[0m\u001b[0;34m\u001b[0m\u001b[0;34m\u001b[0m\u001b[0m\n",
      "\u001b[0;32m/usr/local/lib/python3.6/dist-packages/joblib/_parallel_backends.py\u001b[0m in \u001b[0;36m__init__\u001b[0;34m(self, batch)\u001b[0m\n\u001b[1;32m    588\u001b[0m         \u001b[0;31m# Don't delay the application, to avoid keeping the input\u001b[0m\u001b[0;34m\u001b[0m\u001b[0;34m\u001b[0m\u001b[0;34m\u001b[0m\u001b[0m\n\u001b[1;32m    589\u001b[0m         \u001b[0;31m# arguments in memory\u001b[0m\u001b[0;34m\u001b[0m\u001b[0;34m\u001b[0m\u001b[0;34m\u001b[0m\u001b[0m\n\u001b[0;32m--> 590\u001b[0;31m         \u001b[0mself\u001b[0m\u001b[0;34m.\u001b[0m\u001b[0mresults\u001b[0m \u001b[0;34m=\u001b[0m \u001b[0mbatch\u001b[0m\u001b[0;34m(\u001b[0m\u001b[0;34m)\u001b[0m\u001b[0;34m\u001b[0m\u001b[0;34m\u001b[0m\u001b[0m\n\u001b[0m\u001b[1;32m    591\u001b[0m \u001b[0;34m\u001b[0m\u001b[0m\n\u001b[1;32m    592\u001b[0m     \u001b[0;32mdef\u001b[0m \u001b[0mget\u001b[0m\u001b[0;34m(\u001b[0m\u001b[0mself\u001b[0m\u001b[0;34m)\u001b[0m\u001b[0;34m:\u001b[0m\u001b[0;34m\u001b[0m\u001b[0;34m\u001b[0m\u001b[0m\n",
      "\u001b[0;32m/usr/local/lib/python3.6/dist-packages/joblib/parallel.py\u001b[0m in \u001b[0;36m__call__\u001b[0;34m(self)\u001b[0m\n\u001b[1;32m    254\u001b[0m         \u001b[0;32mwith\u001b[0m \u001b[0mparallel_backend\u001b[0m\u001b[0;34m(\u001b[0m\u001b[0mself\u001b[0m\u001b[0;34m.\u001b[0m\u001b[0m_backend\u001b[0m\u001b[0;34m,\u001b[0m \u001b[0mn_jobs\u001b[0m\u001b[0;34m=\u001b[0m\u001b[0mself\u001b[0m\u001b[0;34m.\u001b[0m\u001b[0m_n_jobs\u001b[0m\u001b[0;34m)\u001b[0m\u001b[0;34m:\u001b[0m\u001b[0;34m\u001b[0m\u001b[0;34m\u001b[0m\u001b[0m\n\u001b[1;32m    255\u001b[0m             return [func(*args, **kwargs)\n\u001b[0;32m--> 256\u001b[0;31m                     for func, args, kwargs in self.items]\n\u001b[0m\u001b[1;32m    257\u001b[0m \u001b[0;34m\u001b[0m\u001b[0m\n\u001b[1;32m    258\u001b[0m     \u001b[0;32mdef\u001b[0m \u001b[0m__len__\u001b[0m\u001b[0;34m(\u001b[0m\u001b[0mself\u001b[0m\u001b[0;34m)\u001b[0m\u001b[0;34m:\u001b[0m\u001b[0;34m\u001b[0m\u001b[0;34m\u001b[0m\u001b[0m\n",
      "\u001b[0;32m/usr/local/lib/python3.6/dist-packages/joblib/parallel.py\u001b[0m in \u001b[0;36m<listcomp>\u001b[0;34m(.0)\u001b[0m\n\u001b[1;32m    254\u001b[0m         \u001b[0;32mwith\u001b[0m \u001b[0mparallel_backend\u001b[0m\u001b[0;34m(\u001b[0m\u001b[0mself\u001b[0m\u001b[0;34m.\u001b[0m\u001b[0m_backend\u001b[0m\u001b[0;34m,\u001b[0m \u001b[0mn_jobs\u001b[0m\u001b[0;34m=\u001b[0m\u001b[0mself\u001b[0m\u001b[0;34m.\u001b[0m\u001b[0m_n_jobs\u001b[0m\u001b[0;34m)\u001b[0m\u001b[0;34m:\u001b[0m\u001b[0;34m\u001b[0m\u001b[0;34m\u001b[0m\u001b[0m\n\u001b[1;32m    255\u001b[0m             return [func(*args, **kwargs)\n\u001b[0;32m--> 256\u001b[0;31m                     for func, args, kwargs in self.items]\n\u001b[0m\u001b[1;32m    257\u001b[0m \u001b[0;34m\u001b[0m\u001b[0m\n\u001b[1;32m    258\u001b[0m     \u001b[0;32mdef\u001b[0m \u001b[0m__len__\u001b[0m\u001b[0;34m(\u001b[0m\u001b[0mself\u001b[0m\u001b[0;34m)\u001b[0m\u001b[0;34m:\u001b[0m\u001b[0;34m\u001b[0m\u001b[0;34m\u001b[0m\u001b[0m\n",
      "\u001b[0;32m/usr/local/lib/python3.6/dist-packages/sklearn/ensemble/_forest.py\u001b[0m in \u001b[0;36m_parallel_build_trees\u001b[0;34m(tree, forest, X, y, sample_weight, tree_idx, n_trees, verbose, class_weight, n_samples_bootstrap)\u001b[0m\n\u001b[1;32m    163\u001b[0m             \u001b[0mcurr_sample_weight\u001b[0m \u001b[0;34m*=\u001b[0m \u001b[0mcompute_sample_weight\u001b[0m\u001b[0;34m(\u001b[0m\u001b[0;34m'balanced'\u001b[0m\u001b[0;34m,\u001b[0m \u001b[0my\u001b[0m\u001b[0;34m,\u001b[0m \u001b[0mindices\u001b[0m\u001b[0;34m)\u001b[0m\u001b[0;34m\u001b[0m\u001b[0;34m\u001b[0m\u001b[0m\n\u001b[1;32m    164\u001b[0m \u001b[0;34m\u001b[0m\u001b[0m\n\u001b[0;32m--> 165\u001b[0;31m         \u001b[0mtree\u001b[0m\u001b[0;34m.\u001b[0m\u001b[0mfit\u001b[0m\u001b[0;34m(\u001b[0m\u001b[0mX\u001b[0m\u001b[0;34m,\u001b[0m \u001b[0my\u001b[0m\u001b[0;34m,\u001b[0m \u001b[0msample_weight\u001b[0m\u001b[0;34m=\u001b[0m\u001b[0mcurr_sample_weight\u001b[0m\u001b[0;34m,\u001b[0m \u001b[0mcheck_input\u001b[0m\u001b[0;34m=\u001b[0m\u001b[0;32mFalse\u001b[0m\u001b[0;34m)\u001b[0m\u001b[0;34m\u001b[0m\u001b[0;34m\u001b[0m\u001b[0m\n\u001b[0m\u001b[1;32m    166\u001b[0m     \u001b[0;32melse\u001b[0m\u001b[0;34m:\u001b[0m\u001b[0;34m\u001b[0m\u001b[0;34m\u001b[0m\u001b[0m\n\u001b[1;32m    167\u001b[0m         \u001b[0mtree\u001b[0m\u001b[0;34m.\u001b[0m\u001b[0mfit\u001b[0m\u001b[0;34m(\u001b[0m\u001b[0mX\u001b[0m\u001b[0;34m,\u001b[0m \u001b[0my\u001b[0m\u001b[0;34m,\u001b[0m \u001b[0msample_weight\u001b[0m\u001b[0;34m=\u001b[0m\u001b[0msample_weight\u001b[0m\u001b[0;34m,\u001b[0m \u001b[0mcheck_input\u001b[0m\u001b[0;34m=\u001b[0m\u001b[0;32mFalse\u001b[0m\u001b[0;34m)\u001b[0m\u001b[0;34m\u001b[0m\u001b[0;34m\u001b[0m\u001b[0m\n",
      "\u001b[0;32m/usr/local/lib/python3.6/dist-packages/sklearn/tree/_classes.py\u001b[0m in \u001b[0;36mfit\u001b[0;34m(self, X, y, sample_weight, check_input, X_idx_sorted)\u001b[0m\n\u001b[1;32m    875\u001b[0m             \u001b[0msample_weight\u001b[0m\u001b[0;34m=\u001b[0m\u001b[0msample_weight\u001b[0m\u001b[0;34m,\u001b[0m\u001b[0;34m\u001b[0m\u001b[0;34m\u001b[0m\u001b[0m\n\u001b[1;32m    876\u001b[0m             \u001b[0mcheck_input\u001b[0m\u001b[0;34m=\u001b[0m\u001b[0mcheck_input\u001b[0m\u001b[0;34m,\u001b[0m\u001b[0;34m\u001b[0m\u001b[0;34m\u001b[0m\u001b[0m\n\u001b[0;32m--> 877\u001b[0;31m             X_idx_sorted=X_idx_sorted)\n\u001b[0m\u001b[1;32m    878\u001b[0m         \u001b[0;32mreturn\u001b[0m \u001b[0mself\u001b[0m\u001b[0;34m\u001b[0m\u001b[0;34m\u001b[0m\u001b[0m\n\u001b[1;32m    879\u001b[0m \u001b[0;34m\u001b[0m\u001b[0m\n",
      "\u001b[0;32m/usr/local/lib/python3.6/dist-packages/sklearn/tree/_classes.py\u001b[0m in \u001b[0;36mfit\u001b[0;34m(self, X, y, sample_weight, check_input, X_idx_sorted)\u001b[0m\n\u001b[1;32m    365\u001b[0m                                            min_impurity_split)\n\u001b[1;32m    366\u001b[0m \u001b[0;34m\u001b[0m\u001b[0m\n\u001b[0;32m--> 367\u001b[0;31m         \u001b[0mbuilder\u001b[0m\u001b[0;34m.\u001b[0m\u001b[0mbuild\u001b[0m\u001b[0;34m(\u001b[0m\u001b[0mself\u001b[0m\u001b[0;34m.\u001b[0m\u001b[0mtree_\u001b[0m\u001b[0;34m,\u001b[0m \u001b[0mX\u001b[0m\u001b[0;34m,\u001b[0m \u001b[0my\u001b[0m\u001b[0;34m,\u001b[0m \u001b[0msample_weight\u001b[0m\u001b[0;34m,\u001b[0m \u001b[0mX_idx_sorted\u001b[0m\u001b[0;34m)\u001b[0m\u001b[0;34m\u001b[0m\u001b[0;34m\u001b[0m\u001b[0m\n\u001b[0m\u001b[1;32m    368\u001b[0m \u001b[0;34m\u001b[0m\u001b[0m\n\u001b[1;32m    369\u001b[0m         \u001b[0;32mif\u001b[0m \u001b[0mself\u001b[0m\u001b[0;34m.\u001b[0m\u001b[0mn_outputs_\u001b[0m \u001b[0;34m==\u001b[0m \u001b[0;36m1\u001b[0m \u001b[0;32mand\u001b[0m \u001b[0mis_classifier\u001b[0m\u001b[0;34m(\u001b[0m\u001b[0mself\u001b[0m\u001b[0;34m)\u001b[0m\u001b[0;34m:\u001b[0m\u001b[0;34m\u001b[0m\u001b[0;34m\u001b[0m\u001b[0m\n",
      "\u001b[0;31mKeyboardInterrupt\u001b[0m: "
     ]
=======
      "  estimator.fit(X_train, y_train, **fit_params)\n",
      "/usr/local/lib/python3.6/dist-packages/sklearn/model_selection/_validation.py:515: DataConversionWarning: A column-vector y was passed when a 1d array was expected. Please change the shape of y to (n_samples,), for example using ravel().\n",
      "  estimator.fit(X_train, y_train, **fit_params)\n",
      "/usr/local/lib/python3.6/dist-packages/sklearn/model_selection/_validation.py:515: DataConversionWarning: A column-vector y was passed when a 1d array was expected. Please change the shape of y to (n_samples,), for example using ravel().\n",
      "  estimator.fit(X_train, y_train, **fit_params)\n",
      "/usr/local/lib/python3.6/dist-packages/sklearn/model_selection/_validation.py:515: DataConversionWarning: A column-vector y was passed when a 1d array was expected. Please change the shape of y to (n_samples,), for example using ravel().\n",
      "  estimator.fit(X_train, y_train, **fit_params)\n",
      "/usr/local/lib/python3.6/dist-packages/sklearn/model_selection/_validation.py:515: DataConversionWarning: A column-vector y was passed when a 1d array was expected. Please change the shape of y to (n_samples,), for example using ravel().\n",
      "  estimator.fit(X_train, y_train, **fit_params)\n",
      "/usr/local/lib/python3.6/dist-packages/sklearn/model_selection/_validation.py:515: DataConversionWarning: A column-vector y was passed when a 1d array was expected. Please change the shape of y to (n_samples,), for example using ravel().\n",
      "  estimator.fit(X_train, y_train, **fit_params)\n",
      "/usr/local/lib/python3.6/dist-packages/sklearn/model_selection/_validation.py:515: DataConversionWarning: A column-vector y was passed when a 1d array was expected. Please change the shape of y to (n_samples,), for example using ravel().\n",
      "  estimator.fit(X_train, y_train, **fit_params)\n",
      "/usr/local/lib/python3.6/dist-packages/sklearn/model_selection/_validation.py:515: DataConversionWarning: A column-vector y was passed when a 1d array was expected. Please change the shape of y to (n_samples,), for example using ravel().\n",
      "  estimator.fit(X_train, y_train, **fit_params)\n",
      "/usr/local/lib/python3.6/dist-packages/sklearn/model_selection/_validation.py:515: DataConversionWarning: A column-vector y was passed when a 1d array was expected. Please change the shape of y to (n_samples,), for example using ravel().\n",
      "  estimator.fit(X_train, y_train, **fit_params)\n",
      "/usr/local/lib/python3.6/dist-packages/sklearn/model_selection/_validation.py:515: DataConversionWarning: A column-vector y was passed when a 1d array was expected. Please change the shape of y to (n_samples,), for example using ravel().\n",
      "  estimator.fit(X_train, y_train, **fit_params)\n",
      "/usr/local/lib/python3.6/dist-packages/sklearn/model_selection/_validation.py:515: DataConversionWarning: A column-vector y was passed when a 1d array was expected. Please change the shape of y to (n_samples,), for example using ravel().\n",
      "  estimator.fit(X_train, y_train, **fit_params)\n",
      "/usr/local/lib/python3.6/dist-packages/sklearn/model_selection/_validation.py:515: DataConversionWarning: A column-vector y was passed when a 1d array was expected. Please change the shape of y to (n_samples,), for example using ravel().\n",
      "  estimator.fit(X_train, y_train, **fit_params)\n",
      "/usr/local/lib/python3.6/dist-packages/sklearn/model_selection/_validation.py:515: DataConversionWarning: A column-vector y was passed when a 1d array was expected. Please change the shape of y to (n_samples,), for example using ravel().\n",
      "  estimator.fit(X_train, y_train, **fit_params)\n",
      "/usr/local/lib/python3.6/dist-packages/sklearn/model_selection/_validation.py:515: DataConversionWarning: A column-vector y was passed when a 1d array was expected. Please change the shape of y to (n_samples,), for example using ravel().\n",
      "  estimator.fit(X_train, y_train, **fit_params)\n",
      "/usr/local/lib/python3.6/dist-packages/sklearn/model_selection/_validation.py:515: DataConversionWarning: A column-vector y was passed when a 1d array was expected. Please change the shape of y to (n_samples,), for example using ravel().\n",
      "  estimator.fit(X_train, y_train, **fit_params)\n",
      "/usr/local/lib/python3.6/dist-packages/sklearn/model_selection/_validation.py:515: DataConversionWarning: A column-vector y was passed when a 1d array was expected. Please change the shape of y to (n_samples,), for example using ravel().\n",
      "  estimator.fit(X_train, y_train, **fit_params)\n",
      "/usr/local/lib/python3.6/dist-packages/sklearn/model_selection/_validation.py:515: DataConversionWarning: A column-vector y was passed when a 1d array was expected. Please change the shape of y to (n_samples,), for example using ravel().\n",
      "  estimator.fit(X_train, y_train, **fit_params)\n",
      "/usr/local/lib/python3.6/dist-packages/sklearn/model_selection/_validation.py:515: DataConversionWarning: A column-vector y was passed when a 1d array was expected. Please change the shape of y to (n_samples,), for example using ravel().\n",
      "  estimator.fit(X_train, y_train, **fit_params)\n",
      "/usr/local/lib/python3.6/dist-packages/sklearn/model_selection/_validation.py:515: DataConversionWarning: A column-vector y was passed when a 1d array was expected. Please change the shape of y to (n_samples,), for example using ravel().\n",
      "  estimator.fit(X_train, y_train, **fit_params)\n"
     ]
>>>>>>> Stashed changes
    }
   ],
   "source": [
    "from sklearn.model_selection import validation_curve\n",
    "\n",
<<<<<<< Updated upstream
    "param_range = np.arange(1, 20, 2)\n",
    "train_scores, test_scores = validation_curve(\n",
    "                            RandomForestClassifier(result.best_params_),\n",
    "                            X = X_train_sample, y = Y_train_sample, scoring = \"f1_weighted\",\n",
    "                            param_name = 'n_estimators', \n",
=======
    "param_range = np.arange(5, 35, 5)\n",
    "train_scores, test_scores = validation_curve(\n",
    "                            RandomForestClassifier(bootstrap = True, min_samples_leaf = 2, min_samples_split = 2),\n",
    "                            X = X_train_sample, y = Y_train_sample, scoring = \"f1_weighted\",\n",
    "                            param_name = 'max_depth', \n",
>>>>>>> Stashed changes
    "                            param_range = param_range, cv = 5)"
   ]
  },
  {
   "cell_type": "code",
<<<<<<< Updated upstream
   "execution_count": 101,
   "metadata": {
    "colab": {
     "base_uri": "https://localhost:8080/",
     "height": 297
    },
    "colab_type": "code",
    "id": "jxZ3HvmHQf0h",
    "outputId": "81a3a5eb-2d18-474f-ae2e-9427e51463b6"
=======
   "execution_count": 0,
   "metadata": {
    "colab": {
     "base_uri": "https://localhost:8080/"
    },
    "colab_type": "code",
    "id": "jxZ3HvmHQf0h",
    "outputId": "8115402c-df92-484f-909f-79b0af085ffc"
>>>>>>> Stashed changes
   },
   "outputs": [
    {
     "data": {
<<<<<<< Updated upstream
      "image/png": "iVBORw0KGgoAAAANSUhEUgAAAagAAAEYCAYAAAAJeGK1AAAABHNCSVQICAgIfAhkiAAAAAlwSFlz\nAAALEgAACxIB0t1+/AAAADh0RVh0U29mdHdhcmUAbWF0cGxvdGxpYiB2ZXJzaW9uMy4yLjAsIGh0\ndHA6Ly9tYXRwbG90bGliLm9yZy8GearUAAAgAElEQVR4nOzdeXyU5bn/8c+Vyb6xJSFkJ5DgiiBh\nl9WfVqvVao91aV1Pq3XXtlrb08Xjsac9dvNUWy3tUdRqcfcFKq6ArCIBI4pCQIwQ1ixkJ/v1+2MW\nJ8kkGSDDTJLr/XrNKzPPPPPMNTPJfHPfz/08t6gqxhhjTKgJC3YBxhhjjC8WUMYYY0KSBZQxxpiQ\nZAFljDEmJFlAGWOMCUkWUMYYY0KSBZTxSURURMa6rj8qIr/wZ92jeJ7viMhbR1vnYCAis0RkWw/3\n57g+g/DjWZc/RGSuiJQGuw7TP1lADVAi8oaI3Odj+YUisv9IvsxU9Qeq+l99UFOXL1JVfVpVzz7W\nbXfzfIki8qCI7BKROhH53HU7KRDPdwR1/VRElnZatr2bZZep6ipVHee1vERE/t8xPP9CEWl2vSeV\nIvK2iJxwtNsLFa7frXrX66oTkarj/PzH9LmYriygBq4ngO+KiHRafiXwtKq2BqGm40ZEIoF3gZOB\nc4BEYDpQAUw5iu31ZetkJTBDRByubY8CIoCJnZaNda0bCA+oajyQDuwB/i9Az3O8naaq8a7L0CN9\ncCi2QgczC6iB6xVgBDDLvUBEhgHnA0+KyBQRWSciVSKyT0Qedn2pd+H6j/t+r9t3uR6zV0Su67Tu\neSLyoYjUiMhuEbnX6273l22V6z/c6SJyjYis9nr8DBHZICLVrp8zvO5bISL/JSJrRKRWRN7qoTV0\nFZAFXKSqn6pqu6oeVNX/UtXXXdvr0DXp/TrdXVMi8hMR2Q88LiKficj5XuuHi0iZiJzuuj1NRNa6\n3tOPRGRuN7VtwBlIE1y3ZwHLgW2dln2uqnu9u8lE5CnX61rieg/v9trud1ytxXIR+Y9unrsDVT0M\nPOf1vD1+hl6t4Kt9PZeIxLjex0Mi8ikw2fv5RORE1+dYJSJbROQCr/sWishfRWSp67WtEZFUV6v3\nkIhsFZGJ/ryuTs85RESedH1WX4rIz0UkzHXfNa7n+ZOIVAD3ikiUiPze9foOiLOLO8a1fpKIvOqq\nv1JEVolIWC+fizlKFlADlNcXz1Vei78NbFXVj4A24E4gCWfL4kzgpt62KyLnAD8GzgLygM5dGvWu\n5xwKnAfcKCLfdN032/VzqOs/3HWdtj0ceA34M85w/SPwmoiM8FrtCuBaIAWIdNXiy/8D3lDVut5e\nUw9SgeFANnA98C/gcq/7vwaUq+omEUl31X6/6zE/Bl4UkeTOG1XVZmA9X70fs4FVwOpOy7q0nlT1\nSmAX8A3Xe/iA191nAONwfpa/FJETe3uBIhLnek07vBb39Bn29ly/Asa4Ll8DrvZ6rghgCfAWzs/v\nVuBpERnntd1vAz/H+XvZBKwDNrluv4Dzd+JIPQQMAXKBOa7Xdq3X/VOBncBI4NfAb4F8nKE9Fmcr\n85eudX8ElALJrvV/Bmgvn4s5ShZQA9sTwL+JSLTr9lWuZajqRlV9X1VbVbUE+BvOP97efBt4XFU/\nUdV64F7vO1V1hap+7GqxbMb5pe7PdsH5ZbhdVZ9y1fUvYCvwDa91HlfVYl//+XcyAtjn5/N2px34\nlao2uZ7vGeACEYl13X8FztcH8F3gdVV93fXa3wYKga93s+33+CqMZuEMqFWdlr13hPX+p6oedv0D\n8hFwWg/r/lic+2hqcYbNle47/PwMu3uubwO/VtVKVd2N858Nt2lAPPBbVW1W1WXAq3QM/Zddv5uN\nwMtAo6o+qaptwLNAby2oTa7WTZWI/FmcXaaXAT9V1VrX7/ofvF8vsFdVH3J1ezfi/GfkTtdrqAX+\n27UNgBZgFJCtqi2u/YN2QtMAsYAawFR1NVAOfFNExuDc9/IMgIjku7oq9otIDc4/Qn8GD6QBu71u\nf+l9p4hMFZHlru6UauAHfm7Xve0vOy37Eud/sG77va434PzC86UC5xfJsShzfVECoKo7gM+Ab7hC\n6gJc7yfOVtYlXl+OVTi/+LurYSVwhqvVmKyq24G1OPdNDQdO4cj3P/n73gD83rWPJgc4jLM1BPj9\nGXb3XD39fqQBu1W1vdP93p/vAa/rh33c7uk1AZyuqkNdl9tcdUd0qqPzc3rXmwzEAhu9Psc3XMsB\nfoeztfmWiOwUkXt6qcccAwuoge9JnC2n7wJvqqr7D/4RnK2TPFVNxNlV0XlAhS/7gEyv21md7n8G\nWAxkquoQ4FGv7fb2n+ZenF/03rJw7sQ/Uu8AX3N1YXWnAeeXkVtqp/t91evu5rsQ+NQVWuD8knvK\n68txqKrGqepvu3nudTi7nb4PrAFQ1Rqc78H3cf5X/0U3j+2z/9hVdRdwO/C/7v0s9PwZ9qan34+9\nQKZ7/4/X/Ufz+fqrHGerx/v3qvNzaqf1DwMne32OQ1wDSnC1wn6kqrk4/0H5oYic6WM7pg9YQA18\nT+LcH/N9XN17LglADVAnziHGN/q5veeAa0TkJFcr4led7k8AKlW1UUSm4OwGcyvD2W2W2822Xwfy\nReQK1wCES4GTcHYDHamncIbGiyJygmtH9ggR+ZmIuLvdioArRMTh2rfmT1fkIuBsnO/XM17L/4mz\nZfU11/aiXYMbMnxtxNVlWAj8EGfXnttq17KeWk8H6P49PGKu7si9OLu2oOfPsDfPAT8VkWGu136r\n133rcf5TcLeIRIhzEMk3cL6nAeHqGnwO+LWIJIhINs7395/drN8O/B34k4ikAIhIuoh8zXX9fBEZ\nKyICVOPcl+tuEfbp52IsoAY8V5/7WiAO53/Fbj/G+cVTi/MP8lk/t7cUeBBYhrOrY1mnVW4C7hOR\nWpw7lp/zemwDzp3Qa1zdJ9M6bbsC5yjDH+HsorsbOF9Vy/2prdO2mnAG81bgbZxh/AHOLp/1rtVu\nx/kFWQV8B+fIx962uw9n62cGXu+Za3/LhThbomU4w/Euev4bew/nYIHVXstWuZb1FFC/AX7ueg+7\nGyRypH6HMzii6OEz9MN/4uxC+wLnYIin3He4Bod8AzgXZ0vlr8BVqrq1T15B927FOfBjJ873+hng\nsR7W/wnO3+33Xd3f7/BVF2ie63Ydzt+Dv6rqctd9gfhcBjWx/XvGGGNCkbWgjDHGhCQLKGOMMSHJ\nAsoYY0xIsoAyxhgTkvrdiRGTkpI0Jycn2GUYY4zpIxs3bixX1S6nBet3AZWTk0NhYWGwyzDGGNNH\nRKTzGWQA6+IzxhgTogIWUCLymIgcFJFPurlfXCdz3CEim8U1ZYExxhgDgW1BLcQ5UVx3zsV5VHYe\nzlOsPBLAWowxxvQzAQsoVV0JVPawyoXAk+r0PjBUnLOIGmOMMUHdB5VOx9Pcl9LxFPjGGGMGsX4x\nSEJErheRQhEpLCsrC3Y5xhhjjoNgBtQeOs4bk0E388Ko6gJVLVDVguTkLkPljTHGDEDBDKjFwFWu\n0XzTgGrXVAbGGGNM4A7UFZF/AXOBJBEpxTmxXQSAqj6Kc3K6r+Ocd6UBuDZQtRhjzGCiqrS0tHD4\n8GEaGxtpbGzscL2hoYG6ujrq6+tpaGjw/GxoaODw4cM0NDR4HuP9uKamJs/15uZmGhsbueeee7jl\nllsC8joCFlCqenkv9ytwc6Ce3xhjgklVaW1t7TYkGhsbqa+v73Bxh4Q7KLwv3o9zB0VTUxNNTU00\nNzd7Li0tLbS0tHAsc/2JCOHh4UREROBwOAgPD/fcdl8PDw9nyJAhVFRU9OG71lG/O9WRMcYcqba2\nNqqqqjxf/N6B4b74CoqeWhPeAdFdUBzrhLC+QsH7EhERQUJCgs/lvm57L3c4HERERBAZGUlUVJTn\nEh0dTWRkpM9tuNd3/wwPDyc3N3Cz3FtAGWP6DXfQVFRUUFlZSXl5OQcPHuTAgQMcPHiQiooKysvL\nOXToEFVVVVRXV1NTU0N9ff1RP2d3weB9OzY2lsTERL8CpfOyzgERFRVFTExMh5Bwh0PnkOjpuXp7\nXofDQVhYaA/ktoAyxhx3bW1tHDp0iMrKSiorKykrK2Pfvn0cPHiQsrIyysvLqays9ARNVVUVtbW1\nNDQ09LjdmJiYDpekpCQyMzM9t93/9ftqFfgKiejo6B5DovP2jvQSFhaGiBynd73/sYAyxhy11tZW\nqqqqqKyspKKigv3793taM95BU1VVxaFDh6ipqek1aESE6OjoDkGTkpJCdnY2sbGxXUIoMTGRoUOH\nMnToUOLi4oiLiyMhIYH4+HhiYmI8j4mNjSU6OrpLK8ICInRZQBljOgTNgQMHPJeDBw9SXl7u6VJz\nt2hqamqoq6s7qqDJycnxGRxxcXEMGTLEEzSxsbGesImLi+vwGO/HWcAMXBZQxgwg7qApLy/nwIED\nnhaNuzXjHTTu/TN1dXUcPny4222KiCcU3IGTmprqCQn3xX1/dHQ0Q4cOJTEx0XOfd9B0Dhn39fBw\n+zoyHdlvhDEhqK2tzbNvZv/+/R2CpqKiwhM0nQcC+BM07pCJjY1l1KhRnuvu8HC3TCIjI0lISCAx\nMbHDOvHx8cTHx3doAXkHTmRkpLVqTJ+wgDImBBw+fJhVq1bx2muvsWrVKrZs2UJzc7PPdb2Dxh0O\naWlpHULEHTbuoImNjSUhIaFDkLiDpqdWTaiP8jIDmwWUMUFQW1vLu+++y9KlS1m9ejXbtm2jra0N\nESElJYUJEyaQkpLSITyioqI8rRp3V1p33Wedf0ZERAT7JRtzxCygjDkOysvLWbp0KW+99Rbr1q1j\n586dqCphYWGMGjWKqVOnMnbsWDIyMhgxYgS5ublkZ2d3GYlmgwLMYGIBZUwAlJaWsmTJEt555x0+\n+OADSktLAedBn+np6cyaNYuxY8eSlpbG8OHDyc3NZezYsZ5QMsZYQBlzzFSV7du3s2TJEt599102\nbtzIwYMHAYiMjCQzM5P58+eTl5dHamoqQ4cOZcyYMYwZM4bs7Gzi4uKC/AqMCU0WUMYcIVWlqKiI\nxYsXs2LFCoqKiqiqqgKcZzLIyspiwoQJ5OXlkZyc3CWQYmNjg/wKjOkfLKCM6UVbWxtr1qzhtdde\nY+XKlXzyySfU1dUBEB8fT3Z2NjNmzCAvL49hw4YxbNiwDoEUExMT5FdgTP9kAWVMJ01NTbzzzjss\nXbqUNWvW8Nlnn9HU1ATgaQ1lZ2eTl5dHYmIiw4YNY+zYseTm5pKVlWWBZEwfsYAyg15dXR2vvfaa\nZ4Tdjh07aGlpASApKYlTTjmFnJwcxo4dS1xcHMOGDSMvL4/c3FwyMzOJjo4O8iswZmCygDKDTllZ\nGUuWLOHtt99mw4YNlJSUeI5BGjlyJKeffronkKKiohg+fHiHQIqKigr2SzBmULCAMgNeSUmJZ4Td\npk2bKC0t9RyDlJaWxrRp08jJyWHMmDGEh4czYsSIDoEUGRkZ7JdgzKBkAWUGFFVly5YtvPrqqyxf\nvpyPPvqIAwcOAM5jkDIyMpg9ezY5OTnk5uYiIiQnJ3v2IWVmZtpZF4wJERZQpl9ra2vjgw8+4PXX\nX/eMsKusrAScxyBlZWV59iHl5OQAkJycTF5eHqNHjyYjI8MCyZgQZQFl+pXm5mbee+89zwi7rVu3\nUlNTAziPQcrOzmby5MmMHj2a9PR0AFJSUjoEkk3rYEz/YH+pJqTV1dXx1ltv8eabb7J+/Xq2b9/u\nmSQvPj6enJwcsrOzGT16NKmpqagqI0eOJD8/n9GjR5OWlmaBZEw/ZX+5JqSUlZXxxhtv8NZbb1FY\nWMgXX3zhOQZp2LBh5Ofnk52dTW5uLklJSbS3t5OamtohkBwOR5BfhTGmL1hAmaBRVb788kuWLl3K\nu+++S1FREbt27fJ5DNLo0aMZPnw47e3tjBo1ivz8fHJychg1apQFkjEDlAWUOW7a2trYunUrS5cu\nZfny5XzyySfs2bOHtrY2AFJTUzn99NM9XXZDhgyhvb2dtLS0DoFkk+gZMzhYQJmAaWpqoqioiKVL\nl7Jq1Sq2bt3Kvn37uhyD5O6yi42Npb29nfT0dE8gpaamWiAZM0hZQJk+U1dXx4YNG3j99ddZt24d\nxcXFlJWVAR2PQcrOziYnJ4fo6GhUtUMgjRw50gLJGANYQJljVFtby4MPPsiSJUvYsWMHhw4dAr46\nBmn8+PFkZ2eTlZXlOd4oMzPTE0gpKSk2Q6wxxicLKHNUvvjiC+6//35eeuklqqqqPMcgTZkyhezs\nbNLT0wkPD0dEOgRScnKyBZIxxi8WUMZvqsrq1av57//+b1asWEFjYyNZWVmcc845nHTSSTgcDsLC\nwjoEUlJSkgWSMeaoWECZXjU3N/Pss8/y4IMPUlRUhKpy0kknMX36dHJzcwkPD2fmzJnk5+czYsQI\nCyRjTJ+wgDLdqqys5M9//jNPPvkkX3zxBZGRkUyZMoWpU6eSkpJCfHw88+bN87SejDGmL1lAmQ5U\nleLiYh544AGWLFlCWVkZiYmJnHXWWUyaNImEhASSk5OZN28eY8aMsdaSMSZgAhpQInIO8L+AA/iH\nqv620/3ZwGNAMlAJfFdVSwNZk/GttbWVVatW8bvf/Y6VK1dSX1/PqFGjuPjiiznllFOIjIwkJyeH\nuXPnek7CaowxgRSwgBIRB/AX4CygFNggIotV9VOv1X4PPKmqT4jIfOA3wJWBqsl0VVdXxwsvvMAj\njzzCpk2baG1tJT8/n+nTpzNmzBjCwsI4+eSTmTVrFiNGjAh2ucaYQSSQLagpwA5V3QkgIouACwHv\ngDoJ+KHr+nLglQDWY7zs3buXBQsWsGjRIrZt24bD4WDChAlMmzaNtLQ0ACZPnsz06dOJj48PcrXG\nmMEokAGVDuz2ul0KTO20zkfAxTi7AS8CEkRkhKpWBLCuQau9vZ2PP/6YP//5z7zxxhvs3buX2NhY\n5syZw+TJkxk+fDgOh4MzzjiDSZMmERUVFeySjTGDWLAHSfwYeFhErgFWAnuAts4ricj1wPUAWVlZ\nx7O+AaGxsZH33nuPhx56iNWrV1NdXU1SUhLf+MY3GD9+PHFxccTExDB37lxOPfVUG5FnjAkJgQyo\nPUCm1+0M1zIPVd2LswWFiMQD31LVqs4bUtUFwAKAgoICDVTBA015eTmvvPIKjz/+OBs3bqSpqYmc\nnBzOO+88xo4dS1RUFMOHD2fevHnk5+fbiDxjTEgJZEBtAPJEZDTOYLoMuMJ7BRFJAipVtR34Kc4R\nfeYYqCo7d+7kiSee4JVXXmHLli0AnHzyyUyfPp309HQcDgeZmZnMmzePzMzMXrZojDHBEbCAUtVW\nEbkFeBPnMPPHVHWLiNwHFKrqYmAu8BsRUZxdfDcHqp6Brrm5mQ8//JAFCxawbNkySkpKiIqKYtq0\naUydOpXhw4cjIowbN445c+aQnJwc7JKNMaZHotq/eswKCgq0sLAw2GWEjOrqalasWMFjjz3GmjVr\nqKioYMiQIUybNo3TTz+duLg4RISJEycyc+ZMEhMTg12yMcZ0ICIbVbWg8/JgD5IwR0FVKS0tZcmS\nJTz33HNs2LCBhoYG0tLS+Ld/+zdOPPFEoqOjCQsLY8aMGUyZMoXo6Ohgl22MMUfEAqofaWtrY8uW\nLTz77LO8+eabFBUV0dbWxrhx45gxYwZZWVlERUURFRXFnDlzOO200wgPt4/YGNM/2bdXP1BfX88H\nH3zA008/zapVqyguLiY8PJyJEycyffp0RowYQUREBEOGDGH+/PmMGzfOZqU1xvR7FlAhbP/+/Sxf\nvpwXX3yRNWvWsH//fuLi4pg/fz4FBQXExcXhcDhIS0tj3rx5ZGdn21BxY8yAYQEVYtrb2ykuLmbp\n0qUsXbqU999/n9raWpKTk7nwwgs59dRTiYyMJCwsjLFjxzJ37lxGjhwZ7LKNMabPWUCFiKamJjZt\n2sTixYt57733KCwspKWlhdzcXC688ELGjBlDREQEAKeddhpnnHEGQ4cODXLVxhgTOBZQQVZZWcna\ntWtZsmQJa9as4dNPP0VEOPXUU5k+fTqpqalEREQgIp5jmmJjY4NdtjHGBJwFVBCoKl988QXvvfce\nb7/9NqtXr2b37t1ER0czc+ZMpkyZQmJiIpGRkURERDB79mwmTpzoaUEZY8xgYAF1HLW0tLB582be\neecdVq9ezZo1azh06BDDhg3j3HPPZcKECURFRREZGdlhOnUbkWeMGYwsoI6Dmpoa1q9fz7Jly1i7\ndi0ffPABjY2NZGRkcNZZZ3HCCSfgcDgIDw8nJSWFefPmkZubayPyjDGDmgVUAJWWlnpaSqtXr2bz\n5s2oKieccAIzZswgMzOTsLAwwsLCyM3NZc6cOZ7JAo0xZrCzgOpjbW1tfPbZZ7z33nts2LCBVatW\nsXPnTiIiIigoKGDatGkMHz7cc4aHU045hVmzZjF8+PAgV26MMaHFAqqPNDQ0UFhYyOrVq9m4cSOr\nVq2irKyMhIQEzjzzTAoKCoiJifEMdJgyZQrTp08nLi4uyJUbY0xosoA6RgcPHmTNmjUUFhayfv16\n3n//ferr6xk5ciTf/OY3OeWUUwgPDycyMhKHw8GsWbOYNGkSkZGRwS7dGGNCmgXUUVBVtm/fzsqV\nK9myZQtr1qzhww8/pLW1lbFjxzJ9+nTPIIfIyEhiYmKYN28ep5xyik2nbowxfrKAOgJNTU0UFRV5\nTti6cuVKtm3bhsPhYPz48UyfPp2UlBQAIiIiGDFiBPPnz2fs2LE2Is8YY46QBZQfDh06xLp169i4\ncSNbtmxh1apV7N27l5iYGGbPns3kyZNJSEjwjMjLyspi3rx5ZGRkBLt0Y4zptyyguqGqfPnll6xa\ntYrt27ezYcMG1q1bR3V1NcOHD+e8887jtNNO8+xbEhFOPPFEZs+eTVJSUrDLN8aYfs8CqpPW1lY+\n/vhjVq1aRWlpKWvWrGHjxo00NTWRlZXFueeeS35+PmFhYYSHhyMiTJo0iRkzZpCQkBDs8o0xZsDw\nO6BEJFZVGwJZTDDV1tayfv16CgsL2bNnD++99x5btmxBVTnppJOYMWMG6enpgHP/ksPhYObMmRQU\nFNh06sYYEwC9BpSIzAD+AcQDWSJyGnCDqt4U6OKOh71793oGPRQXF7N69WpKSkqIjIxkypQpTJs2\nzTOtRWRkJFFRUcydO5fx48fbdOrGGBNA/nzD/gn4GrAYQFU/EpHZAa0qwNrb29m6dSsrV67kwIED\nbNy4kXXr1lFeXk5iYiJnnXUWkyZN8rSMIiIiGDp0qGc6dRuRZ4wxgedXE0BVd3f6Um4LTDnHxyOP\nPMLevXtZs2YNGzZsoKGhgVGjRnHxxRdz8sknewY9OBwOMjIymDt3LllZWRZMxhhzHPkTULtd3Xwq\nIhHA7cBngS0rcLZu3crChQv58MMPaWtrIz8/n+nTp5OTk+MJJREhPz+fOXPmeI5rMsYYc3z5E1A/\nAP4XSAf2AG8BNweyqEC65ZZbKCoqYsKECUybNo3k5GQAz/6kiRMnMnPmTIYMGRLMMo0xZtDrMaBE\nxAH8r6p+5zjVE3B/+ctfWLhwYYf9S2FhYZ7p1GNiYoJcoTHGGOgloFS1TUSyRSRSVZuPV1GBNG7c\nOOLi4ggLCyMqKorZs2czYcIEm07dGGNCjD9dfDuBNSKyGKh3L1TVPwasqgCbOHEiOTk5nHjiiTad\nujHGhCh/Aupz1yUMGBCnSjjvvPOCXYIxxphe9BpQqvqfACIS77pdF+iijDHGmF77t0TkFBH5ENgC\nbBGRjSJycuBLM8YYM5j5swNmAfBDVc1W1WzgR8DfA1uWMcaYwc6fgIpT1eXuG6q6AogLWEXGGGMM\n/gXUThH5hYjkuC4/xzmyr1cico6IbBORHSJyj4/7s0RkuYh8KCKbReTrR/oCjDHGDEz+BNR1QDLw\nEvAikORa1iPXQb5/Ac4FTgIuF5GTOq32c+A5VZ0IXAb81f/SjTHGDGT+jOI7BNx2FNueAuxQ1Z0A\nIrIIuBD41HvzQKLr+hBg71E8jzHGmAHIn1F8b4vIUK/bw0TkTT+2nQ7s9rpd6lrm7V7guyJSCrwO\n3NpNDdeLSKGIFJaVlfnx1MYYY/o7f7r4klS1yn3D1aLqq1N8Xw4sVNUM4OvAUyLSpSZVXaCqBapa\n4D65qzHGmIHNn4BqF5Es9w0RycbZNdebPUCm1+0M1zJv/w48B6Cq64BonPu4jDHGDHL+nOroP4DV\nIvIeIMAs4Ho/HrcByBOR0TiD6TLgik7r7ALOBBaKyIk4A8r68Iwxxvg1SOINETkdmIaz5XSHqpb7\n8bhWEbkFeBNwAI+p6hYRuQ8oVNXFuA76FZE7Xdu+RlX9aZ0ZY4wZ4LoNKFdXXpWqVqtquYjUA98E\nxonIw/5Mv6Gqr+Mc/OC97Jde1z8FZh519cYYYwasnvZBPYfrjBEiMgF4HmeX3GnY8UrGGGMCrKcu\nvhhVdR+X9F2cXXR/cI2yKwp8acYYYwaznlpQ4nV9PvAugKq2B7QiY4wxhp5bUMtE5DlgHzAMWAYg\nIqOAATH9uzHGmNDVU0DdAVwKjALOUNUW1/JUnEPPjTHGmIDpNqBcw70X+Vj+YUArMsYYY/DvTBLG\nGGPMcWcBZYwxJiT5czbzb/g6gasxxhgTSP4Ez6XAdhF5QEROCHRBxhhjDPgRUKr6XWAi8DnOk7qu\nc83PlBDw6owxxgxafnXdqWoN8ALOUX2jgIuATSLic4JBY4wx5lj5sw/qAhF5GVgBRABTVPVcnOfk\n+1FgyzPGGDNY+TMf1LeAP6nqSu+FqtogIv8emLKMMcYMdv4E1L04T3cEgIjEACNVtURV3w1UYcYY\nYwY3f/ZBPQ94nyC2zbXMGGOMCRh/Airce3JC1/XIwJVkjDHG+BdQZSJygfuGiFwI9DrluzHGGHMs\n/NkH9QPgaRF5GOccUbuBqwJalTHGmEGv14BS1c+BaSIS77pdF/CqjDHGDHr+tKAQkfOAk4FoEedE\nu6p6XwDrMsYYM8j5c6DuozjPx3crzi6+S4DsANdljDFmkPNnkMQMVb0KOKSq/wlMB/IDW5YxxpjB\nzp+AanT9bBCRNKAF5/n4jFlpXAQAACAASURBVDHGmIDxZx/UEhEZCvwO2AQo8PeAVmWMMWbQ6zGg\nXBMVvquqVcCLIvIqEK2q1celOmOMMYNWj118qtoO/MXrdpOFkzHGmOPBn31Q74rIt8Q9vtwYY4w5\nDvwJqBtwnhy2SURqRKRWRGoCXJcxxphBzp8zSdjU7sYYY467XgNKRGb7Wt55AkNjjDGmL/kzzPwu\nr+vRwBRgIzA/IBUZY4wx+NfF9w3v2yKSCTwYsIqMMcYY/Bsk0VkpcKI/K4rIOSKyTUR2iMg9Pu7/\nk4gUuS7FIlJ1FPUYY4wZgPzZB/UQzrNHgDPQJuA8o0Rvj3PgPIbqLJyhtkFEFqvqp+51VPVOr/Vv\nBSYeUfXGGGMGLH/2QRV6XW8F/qWqa/x43BRgh6ruBBCRRcCFwKfdrH858Cs/tmuMMWYQ8CegXgAa\nVbUNnC0jEYlV1YZeHpeOc/Zdt1Jgqq8VRSQbGA0s6+b+64HrAbKysvwo2RhjTH/n15kkgBiv2zHA\nO31cx2XAC+4Q7ExVF6hqgaoWJCcn9/FTG2OMCUX+BFS09zTvruuxfjxuD5DpdTvDtcyXy4B/+bFN\nY4wxg4Q/AVUvIqe7b4jIJOCwH4/bAOSJyGgRicQZQos7ryQiJwDDgHX+lWyMMWYw8Gcf1B3A8yKy\nF+eU76k4p4Dvkaq2isgtwJuAA3hMVbeIyH1Aoaq6w+oyYJGqanfbMsYYM/iIP7kgIhHAONfNbara\nEtCqelBQUKCFhYW9r2iMMSZgVBVVRUQ41skuRGSjqhZ0Xu7PcVA3A0+r6ieu28NE5HJV/esxVWSM\nMSZkqCrt7e20tbV5frovra2ttLa2em63t7fT3t4OQEJCAikpKQGpyZ8uvu+rqvekhYdE5PuABZQx\nxoQo78DpfHGHTWtrqyds3IHTuTXUXS9bW1sbjY2NREREBOw1+BNQDhER9z4i1xkiIgNWkTHGmC5U\ntUvQtLe3dwgb7+Xu7jdwho47aLwDR1VpbW3l8OHDNDY2HtGlpcW5p+eb3/xmwI5P9Seg3gCeFZG/\nuW7f4FpmjDHmKLlbLd21cNyB417PV+B4h05TU1OHAHGHjvfyzkHU1NREW5vPw08BcDgcREdHey6J\niYmkpKR0WJaWlhaw98ifgPoJzrM43Oi6/Tbw94BVZIwx/Yw7LHyFTefWjTt0gC6B09raesQtGfel\nJxEREZ5AiYmJISkpiaioqA5BExMT47keFRVFTEwM4eHhvQ6AiIuL65s30Qd/pttoBx51XRCRWcBD\nwM0Bq8oYY4LoaAcMuL/Mm5ubfbZY/O026453oERHRzN06NAuy3xdHA5HwN+zQPCnBYWITMR5Mtdv\nA18ALwWyKGOM6Uu9DRjo3J3mvriDpqcuMl8h5A4sX/zpNvN1iYqKOubh3J15DxH3tY8qLCwMESEs\nLMxzcTgcHX7GxMT43HZf6DagRCQfZyhdDpQDz+I8bmpewKoxxpgj5A4e78ECLS0tnuBxDwKoq6vz\n7I/xDhVf+2qOttvMHSS+us3cF3+6zXrT3ePd4eIOHu9gcV/Cw8N9Lu986eswPBo9taC2AquA81V1\nB4CI3NnD+sYY02e89+l4h413ANXX11NXV0d9fb3nuvu29/LW1lafzyEiXfbF9NZtFhMTQ1RU1FF3\nm/kTLp1bLt6tFvf1noIlFMKlL/QUUBfjPA3RchF5A1iE81RHxhhzTNzDo321elpaWqitraW2ttYT\nML7Cp6GhwecItMjISOLi4oiPj2fUqFGe63FxcV1aNEfSbea9nq9h2+5g8NUl5k+whEqrJZR0G1Cq\n+grwiojE4Zxo8A4gRUQeAV5W1beOU43GmH7CPRKtc6unpaWF5uZmampqqKmp6TZ43BdfB4dGR0cT\nFxdHXFwcmZmZnuveARQfH9/tgaM97W/prkvM32CxcAkMf0bx1QPPAM+IyDDgEpxDzy2gjBkk3IMM\nfLV6mpqaqK6uprq6ukvQeIdPQ4PvOU5jYmI8AZOUlOS53jl8wsO7fl35OuuBiHRotURERBAeHt5t\n2AykLrGBxq9RfG6qeghY4LoYYwaAzmcjcF8aGhq6BI+v/T2+BhOICLGxscTFxZGQkEBqamqHsPG+\ndN6X013oeLdowsPDiYiI6HDbfd3CZuA4ooAyxvQf7kEGnVs9dXV1VFVVeYKncxeb+3pTU1OXbYaF\nhREbG0t8fDxDhgwhPT29S0snLi6O2NhYwsI6TjfnHRzurrXuQsc7cNytHjP4WEAZ0894d7d5d7W5\ng6eqqora2lqfoVNXV+fzYFCHw+EJlxEjRpCVldUhcLwHGXQeLNB5wID3/pveQsdaO6YnFlDGhBhV\n9QwqaGlpobq62tPiqamp8Tm6rbuh1OHh4Z5wSU5OZvTo0V1aO/Hx8R1Gs/kKHe8utvDw8A4X7xaQ\nhY7pSxZQxgSZ+0SfNTU17Nixg88//5zS0lKqqqqor6/3eVaCyMhIT8h0HkrtHT6RkZE+g8cdPu6W\nTE+hY/t1TLBYQBlznLW1tXUIpJ07d1JaWsq+fftoa2tDREhOTvYMpfbV1eYeSu0rdDrv1+kudGy/\njgl1FlDGBFhLSwuNjY3U1NTw+eefU1JS0iWQUlJSmDBhApmZmaSnpxMdHd3hmB3vodO9hY61dsxA\nYQFlTB9SVc8JRqurq9m5cye7du3yGUgTJ070BJL3PqCoqChiY2M90x1YF5sZrCygjDkG7e3tnjNa\nV1dXU1JSwu7du9m9ezf79u2jvb0dEWHkyJE+A0lViYiI8AzN9m45GTPYWUAZcwTcE8odPnyYmpoa\nvvzyS0pLS9m1axf79+/vEEiTJk0iIyOjSwvJfSxRXFxcv56rx5hAs4Ayphvu4d6NjY00NDRQU1PD\n7t272bNnT7eBlJmZSVpaWpdh2zExMZ7jiHydsscY05X9pRjj4h7uffjwYRoaGqitrWXv3r2eLjvv\nQEpNTfUEUnp6OpGRkQAd9iO5u+0iIiKs286Yo2ABZQattrY2T3ede0K7ffv2sWvXLnbv3s2BAwc6\nBFJBQYGnheQOpLCwMNrb2z1TPMTGxgZk5lNjBiMLKDMouKeBcHfXuUPJu4XkDqSwsDBGjhzpM5Dc\nAxvCw8OJjY31jLazY4qM6XsWUGZAcnfXuQOpqamJpqYm9uzZ06HLzn3uuJ4Cyf3T9iMZc3zZX5kZ\nENrb2zt01zU1NdHS0kJpaSm7d++mtLS0QyClpqYyZcoUzyg770nu3KHkniAvJibG9iMZEwQWUKZf\n6txd19raSnNzc4cW0oEDB7oEkruF1DmQVNX2IxkTYiygTMjzPjtDQ0MDjY2Nni487xaSdyCNGjWK\nqVOnkpGR0W0ghYeHdzhA1vYjGRNaLKBMyPE+O4O7uw44pkBy/3QfIBsTE2MHyBoT4iygTNC5h3u7\nu+taWloQERobGzt02R08eBBVxeFwkJqaytSpU8nMzGTUqFEdAgm67keKjY0lPDzcuu2M6UcsoMxx\n1fnsDI2NjZ4TqB4+fNgTSKWlpR0Cyd1C6imQVLXDAbLecyEZY/qfgAaUiJwD/C/gAP6hqr/1sc63\ngXsBBT5S1SsCWZM5vjqfncHdXQf0GkjTpk0jIyOjx0CKiIjwHI9k+5GMGVgCFlAi4gD+ApwFlAIb\nRGSxqn7qtU4e8FNgpqoeEpGUQNVjjo/OZ2dobm72hEljYyOlpaWe/UgHDx4E6BBImZmZpKamdttl\nFxYW1uF4JNuPZMzAFcgW1BRgh6ruBBCRRcCFwKde63wf+IuqHgJQ1YMBrMcEQHt7O4cPH6a+vt4z\n3NufQEpLS2P69OmeLjtfB766Q8k7kDoHlzFm4ApkQKUDu71ulwJTO62TDyAia3B2A96rqm903pCI\nXA9cD5CVlRWQYo3/WltbPSdTbWxs9ASSd5fd7t27KSsrA74KpBkzZnhaSN0Fku1HMsa4BXuQRDiQ\nB8wFMoCVInKqqlZ5r6SqC4AFAAUFBXq8ixzs3Mch1dfXU1dX5xll197ezoEDB9i2bRtffvmlJ5DC\nw8OPKJDc+5Hc8yNZIBljILABtQfI9Lqd4VrmrRRYr6otwBciUowzsDYEsC7jB3eLqK6ujvr6elTV\nc3GHUnFxMTU1NYSFhZGenu5XIMFXE/a5T7Rq+5GMMb4EMqA2AHkiMhpnMF0GdB6h9wpwOfC4iCTh\n7PLbGcCaTA/a2tpoaGigrq6Ow4cPA3hC6eDBg55Qqq6uJiwsjOzsbKZPn87YsWOJjo72uU3bj2SM\nOVoBCyhVbRWRW4A3ce5fekxVt4jIfUChqi523Xe2iHwKtAF3qWpFoGoyXbW0tFBXV0ddXV2HEXfd\nhVJWVhbTpk1jzJgxxMTEdNme94R97laS7UcyxhwNUe1fu3QKCgq0sLAw2GX0W+7Rde79Se3t7Z7l\n7lAqLi6muLiYqqoqRITs7Gzy8/MZO3Zst6HU+bx2FkjGGH+JyEZVLei8PNiDJMxx0N7e7um6a2ho\nAJyB5P5ZVlbmaSm5QykrK4spU6b0GEoiQmJiIgkJCZ75k4wxpq9YQA1Qra2tnlaS91Bw+CqU3C2l\nQ4cOeUJp8uTJjB07ltjY2C7bdLeK4uLiSExMtJaSMSagLKAGCO+h4LW1tbS1tXmWg7MVVV5e7mkp\nuUMpMzOTgoKCXkMpKiqKIUOGEBsba6cTGqTcE0A2NjYGuxTTT0VHR5ORkeH3QCkLqH7M+ywO3kPB\n3VSV8vJyiouL2bZtW4dQmjRpEnl5eT5DCZzB5HA4GDJkCPHx8TbFuaG0tJSEhARycnKs5WyOmKpS\nUVFBaWkpo0eP9usx9q3Tz7S1tXXougPoPNDFu6VUWVl5RKEkIiQkJJCQkEBUVFTAX4/pPxobGy2c\nzFETEUaMGOE5oN8fFlAhzj09hTuUvIeCe/NuKblDKSMjg4kTJ5KXl0dcXJzP7bu/bGJjY0lMTCQm\nJsa+gEy37HfDHIsj/f2xgApB7qHg7rM4tLe3d+m6A6ioqPC0lCoqnIePZWZm+h1KkZGRDBkyhLi4\nONuvZIwJORZQIaKtrY3Dhw9TW1vb4SwOnVVUVHhaSu5QysjIYP78+eTn53cbSvDVfiX30HDbr2T6\nk4qKCs4880wA9u/fj8PhIDk5GYAPPvigx0MdCgsLefLJJ/nzn//c43PMmDGDtWvX9l3R5pjYN1QQ\neXfdNTU1+ey6g69Cqbi4mPLycuCrUMrLyyM+Pr7b53C3lhISEkhMTLSzOph+a8SIERQVFQFw7733\nEh8fz49//GPP/a2trd3+01VQUEBBQZfjQLsI1XDq6bUNZIPvFQeRe3ZZd9dd56Hg3uFUWVnpaSm5\nQyk9PZ158+aRn5/fayipqme/UmxsrIWS6VN33HGHJyz6yoQJE3jwwQeP6DHXXHMN0dHRfPjhh8yc\nOZPLLruM22+/ncbGRmJiYnj88ccZN24cK1as4Pe//z2vvvoq9957L7t27WLnzp3s2rWLO+64g9tu\nuw2A+Ph46urqWLFiBffeey9JSUl88sknTJo0iX/+85+ICK+//jo//OEPiYuLY+bMmezcuZNXX321\nQ11btmzh2muvpbm5mfb2dl588UXy8vJ48skn+f3vf4+IMH78eJ566ilKSkq47rrrKC8vJzk5mccf\nf5ysrKwur+3mm2/m5ptvpqysjNjYWP7+979zwgkn9Nn7H4osoALMPRTcfRaHzkPBvblDqbi42DPS\nJS0tjXnz5pGXl0dCQkKPzyUiREREePYr2VnCzWBQWlrK2rVrcTgc1NTUsGrVKsLDw3nnnXf42c9+\nxosvvtjlMVu3bmX58uXU1tYybtw4brzxxi7H5nz44Yds2bKFtLQ0Zs6cyZo1aygoKOCGG25g5cqV\njB49mssvv9xnTY8++ii333473/nOd2hubqatrY0tW7Zw//33s3btWpKSkqisrATg1ltv5eqrr+bq\nq6/mscce47bbbuOVV17p8trOPPNMHn30UfLy8li/fj033XQTy5Yt6+N3M7RYQAVAdxP6+XLo0CFP\nS+loQyksLMyzX8nOFG6OhyNt6QTSJZdc4vlnrLq6mquvvprt27cjIrS0tPh8zHnnnUdUVBRRUVGk\npKRw4MABMjIyOqwzZcoUz7IJEyZQUlJCfHw8ubm5nuN4Lr/8chYsWNBl+9OnT+fXv/41paWlXHzx\nxeTl5bFs2TIuueQSkpKSABg+fDgA69at46WXXgLgyiuv5O677+7y2urq6li7di2XXHKJ576mpqaj\ner/6EwuoPtDdhH6+uu7gq1AqLi72TIM+atQo5s6dS15eHomJiT0+n7u7Lj4+nsTERKKioqwLzwxa\n3gODfvGLXzBv3jxefvllSkpKmDt3rs/HeB/j53A4aG1tPap1unPFFVcwdepUXnvtNb7+9a/zt7/9\nze/HenO/tvb2doYOHdrn3aqhzgLqKHU3oZ/3/d6qqqo8Q8KPNpRUlZiYGBITE4mLi7NQMqaT6upq\n0tPTAVi4cGGfb3/cuHHs3LmTkpIScnJyePbZZ32ut3PnTnJzc7ntttvYtWsXmzdv5qyzzuKiiy7i\nhz/8ISNGjKCyspLhw4czY8YMFi1axJVXXsnTTz/NrFmzumwvMTGR0aNH8/zzz3PJJZegqmzevJnT\nTjutz19jKLGAOgLdTejXnaqqKk9L6cCBA4AzlObMmUN+fn6voQRfTWXh7sKz/UrGdO/uu+/m6quv\n5v777+e8887r8+3HxMTw17/+lXPOOYe4uDgmT57sc73nnnuOp556ioiICFJTU/nZz37G8OHD+Y//\n+A/mzJmDw+Fg4sSJLFy4kIceeohrr72W3/3ud55BEr48/fTT3Hjjjdx///20tLRw2WWXDfiAsvmg\neuHdddfdWRy8VVdXe1pK7lBKTU1l3LhxRxRKNpWFCTWfffYZJ554YrDLCLq6ujri4+NRVW6++Wby\n8vK48847g11Wv+Hr98jmg/JTTxP6ef/0Vl1d7Wkp7d+/H3CG0uzZs8nPz2fIkCG9Pq9NZWFM//D3\nv/+dJ554gubmZiZOnMgNN9wQ7JIGLAsoep7Qrzs1NTWelpI7lEaOHHlUoWRTWRjTf9x5553WYjpO\nBm1AuSf0q62t7fEsDt5qamo8LaV9+/YBzlCaNWsW+fn5DB061K/ntqksjDGmd4Pym3HPnj2eYwh6\n6roDZyht376dbdu2eUIpJSXlqELJprIwxhj/DcqAampq6rG1VFtb6zl41juUzjjjDPLz8xk2bJhf\nz2NTWRhjzNEblAHlS21traeltHfvXgCSk5OPOpRsKgtjjDk2gzqg+iqUwKayMOZ42L9/P3fccQcb\nNmxg6NChjBw5kgcffJD8/Pxgl9bBwoULKSws5OGHH+bRRx8lNjaWq666qsM6JSUlnH/++XzyySfd\nbqekpIS1a9dyxRVXAP5PGzJQDLpv0aqqKjZt2sS2bdvYs2cP4AylmTNnkp+f7zk/lj9sKgtjjh9V\n5aKLLuLqq69m0aJFAHz00UccOHCgQ0CF2tQUP/jBD476sSUlJTzzzDOegPJ32pDjLVDveeh8isfJ\nwoULKS4uJikp6ahDyaayMIPd888/T2lpaZ9uMyMjo8PJUDtbvnw5ERERHb7w3WdSWLFiBb/4xS8Y\nNmwYW7duZfPmzdx4440UFhYSHh7OH//4R+bNm+dzGoy0tDS+/e1vU1paSltbG7/4xS+49NJLPc/R\n3t5Obm4uRUVFnkFReXl5rF69mg8++ID777+f5uZmRowYwdNPP83IkSM71O09d9XGjRu57rrrADj7\n7LM965SUlHDllVdSX18PwMMPP8yMGTO45557+Oyzz5gwYQJXX301EydO9EwbUllZyXXXXcfOnTuJ\njY1lwYIFjB8/vsfpRNza2tr493//dwoLCxERrrvuOu6880527NjBD37wA8rKynA4HDz//PPk5uZy\n9913s3TpUkSEn//851x66aVd3vPPPvuMe+65hxUrVtDU1MTNN998zMeIDbqAuuiiizh48OARhRLY\nVBbGBJt7XqbubNq0iU8++YTRo0fzhz/8ARHh448/ZuvWrZx99tkUFxf7nAbj9ddfJy0tjddeew1w\nHnjvLSwsjAsvvJCXX36Za6+9lvXr15Odnc3IkSM544wzeP/99xER/vGPf/DAAw/whz/8odsar732\nWh5++GFmz57NXXfd5VmekpLC22+/TXR0NNu3b+fyyy+nsLCQ3/72t55AAmcQu/3qV79i4sSJvPLK\nKyxbtoyrrrrKczLZ3qYTKSoqYs+ePZ7uxaqqKgC+853vcM8993DRRRfR2NhIe3s7L730EkVFRXz0\n0UeUl5czefJkZs+e3eU9X7BgAUOGDGHDhg00NTUxc+ZMzj77bM+Z34/GoAuo7Oxs2traej3mCWwq\nC2O601NLJ1imTJni+TJcvXo1t956KwAnnHAC2dnZFBcX+5wG49RTT+VHP/oRP/nJTzj//PN9nqz1\n0ksv5b777uPaa69l0aJFnhZWaWkpl156Kfv27aO5ubnHL+Oqqiqqqqo8X+5XXnklS5cuBZyza99y\nyy0UFRXhcDgoLi7u9fWuXr3aM9fV/PnzqaiooKamBuh9OpHc3Fx27tzJrbfeynnnncfZZ59NbW0t\ne/bs4aKLLgIgOjra8zyXX345DoeDkSNHMmfOHDZs2EBiYmKH9/ytt95i8+bNvPDCC4Az6Ldv335M\nAWXDyzrxPl4pLS2N7Oxshg8fbuFkTJCdfPLJbNy4sdv7vafd6M4VV1zB4sWLiYmJ4etf/zrLli0j\nPz+fTZs2ceqpp/Lzn/+c++67j/Xr1zNhwgQmTJjA4sWLmT59Ojt27KCsrIxXXnmFiy++GHBONnjL\nLbfw8ccf87e//Y3Gxsajem1/+tOfGDlyJB999BGFhYU0Nzcf1XbcepsqZNiwYXz00UfMnTuXRx99\nlO9973tH9Tze77mq8tBDD1FUVERRURFffPFFh27Mo2EBxVeDHWJiYkhJSWH06NGkpKTY+fCMCSHz\n58+nqampwwSBmzdvZtWqVV3WnTVrFk8//TQAxcXF7Nq1yzNVhnsajAsvvJDNmzezd+9eYmNj+e53\nv8tdd93Fpk2bmDp1queL9oILLkBEPFNlnHjiiYwYMQLoOL3HE0880WP9Q4cOZejQoaxevRrAU597\nO6NGjSIsLIynnnqKtrY2wDkAq7a21uf2vF/jihUrSEpK8utk1ADl5eW0t7fzrW99i/vvv59NmzaR\nkJBARkaGZzbfpqYmGhoamDVrFs8++yxtbW2UlZWxcuVKpkyZ0mWbX/va13jkkUc8k0QWFxd79qkd\nrUHXxefNprIwpv8QEV5++WXuuOMO/ud//ofo6GhycnJ48MEHPSNy3W666SZuvPFGTj31VMLDw1m4\ncCFRUVE+p8HYsGEDd911F2FhYURERPDII4/4fP5LL72UyZMnd5hn6t577+WSSy5h2LBhzJ8/ny++\n+KLH1/D4449z3XXXISIdWhc33XQT3/rWt3jyySc9U3kAjB8/HofDwWmnncY111zDxIkTOzz3dddd\nx/jx44mNje01IL3t2bOHa6+91nMy7N/85jcAPPXUU9xwww388pe/JCIigueff56LLrqIdevWcdpp\npyEiPPDAA6SmprJ169YO2/ze975HSUkJp59+OqpKcnKyJ+yO1qCcbmPfvn1ERkbaVBbGHAGbbsP0\nBZtuoxejRo0KdgnGGGN6YfugjDHGhKSABpSInCMi20Rkh4jc4+P+a0SkTESKXJejG0pijDku+tsu\nARNajvT3J2BdfCLiAP4CnAWUAhtEZLGqftpp1WdV9ZZA1WGM6RvR0dFUVFQwYsQIG91qjpiqUlFR\n4Tm+yh+B3Ac1BdihqjsBRGQRcCHQOaCMMf1ARkYGpaWllJWVBbsU009FR0d3OGC4N4EMqHRgt9ft\nUmCqj/W+JSKzgWLgTlXd3XkFEbkeuB4gKysrAKUaY3oTERFxTGcFMOZIBXuQxBIgR1XHA28DPgfy\nq+oCVS1Q1YLk5OTjWqAxxpjgCGRA7QEyvW5nuJZ5qGqFqja5bv4D6P5MkMYYYwaVQAbUBiBPREaL\nSCRwGbDYewUR8T4g6QLgswDWY4wxph8J2D4oVW0VkVuANwEH8JiqbhGR+4BCVV0M3CYiFwCtQCVw\nTW/b3bhxY7mIfHmM5SUB5ce4jeOhv9QJ/afW/lIn9J9a+0ud0H9q7S91Qt/Umu1rYb871VFfEJFC\nX6fVCDX9pU7oP7X2lzqh/9TaX+qE/lNrf6kTAltrsAdJGGOMMT5ZQBljjAlJgzWgFvS+SkjoL3VC\n/6m1v9QJ/afW/lIn9J9a+0udEMBaB+U+KGOMMaFvsLagjDHGhDgLKGOMMSFpUAWUiDwmIgdF5JNg\n19ITEckUkeUi8qmIbBGR24NdU3dEJFpEPhCRj1y1/mewa+qJiDhE5EMReTXYtXRHREpE5GPXFDTH\nNn10gInIUBF5QUS2ishnIjI92DV1JiLjvKb0KRKRGhG5I9h1dUdE7nT9LX0iIv8SEf9P/30cicjt\nrhq3BOr9HFT7oFwnpa0DnlTVU4JdT3dcZ9gYpaqbRCQB2Ah808dUJUEnznkX4lS1TkQigNXA7ar6\nfpBL80lEfggUAImqen6w6/FFREqAAlUN+QM1ReQJYJWq/sN1xphYVa0Kdl3dcU0DtAeYqqrHesB/\nnxORdJx/Qyep6mEReQ54XVUXBreyjkTkFGARzlkrmoE3gB+o6o6+fJ5B1YJS1ZU4z1gR0lR1n6pu\ncl2vxXkKqPTgVuWbOtW5bka4LiH5X4+IZADn4TzvozlGIjIEmA38H4CqNodyOLmcCXweiuHkJRyI\nEZFwIBbYG+R6fDkRWK+qDaraCrwHXNzXTzKoAqo/EpEcYCKwPriVdM/VbVYEHATeVtVQrfVB4G6g\nPdiF9EKBt0Rko2uqmVA1GigDHnd1m/5DROKCXVQvLgP+FewiuqOqe4DfA7uAfUC1qr4V3Kp8+gSY\nJSIjRCQW+DodTw7eZag7+AAABZVJREFUJyygQpiIxAMvAneoak2w6+mOqrap6gScZ6yf4mr+hxQR\nOR84qKobg12LH85Q1dOBc4GbXV3ToSgcOB14RFUnAvXAPcEtqXuuLsgLgOeDXUt3RGQYzoldRwNp\nQJyIfDe4VXWlqp8B/wO8hbN7rwho6+vnsYAKUa79OS8CT6vqS8Guxx+u7p3lwDnBrsWHmcAFrv07\ni4D5IvLP4Jbkm+u/aFT1IPAyzn7+UFQKlHq1mF/AGVih6lxgk6oeCHYhPfh/wBeqWqaqLcBLwIwg\n1+STqv6fqk5S1dnAIZyTzvYpC6gQ5Bp48H/AZ6r6x2DX0xMRSRaRoa7rMcBZwNbgVtWVqv5UVTNU\nNQdnN88yVQ25/0xFJM41MAZXd9nZOLtTQo6q7gd2i8g416IzgZAbyOPlckK4e89lFzBNRGJd3wNn\nEqLTEIlIiutnFs79T8/09XMEcsr3kCMi/wLmAkkiUgr8SlX/L7hV+TQTuBL42LVvB+Bnqvp6EGvq\nzijgCdfoqDDgOVUN2SHc/cBI4GXndxPhwDOq+kZwS+rRrcDTru6zncC1Qa7HJ1fYnwXcEOxaeqKq\n60XkBWATzmmIPiR0T3v0ooiMAFqAmwMxQGZQDTM3xhjTf1gXnzHGmJBkAWWMMSYkWUAZY4wJSRZQ\nxhhjQpIFlDHGmJBkAWUGJRFREfmD1+0fi8i9fbTthSLyb32xLdf2hojIkyKyQ0Q+d10f4nX/7/5/\ne/cTYmUVxnH8+xvoH4VCuC8bGyJhHDJFcaMhbaKoMCQ0KIbSIAOFFsGszIWgQhBBYiK1iWxlq1y0\niAjFUZsSBkocw4UuoqASHEPncfGcV48Xm7nMOPTC/X02c+973z/nXph5OOed+3tKovSeatsbVXr3\nv1U6+u67NS6z+eYCZb3qKvCypEX/90BqJSC000FgIiKWREQ/cJ7bA2/fAgYj4r1mQ0QcioihEkF1\nEVhXnt+MIirfXTNrLRco61XXyC9Abu98oXMGJOly+blW0neSjkiakLRb0qbSD+uMpP7qNOslnZT0\na8kBbEJ190galfSzpC3Veb+X9DUdSQySlgDLgQ+qzTuBpyX1l2MeAk5J2jjTm5Z0WdI+ST8BqyVt\nLuMfk7S/KVqSnpV0TNJpSV+VXEjKex4v498746dsNgcuUNbLPgY21ctlXVgGbCXbDbwGDETESnJG\ns63a71EyQ+854BNl07lhMp16BbACeFPS4rL/U2QfrYGO6z0JjEXEzSDO8ngMWBoRLwBXyuzoyy7G\n/yDZJmEZ8AewEVhTZlrXyc9jETACrC+htSeBHSU14KVy3UFgVxfXM5u1noo6MqtFxN+SPgfeBa50\nedhoRFwCkHSOTHMGOAOsq/Y7HBFTwFlJE8ATZK7eYDU7Wwg8TjZ8OxER5+f0hrpznQwhhsx5Ww6M\nlmilB8iWKavIwvhD2X4vcAz4C5gEDio7EjvSyuaVC5T1ug/J3LND1bZrlNUFSX3kH+jG1erxVPV8\nitt/nzozxAIQsC0ijtYvSFpLtqq4k3FgSFJfKXjNmIaYXTDrZDUbE/BZRLzfMZ7nyb5er3YeLGkl\nWdg2AO8Az8xiDGZd8RKf9bSI+BM4TC6/NX4jZxaQ/YPumcWpX5HUV+5LPQb8AhwF3i6tVJA0oBka\n/JUW2j+SS26NEbJtxFzba38LbKhSqR+W9AhwHFhT7n81CesD5T7UwhJavJ1c7jSbN55BmcE+cjbQ\nOAAcKf9I8A3/PbuZzgXgBLAA2BoRk5I+Je9NnS6tFH4HXuziXMPAR2VJEXK5bXia/bsSEeOSRsju\nvX3cSqU+Lul14AtJ95XdR4B/yM/lfnL2tWOuYzCbjtPMzcyslbzEZ2ZmreQCZWZmreQCZWZmreQC\nZWZmreQCZWZmreQCZWZmreQCZWZmrXQDMIi6BZ/Q7EcAAAAASUVORK5CYII=\n",
=======
      "image/png": "iVBORw0KGgoAAAANSUhEUgAAAagAAAEYCAYAAAAJeGK1AAAABHNCSVQICAgIfAhkiAAAAAlwSFlz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\ni6T/B1ravmV65XzFAAAAAElFTkSuQmCC\n",
>>>>>>> Stashed changes
      "text/plain": [
       "<Figure size 432x288 with 1 Axes>"
      ]
     },
     "metadata": {
      "tags": []
     },
     "output_type": "display_data"
    }
   ],
   "source": [
    "# Calculate mean and standard deviation for training set scores\n",
    "train_mean = np.mean(train_scores, axis=1)\n",
    "train_std = np.std(train_scores, axis=1)\n",
    "\n",
    "# Calculate mean and standard deviation for test set scores\n",
    "test_mean = np.mean(test_scores, axis=1)\n",
    "test_std = np.std(test_scores, axis=1)\n",
    "\n",
    "# Plot mean accuracy scores for training and test sets\n",
    "plt.plot(param_range, train_mean, label=\"Training score\", color=\"black\")\n",
    "plt.plot(param_range, test_mean, label=\"Cross-validation score\", color=\"dimgrey\")\n",
    "\n",
    "# Plot accurancy bands for training and test sets\n",
    "plt.fill_between(param_range, train_mean - train_std, train_mean + train_std, color=\"gray\")\n",
    "plt.fill_between(param_range, test_mean - test_std, test_mean + test_std, color=\"gainsboro\")\n",
    "\n",
    "# Create plot\n",
    "plt.title(\"Validation Curve With Random Forest\")\n",
    "plt.xlabel(\"Number Of Trees\")\n",
    "plt.ylabel(\"Accuracy Score\")\n",
    "plt.tight_layout()\n",
    "plt.legend(loc=\"best\")\n",
    "plt.show()"
   ]
  },
  {
   "cell_type": "code",
   "execution_count": 0,
   "metadata": {
    "colab": {},
    "colab_type": "code",
    "id": "ItlQwCc8JlnA"
   },
   "outputs": [],
   "source": [
    "result.cv_results_"
   ]
  },
  {
   "cell_type": "code",
   "execution_count": 0,
   "metadata": {
    "colab": {},
    "colab_type": "code",
    "id": "u1FK1DyrArOC"
   },
   "outputs": [],
   "source": [
    "# print results from grid search \n",
    "result.best_params_\n",
    "# result.cv_results_"
   ]
  },
  {
   "cell_type": "code",
   "execution_count": 0,
   "metadata": {
    "colab": {},
    "colab_type": "code",
    "id": "izmrM_gIAt2x"
   },
   "outputs": [],
   "source": [
    "rand_forest = RandomForestClassifier(result.best_params_)\n",
    "#result_model = dec_tree.fit(X_train_sample, Y_train_sample)\n",
    "cross_val_score(rand_forest, X_train_sample, Y_train_sample, cv = 5, score = \"f1_weighted\")\n",
    "#dec_tree"
   ]
  },
  {
   "cell_type": "markdown",
   "metadata": {
    "colab_type": "text",
    "id": "56Chp5LqmSCi"
   },
   "source": [
    "### 3. Boosting - Niels"
   ]
  },
  {
   "cell_type": "code",
<<<<<<< Updated upstream
   "execution_count": 75,
   "metadata": {
    "colab": {
     "base_uri": "https://localhost:8080/",
     "height": 390
    },
    "colab_type": "code",
    "id": "3LLn2tb0TRAK",
    "outputId": "e466dfdd-4a9c-4ae7-f1c8-93b0ce8b5998"
=======
   "execution_count": 24,
   "metadata": {
    "colab": {
     "base_uri": "https://localhost:8080/",
     "height": 1000
    },
    "colab_type": "code",
    "id": "3LLn2tb0TRAK",
    "outputId": "b3cc6a3a-755b-45d5-d859-c4eb99e7ef92"
>>>>>>> Stashed changes
   },
   "outputs": [
    {
     "name": "stdout",
     "output_type": "stream",
     "text": [
<<<<<<< Updated upstream
      "Fitting 5 folds for each of 1 candidates, totalling 5 fits\n",
      "[CV] learning_rate=1.0, max_depth=2, n_estimators=3 ..................\n"
=======
      "Fitting 5 folds for each of 6 candidates, totalling 30 fits\n",
      "[CV] eta=0.01, max_depth=3, num_class=5, objective=multi:softmax .....\n"
>>>>>>> Stashed changes
     ]
    },
    {
     "name": "stderr",
     "output_type": "stream",
     "text": [
      "[Parallel(n_jobs=1)]: Using backend SequentialBackend with 1 concurrent workers.\n",
      "/usr/local/lib/python3.6/dist-packages/sklearn/preprocessing/_label.py:235: DataConversionWarning: A column-vector y was passed when a 1d array was expected. Please change the shape of y to (n_samples, ), for example using ravel().\n",
      "  y = column_or_1d(y, warn=True)\n",
      "/usr/local/lib/python3.6/dist-packages/sklearn/preprocessing/_label.py:268: DataConversionWarning: A column-vector y was passed when a 1d array was expected. Please change the shape of y to (n_samples, ), for example using ravel().\n",
      "  y = column_or_1d(y, warn=True)\n"
     ]
    },
    {
     "name": "stdout",
     "output_type": "stream",
     "text": [
<<<<<<< Updated upstream
      "[CV]  learning_rate=1.0, max_depth=2, n_estimators=3, score=0.486, total=   5.2s\n",
      "[CV] learning_rate=1.0, max_depth=2, n_estimators=3 ..................\n"
=======
      "[CV]  eta=0.01, max_depth=3, num_class=5, objective=multi:softmax, score=0.646, total= 3.6min\n",
      "[CV] eta=0.01, max_depth=3, num_class=5, objective=multi:softmax .....\n"
>>>>>>> Stashed changes
     ]
    },
    {
     "name": "stderr",
     "output_type": "stream",
     "text": [
<<<<<<< Updated upstream
      "[Parallel(n_jobs=1)]: Done   1 out of   1 | elapsed:    5.2s remaining:    0.0s\n"
=======
      "[Parallel(n_jobs=1)]: Done   1 out of   1 | elapsed:  3.6min remaining:    0.0s\n"
>>>>>>> Stashed changes
     ]
    },
    {
     "name": "stdout",
     "output_type": "stream",
     "text": [
<<<<<<< Updated upstream
      "[CV]  learning_rate=1.0, max_depth=2, n_estimators=3, score=0.503, total=   4.6s\n",
      "[CV] learning_rate=1.0, max_depth=2, n_estimators=3 ..................\n"
=======
      "[CV]  eta=0.01, max_depth=3, num_class=5, objective=multi:softmax, score=0.647, total= 3.6min\n",
      "[CV] eta=0.01, max_depth=3, num_class=5, objective=multi:softmax .....\n"
>>>>>>> Stashed changes
     ]
    },
    {
     "name": "stderr",
     "output_type": "stream",
     "text": [
<<<<<<< Updated upstream
      "[Parallel(n_jobs=1)]: Done   2 out of   2 | elapsed:    9.8s remaining:    0.0s\n"
=======
      "[Parallel(n_jobs=1)]: Done   2 out of   2 | elapsed:  7.2min remaining:    0.0s\n"
>>>>>>> Stashed changes
     ]
    },
    {
     "name": "stdout",
     "output_type": "stream",
     "text": [
<<<<<<< Updated upstream
      "[CV]  learning_rate=1.0, max_depth=2, n_estimators=3, score=0.487, total=   4.6s\n",
      "[CV] learning_rate=1.0, max_depth=2, n_estimators=3 ..................\n"
=======
      "[CV]  eta=0.01, max_depth=3, num_class=5, objective=multi:softmax, score=0.655, total= 3.7min\n",
      "[CV] eta=0.01, max_depth=3, num_class=5, objective=multi:softmax .....\n"
>>>>>>> Stashed changes
     ]
    },
    {
     "name": "stderr",
     "output_type": "stream",
     "text": [
<<<<<<< Updated upstream
      "[Parallel(n_jobs=1)]: Done   3 out of   3 | elapsed:   14.4s remaining:    0.0s\n"
=======
      "[Parallel(n_jobs=1)]: Done   3 out of   3 | elapsed: 10.9min remaining:    0.0s\n"
>>>>>>> Stashed changes
     ]
    },
    {
     "name": "stdout",
     "output_type": "stream",
     "text": [
<<<<<<< Updated upstream
      "[CV]  learning_rate=1.0, max_depth=2, n_estimators=3, score=0.472, total=   4.6s\n",
      "[CV] learning_rate=1.0, max_depth=2, n_estimators=3 ..................\n"
=======
      "[CV]  eta=0.01, max_depth=3, num_class=5, objective=multi:softmax, score=0.637, total= 3.7min\n",
      "[CV] eta=0.01, max_depth=3, num_class=5, objective=multi:softmax .....\n"
>>>>>>> Stashed changes
     ]
    },
    {
     "name": "stderr",
     "output_type": "stream",
     "text": [
<<<<<<< Updated upstream
      "[Parallel(n_jobs=1)]: Done   4 out of   4 | elapsed:   19.0s remaining:    0.0s\n"
=======
      "[Parallel(n_jobs=1)]: Done   4 out of   4 | elapsed: 14.6min remaining:    0.0s\n"
>>>>>>> Stashed changes
     ]
    },
    {
     "name": "stdout",
     "output_type": "stream",
     "text": [
<<<<<<< Updated upstream
      "[CV]  learning_rate=1.0, max_depth=2, n_estimators=3, score=0.480, total=   4.5s\n"
=======
      "[CV]  eta=0.01, max_depth=3, num_class=5, objective=multi:softmax, score=0.642, total= 3.7min\n",
      "[CV] eta=0.01, max_depth=3, num_class=10, objective=multi:softmax ....\n",
      "[CV]  eta=0.01, max_depth=3, num_class=10, objective=multi:softmax, score=0.646, total= 3.7min\n",
      "[CV] eta=0.01, max_depth=3, num_class=10, objective=multi:softmax ....\n",
      "[CV]  eta=0.01, max_depth=3, num_class=10, objective=multi:softmax, score=0.647, total= 3.6min\n",
      "[CV] eta=0.01, max_depth=3, num_class=10, objective=multi:softmax ....\n",
      "[CV]  eta=0.01, max_depth=3, num_class=10, objective=multi:softmax, score=0.655, total= 3.5min\n",
      "[CV] eta=0.01, max_depth=3, num_class=10, objective=multi:softmax ....\n",
      "[CV]  eta=0.01, max_depth=3, num_class=10, objective=multi:softmax, score=0.637, total= 3.5min\n",
      "[CV] eta=0.01, max_depth=3, num_class=10, objective=multi:softmax ....\n",
      "[CV]  eta=0.01, max_depth=3, num_class=10, objective=multi:softmax, score=0.642, total= 3.4min\n",
      "[CV] eta=0.01, max_depth=3, num_class=15, objective=multi:softmax ....\n",
      "[CV]  eta=0.01, max_depth=3, num_class=15, objective=multi:softmax, score=0.646, total= 3.4min\n",
      "[CV] eta=0.01, max_depth=3, num_class=15, objective=multi:softmax ....\n",
      "[CV]  eta=0.01, max_depth=3, num_class=15, objective=multi:softmax, score=0.647, total= 3.5min\n",
      "[CV] eta=0.01, max_depth=3, num_class=15, objective=multi:softmax ....\n",
      "[CV]  eta=0.01, max_depth=3, num_class=15, objective=multi:softmax, score=0.655, total= 3.5min\n",
      "[CV] eta=0.01, max_depth=3, num_class=15, objective=multi:softmax ....\n",
      "[CV]  eta=0.01, max_depth=3, num_class=15, objective=multi:softmax, score=0.637, total= 3.5min\n",
      "[CV] eta=0.01, max_depth=3, num_class=15, objective=multi:softmax ....\n",
      "[CV]  eta=0.01, max_depth=3, num_class=15, objective=multi:softmax, score=0.642, total= 3.5min\n",
      "[CV] eta=0.01, max_depth=3, num_class=20, objective=multi:softmax ....\n",
      "[CV]  eta=0.01, max_depth=3, num_class=20, objective=multi:softmax, score=0.646, total= 3.5min\n",
      "[CV] eta=0.01, max_depth=3, num_class=20, objective=multi:softmax ....\n",
      "[CV]  eta=0.01, max_depth=3, num_class=20, objective=multi:softmax, score=0.647, total= 3.4min\n",
      "[CV] eta=0.01, max_depth=3, num_class=20, objective=multi:softmax ....\n",
      "[CV]  eta=0.01, max_depth=3, num_class=20, objective=multi:softmax, score=0.655, total= 3.4min\n",
      "[CV] eta=0.01, max_depth=3, num_class=20, objective=multi:softmax ....\n",
      "[CV]  eta=0.01, max_depth=3, num_class=20, objective=multi:softmax, score=0.637, total= 3.4min\n",
      "[CV] eta=0.01, max_depth=3, num_class=20, objective=multi:softmax ....\n",
      "[CV]  eta=0.01, max_depth=3, num_class=20, objective=multi:softmax, score=0.642, total= 3.4min\n",
      "[CV] eta=0.01, max_depth=3, num_class=25, objective=multi:softmax ....\n",
      "[CV]  eta=0.01, max_depth=3, num_class=25, objective=multi:softmax, score=0.646, total= 3.5min\n",
      "[CV] eta=0.01, max_depth=3, num_class=25, objective=multi:softmax ....\n",
      "[CV]  eta=0.01, max_depth=3, num_class=25, objective=multi:softmax, score=0.647, total= 3.4min\n",
      "[CV] eta=0.01, max_depth=3, num_class=25, objective=multi:softmax ....\n",
      "[CV]  eta=0.01, max_depth=3, num_class=25, objective=multi:softmax, score=0.655, total= 3.5min\n",
      "[CV] eta=0.01, max_depth=3, num_class=25, objective=multi:softmax ....\n",
      "[CV]  eta=0.01, max_depth=3, num_class=25, objective=multi:softmax, score=0.637, total= 3.5min\n",
      "[CV] eta=0.01, max_depth=3, num_class=25, objective=multi:softmax ....\n",
      "[CV]  eta=0.01, max_depth=3, num_class=25, objective=multi:softmax, score=0.642, total= 3.5min\n",
      "[CV] eta=0.01, max_depth=3, num_class=30, objective=multi:softmax ....\n",
      "[CV]  eta=0.01, max_depth=3, num_class=30, objective=multi:softmax, score=0.646, total= 3.4min\n",
      "[CV] eta=0.01, max_depth=3, num_class=30, objective=multi:softmax ....\n",
      "[CV]  eta=0.01, max_depth=3, num_class=30, objective=multi:softmax, score=0.647, total= 3.4min\n",
      "[CV] eta=0.01, max_depth=3, num_class=30, objective=multi:softmax ....\n",
      "[CV]  eta=0.01, max_depth=3, num_class=30, objective=multi:softmax, score=0.655, total= 3.4min\n",
      "[CV] eta=0.01, max_depth=3, num_class=30, objective=multi:softmax ....\n",
      "[CV]  eta=0.01, max_depth=3, num_class=30, objective=multi:softmax, score=0.637, total= 3.3min\n",
      "[CV] eta=0.01, max_depth=3, num_class=30, objective=multi:softmax ....\n",
      "[CV]  eta=0.01, max_depth=3, num_class=30, objective=multi:softmax, score=0.642, total= 3.3min\n"
>>>>>>> Stashed changes
     ]
    },
    {
     "name": "stderr",
     "output_type": "stream",
     "text": [
<<<<<<< Updated upstream
      "[Parallel(n_jobs=1)]: Done   5 out of   5 | elapsed:   23.5s finished\n"
=======
      "[Parallel(n_jobs=1)]: Done  30 out of  30 | elapsed: 104.9min finished\n"
>>>>>>> Stashed changes
     ]
    }
   ],
   "source": [
    "import xgboost as xgb\n",
<<<<<<< Updated upstream
    "\n",
    "param = {\n",
    "    'eta': 0.3, \n",
    "    'max_depth': 3,  \n",
    "    'objective': 'multi:softprob',  \n",
    "    'num_class': 3} \n",
    "\n",
    "xgboost = GridSearchCV(xgb.XGBClassifier(), parameters, cv = 5, scoring = 'f1_weighted', verbose=5)\n",
=======
    "from sklearn.model_selection import GridSearchCV\n",
    "\n",
    "parameters = {\n",
    "    'eta': [0.01], \n",
    "    'max_depth': [3],  \n",
    "    'objective': ['multi:softmax'],  \n",
    "    'num_class': np.arange(5, 35, 5)} \n",
    "\n",
    "xgboost = GridSearchCV(xgb.XGBClassifier(), parameters, cv = 5, scoring = 'f1_weighted', verbose=5) # , n_jobs = -1\n",
>>>>>>> Stashed changes
    "result = xgboost.fit(X_train_sample, Y_train_sample)"
   ]
  },
  {
<<<<<<< Updated upstream
   "cell_type": "code",
   "execution_count": 76,
=======
   "cell_type": "markdown",
   "metadata": {
    "colab_type": "text",
    "id": "5V4a2UzNtfaa"
   },
   "source": [
    "Fitting 5 folds for each of 30 candidates, totalling 150 fits\n",
    "[CV] eta=0.01, max_depth=3, num_class=5, objective=multi:softmax .....\n",
    "[Parallel(n_jobs=1)]: Using backend SequentialBackend with 1 concurrent workers.\n",
    "/usr/local/lib/python3.6/dist-packages/sklearn/preprocessing/_label.py:235: DataConversionWarning: A column-vector y was passed when a 1d array was expected. Please change the shape of y to (n_samples, ), for example using ravel().\n",
    "  y = column_or_1d(y, warn=True)\n",
    "/usr/local/lib/python3.6/dist-packages/sklearn/preprocessing/_label.py:268: DataConversionWarning: A column-vector y was passed when a 1d array was expected. Please change the shape of y to (n_samples, ), for example using ravel().\n",
    "  y = column_or_1d(y, warn=True)\n",
    "[CV]  eta=0.01, max_depth=3, num_class=5, objective=multi:softmax, score=0.648, total= 3.7min\n",
    "[CV] eta=0.01, max_depth=3, num_class=5, objective=multi:softmax .....\n",
    "[Parallel(n_jobs=1)]: Done   1 out of   1 | elapsed:  3.7min remaining:    0.0s\n",
    "[CV]  eta=0.01, max_depth=3, num_class=5, objective=multi:softmax, score=0.651, total= 3.7min\n",
    "[CV] eta=0.01, max_depth=3, num_class=5, objective=multi:softmax .....\n",
    "[Parallel(n_jobs=1)]: Done   2 out of   2 | elapsed:  7.4min remaining:    0.0s\n",
    "[CV]  eta=0.01, max_depth=3, num_class=5, objective=multi:softmax, score=0.648, total= 3.7min\n",
    "[CV] eta=0.01, max_depth=3, num_class=5, objective=multi:softmax .....\n",
    "[Parallel(n_jobs=1)]: Done   3 out of   3 | elapsed: 11.1min remaining:    0.0s\n",
    "[CV]  eta=0.01, max_depth=3, num_class=5, objective=multi:softmax, score=0.653, total= 3.8min\n",
    "[CV] eta=0.01, max_depth=3, num_class=5, objective=multi:softmax .....\n",
    "[Parallel(n_jobs=1)]: Done   4 out of   4 | elapsed: 14.9min remaining:    0.0s\n",
    "[CV]  eta=0.01, max_depth=3, num_class=5, objective=multi:softmax, score=0.652, total= 3.7min\n",
    "[CV] eta=0.01, max_depth=3, num_class=10, objective=multi:softmax ....\n",
    "[CV]  eta=0.01, max_depth=3, num_class=10, objective=multi:softmax, score=0.648, total= 3.7min\n",
    "[CV] eta=0.01, max_depth=3, num_class=10, objective=multi:softmax ....\n",
    "[CV]  eta=0.01, max_depth=3, num_class=10, objective=multi:softmax, score=0.651, total= 3.7min\n",
    "[CV] eta=0.01, max_depth=3, num_class=10, objective=multi:softmax ....\n",
    "[CV]  eta=0.01, max_depth=3, num_class=10, objective=multi:softmax, score=0.648, total= 3.7min\n",
    "[CV] eta=0.01, max_depth=3, num_class=10, objective=multi:softmax ....\n",
    "[CV]  eta=0.01, max_depth=3, num_class=10, objective=multi:softmax, score=0.653, total= 3.7min\n",
    "[CV] eta=0.01, max_depth=3, num_class=10, objective=multi:softmax ....\n",
    "[CV]  eta=0.01, max_depth=3, num_class=10, objective=multi:softmax, score=0.652, total= 3.7min\n",
    "[CV] eta=0.01, max_depth=3, num_class=15, objective=multi:softmax ....\n",
    "[CV]  eta=0.01, max_depth=3, num_class=15, objective=multi:softmax, score=0.648, total= 3.7min\n",
    "[CV] eta=0.01, max_depth=3, num_class=15, objective=multi:softmax ....\n",
    "[CV]  eta=0.01, max_depth=3, num_class=15, objective=multi:softmax, score=0.651, total= 3.7min\n",
    "[CV] eta=0.01, max_depth=3, num_class=15, objective=multi:softmax ....\n",
    "[CV]  eta=0.01, max_depth=3, num_class=15, objective=multi:softmax, score=0.648, total= 3.7min\n",
    "[CV] eta=0.01, max_depth=3, num_class=15, objective=multi:softmax ....\n",
    "[CV]  eta=0.01, max_depth=3, num_class=15, objective=multi:softmax, score=0.653, total= 3.7min\n",
    "[CV] eta=0.01, max_depth=3, num_class=15, objective=multi:softmax ....\n",
    "[CV]  eta=0.01, max_depth=3, num_class=15, objective=multi:softmax, score=0.652, total= 3.7min\n",
    "[CV] eta=0.01, max_depth=3, num_class=20, objective=multi:softmax ....\n",
    "[CV]  eta=0.01, max_depth=3, num_class=20, objective=multi:softmax, score=0.648, total= 3.7min\n",
    "[CV] eta=0.01, max_depth=3, num_class=20, objective=multi:softmax ....\n",
    "[CV]  eta=0.01, max_depth=3, num_class=20, objective=multi:softmax, score=0.651, total= 3.7min\n",
    "[CV] eta=0.01, max_depth=3, num_class=20, objective=multi:softmax ....\n",
    "[CV]  eta=0.01, max_depth=3, num_class=20, objective=multi:softmax, score=0.648, total= 3.6min\n",
    "[CV] eta=0.01, max_depth=3, num_class=20, objective=multi:softmax ....\n",
    "[CV]  eta=0.01, max_depth=3, num_class=20, objective=multi:softmax, score=0.653, total= 3.7min\n",
    "[CV] eta=0.01, max_depth=3, num_class=20, objective=multi:softmax ....\n",
    "[CV]  eta=0.01, max_depth=3, num_class=20, objective=multi:softmax, score=0.652, total= 3.7min\n",
    "[CV] eta=0.01, max_depth=3, num_class=25, objective=multi:softmax ....\n",
    "[CV]  eta=0.01, max_depth=3, num_class=25, objective=multi:softmax, score=0.648, total= 3.7min\n",
    "[CV] eta=0.01, max_depth=3, num_class=25, objective=multi:softmax ....\n",
    "[CV]  eta=0.01, max_depth=3, num_class=25, objective=multi:softmax, score=0.651, total= 3.7min\n",
    "[CV] eta=0.01, max_depth=3, num_class=25, objective=multi:softmax ....\n",
    "[CV]  eta=0.01, max_depth=3, num_class=25, objective=multi:softmax, score=0.648, total= 3.6min\n",
    "[CV] eta=0.01, max_depth=3, num_class=25, objective=multi:softmax ....\n",
    "[CV]  eta=0.01, max_depth=3, num_class=25, objective=multi:softmax, score=0.653, total= 3.7min\n",
    "[CV] eta=0.01, max_depth=3, num_class=25, objective=multi:softmax ....\n",
    "[CV]  eta=0.01, max_depth=3, num_class=25, objective=multi:softmax, score=0.652, total= 3.7min\n",
    "[CV] eta=0.01, max_depth=3, num_class=30, objective=multi:softmax ....\n",
    "[CV]  eta=0.01, max_depth=3, num_class=30, objective=multi:softmax, score=0.648, total= 3.7min\n",
    "[CV] eta=0.01, max_depth=3, num_class=30, objective=multi:softmax ....\n",
    "[CV]  eta=0.01, max_depth=3, num_class=30, objective=multi:softmax, score=0.651, total= 3.7min\n",
    "[CV] eta=0.01, max_depth=3, num_class=30, objective=multi:softmax ....\n",
    "[CV]  eta=0.01, max_depth=3, num_class=30, objective=multi:softmax, score=0.648, total= 3.6min\n",
    "[CV] eta=0.01, max_depth=3, num_class=30, objective=multi:softmax ....\n",
    "[CV]  eta=0.01, max_depth=3, num_class=30, objective=multi:softmax, score=0.653, total= 3.7min\n",
    "[CV] eta=0.01, max_depth=3, num_class=30, objective=multi:softmax ....\n",
    "[CV]  eta=0.01, max_depth=3, num_class=30, objective=multi:softmax, score=0.652, total= 3.7min\n",
    "[CV] eta=0.05, max_depth=3, num_class=5, objective=multi:softmax .....\n",
    "[CV]  eta=0.05, max_depth=3, num_class=5, objective=multi:softmax, score=0.648, total= 3.7min\n",
    "[CV] eta=0.05, max_depth=3, num_class=5, objective=multi:softmax .....\n",
    "[CV]  eta=0.05, max_depth=3, num_class=5, objective=multi:softmax, score=0.651, total= 3.7min\n",
    "[CV] eta=0.05, max_depth=3, num_class=5, objective=multi:softmax .....\n",
    "[CV]  eta=0.05, max_depth=3, num_class=5, objective=multi:softmax, score=0.648, total= 3.7min\n",
    "[CV] eta=0.05, max_depth=3, num_class=5, objective=multi:softmax .....\n",
    "[CV]  eta=0.05, max_depth=3, num_class=5, objective=multi:softmax, score=0.653, total= 3.7min\n",
    "[CV] eta=0.05, max_depth=3, num_class=5, objective=multi:softmax .....\n",
    "[CV]  eta=0.05, max_depth=3, num_class=5, objective=multi:softmax, score=0.652, total= 3.7min\n",
    "[CV] eta=0.05, max_depth=3, num_class=10, objective=multi:softmax ....\n",
    "[CV]  eta=0.05, max_depth=3, num_class=10, objective=multi:softmax, score=0.648, total= 3.8min\n",
    "[CV] eta=0.05, max_depth=3, num_class=10, objective=multi:softmax ....\n",
    "[CV]  eta=0.05, max_depth=3, num_class=10, objective=multi:softmax, score=0.651, total= 3.7min\n",
    "[CV] eta=0.05, max_depth=3, num_class=10, objective=multi:softmax ....\n",
    "[CV]  eta=0.05, max_depth=3, num_class=10, objective=multi:softmax, score=0.648, total= 3.7min\n",
    "[CV] eta=0.05, max_depth=3, num_class=10, objective=multi:softmax ....\n",
    "[CV]  eta=0.05, max_depth=3, num_class=10, objective=multi:softmax, score=0.653, total= 3.7min\n",
    "[CV] eta=0.05, max_depth=3, num_class=10, objective=multi:softmax ....\n",
    "[CV]  eta=0.05, max_depth=3, num_class=10, objective=multi:softmax, score=0.652, total= 3.7min\n",
    "[CV] eta=0.05, max_depth=3, num_class=15, objective=multi:softmax ...."
   ]
  },
  {
   "cell_type": "code",
   "execution_count": 25,
>>>>>>> Stashed changes
   "metadata": {
    "colab": {
     "base_uri": "https://localhost:8080/",
     "height": 34
    },
    "colab_type": "code",
    "id": "zEhhQJLPU7Y3",
<<<<<<< Updated upstream
    "outputId": "dec141ba-bdae-4031-a05c-204e47df8270"
=======
    "outputId": "ec46f9fb-897c-4d9f-8724-081d56a739b3"
>>>>>>> Stashed changes
   },
   "outputs": [
    {
     "data": {
      "text/plain": [
<<<<<<< Updated upstream
       "{'learning_rate': 1.0, 'max_depth': 2, 'n_estimators': 3}"
      ]
     },
     "execution_count": 76,
=======
       "{'eta': 0.01, 'max_depth': 3, 'num_class': 5, 'objective': 'multi:softmax'}"
      ]
     },
     "execution_count": 25,
>>>>>>> Stashed changes
     "metadata": {
      "tags": []
     },
     "output_type": "execute_result"
    }
   ],
   "source": [
    "# print results from grid search \n",
    "result.best_params_\n",
    "# result.cv_results_"
   ]
  },
  {
   "cell_type": "markdown",
   "metadata": {
    "colab_type": "text",
    "id": "hf4hLHM2mW_6"
   },
   "source": [
    "### 4. Gradient Boosted Trees - Camille"
   ]
  },
  {
   "cell_type": "code",
<<<<<<< Updated upstream
   "execution_count": 72,
=======
   "execution_count": 0,
>>>>>>> Stashed changes
   "metadata": {
    "colab": {
     "base_uri": "https://localhost:8080/",
     "height": 524
    },
    "colab_type": "code",
    "id": "-3M2ASJS8P-i",
    "outputId": "2358ff92-e39f-4886-a7f4-77e9cfdb3f89"
   },
   "outputs": [
    {
     "name": "stdout",
     "output_type": "stream",
     "text": [
      "Fitting 5 folds for each of 1 candidates, totalling 5 fits\n",
      "[CV] learning_rate=1.0, max_depth=2, n_estimators=3 ..................\n"
     ]
    },
    {
     "name": "stderr",
     "output_type": "stream",
     "text": [
      "[Parallel(n_jobs=1)]: Using backend SequentialBackend with 1 concurrent workers.\n",
      "/usr/local/lib/python3.6/dist-packages/sklearn/ensemble/_gb.py:1454: DataConversionWarning: A column-vector y was passed when a 1d array was expected. Please change the shape of y to (n_samples, ), for example using ravel().\n",
      "  y = column_or_1d(y, warn=True)\n"
     ]
    },
    {
     "name": "stdout",
     "output_type": "stream",
     "text": [
      "[CV]  learning_rate=1.0, max_depth=2, n_estimators=3, score=0.446, total=  22.9s\n",
      "[CV] learning_rate=1.0, max_depth=2, n_estimators=3 ..................\n"
     ]
    },
    {
     "name": "stderr",
     "output_type": "stream",
     "text": [
      "[Parallel(n_jobs=1)]: Done   1 out of   1 | elapsed:   22.9s remaining:    0.0s\n",
      "/usr/local/lib/python3.6/dist-packages/sklearn/ensemble/_gb.py:1454: DataConversionWarning: A column-vector y was passed when a 1d array was expected. Please change the shape of y to (n_samples, ), for example using ravel().\n",
      "  y = column_or_1d(y, warn=True)\n"
     ]
    },
    {
     "name": "stdout",
     "output_type": "stream",
     "text": [
      "[CV]  learning_rate=1.0, max_depth=2, n_estimators=3, score=0.462, total=  22.7s\n",
      "[CV] learning_rate=1.0, max_depth=2, n_estimators=3 ..................\n"
     ]
    },
    {
     "name": "stderr",
     "output_type": "stream",
     "text": [
      "[Parallel(n_jobs=1)]: Done   2 out of   2 | elapsed:   45.6s remaining:    0.0s\n",
      "/usr/local/lib/python3.6/dist-packages/sklearn/ensemble/_gb.py:1454: DataConversionWarning: A column-vector y was passed when a 1d array was expected. Please change the shape of y to (n_samples, ), for example using ravel().\n",
      "  y = column_or_1d(y, warn=True)\n"
     ]
    },
    {
     "name": "stdout",
     "output_type": "stream",
     "text": [
      "[CV]  learning_rate=1.0, max_depth=2, n_estimators=3, score=0.454, total=  22.7s\n",
      "[CV] learning_rate=1.0, max_depth=2, n_estimators=3 ..................\n"
     ]
    },
    {
     "name": "stderr",
     "output_type": "stream",
     "text": [
      "[Parallel(n_jobs=1)]: Done   3 out of   3 | elapsed:  1.1min remaining:    0.0s\n",
      "/usr/local/lib/python3.6/dist-packages/sklearn/ensemble/_gb.py:1454: DataConversionWarning: A column-vector y was passed when a 1d array was expected. Please change the shape of y to (n_samples, ), for example using ravel().\n",
      "  y = column_or_1d(y, warn=True)\n"
     ]
    },
    {
     "name": "stdout",
     "output_type": "stream",
     "text": [
      "[CV]  learning_rate=1.0, max_depth=2, n_estimators=3, score=0.475, total=  22.6s\n",
      "[CV] learning_rate=1.0, max_depth=2, n_estimators=3 ..................\n"
     ]
    },
    {
     "name": "stderr",
     "output_type": "stream",
     "text": [
      "[Parallel(n_jobs=1)]: Done   4 out of   4 | elapsed:  1.5min remaining:    0.0s\n",
      "/usr/local/lib/python3.6/dist-packages/sklearn/ensemble/_gb.py:1454: DataConversionWarning: A column-vector y was passed when a 1d array was expected. Please change the shape of y to (n_samples, ), for example using ravel().\n",
      "  y = column_or_1d(y, warn=True)\n"
     ]
    },
    {
     "name": "stdout",
     "output_type": "stream",
     "text": [
      "[CV]  learning_rate=1.0, max_depth=2, n_estimators=3, score=0.473, total=  22.7s\n"
     ]
    },
    {
     "name": "stderr",
     "output_type": "stream",
     "text": [
      "[Parallel(n_jobs=1)]: Done   5 out of   5 | elapsed:  1.9min finished\n",
      "/usr/local/lib/python3.6/dist-packages/sklearn/ensemble/_gb.py:1454: DataConversionWarning: A column-vector y was passed when a 1d array was expected. Please change the shape of y to (n_samples, ), for example using ravel().\n",
      "  y = column_or_1d(y, warn=True)\n"
     ]
    }
   ],
   "source": [
    "from sklearn.ensemble import GradientBoostingClassifier\n",
    "\n",
    "parameters = {\n",
    "    \"max_depth\": [2],\n",
    "    \"n_estimators\": [3],\n",
    "    \"learning_rate\": [1.0]\n",
    "}\n",
    "\n",
    "grad_boost = GridSearchCV(GradientBoostingClassifier(), parameters, cv = 5, scoring = 'f1_weighted', verbose=5)\n",
    "result = grad_boost.fit(X_train_sample, Y_train_sample)"
   ]
  },
  {
   "cell_type": "code",
<<<<<<< Updated upstream
   "execution_count": 73,
=======
   "execution_count": 0,
>>>>>>> Stashed changes
   "metadata": {
    "colab": {
     "base_uri": "https://localhost:8080/",
     "height": 34
    },
    "colab_type": "code",
    "id": "RT_xFjl_An2R",
    "outputId": "6f176909-a9c8-4451-8dd7-6b588f4e293c"
   },
   "outputs": [
    {
     "data": {
      "text/plain": [
       "{'learning_rate': 1.0, 'max_depth': 2, 'n_estimators': 3}"
      ]
     },
     "execution_count": 73,
     "metadata": {
      "tags": []
     },
     "output_type": "execute_result"
    }
   ],
   "source": [
    "# print results from grid search \n",
    "result.best_params_\n",
    "# result.cv_results_"
   ]
  },
  {
   "cell_type": "markdown",
   "metadata": {
    "colab_type": "text",
    "id": "qCn16HzYmKSA"
   },
   "source": [
    "### 5. Bagging - Niels"
   ]
  },
  {
   "cell_type": "code",
<<<<<<< Updated upstream
   "execution_count": 82,
=======
   "execution_count": 0,
>>>>>>> Stashed changes
   "metadata": {
    "colab": {
     "base_uri": "https://localhost:8080/",
     "height": 1000
    },
    "colab_type": "code",
    "id": "klLtbHYGTzG9",
    "outputId": "65a85717-8156-45af-9235-1ea627e1ff22"
   },
   "outputs": [
    {
     "name": "stdout",
     "output_type": "stream",
     "text": [
      "Fitting 5 folds for each of 8 candidates, totalling 40 fits\n",
      "[CV] base_estimator__criterion=gini, base_estimator__splitter=best, n_estimators=1 \n"
     ]
    },
    {
     "name": "stderr",
     "output_type": "stream",
     "text": [
      "[Parallel(n_jobs=1)]: Using backend SequentialBackend with 1 concurrent workers.\n",
      "/usr/local/lib/python3.6/dist-packages/sklearn/ensemble/_bagging.py:645: DataConversionWarning: A column-vector y was passed when a 1d array was expected. Please change the shape of y to (n_samples, ), for example using ravel().\n",
      "  y = column_or_1d(y, warn=True)\n"
     ]
    },
    {
     "name": "stdout",
     "output_type": "stream",
     "text": [
      "[CV]  base_estimator__criterion=gini, base_estimator__splitter=best, n_estimators=1, score=0.538, total=   1.1s\n",
      "[CV] base_estimator__criterion=gini, base_estimator__splitter=best, n_estimators=1 \n"
     ]
    },
    {
     "name": "stderr",
     "output_type": "stream",
     "text": [
      "[Parallel(n_jobs=1)]: Done   1 out of   1 | elapsed:    1.1s remaining:    0.0s\n",
      "/usr/local/lib/python3.6/dist-packages/sklearn/ensemble/_bagging.py:645: DataConversionWarning: A column-vector y was passed when a 1d array was expected. Please change the shape of y to (n_samples, ), for example using ravel().\n",
      "  y = column_or_1d(y, warn=True)\n"
     ]
    },
    {
     "name": "stdout",
     "output_type": "stream",
     "text": [
      "[CV]  base_estimator__criterion=gini, base_estimator__splitter=best, n_estimators=1, score=0.527, total=   1.1s\n",
      "[CV] base_estimator__criterion=gini, base_estimator__splitter=best, n_estimators=1 \n"
     ]
    },
    {
     "name": "stderr",
     "output_type": "stream",
     "text": [
      "[Parallel(n_jobs=1)]: Done   2 out of   2 | elapsed:    2.3s remaining:    0.0s\n",
      "/usr/local/lib/python3.6/dist-packages/sklearn/ensemble/_bagging.py:645: DataConversionWarning: A column-vector y was passed when a 1d array was expected. Please change the shape of y to (n_samples, ), for example using ravel().\n",
      "  y = column_or_1d(y, warn=True)\n"
     ]
    },
    {
     "name": "stdout",
     "output_type": "stream",
     "text": [
      "[CV]  base_estimator__criterion=gini, base_estimator__splitter=best, n_estimators=1, score=0.521, total=   1.2s\n",
      "[CV] base_estimator__criterion=gini, base_estimator__splitter=best, n_estimators=1 \n"
     ]
    },
    {
     "name": "stderr",
     "output_type": "stream",
     "text": [
      "[Parallel(n_jobs=1)]: Done   3 out of   3 | elapsed:    3.4s remaining:    0.0s\n",
      "/usr/local/lib/python3.6/dist-packages/sklearn/ensemble/_bagging.py:645: DataConversionWarning: A column-vector y was passed when a 1d array was expected. Please change the shape of y to (n_samples, ), for example using ravel().\n",
      "  y = column_or_1d(y, warn=True)\n"
     ]
    },
    {
     "name": "stdout",
     "output_type": "stream",
     "text": [
      "[CV]  base_estimator__criterion=gini, base_estimator__splitter=best, n_estimators=1, score=0.511, total=   1.2s\n",
      "[CV] base_estimator__criterion=gini, base_estimator__splitter=best, n_estimators=1 \n"
     ]
    },
    {
     "name": "stderr",
     "output_type": "stream",
     "text": [
      "[Parallel(n_jobs=1)]: Done   4 out of   4 | elapsed:    4.6s remaining:    0.0s\n",
      "/usr/local/lib/python3.6/dist-packages/sklearn/ensemble/_bagging.py:645: DataConversionWarning: A column-vector y was passed when a 1d array was expected. Please change the shape of y to (n_samples, ), for example using ravel().\n",
      "  y = column_or_1d(y, warn=True)\n"
     ]
    },
    {
     "name": "stdout",
     "output_type": "stream",
     "text": [
      "[CV]  base_estimator__criterion=gini, base_estimator__splitter=best, n_estimators=1, score=0.521, total=   1.2s\n",
      "[CV] base_estimator__criterion=gini, base_estimator__splitter=best, n_estimators=2 \n"
     ]
    },
    {
     "name": "stderr",
     "output_type": "stream",
     "text": [
      "/usr/local/lib/python3.6/dist-packages/sklearn/ensemble/_bagging.py:645: DataConversionWarning: A column-vector y was passed when a 1d array was expected. Please change the shape of y to (n_samples, ), for example using ravel().\n",
      "  y = column_or_1d(y, warn=True)\n"
     ]
    },
    {
     "name": "stdout",
     "output_type": "stream",
     "text": [
      "[CV]  base_estimator__criterion=gini, base_estimator__splitter=best, n_estimators=2, score=0.532, total=   2.3s\n",
      "[CV] base_estimator__criterion=gini, base_estimator__splitter=best, n_estimators=2 \n"
     ]
    },
    {
     "name": "stderr",
     "output_type": "stream",
     "text": [
      "/usr/local/lib/python3.6/dist-packages/sklearn/ensemble/_bagging.py:645: DataConversionWarning: A column-vector y was passed when a 1d array was expected. Please change the shape of y to (n_samples, ), for example using ravel().\n",
      "  y = column_or_1d(y, warn=True)\n"
     ]
    },
    {
     "name": "stdout",
     "output_type": "stream",
     "text": [
      "[CV]  base_estimator__criterion=gini, base_estimator__splitter=best, n_estimators=2, score=0.557, total=   2.3s\n",
      "[CV] base_estimator__criterion=gini, base_estimator__splitter=best, n_estimators=2 \n"
     ]
    },
    {
     "name": "stderr",
     "output_type": "stream",
     "text": [
      "/usr/local/lib/python3.6/dist-packages/sklearn/ensemble/_bagging.py:645: DataConversionWarning: A column-vector y was passed when a 1d array was expected. Please change the shape of y to (n_samples, ), for example using ravel().\n",
      "  y = column_or_1d(y, warn=True)\n"
     ]
    },
    {
     "name": "stdout",
     "output_type": "stream",
     "text": [
      "[CV]  base_estimator__criterion=gini, base_estimator__splitter=best, n_estimators=2, score=0.530, total=   2.3s\n",
      "[CV] base_estimator__criterion=gini, base_estimator__splitter=best, n_estimators=2 \n"
     ]
    },
    {
     "name": "stderr",
     "output_type": "stream",
     "text": [
      "/usr/local/lib/python3.6/dist-packages/sklearn/ensemble/_bagging.py:645: DataConversionWarning: A column-vector y was passed when a 1d array was expected. Please change the shape of y to (n_samples, ), for example using ravel().\n",
      "  y = column_or_1d(y, warn=True)\n"
     ]
    },
    {
     "name": "stdout",
     "output_type": "stream",
     "text": [
      "[CV]  base_estimator__criterion=gini, base_estimator__splitter=best, n_estimators=2, score=0.531, total=   2.3s\n",
      "[CV] base_estimator__criterion=gini, base_estimator__splitter=best, n_estimators=2 \n"
     ]
    },
    {
     "name": "stderr",
     "output_type": "stream",
     "text": [
      "/usr/local/lib/python3.6/dist-packages/sklearn/ensemble/_bagging.py:645: DataConversionWarning: A column-vector y was passed when a 1d array was expected. Please change the shape of y to (n_samples, ), for example using ravel().\n",
      "  y = column_or_1d(y, warn=True)\n"
     ]
    },
    {
     "name": "stdout",
     "output_type": "stream",
     "text": [
      "[CV]  base_estimator__criterion=gini, base_estimator__splitter=best, n_estimators=2, score=0.549, total=   2.4s\n",
      "[CV] base_estimator__criterion=gini, base_estimator__splitter=random, n_estimators=1 \n"
     ]
    },
    {
     "name": "stderr",
     "output_type": "stream",
     "text": [
      "/usr/local/lib/python3.6/dist-packages/sklearn/ensemble/_bagging.py:645: DataConversionWarning: A column-vector y was passed when a 1d array was expected. Please change the shape of y to (n_samples, ), for example using ravel().\n",
      "  y = column_or_1d(y, warn=True)\n"
     ]
    },
    {
     "name": "stdout",
     "output_type": "stream",
     "text": [
      "[CV]  base_estimator__criterion=gini, base_estimator__splitter=random, n_estimators=1, score=0.495, total=   1.3s\n",
      "[CV] base_estimator__criterion=gini, base_estimator__splitter=random, n_estimators=1 \n"
     ]
    },
    {
     "name": "stderr",
     "output_type": "stream",
     "text": [
      "/usr/local/lib/python3.6/dist-packages/sklearn/ensemble/_bagging.py:645: DataConversionWarning: A column-vector y was passed when a 1d array was expected. Please change the shape of y to (n_samples, ), for example using ravel().\n",
      "  y = column_or_1d(y, warn=True)\n"
     ]
    },
    {
     "name": "stdout",
     "output_type": "stream",
     "text": [
      "[CV]  base_estimator__criterion=gini, base_estimator__splitter=random, n_estimators=1, score=0.512, total=   1.4s\n",
      "[CV] base_estimator__criterion=gini, base_estimator__splitter=random, n_estimators=1 \n"
     ]
    },
    {
     "name": "stderr",
     "output_type": "stream",
     "text": [
      "/usr/local/lib/python3.6/dist-packages/sklearn/ensemble/_bagging.py:645: DataConversionWarning: A column-vector y was passed when a 1d array was expected. Please change the shape of y to (n_samples, ), for example using ravel().\n",
      "  y = column_or_1d(y, warn=True)\n"
     ]
    },
    {
     "name": "stdout",
     "output_type": "stream",
     "text": [
      "[CV]  base_estimator__criterion=gini, base_estimator__splitter=random, n_estimators=1, score=0.502, total=   1.3s\n",
      "[CV] base_estimator__criterion=gini, base_estimator__splitter=random, n_estimators=1 \n"
     ]
    },
    {
     "name": "stderr",
     "output_type": "stream",
     "text": [
      "/usr/local/lib/python3.6/dist-packages/sklearn/ensemble/_bagging.py:645: DataConversionWarning: A column-vector y was passed when a 1d array was expected. Please change the shape of y to (n_samples, ), for example using ravel().\n",
      "  y = column_or_1d(y, warn=True)\n"
     ]
    },
    {
     "name": "stdout",
     "output_type": "stream",
     "text": [
      "[CV]  base_estimator__criterion=gini, base_estimator__splitter=random, n_estimators=1, score=0.514, total=   1.3s\n",
      "[CV] base_estimator__criterion=gini, base_estimator__splitter=random, n_estimators=1 \n"
     ]
    },
    {
     "name": "stderr",
     "output_type": "stream",
     "text": [
      "/usr/local/lib/python3.6/dist-packages/sklearn/ensemble/_bagging.py:645: DataConversionWarning: A column-vector y was passed when a 1d array was expected. Please change the shape of y to (n_samples, ), for example using ravel().\n",
      "  y = column_or_1d(y, warn=True)\n"
     ]
    },
    {
     "name": "stdout",
     "output_type": "stream",
     "text": [
      "[CV]  base_estimator__criterion=gini, base_estimator__splitter=random, n_estimators=1, score=0.509, total=   1.3s\n",
      "[CV] base_estimator__criterion=gini, base_estimator__splitter=random, n_estimators=2 \n"
     ]
    },
    {
     "name": "stderr",
     "output_type": "stream",
     "text": [
      "/usr/local/lib/python3.6/dist-packages/sklearn/ensemble/_bagging.py:645: DataConversionWarning: A column-vector y was passed when a 1d array was expected. Please change the shape of y to (n_samples, ), for example using ravel().\n",
      "  y = column_or_1d(y, warn=True)\n"
     ]
    },
    {
     "name": "stdout",
     "output_type": "stream",
     "text": [
      "[CV]  base_estimator__criterion=gini, base_estimator__splitter=random, n_estimators=2, score=0.529, total=   2.6s\n",
      "[CV] base_estimator__criterion=gini, base_estimator__splitter=random, n_estimators=2 \n"
     ]
    },
    {
     "name": "stderr",
     "output_type": "stream",
     "text": [
      "/usr/local/lib/python3.6/dist-packages/sklearn/ensemble/_bagging.py:645: DataConversionWarning: A column-vector y was passed when a 1d array was expected. Please change the shape of y to (n_samples, ), for example using ravel().\n",
      "  y = column_or_1d(y, warn=True)\n"
     ]
    },
    {
     "name": "stdout",
     "output_type": "stream",
     "text": [
      "[CV]  base_estimator__criterion=gini, base_estimator__splitter=random, n_estimators=2, score=0.507, total=   2.7s\n",
      "[CV] base_estimator__criterion=gini, base_estimator__splitter=random, n_estimators=2 \n"
     ]
    },
    {
     "name": "stderr",
     "output_type": "stream",
     "text": [
      "/usr/local/lib/python3.6/dist-packages/sklearn/ensemble/_bagging.py:645: DataConversionWarning: A column-vector y was passed when a 1d array was expected. Please change the shape of y to (n_samples, ), for example using ravel().\n",
      "  y = column_or_1d(y, warn=True)\n"
     ]
    },
    {
     "name": "stdout",
     "output_type": "stream",
     "text": [
      "[CV]  base_estimator__criterion=gini, base_estimator__splitter=random, n_estimators=2, score=0.510, total=   2.6s\n",
      "[CV] base_estimator__criterion=gini, base_estimator__splitter=random, n_estimators=2 \n"
     ]
    },
    {
     "name": "stderr",
     "output_type": "stream",
     "text": [
      "/usr/local/lib/python3.6/dist-packages/sklearn/ensemble/_bagging.py:645: DataConversionWarning: A column-vector y was passed when a 1d array was expected. Please change the shape of y to (n_samples, ), for example using ravel().\n",
      "  y = column_or_1d(y, warn=True)\n"
     ]
    },
    {
     "name": "stdout",
     "output_type": "stream",
     "text": [
      "[CV]  base_estimator__criterion=gini, base_estimator__splitter=random, n_estimators=2, score=0.522, total=   2.6s\n",
      "[CV] base_estimator__criterion=gini, base_estimator__splitter=random, n_estimators=2 \n"
     ]
    },
    {
     "name": "stderr",
     "output_type": "stream",
     "text": [
      "/usr/local/lib/python3.6/dist-packages/sklearn/ensemble/_bagging.py:645: DataConversionWarning: A column-vector y was passed when a 1d array was expected. Please change the shape of y to (n_samples, ), for example using ravel().\n",
      "  y = column_or_1d(y, warn=True)\n"
     ]
    },
    {
     "name": "stdout",
     "output_type": "stream",
     "text": [
      "[CV]  base_estimator__criterion=gini, base_estimator__splitter=random, n_estimators=2, score=0.511, total=   2.6s\n",
      "[CV] base_estimator__criterion=entropy, base_estimator__splitter=best, n_estimators=1 \n"
     ]
    },
    {
     "name": "stderr",
     "output_type": "stream",
     "text": [
      "/usr/local/lib/python3.6/dist-packages/sklearn/ensemble/_bagging.py:645: DataConversionWarning: A column-vector y was passed when a 1d array was expected. Please change the shape of y to (n_samples, ), for example using ravel().\n",
      "  y = column_or_1d(y, warn=True)\n"
     ]
    },
    {
     "name": "stdout",
     "output_type": "stream",
     "text": [
      "[CV]  base_estimator__criterion=entropy, base_estimator__splitter=best, n_estimators=1, score=0.519, total=   1.3s\n",
      "[CV] base_estimator__criterion=entropy, base_estimator__splitter=best, n_estimators=1 \n"
     ]
    },
    {
     "name": "stderr",
     "output_type": "stream",
     "text": [
      "/usr/local/lib/python3.6/dist-packages/sklearn/ensemble/_bagging.py:645: DataConversionWarning: A column-vector y was passed when a 1d array was expected. Please change the shape of y to (n_samples, ), for example using ravel().\n",
      "  y = column_or_1d(y, warn=True)\n"
     ]
    },
    {
     "name": "stdout",
     "output_type": "stream",
     "text": [
      "[CV]  base_estimator__criterion=entropy, base_estimator__splitter=best, n_estimators=1, score=0.529, total=   1.3s\n",
      "[CV] base_estimator__criterion=entropy, base_estimator__splitter=best, n_estimators=1 \n"
     ]
    },
    {
     "name": "stderr",
     "output_type": "stream",
     "text": [
      "/usr/local/lib/python3.6/dist-packages/sklearn/ensemble/_bagging.py:645: DataConversionWarning: A column-vector y was passed when a 1d array was expected. Please change the shape of y to (n_samples, ), for example using ravel().\n",
      "  y = column_or_1d(y, warn=True)\n"
     ]
    },
    {
     "name": "stdout",
     "output_type": "stream",
     "text": [
      "[CV]  base_estimator__criterion=entropy, base_estimator__splitter=best, n_estimators=1, score=0.486, total=   1.3s\n",
      "[CV] base_estimator__criterion=entropy, base_estimator__splitter=best, n_estimators=1 \n"
     ]
    },
    {
     "name": "stderr",
     "output_type": "stream",
     "text": [
      "/usr/local/lib/python3.6/dist-packages/sklearn/ensemble/_bagging.py:645: DataConversionWarning: A column-vector y was passed when a 1d array was expected. Please change the shape of y to (n_samples, ), for example using ravel().\n",
      "  y = column_or_1d(y, warn=True)\n"
     ]
    },
    {
     "name": "stdout",
     "output_type": "stream",
     "text": [
      "[CV]  base_estimator__criterion=entropy, base_estimator__splitter=best, n_estimators=1, score=0.477, total=   1.3s\n",
      "[CV] base_estimator__criterion=entropy, base_estimator__splitter=best, n_estimators=1 \n"
     ]
    },
    {
     "name": "stderr",
     "output_type": "stream",
     "text": [
      "/usr/local/lib/python3.6/dist-packages/sklearn/ensemble/_bagging.py:645: DataConversionWarning: A column-vector y was passed when a 1d array was expected. Please change the shape of y to (n_samples, ), for example using ravel().\n",
      "  y = column_or_1d(y, warn=True)\n"
     ]
    },
    {
     "name": "stdout",
     "output_type": "stream",
     "text": [
      "[CV]  base_estimator__criterion=entropy, base_estimator__splitter=best, n_estimators=1, score=0.469, total=   1.3s\n",
      "[CV] base_estimator__criterion=entropy, base_estimator__splitter=best, n_estimators=2 \n"
     ]
    },
    {
     "name": "stderr",
     "output_type": "stream",
     "text": [
      "/usr/local/lib/python3.6/dist-packages/sklearn/ensemble/_bagging.py:645: DataConversionWarning: A column-vector y was passed when a 1d array was expected. Please change the shape of y to (n_samples, ), for example using ravel().\n",
      "  y = column_or_1d(y, warn=True)\n"
     ]
    },
    {
     "name": "stdout",
     "output_type": "stream",
     "text": [
      "[CV]  base_estimator__criterion=entropy, base_estimator__splitter=best, n_estimators=2, score=0.506, total=   2.6s\n",
      "[CV] base_estimator__criterion=entropy, base_estimator__splitter=best, n_estimators=2 \n"
     ]
    },
    {
     "name": "stderr",
     "output_type": "stream",
     "text": [
      "/usr/local/lib/python3.6/dist-packages/sklearn/ensemble/_bagging.py:645: DataConversionWarning: A column-vector y was passed when a 1d array was expected. Please change the shape of y to (n_samples, ), for example using ravel().\n",
      "  y = column_or_1d(y, warn=True)\n"
     ]
    },
    {
     "name": "stdout",
     "output_type": "stream",
     "text": [
      "[CV]  base_estimator__criterion=entropy, base_estimator__splitter=best, n_estimators=2, score=0.501, total=   2.6s\n",
      "[CV] base_estimator__criterion=entropy, base_estimator__splitter=best, n_estimators=2 \n"
     ]
    },
    {
     "name": "stderr",
     "output_type": "stream",
     "text": [
      "/usr/local/lib/python3.6/dist-packages/sklearn/ensemble/_bagging.py:645: DataConversionWarning: A column-vector y was passed when a 1d array was expected. Please change the shape of y to (n_samples, ), for example using ravel().\n",
      "  y = column_or_1d(y, warn=True)\n"
     ]
    },
    {
     "name": "stdout",
     "output_type": "stream",
     "text": [
      "[CV]  base_estimator__criterion=entropy, base_estimator__splitter=best, n_estimators=2, score=0.489, total=   2.6s\n",
      "[CV] base_estimator__criterion=entropy, base_estimator__splitter=best, n_estimators=2 \n"
     ]
    },
    {
     "name": "stderr",
     "output_type": "stream",
     "text": [
      "/usr/local/lib/python3.6/dist-packages/sklearn/ensemble/_bagging.py:645: DataConversionWarning: A column-vector y was passed when a 1d array was expected. Please change the shape of y to (n_samples, ), for example using ravel().\n",
      "  y = column_or_1d(y, warn=True)\n"
     ]
    },
    {
     "name": "stdout",
     "output_type": "stream",
     "text": [
      "[CV]  base_estimator__criterion=entropy, base_estimator__splitter=best, n_estimators=2, score=0.489, total=   2.7s\n",
      "[CV] base_estimator__criterion=entropy, base_estimator__splitter=best, n_estimators=2 \n"
     ]
    },
    {
     "name": "stderr",
     "output_type": "stream",
     "text": [
      "/usr/local/lib/python3.6/dist-packages/sklearn/ensemble/_bagging.py:645: DataConversionWarning: A column-vector y was passed when a 1d array was expected. Please change the shape of y to (n_samples, ), for example using ravel().\n",
      "  y = column_or_1d(y, warn=True)\n"
     ]
    },
    {
     "name": "stdout",
     "output_type": "stream",
     "text": [
      "[CV]  base_estimator__criterion=entropy, base_estimator__splitter=best, n_estimators=2, score=0.514, total=   2.6s\n",
      "[CV] base_estimator__criterion=entropy, base_estimator__splitter=random, n_estimators=1 \n"
     ]
    },
    {
     "name": "stderr",
     "output_type": "stream",
     "text": [
      "/usr/local/lib/python3.6/dist-packages/sklearn/ensemble/_bagging.py:645: DataConversionWarning: A column-vector y was passed when a 1d array was expected. Please change the shape of y to (n_samples, ), for example using ravel().\n",
      "  y = column_or_1d(y, warn=True)\n"
     ]
    },
    {
     "name": "stdout",
     "output_type": "stream",
     "text": [
      "[CV]  base_estimator__criterion=entropy, base_estimator__splitter=random, n_estimators=1, score=0.465, total=   1.5s\n",
      "[CV] base_estimator__criterion=entropy, base_estimator__splitter=random, n_estimators=1 \n"
     ]
    },
    {
     "name": "stderr",
     "output_type": "stream",
     "text": [
      "/usr/local/lib/python3.6/dist-packages/sklearn/ensemble/_bagging.py:645: DataConversionWarning: A column-vector y was passed when a 1d array was expected. Please change the shape of y to (n_samples, ), for example using ravel().\n",
      "  y = column_or_1d(y, warn=True)\n"
     ]
    },
    {
     "name": "stdout",
     "output_type": "stream",
     "text": [
      "[CV]  base_estimator__criterion=entropy, base_estimator__splitter=random, n_estimators=1, score=0.493, total=   1.4s\n",
      "[CV] base_estimator__criterion=entropy, base_estimator__splitter=random, n_estimators=1 \n"
     ]
    },
    {
     "name": "stderr",
     "output_type": "stream",
     "text": [
      "/usr/local/lib/python3.6/dist-packages/sklearn/ensemble/_bagging.py:645: DataConversionWarning: A column-vector y was passed when a 1d array was expected. Please change the shape of y to (n_samples, ), for example using ravel().\n",
      "  y = column_or_1d(y, warn=True)\n"
     ]
    },
    {
     "name": "stdout",
     "output_type": "stream",
     "text": [
      "[CV]  base_estimator__criterion=entropy, base_estimator__splitter=random, n_estimators=1, score=0.481, total=   1.4s\n",
      "[CV] base_estimator__criterion=entropy, base_estimator__splitter=random, n_estimators=1 \n"
     ]
    },
    {
     "name": "stderr",
     "output_type": "stream",
     "text": [
      "/usr/local/lib/python3.6/dist-packages/sklearn/ensemble/_bagging.py:645: DataConversionWarning: A column-vector y was passed when a 1d array was expected. Please change the shape of y to (n_samples, ), for example using ravel().\n",
      "  y = column_or_1d(y, warn=True)\n"
     ]
    },
    {
     "name": "stdout",
     "output_type": "stream",
     "text": [
      "[CV]  base_estimator__criterion=entropy, base_estimator__splitter=random, n_estimators=1, score=0.461, total=   1.5s\n",
      "[CV] base_estimator__criterion=entropy, base_estimator__splitter=random, n_estimators=1 \n"
     ]
    },
    {
     "name": "stderr",
     "output_type": "stream",
     "text": [
      "/usr/local/lib/python3.6/dist-packages/sklearn/ensemble/_bagging.py:645: DataConversionWarning: A column-vector y was passed when a 1d array was expected. Please change the shape of y to (n_samples, ), for example using ravel().\n",
      "  y = column_or_1d(y, warn=True)\n"
     ]
    },
    {
     "name": "stdout",
     "output_type": "stream",
     "text": [
      "[CV]  base_estimator__criterion=entropy, base_estimator__splitter=random, n_estimators=1, score=0.467, total=   1.4s\n",
      "[CV] base_estimator__criterion=entropy, base_estimator__splitter=random, n_estimators=2 \n"
     ]
    },
    {
     "name": "stderr",
     "output_type": "stream",
     "text": [
      "/usr/local/lib/python3.6/dist-packages/sklearn/ensemble/_bagging.py:645: DataConversionWarning: A column-vector y was passed when a 1d array was expected. Please change the shape of y to (n_samples, ), for example using ravel().\n",
      "  y = column_or_1d(y, warn=True)\n"
     ]
    },
    {
     "name": "stdout",
     "output_type": "stream",
     "text": [
      "[CV]  base_estimator__criterion=entropy, base_estimator__splitter=random, n_estimators=2, score=0.478, total=   2.9s\n",
      "[CV] base_estimator__criterion=entropy, base_estimator__splitter=random, n_estimators=2 \n"
     ]
    },
    {
     "name": "stderr",
     "output_type": "stream",
     "text": [
      "/usr/local/lib/python3.6/dist-packages/sklearn/ensemble/_bagging.py:645: DataConversionWarning: A column-vector y was passed when a 1d array was expected. Please change the shape of y to (n_samples, ), for example using ravel().\n",
      "  y = column_or_1d(y, warn=True)\n"
     ]
    },
    {
     "name": "stdout",
     "output_type": "stream",
     "text": [
      "[CV]  base_estimator__criterion=entropy, base_estimator__splitter=random, n_estimators=2, score=0.492, total=   2.8s\n",
      "[CV] base_estimator__criterion=entropy, base_estimator__splitter=random, n_estimators=2 \n"
     ]
    },
    {
     "name": "stderr",
     "output_type": "stream",
     "text": [
      "/usr/local/lib/python3.6/dist-packages/sklearn/ensemble/_bagging.py:645: DataConversionWarning: A column-vector y was passed when a 1d array was expected. Please change the shape of y to (n_samples, ), for example using ravel().\n",
      "  y = column_or_1d(y, warn=True)\n"
     ]
    },
    {
     "name": "stdout",
     "output_type": "stream",
     "text": [
      "[CV]  base_estimator__criterion=entropy, base_estimator__splitter=random, n_estimators=2, score=0.481, total=   2.8s\n",
      "[CV] base_estimator__criterion=entropy, base_estimator__splitter=random, n_estimators=2 \n"
     ]
    },
    {
     "name": "stderr",
     "output_type": "stream",
     "text": [
      "/usr/local/lib/python3.6/dist-packages/sklearn/ensemble/_bagging.py:645: DataConversionWarning: A column-vector y was passed when a 1d array was expected. Please change the shape of y to (n_samples, ), for example using ravel().\n",
      "  y = column_or_1d(y, warn=True)\n"
     ]
    },
    {
     "name": "stdout",
     "output_type": "stream",
     "text": [
      "[CV]  base_estimator__criterion=entropy, base_estimator__splitter=random, n_estimators=2, score=0.474, total=   2.9s\n",
      "[CV] base_estimator__criterion=entropy, base_estimator__splitter=random, n_estimators=2 \n"
     ]
    },
    {
     "name": "stderr",
     "output_type": "stream",
     "text": [
      "/usr/local/lib/python3.6/dist-packages/sklearn/ensemble/_bagging.py:645: DataConversionWarning: A column-vector y was passed when a 1d array was expected. Please change the shape of y to (n_samples, ), for example using ravel().\n",
      "  y = column_or_1d(y, warn=True)\n"
     ]
    },
    {
     "name": "stdout",
     "output_type": "stream",
     "text": [
      "[CV]  base_estimator__criterion=entropy, base_estimator__splitter=random, n_estimators=2, score=0.455, total=   2.9s\n"
     ]
    },
    {
     "name": "stderr",
     "output_type": "stream",
     "text": [
      "[Parallel(n_jobs=1)]: Done  40 out of  40 | elapsed:  1.3min finished\n",
      "/usr/local/lib/python3.6/dist-packages/sklearn/ensemble/_bagging.py:645: DataConversionWarning: A column-vector y was passed when a 1d array was expected. Please change the shape of y to (n_samples, ), for example using ravel().\n",
      "  y = column_or_1d(y, warn=True)\n"
     ]
    }
   ],
   "source": [
    "from sklearn.ensemble import BaggingClassifier\n",
    "\n",
    "parameters = {\"base_estimator__criterion\" : [\"gini\", \"entropy\"],\n",
    "              \"base_estimator__splitter\" :   [\"best\", \"random\"],\n",
    "              \"n_estimators\": [1, 2]\n",
    "             }\n",
    "\n",
    "DTC = DecisionTreeClassifier(random_state = 11, max_features = \"auto\", class_weight = \"balanced\", max_depth = None)\n",
    "BC = BaggingClassifier(base_estimator= DTC)\n",
    "\n",
    "bagging = GridSearchCV(BC, parameters, cv = 5, scoring = 'f1_weighted', verbose=5)\n",
    "result = bagging.fit(X_train_sample, Y_train_sample)"
   ]
  },
  {
   "cell_type": "code",
<<<<<<< Updated upstream
   "execution_count": 84,
=======
   "execution_count": 0,
>>>>>>> Stashed changes
   "metadata": {
    "colab": {
     "base_uri": "https://localhost:8080/",
     "height": 67
    },
    "colab_type": "code",
    "id": "l1A4D5RwX1vf",
    "outputId": "c430c37d-9abc-42dc-c08c-90562c3f6e71"
   },
   "outputs": [
    {
     "data": {
      "text/plain": [
       "{'base_estimator__criterion': 'gini',\n",
       " 'base_estimator__splitter': 'best',\n",
       " 'n_estimators': 2}"
      ]
     },
     "execution_count": 84,
     "metadata": {
      "tags": []
     },
     "output_type": "execute_result"
    }
   ],
   "source": [
    "# print results from grid search \n",
    "result.best_params_\n",
    "# result.cv_results_"
   ]
  },
  {
   "cell_type": "markdown",
   "metadata": {
    "colab_type": "text",
    "id": "R43eJO7fmZCz"
   },
   "source": [
    "### 6. AdaBoost - Ariel"
   ]
  },
  {
   "cell_type": "code",
<<<<<<< Updated upstream
   "execution_count": 78,
=======
   "execution_count": 0,
>>>>>>> Stashed changes
   "metadata": {
    "colab": {
     "base_uri": "https://localhost:8080/",
     "height": 1000
    },
    "colab_type": "code",
    "id": "98L4n0E6T232",
    "outputId": "ebaa0825-690e-4263-d22d-4a69a859e0c7"
   },
   "outputs": [
    {
     "name": "stdout",
     "output_type": "stream",
     "text": [
      "Fitting 5 folds for each of 8 candidates, totalling 40 fits\n",
      "[CV] base_estimator__criterion=gini, base_estimator__splitter=best, n_estimators=1 \n"
     ]
    },
    {
     "name": "stderr",
     "output_type": "stream",
     "text": [
      "[Parallel(n_jobs=1)]: Using backend SequentialBackend with 1 concurrent workers.\n",
      "/usr/local/lib/python3.6/dist-packages/sklearn/utils/validation.py:760: DataConversionWarning: A column-vector y was passed when a 1d array was expected. Please change the shape of y to (n_samples, ), for example using ravel().\n",
      "  y = column_or_1d(y, warn=True)\n"
     ]
    },
    {
     "name": "stdout",
     "output_type": "stream",
     "text": [
      "[CV]  base_estimator__criterion=gini, base_estimator__splitter=best, n_estimators=1, score=0.569, total=   1.9s\n",
      "[CV] base_estimator__criterion=gini, base_estimator__splitter=best, n_estimators=1 \n"
     ]
    },
    {
     "name": "stderr",
     "output_type": "stream",
     "text": [
      "[Parallel(n_jobs=1)]: Done   1 out of   1 | elapsed:    1.9s remaining:    0.0s\n",
      "/usr/local/lib/python3.6/dist-packages/sklearn/utils/validation.py:760: DataConversionWarning: A column-vector y was passed when a 1d array was expected. Please change the shape of y to (n_samples, ), for example using ravel().\n",
      "  y = column_or_1d(y, warn=True)\n"
     ]
    },
    {
     "name": "stdout",
     "output_type": "stream",
     "text": [
      "[CV]  base_estimator__criterion=gini, base_estimator__splitter=best, n_estimators=1, score=0.549, total=   1.7s\n",
      "[CV] base_estimator__criterion=gini, base_estimator__splitter=best, n_estimators=1 \n"
     ]
    },
    {
     "name": "stderr",
     "output_type": "stream",
     "text": [
      "[Parallel(n_jobs=1)]: Done   2 out of   2 | elapsed:    3.6s remaining:    0.0s\n",
      "/usr/local/lib/python3.6/dist-packages/sklearn/utils/validation.py:760: DataConversionWarning: A column-vector y was passed when a 1d array was expected. Please change the shape of y to (n_samples, ), for example using ravel().\n",
      "  y = column_or_1d(y, warn=True)\n"
     ]
    },
    {
     "name": "stdout",
     "output_type": "stream",
     "text": [
      "[CV]  base_estimator__criterion=gini, base_estimator__splitter=best, n_estimators=1, score=0.542, total=   1.7s\n",
      "[CV] base_estimator__criterion=gini, base_estimator__splitter=best, n_estimators=1 \n"
     ]
    },
    {
     "name": "stderr",
     "output_type": "stream",
     "text": [
      "[Parallel(n_jobs=1)]: Done   3 out of   3 | elapsed:    5.3s remaining:    0.0s\n",
      "/usr/local/lib/python3.6/dist-packages/sklearn/utils/validation.py:760: DataConversionWarning: A column-vector y was passed when a 1d array was expected. Please change the shape of y to (n_samples, ), for example using ravel().\n",
      "  y = column_or_1d(y, warn=True)\n"
     ]
    },
    {
     "name": "stdout",
     "output_type": "stream",
     "text": [
      "[CV]  base_estimator__criterion=gini, base_estimator__splitter=best, n_estimators=1, score=0.551, total=   1.8s\n",
      "[CV] base_estimator__criterion=gini, base_estimator__splitter=best, n_estimators=1 \n"
     ]
    },
    {
     "name": "stderr",
     "output_type": "stream",
     "text": [
      "[Parallel(n_jobs=1)]: Done   4 out of   4 | elapsed:    7.1s remaining:    0.0s\n",
      "/usr/local/lib/python3.6/dist-packages/sklearn/utils/validation.py:760: DataConversionWarning: A column-vector y was passed when a 1d array was expected. Please change the shape of y to (n_samples, ), for example using ravel().\n",
      "  y = column_or_1d(y, warn=True)\n"
     ]
    },
    {
     "name": "stdout",
     "output_type": "stream",
     "text": [
      "[CV]  base_estimator__criterion=gini, base_estimator__splitter=best, n_estimators=1, score=0.550, total=   1.8s\n",
      "[CV] base_estimator__criterion=gini, base_estimator__splitter=best, n_estimators=2 \n"
     ]
    },
    {
     "name": "stderr",
     "output_type": "stream",
     "text": [
      "/usr/local/lib/python3.6/dist-packages/sklearn/utils/validation.py:760: DataConversionWarning: A column-vector y was passed when a 1d array was expected. Please change the shape of y to (n_samples, ), for example using ravel().\n",
      "  y = column_or_1d(y, warn=True)\n"
     ]
    },
    {
     "name": "stdout",
     "output_type": "stream",
     "text": [
      "[CV]  base_estimator__criterion=gini, base_estimator__splitter=best, n_estimators=2, score=0.548, total=   3.5s\n",
      "[CV] base_estimator__criterion=gini, base_estimator__splitter=best, n_estimators=2 \n"
     ]
    },
    {
     "name": "stderr",
     "output_type": "stream",
     "text": [
      "/usr/local/lib/python3.6/dist-packages/sklearn/utils/validation.py:760: DataConversionWarning: A column-vector y was passed when a 1d array was expected. Please change the shape of y to (n_samples, ), for example using ravel().\n",
      "  y = column_or_1d(y, warn=True)\n"
     ]
    },
    {
     "name": "stdout",
     "output_type": "stream",
     "text": [
      "[CV]  base_estimator__criterion=gini, base_estimator__splitter=best, n_estimators=2, score=0.580, total=   3.6s\n",
      "[CV] base_estimator__criterion=gini, base_estimator__splitter=best, n_estimators=2 \n"
     ]
    },
    {
     "name": "stderr",
     "output_type": "stream",
     "text": [
      "/usr/local/lib/python3.6/dist-packages/sklearn/utils/validation.py:760: DataConversionWarning: A column-vector y was passed when a 1d array was expected. Please change the shape of y to (n_samples, ), for example using ravel().\n",
      "  y = column_or_1d(y, warn=True)\n"
     ]
    },
    {
     "name": "stdout",
     "output_type": "stream",
     "text": [
      "[CV]  base_estimator__criterion=gini, base_estimator__splitter=best, n_estimators=2, score=0.550, total=   3.6s\n",
      "[CV] base_estimator__criterion=gini, base_estimator__splitter=best, n_estimators=2 \n"
     ]
    },
    {
     "name": "stderr",
     "output_type": "stream",
     "text": [
      "/usr/local/lib/python3.6/dist-packages/sklearn/utils/validation.py:760: DataConversionWarning: A column-vector y was passed when a 1d array was expected. Please change the shape of y to (n_samples, ), for example using ravel().\n",
      "  y = column_or_1d(y, warn=True)\n"
     ]
    },
    {
     "name": "stdout",
     "output_type": "stream",
     "text": [
      "[CV]  base_estimator__criterion=gini, base_estimator__splitter=best, n_estimators=2, score=0.569, total=   3.6s\n",
      "[CV] base_estimator__criterion=gini, base_estimator__splitter=best, n_estimators=2 \n"
     ]
    },
    {
     "name": "stderr",
     "output_type": "stream",
     "text": [
      "/usr/local/lib/python3.6/dist-packages/sklearn/utils/validation.py:760: DataConversionWarning: A column-vector y was passed when a 1d array was expected. Please change the shape of y to (n_samples, ), for example using ravel().\n",
      "  y = column_or_1d(y, warn=True)\n"
     ]
    },
    {
     "name": "stdout",
     "output_type": "stream",
     "text": [
      "[CV]  base_estimator__criterion=gini, base_estimator__splitter=best, n_estimators=2, score=0.551, total=   3.5s\n",
      "[CV] base_estimator__criterion=gini, base_estimator__splitter=random, n_estimators=1 \n"
     ]
    },
    {
     "name": "stderr",
     "output_type": "stream",
     "text": [
      "/usr/local/lib/python3.6/dist-packages/sklearn/utils/validation.py:760: DataConversionWarning: A column-vector y was passed when a 1d array was expected. Please change the shape of y to (n_samples, ), for example using ravel().\n",
      "  y = column_or_1d(y, warn=True)\n"
     ]
    },
    {
     "name": "stdout",
     "output_type": "stream",
     "text": [
      "[CV]  base_estimator__criterion=gini, base_estimator__splitter=random, n_estimators=1, score=0.540, total=   2.0s\n",
      "[CV] base_estimator__criterion=gini, base_estimator__splitter=random, n_estimators=1 \n"
     ]
    },
    {
     "name": "stderr",
     "output_type": "stream",
     "text": [
      "/usr/local/lib/python3.6/dist-packages/sklearn/utils/validation.py:760: DataConversionWarning: A column-vector y was passed when a 1d array was expected. Please change the shape of y to (n_samples, ), for example using ravel().\n",
      "  y = column_or_1d(y, warn=True)\n"
     ]
    },
    {
     "name": "stdout",
     "output_type": "stream",
     "text": [
      "[CV]  base_estimator__criterion=gini, base_estimator__splitter=random, n_estimators=1, score=0.569, total=   2.0s\n",
      "[CV] base_estimator__criterion=gini, base_estimator__splitter=random, n_estimators=1 \n"
     ]
    },
    {
     "name": "stderr",
     "output_type": "stream",
     "text": [
      "/usr/local/lib/python3.6/dist-packages/sklearn/utils/validation.py:760: DataConversionWarning: A column-vector y was passed when a 1d array was expected. Please change the shape of y to (n_samples, ), for example using ravel().\n",
      "  y = column_or_1d(y, warn=True)\n"
     ]
    },
    {
     "name": "stdout",
     "output_type": "stream",
     "text": [
      "[CV]  base_estimator__criterion=gini, base_estimator__splitter=random, n_estimators=1, score=0.526, total=   2.0s\n",
      "[CV] base_estimator__criterion=gini, base_estimator__splitter=random, n_estimators=1 \n"
     ]
    },
    {
     "name": "stderr",
     "output_type": "stream",
     "text": [
      "/usr/local/lib/python3.6/dist-packages/sklearn/utils/validation.py:760: DataConversionWarning: A column-vector y was passed when a 1d array was expected. Please change the shape of y to (n_samples, ), for example using ravel().\n",
      "  y = column_or_1d(y, warn=True)\n"
     ]
    },
    {
     "name": "stdout",
     "output_type": "stream",
     "text": [
      "[CV]  base_estimator__criterion=gini, base_estimator__splitter=random, n_estimators=1, score=0.552, total=   2.1s\n",
      "[CV] base_estimator__criterion=gini, base_estimator__splitter=random, n_estimators=1 \n"
     ]
    },
    {
     "name": "stderr",
     "output_type": "stream",
     "text": [
      "/usr/local/lib/python3.6/dist-packages/sklearn/utils/validation.py:760: DataConversionWarning: A column-vector y was passed when a 1d array was expected. Please change the shape of y to (n_samples, ), for example using ravel().\n",
      "  y = column_or_1d(y, warn=True)\n"
     ]
    },
    {
     "name": "stdout",
     "output_type": "stream",
     "text": [
      "[CV]  base_estimator__criterion=gini, base_estimator__splitter=random, n_estimators=1, score=0.547, total=   2.0s\n",
      "[CV] base_estimator__criterion=gini, base_estimator__splitter=random, n_estimators=2 \n"
     ]
    },
    {
     "name": "stderr",
     "output_type": "stream",
     "text": [
      "/usr/local/lib/python3.6/dist-packages/sklearn/utils/validation.py:760: DataConversionWarning: A column-vector y was passed when a 1d array was expected. Please change the shape of y to (n_samples, ), for example using ravel().\n",
      "  y = column_or_1d(y, warn=True)\n"
     ]
    },
    {
     "name": "stdout",
     "output_type": "stream",
     "text": [
      "[CV]  base_estimator__criterion=gini, base_estimator__splitter=random, n_estimators=2, score=0.520, total=   4.2s\n",
      "[CV] base_estimator__criterion=gini, base_estimator__splitter=random, n_estimators=2 \n"
     ]
    },
    {
     "name": "stderr",
     "output_type": "stream",
     "text": [
      "/usr/local/lib/python3.6/dist-packages/sklearn/utils/validation.py:760: DataConversionWarning: A column-vector y was passed when a 1d array was expected. Please change the shape of y to (n_samples, ), for example using ravel().\n",
      "  y = column_or_1d(y, warn=True)\n"
     ]
    },
    {
     "name": "stdout",
     "output_type": "stream",
     "text": [
      "[CV]  base_estimator__criterion=gini, base_estimator__splitter=random, n_estimators=2, score=0.548, total=   4.1s\n",
      "[CV] base_estimator__criterion=gini, base_estimator__splitter=random, n_estimators=2 \n"
     ]
    },
    {
     "name": "stderr",
     "output_type": "stream",
     "text": [
      "/usr/local/lib/python3.6/dist-packages/sklearn/utils/validation.py:760: DataConversionWarning: A column-vector y was passed when a 1d array was expected. Please change the shape of y to (n_samples, ), for example using ravel().\n",
      "  y = column_or_1d(y, warn=True)\n"
     ]
    },
    {
     "name": "stdout",
     "output_type": "stream",
     "text": [
      "[CV]  base_estimator__criterion=gini, base_estimator__splitter=random, n_estimators=2, score=0.542, total=   4.1s\n",
      "[CV] base_estimator__criterion=gini, base_estimator__splitter=random, n_estimators=2 \n"
     ]
    },
    {
     "name": "stderr",
     "output_type": "stream",
     "text": [
      "/usr/local/lib/python3.6/dist-packages/sklearn/utils/validation.py:760: DataConversionWarning: A column-vector y was passed when a 1d array was expected. Please change the shape of y to (n_samples, ), for example using ravel().\n",
      "  y = column_or_1d(y, warn=True)\n"
     ]
    },
    {
     "name": "stdout",
     "output_type": "stream",
     "text": [
      "[CV]  base_estimator__criterion=gini, base_estimator__splitter=random, n_estimators=2, score=0.535, total=   4.1s\n",
      "[CV] base_estimator__criterion=gini, base_estimator__splitter=random, n_estimators=2 \n"
     ]
    },
    {
     "name": "stderr",
     "output_type": "stream",
     "text": [
      "/usr/local/lib/python3.6/dist-packages/sklearn/utils/validation.py:760: DataConversionWarning: A column-vector y was passed when a 1d array was expected. Please change the shape of y to (n_samples, ), for example using ravel().\n",
      "  y = column_or_1d(y, warn=True)\n"
     ]
    },
    {
     "name": "stdout",
     "output_type": "stream",
     "text": [
      "[CV]  base_estimator__criterion=gini, base_estimator__splitter=random, n_estimators=2, score=0.558, total=   4.0s\n",
      "[CV] base_estimator__criterion=entropy, base_estimator__splitter=best, n_estimators=1 \n"
     ]
    },
    {
     "name": "stderr",
     "output_type": "stream",
     "text": [
      "/usr/local/lib/python3.6/dist-packages/sklearn/utils/validation.py:760: DataConversionWarning: A column-vector y was passed when a 1d array was expected. Please change the shape of y to (n_samples, ), for example using ravel().\n",
      "  y = column_or_1d(y, warn=True)\n"
     ]
    },
    {
     "name": "stdout",
     "output_type": "stream",
     "text": [
      "[CV]  base_estimator__criterion=entropy, base_estimator__splitter=best, n_estimators=1, score=0.517, total=   2.0s\n",
      "[CV] base_estimator__criterion=entropy, base_estimator__splitter=best, n_estimators=1 \n"
     ]
    },
    {
     "name": "stderr",
     "output_type": "stream",
     "text": [
      "/usr/local/lib/python3.6/dist-packages/sklearn/utils/validation.py:760: DataConversionWarning: A column-vector y was passed when a 1d array was expected. Please change the shape of y to (n_samples, ), for example using ravel().\n",
      "  y = column_or_1d(y, warn=True)\n"
     ]
    },
    {
     "name": "stdout",
     "output_type": "stream",
     "text": [
      "[CV]  base_estimator__criterion=entropy, base_estimator__splitter=best, n_estimators=1, score=0.514, total=   2.0s\n",
      "[CV] base_estimator__criterion=entropy, base_estimator__splitter=best, n_estimators=1 \n"
     ]
    },
    {
     "name": "stderr",
     "output_type": "stream",
     "text": [
      "/usr/local/lib/python3.6/dist-packages/sklearn/utils/validation.py:760: DataConversionWarning: A column-vector y was passed when a 1d array was expected. Please change the shape of y to (n_samples, ), for example using ravel().\n",
      "  y = column_or_1d(y, warn=True)\n"
     ]
    },
    {
     "name": "stdout",
     "output_type": "stream",
     "text": [
      "[CV]  base_estimator__criterion=entropy, base_estimator__splitter=best, n_estimators=1, score=0.502, total=   1.9s\n",
      "[CV] base_estimator__criterion=entropy, base_estimator__splitter=best, n_estimators=1 \n"
     ]
    },
    {
     "name": "stderr",
     "output_type": "stream",
     "text": [
      "/usr/local/lib/python3.6/dist-packages/sklearn/utils/validation.py:760: DataConversionWarning: A column-vector y was passed when a 1d array was expected. Please change the shape of y to (n_samples, ), for example using ravel().\n",
      "  y = column_or_1d(y, warn=True)\n"
     ]
    },
    {
     "name": "stdout",
     "output_type": "stream",
     "text": [
      "[CV]  base_estimator__criterion=entropy, base_estimator__splitter=best, n_estimators=1, score=0.530, total=   1.9s\n",
      "[CV] base_estimator__criterion=entropy, base_estimator__splitter=best, n_estimators=1 \n"
     ]
    },
    {
     "name": "stderr",
     "output_type": "stream",
     "text": [
      "/usr/local/lib/python3.6/dist-packages/sklearn/utils/validation.py:760: DataConversionWarning: A column-vector y was passed when a 1d array was expected. Please change the shape of y to (n_samples, ), for example using ravel().\n",
      "  y = column_or_1d(y, warn=True)\n"
     ]
    },
    {
     "name": "stdout",
     "output_type": "stream",
     "text": [
      "[CV]  base_estimator__criterion=entropy, base_estimator__splitter=best, n_estimators=1, score=0.493, total=   2.0s\n",
      "[CV] base_estimator__criterion=entropy, base_estimator__splitter=best, n_estimators=2 \n"
     ]
    },
    {
     "name": "stderr",
     "output_type": "stream",
     "text": [
      "/usr/local/lib/python3.6/dist-packages/sklearn/utils/validation.py:760: DataConversionWarning: A column-vector y was passed when a 1d array was expected. Please change the shape of y to (n_samples, ), for example using ravel().\n",
      "  y = column_or_1d(y, warn=True)\n"
     ]
    },
    {
     "name": "stdout",
     "output_type": "stream",
     "text": [
      "[CV]  base_estimator__criterion=entropy, base_estimator__splitter=best, n_estimators=2, score=0.501, total=   4.1s\n",
      "[CV] base_estimator__criterion=entropy, base_estimator__splitter=best, n_estimators=2 \n"
     ]
    },
    {
     "name": "stderr",
     "output_type": "stream",
     "text": [
      "/usr/local/lib/python3.6/dist-packages/sklearn/utils/validation.py:760: DataConversionWarning: A column-vector y was passed when a 1d array was expected. Please change the shape of y to (n_samples, ), for example using ravel().\n",
      "  y = column_or_1d(y, warn=True)\n"
     ]
    },
    {
     "name": "stdout",
     "output_type": "stream",
     "text": [
      "[CV]  base_estimator__criterion=entropy, base_estimator__splitter=best, n_estimators=2, score=0.508, total=   4.1s\n",
      "[CV] base_estimator__criterion=entropy, base_estimator__splitter=best, n_estimators=2 \n"
     ]
    },
    {
     "name": "stderr",
     "output_type": "stream",
     "text": [
      "/usr/local/lib/python3.6/dist-packages/sklearn/utils/validation.py:760: DataConversionWarning: A column-vector y was passed when a 1d array was expected. Please change the shape of y to (n_samples, ), for example using ravel().\n",
      "  y = column_or_1d(y, warn=True)\n"
     ]
    },
    {
     "name": "stdout",
     "output_type": "stream",
     "text": [
      "[CV]  base_estimator__criterion=entropy, base_estimator__splitter=best, n_estimators=2, score=0.520, total=   4.0s\n",
      "[CV] base_estimator__criterion=entropy, base_estimator__splitter=best, n_estimators=2 \n"
     ]
    },
    {
     "name": "stderr",
     "output_type": "stream",
     "text": [
      "/usr/local/lib/python3.6/dist-packages/sklearn/utils/validation.py:760: DataConversionWarning: A column-vector y was passed when a 1d array was expected. Please change the shape of y to (n_samples, ), for example using ravel().\n",
      "  y = column_or_1d(y, warn=True)\n"
     ]
    },
    {
     "name": "stdout",
     "output_type": "stream",
     "text": [
      "[CV]  base_estimator__criterion=entropy, base_estimator__splitter=best, n_estimators=2, score=0.519, total=   4.2s\n",
      "[CV] base_estimator__criterion=entropy, base_estimator__splitter=best, n_estimators=2 \n"
     ]
    },
    {
     "name": "stderr",
     "output_type": "stream",
     "text": [
      "/usr/local/lib/python3.6/dist-packages/sklearn/utils/validation.py:760: DataConversionWarning: A column-vector y was passed when a 1d array was expected. Please change the shape of y to (n_samples, ), for example using ravel().\n",
      "  y = column_or_1d(y, warn=True)\n"
     ]
    },
    {
     "name": "stdout",
     "output_type": "stream",
     "text": [
      "[CV]  base_estimator__criterion=entropy, base_estimator__splitter=best, n_estimators=2, score=0.520, total=   4.0s\n",
      "[CV] base_estimator__criterion=entropy, base_estimator__splitter=random, n_estimators=1 \n"
     ]
    },
    {
     "name": "stderr",
     "output_type": "stream",
     "text": [
      "/usr/local/lib/python3.6/dist-packages/sklearn/utils/validation.py:760: DataConversionWarning: A column-vector y was passed when a 1d array was expected. Please change the shape of y to (n_samples, ), for example using ravel().\n",
      "  y = column_or_1d(y, warn=True)\n"
     ]
    },
    {
     "name": "stdout",
     "output_type": "stream",
     "text": [
      "[CV]  base_estimator__criterion=entropy, base_estimator__splitter=random, n_estimators=1, score=0.505, total=   2.3s\n",
      "[CV] base_estimator__criterion=entropy, base_estimator__splitter=random, n_estimators=1 \n"
     ]
    },
    {
     "name": "stderr",
     "output_type": "stream",
     "text": [
      "/usr/local/lib/python3.6/dist-packages/sklearn/utils/validation.py:760: DataConversionWarning: A column-vector y was passed when a 1d array was expected. Please change the shape of y to (n_samples, ), for example using ravel().\n",
      "  y = column_or_1d(y, warn=True)\n"
     ]
    },
    {
     "name": "stdout",
     "output_type": "stream",
     "text": [
      "[CV]  base_estimator__criterion=entropy, base_estimator__splitter=random, n_estimators=1, score=0.524, total=   2.5s\n",
      "[CV] base_estimator__criterion=entropy, base_estimator__splitter=random, n_estimators=1 \n"
     ]
    },
    {
     "name": "stderr",
     "output_type": "stream",
     "text": [
      "/usr/local/lib/python3.6/dist-packages/sklearn/utils/validation.py:760: DataConversionWarning: A column-vector y was passed when a 1d array was expected. Please change the shape of y to (n_samples, ), for example using ravel().\n",
      "  y = column_or_1d(y, warn=True)\n"
     ]
    },
    {
     "name": "stdout",
     "output_type": "stream",
     "text": [
      "[CV]  base_estimator__criterion=entropy, base_estimator__splitter=random, n_estimators=1, score=0.522, total=   2.2s\n",
      "[CV] base_estimator__criterion=entropy, base_estimator__splitter=random, n_estimators=1 \n"
     ]
    },
    {
     "name": "stderr",
     "output_type": "stream",
     "text": [
      "/usr/local/lib/python3.6/dist-packages/sklearn/utils/validation.py:760: DataConversionWarning: A column-vector y was passed when a 1d array was expected. Please change the shape of y to (n_samples, ), for example using ravel().\n",
      "  y = column_or_1d(y, warn=True)\n"
     ]
    },
    {
     "name": "stdout",
     "output_type": "stream",
     "text": [
      "[CV]  base_estimator__criterion=entropy, base_estimator__splitter=random, n_estimators=1, score=0.502, total=   2.2s\n",
      "[CV] base_estimator__criterion=entropy, base_estimator__splitter=random, n_estimators=1 \n"
     ]
    },
    {
     "name": "stderr",
     "output_type": "stream",
     "text": [
      "/usr/local/lib/python3.6/dist-packages/sklearn/utils/validation.py:760: DataConversionWarning: A column-vector y was passed when a 1d array was expected. Please change the shape of y to (n_samples, ), for example using ravel().\n",
      "  y = column_or_1d(y, warn=True)\n"
     ]
    },
    {
     "name": "stdout",
     "output_type": "stream",
     "text": [
      "[CV]  base_estimator__criterion=entropy, base_estimator__splitter=random, n_estimators=1, score=0.511, total=   2.1s\n",
      "[CV] base_estimator__criterion=entropy, base_estimator__splitter=random, n_estimators=2 \n"
     ]
    },
    {
     "name": "stderr",
     "output_type": "stream",
     "text": [
      "/usr/local/lib/python3.6/dist-packages/sklearn/utils/validation.py:760: DataConversionWarning: A column-vector y was passed when a 1d array was expected. Please change the shape of y to (n_samples, ), for example using ravel().\n",
      "  y = column_or_1d(y, warn=True)\n"
     ]
    },
    {
     "name": "stdout",
     "output_type": "stream",
     "text": [
      "[CV]  base_estimator__criterion=entropy, base_estimator__splitter=random, n_estimators=2, score=0.509, total=   4.3s\n",
      "[CV] base_estimator__criterion=entropy, base_estimator__splitter=random, n_estimators=2 \n"
     ]
    },
    {
     "name": "stderr",
     "output_type": "stream",
     "text": [
      "/usr/local/lib/python3.6/dist-packages/sklearn/utils/validation.py:760: DataConversionWarning: A column-vector y was passed when a 1d array was expected. Please change the shape of y to (n_samples, ), for example using ravel().\n",
      "  y = column_or_1d(y, warn=True)\n"
     ]
    },
    {
     "name": "stdout",
     "output_type": "stream",
     "text": [
      "[CV]  base_estimator__criterion=entropy, base_estimator__splitter=random, n_estimators=2, score=0.530, total=   4.4s\n",
      "[CV] base_estimator__criterion=entropy, base_estimator__splitter=random, n_estimators=2 \n"
     ]
    },
    {
     "name": "stderr",
     "output_type": "stream",
     "text": [
      "/usr/local/lib/python3.6/dist-packages/sklearn/utils/validation.py:760: DataConversionWarning: A column-vector y was passed when a 1d array was expected. Please change the shape of y to (n_samples, ), for example using ravel().\n",
      "  y = column_or_1d(y, warn=True)\n"
     ]
    },
    {
     "name": "stdout",
     "output_type": "stream",
     "text": [
      "[CV]  base_estimator__criterion=entropy, base_estimator__splitter=random, n_estimators=2, score=0.481, total=   4.5s\n",
      "[CV] base_estimator__criterion=entropy, base_estimator__splitter=random, n_estimators=2 \n"
     ]
    },
    {
     "name": "stderr",
     "output_type": "stream",
     "text": [
      "/usr/local/lib/python3.6/dist-packages/sklearn/utils/validation.py:760: DataConversionWarning: A column-vector y was passed when a 1d array was expected. Please change the shape of y to (n_samples, ), for example using ravel().\n",
      "  y = column_or_1d(y, warn=True)\n"
     ]
    },
    {
     "name": "stdout",
     "output_type": "stream",
     "text": [
      "[CV]  base_estimator__criterion=entropy, base_estimator__splitter=random, n_estimators=2, score=0.504, total=   4.3s\n",
      "[CV] base_estimator__criterion=entropy, base_estimator__splitter=random, n_estimators=2 \n"
     ]
    },
    {
     "name": "stderr",
     "output_type": "stream",
     "text": [
      "/usr/local/lib/python3.6/dist-packages/sklearn/utils/validation.py:760: DataConversionWarning: A column-vector y was passed when a 1d array was expected. Please change the shape of y to (n_samples, ), for example using ravel().\n",
      "  y = column_or_1d(y, warn=True)\n"
     ]
    },
    {
     "name": "stdout",
     "output_type": "stream",
     "text": [
      "[CV]  base_estimator__criterion=entropy, base_estimator__splitter=random, n_estimators=2, score=0.516, total=   4.4s\n"
     ]
    },
    {
     "name": "stderr",
     "output_type": "stream",
     "text": [
      "[Parallel(n_jobs=1)]: Done  40 out of  40 | elapsed:  2.0min finished\n",
      "/usr/local/lib/python3.6/dist-packages/sklearn/utils/validation.py:760: DataConversionWarning: A column-vector y was passed when a 1d array was expected. Please change the shape of y to (n_samples, ), for example using ravel().\n",
      "  y = column_or_1d(y, warn=True)\n"
     ]
    }
   ],
   "source": [
    "from sklearn.ensemble import AdaBoostClassifier\n",
    "\n",
    "parameters = {\"base_estimator__criterion\" : [\"gini\", \"entropy\"],\n",
    "              \"base_estimator__splitter\" :   [\"best\", \"random\"],\n",
    "              \"n_estimators\": [1, 2]\n",
    "             }\n",
    "\n",
    "DTC = DecisionTreeClassifier(random_state = 11, max_features = \"auto\", class_weight = \"balanced\", max_depth = None)\n",
    "ABC = AdaBoostClassifier(base_estimator = DTC)\n",
    "\n",
    "adaboost = GridSearchCV(ABC, parameters, cv = 5, scoring = 'f1_weighted', verbose=5)\n",
    "result = adaboost.fit(X_train_sample, Y_train_sample)"
   ]
  },
  {
   "cell_type": "code",
<<<<<<< Updated upstream
   "execution_count": 83,
=======
   "execution_count": 0,
>>>>>>> Stashed changes
   "metadata": {
    "colab": {
     "base_uri": "https://localhost:8080/",
     "height": 67
    },
    "colab_type": "code",
    "id": "F0aTE2XsXuqj",
    "outputId": "a5f19aef-89df-44b9-e312-cda5b3044df7"
   },
   "outputs": [
    {
     "data": {
      "text/plain": [
       "{'base_estimator__criterion': 'gini',\n",
       " 'base_estimator__splitter': 'best',\n",
       " 'n_estimators': 2}"
      ]
     },
     "execution_count": 83,
     "metadata": {
      "tags": []
     },
     "output_type": "execute_result"
    }
   ],
   "source": [
    "# print results from grid search \n",
    "result.best_params_\n",
    "# result.cv_results_"
   ]
  },
  {
   "cell_type": "markdown",
   "metadata": {
    "colab_type": "text",
    "id": "5ZU8GpeqcIbQ"
   },
   "source": [
    "After this preprocessing step, you have now access to a TF-IDF matrix that constitute our data set for the final evaluation project. The project guidelines are:\n",
    "1. Apply all approaches taught in the course and practiced in lab sessions () on this data set. The goal is to predict the target variable (prdtypecode).\n",
    "2. Compare performances of all these models in terms of the weighted-f1 scores you can output. \n",
    "3. Conclude about the most appropriate approach on this data set for the predictive task. \n",
    "4. Write a report in .tex format that adress all these guidelines with a maximal page number of 5 (including figures, tables and references). We will take into account the quality of writing and presentation of the report."
   ]
  },
  {
   "cell_type": "markdown",
   "metadata": {
    "colab_type": "text",
    "id": "NvQoG2Rc-PJp"
   },
   "source": [
    "IDEAS: For the test set maybe recreate a TF-IDF based on train + test "
   ]
  },
  {
   "cell_type": "code",
   "execution_count": 0,
   "metadata": {
    "colab": {},
    "colab_type": "code",
    "id": "seRem5uK-UoN"
   },
   "outputs": [],
   "source": []
  },
  {
   "cell_type": "code",
   "execution_count": 0,
   "metadata": {
    "colab": {},
    "colab_type": "code",
    "id": "P73ive8BCAun"
   },
   "outputs": [],
   "source": [
    "import matplotlib.pyplot as plt\n",
    "\n",
    "def plot_results(model, param = 'min_samples_leaf', name = 'min_samples_leaf'):\n",
    "    param_name = 'param_%s' % param\n",
    "\n",
    "    # Extract information from the cross validation model\n",
    "    train_scores = result.cv_results_['mean_test_score']\n",
    "    test_scores = result.cv_results_['mean_test_score']\n",
    "    train_time = result.cv_results_['mean_test_score']\n",
    "    param_values = list(model.cv_results_[param_name])\n",
    "    \n",
    "    # Plot the scores over the parameter\n",
    "    plt.subplots(1, 2, figsize=(10, 6))\n",
    "    plt.subplot(121)\n",
    "    plt.plot(param_values, train_scores, 'bo-', label = 'train')\n",
    "    plt.plot(param_values, test_scores, 'go-', label = 'test')\n",
    "    plt.ylim(ymin = -10, ymax = 0)\n",
    "    plt.legend()\n",
    "    plt.xlabel(name)\n",
    "    plt.ylabel('Neg Mean Absolute Error')\n",
    "    plt.title('Score vs %s' % name)\n",
    "    \n",
    "    plt.subplot(122)\n",
    "    plt.plot(param_values, train_time, 'ro-')\n",
    "    plt.ylim(ymin = 0.0, ymax = 2.0)\n",
    "    plt.xlabel(name)\n",
    "    plt.ylabel('Train Time (sec)')\n",
    "    plt.title('Training Time vs %s' % name)\n",
    "    \n",
    "    plt.tight_layout(pad = 4)"
   ]
  },
  {
   "cell_type": "code",
   "execution_count": 0,
   "metadata": {
    "colab": {
     "base_uri": "https://localhost:8080/",
     "height": 383
    },
    "colab_type": "code",
    "id": "bQhIQqbTI4xk",
    "outputId": "b5763937-b8ae-46a6-93c0-bdfafeaaf8f6"
   },
   "outputs": [
    {
     "data": {
      "image/png": "iVBORw0KGgoAAAANSUhEUgAAAo4AAAFuCAYAAAAPopn/AAAABHNCSVQICAgIfAhkiAAAAAlwSFlz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\n",
      "text/plain": [
       "<Figure size 720x432 with 2 Axes>"
      ]
     },
     "metadata": {
      "tags": []
     },
     "output_type": "display_data"
    }
   ],
   "source": [
    "plot_results(rand_forest)"
   ]
  }
 ],
 "metadata": {
  "accelerator": "GPU",
  "colab": {
   "collapsed_sections": [],
   "machine_shape": "hm",
   "name": "Project-02.ipynb",
   "provenance": []
  },
  "kernelspec": {
   "display_name": "Python 3",
   "language": "python",
   "name": "python3"
  },
  "language_info": {
   "codemirror_mode": {
    "name": "ipython",
    "version": 3
   },
   "file_extension": ".py",
   "mimetype": "text/x-python",
   "name": "python",
   "nbconvert_exporter": "python",
   "pygments_lexer": "ipython3",
<<<<<<< Updated upstream
   "version": "3.7.3"
=======
   "version": "3.7.6"
>>>>>>> Stashed changes
  }
 },
 "nbformat": 4,
 "nbformat_minor": 1
}
