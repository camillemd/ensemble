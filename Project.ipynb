{
  "nbformat": 4,
  "nbformat_minor": 0,
  "metadata": {
    "kernelspec": {
      "name": "python3",
      "display_name": "Python 3"
    },
    "language_info": {
      "codemirror_mode": {
        "name": "ipython",
        "version": 3
      },
      "file_extension": ".py",
      "mimetype": "text/x-python",
      "name": "python",
      "nbconvert_exporter": "python",
      "pygments_lexer": "ipython3",
      "version": "3.7.6"
    },
    "colab": {
      "name": "Project-02.ipynb",
      "provenance": [],
      "collapsed_sections": [
        "oO0UjVRRcIa_"
      ],
      "machine_shape": "hm"
    },
    "accelerator": "GPU"
  },
  "cells": [
    {
      "cell_type": "markdown",
      "metadata": {
        "id": "JQhP7Lf1cIZ-",
        "colab_type": "text"
      },
      "source": [
        "## Course Project: Text Classification with Rakuten France Product Data\n",
        "\n",
        "The project focuses on the topic of large-scale product type code text classification where the goal is to predict each product’s type code as defined in the catalog of Rakuten France. This project is derived from a data challenge proposed by Rakuten Institute of Technology, Paris. Details of the data challenge is [available in this link](https://challengedata.ens.fr/challenges/35).\n",
        "\n",
        "The above data challenge focuses on multimodal product type code classification using text and image data. **For this project we will work with only text part of the data.**\n",
        "\n",
        "Please read carefully the description of the challenge provided in the above link. **You can disregard any information related to the image part of the data.**\n",
        "\n",
        "### To obtain the data\n",
        "You have to register yourself [in this link](https://challengedata.ens.fr/challenges/35) to get access to the data.\n",
        "\n",
        "For this project you will only need the text data. Download the training files `x_train` and `y_train`, containing the item texts, and the corresponding product type code labels.\n",
        "\n",
        "### Pandas for handling the data\n",
        "The files you obtained are in CSV format. We strongly suggest to use Python Pandas package to load and visualize the data. [Here is a basic tutorial](https://data36.com/pandas-tutorial-1-basics-reading-data-files-dataframes-data-selection/) on how to handle data in CSV file using Pandas.\n",
        "\n",
        "If you open the `x_train` dataset using Pandas, you will find that it contains following columns:\n",
        "1. an integer ID for the product\n",
        "2. **designation** - The product title\n",
        "3. description\n",
        "4. productid\n",
        "5. imageid\n",
        "\n",
        "For this project we will only need the integer ID and the designation. You can [`drop`](https://pandas.pydata.org/pandas-docs/stable/reference/api/pandas.DataFrame.drop.html) the other columns.\n",
        "\n",
        "The training output file `y_train.csv` contains the **prdtypecode**, the target/output variable for the classification task, for each integer id in the training input file `X_train.csv`.\n",
        "\n",
        "### Task for the break\n",
        "1. Register yourself and download the training and test for text data. You do not need the `supplementary files` for this project.\n",
        "2. Load the data using pandas and disregard unnecessary columns as mentioned above.\n",
        "3. On the **designation** column, apply the preprocessing techniques.\n",
        "\n",
        "### Task for the end of the course\n",
        "After this preprocessing step, you have now access to a TF-IDF matrix that constitute our data set for the final evaluation project. The project guidelines are:\n",
        "1. Apply all approaches taught in the course and practiced in lab sessions (Decision Trees, Bagging, Random forests, Boosting, Gradient Boosted Trees, AdaBoost, etc.) on this data set. The goal is to predict the target variable (prdtypecode).\n",
        "2. Compare performances of all these models in terms of the weighted-f1 scores you can output. \n",
        "3. Conclude about the most appropriate approach on this data set for the predictive task. \n",
        "4. Write a report in .tex format that adress all these guidelines with a maximal page number of 5 (including figures, tables and references). We will take into account the quality of writing and presentation of the report."
      ]
    },
    {
      "cell_type": "code",
      "metadata": {
        "id": "yNZUdNYqh3z3",
        "colab_type": "code",
        "colab": {}
      },
      "source": [
        "!python -m spacy download fr_core_news_sm"
      ],
      "execution_count": 0,
      "outputs": []
    },
    {
      "cell_type": "code",
      "metadata": {
        "id": "tUfoMyxocIaC",
        "colab_type": "code",
        "colab": {}
      },
      "source": [
        "import numpy as np\n",
        "import pandas as pd\n",
        "import spacy\n",
        "import fr_core_news_sm\n",
        "\n",
        "# Load spaCy for french\n",
        "spacy_nlp = fr_core_news_sm.load()"
      ],
      "execution_count": 0,
      "outputs": []
    },
    {
      "cell_type": "code",
      "metadata": {
        "id": "eR_HqRt_euvF",
        "colab_type": "code",
        "outputId": "3eebe6d9-77af-4d43-f98f-0c71df663333",
        "colab": {
          "base_uri": "https://localhost:8080/",
          "height": 34
        }
      },
      "source": [
        "# linking Google-Drive to save plots\n",
        "from google.colab import drive\n",
        "drive = drive.mount('/content/drive')"
      ],
      "execution_count": 0,
      "outputs": [
        {
          "output_type": "stream",
          "text": [
            "Drive already mounted at /content/drive; to attempt to forcibly remount, call drive.mount(\"/content/drive\", force_remount=True).\n"
          ],
          "name": "stdout"
        }
      ]
    },
    {
      "cell_type": "code",
      "metadata": {
        "id": "PJdb1QTRfiRj",
        "colab_type": "code",
        "colab": {}
      },
      "source": [
        "# create a directory for saving the models and the training progress\n",
        "save_folder = '/content/drive/My Drive/MScDSBA/Data_Science/Ensemble_Learning/'"
      ],
      "execution_count": 0,
      "outputs": []
    },
    {
      "cell_type": "code",
      "metadata": {
        "id": "cGgaeZqRcIaM",
        "colab_type": "code",
        "colab": {}
      },
      "source": [
        "# download data\n",
        "X_train = pd.read_csv(save_folder + 'data/X_train.csv')\n",
        "Y_train = pd.read_csv(save_folder + 'data/Y_train.csv')\n",
        "X_test = pd.read_csv(save_folder + 'data/X_test.csv')"
      ],
      "execution_count": 0,
      "outputs": []
    },
    {
      "cell_type": "code",
      "metadata": {
        "id": "j1Xs6pX0cIaS",
        "colab_type": "code",
        "colab": {}
      },
      "source": [
        "# X_train.head()\n",
        "# Y_train.head()\n",
        "# X_test.head()"
      ],
      "execution_count": 0,
      "outputs": []
    },
    {
      "cell_type": "markdown",
      "metadata": {
        "id": "dlQlsV6xcIaW",
        "colab_type": "text"
      },
      "source": [
        "## Pre-processing\n",
        "\n",
        "1. We only keep the designation and id. \n",
        "2. We normalize the accents, put the text in lower-case, remove the punctuation, tokenise the extracts"
      ]
    },
    {
      "cell_type": "code",
      "metadata": {
        "id": "NU1JUqUscIaY",
        "colab_type": "code",
        "colab": {}
      },
      "source": [
        "# designation and ids\n",
        "def cleaning(X_train): \n",
        "    X_train = X_train.drop(['description', 'productid','imageid'], axis=1)\n",
        "    X_train.columns = ['integer_id', 'designation']\n",
        "    return X_train\n",
        "\n",
        "def cleaning_Y(y_train): \n",
        "    y_train = y_train.drop(['Unnamed: 0'], axis=1)\n",
        "    return y_train"
      ],
      "execution_count": 0,
      "outputs": []
    },
    {
      "cell_type": "code",
      "metadata": {
        "id": "rey2YgHKcIab",
        "colab_type": "code",
        "colab": {}
      },
      "source": [
        "def normalize_accent(string):\n",
        "    string = string.replace('á', 'a')\n",
        "    string = string.replace('â', 'a')\n",
        "\n",
        "    string = string.replace('é', 'e')\n",
        "    string = string.replace('è', 'e')\n",
        "    string = string.replace('ê', 'e')\n",
        "    string = string.replace('ë', 'e')\n",
        "\n",
        "    string = string.replace('î', 'i')\n",
        "    string = string.replace('ï', 'i')\n",
        "\n",
        "    string = string.replace('ö', 'o')\n",
        "    string = string.replace('ô', 'o')\n",
        "    string = string.replace('ò', 'o')\n",
        "    string = string.replace('ó', 'o')\n",
        "\n",
        "    string = string.replace('ù', 'u')\n",
        "    string = string.replace('û', 'u')\n",
        "    string = string.replace('ü', 'u')\n",
        "\n",
        "    string = string.replace('ç', 'c')\n",
        "    \n",
        "    return string"
      ],
      "execution_count": 0,
      "outputs": []
    },
    {
      "cell_type": "code",
      "metadata": {
        "id": "o3CTM_KwcyzO",
        "colab_type": "code",
        "colab": {}
      },
      "source": [
        "import re \n",
        "  \n",
        "def del_digits(list): \n",
        "    pattern = '[0-9]'\n",
        "    list = [re.sub(pattern, '', i) for i in list] \n",
        "    return list\n",
        "\n",
        "def del_date(list): \n",
        "    pattern = '^(?:(?:[0-9]{2}[:\\/,]){2}[0-9]{2,4}|am|pm)$'\n",
        "    list = [re.sub(pattern, '', i) for i in list] \n",
        "    return list\n",
        "\n",
        "def del_specialchar(list): \n",
        "    pattern = '\\W'\n",
        "    list = [re.sub(pattern, '', i) for i in list] \n",
        "    return list\n",
        "\n",
        "def del_letters(list): \n",
        "    for i in list:\n",
        "      if len(i) <= 1:\n",
        "        list.remove(i)\n",
        "    return list\n"
      ],
      "execution_count": 0,
      "outputs": []
    },
    {
      "cell_type": "code",
      "metadata": {
        "id": "8wNlScwQcIae",
        "colab_type": "code",
        "colab": {}
      },
      "source": [
        "def raw_to_tokens(raw_string, spacy_nlp):\n",
        "    # Write code for lower-casing\n",
        "    string = raw_string.lower()\n",
        "    \n",
        "    # Write code to normalize the accents\n",
        "    string = normalize_accent(string)\n",
        "        \n",
        "    # Write code to tokenize\n",
        "    spacy_tokens = spacy_nlp(string)\n",
        "        \n",
        "    # Write code to remove punctuation tokens and create string tokens\n",
        "    string_tokens = [token.orth_ for token in spacy_tokens if not token.is_punct if not token.is_stop]\n",
        "\n",
        "    # Write code to remove digits\n",
        "    string_tokens = del_digits(string_tokens)\n",
        "\n",
        "    # Write code to remove special character\n",
        "    string_tokens = del_specialchar(string_tokens)\n",
        "\n",
        "    # Write code to remove dates\n",
        "    string_tokens = del_date(string_tokens)\n",
        "\n",
        "    # Write code to remove single letters\n",
        "    string_tokens = del_letters(string_tokens)\n",
        "    \n",
        "    # Write code to join the tokens back into a single string\n",
        "    clean_string = \" \".join(string_tokens)\n",
        "\n",
        "    #return clean_string\n",
        "    return clean_string"
      ],
      "execution_count": 0,
      "outputs": []
    },
    {
      "cell_type": "code",
      "metadata": {
        "id": "_bP6Pw8Rnt69",
        "colab_type": "code",
        "colab": {}
      },
      "source": [
        "def preprocessed_to_tokens(raw_string, spacy_nlp):\n",
        "    # Write code to remove punctuation tokens and create string tokens\n",
        "    string_tokens = [token.orth_ for token in spacy_tokens if not token.is_punct if not token.is_stop]\n",
        "    \n",
        "    # Write code to join the tokens back into a single string\n",
        "    clean_string = \" \".join(string_tokens)\n",
        "\n",
        "    return clean_string"
      ],
      "execution_count": 0,
      "outputs": []
    },
    {
      "cell_type": "markdown",
      "metadata": {
        "id": "Wlhkp71NcIak",
        "colab_type": "text"
      },
      "source": [
        "### Apply pre-processing functions\n",
        "\n",
        "N.B.: Section takes about ~20 min to run, skip-it if you have the pre-processed data folders. "
      ]
    },
    {
      "cell_type": "code",
      "metadata": {
        "id": "RjSw0QtaeQXu",
        "colab_type": "code",
        "colab": {}
      },
      "source": [
        "!python -m spacy download en_core_web_sm\n",
        "!python -m spacy download de_core_news_sm"
      ],
      "execution_count": 0,
      "outputs": []
    },
    {
      "cell_type": "code",
      "metadata": {
        "id": "vuIp0-lflznm",
        "colab_type": "code",
        "colab": {}
      },
      "source": [
        "import en_core_web_sm\n",
        "import de_core_news_sm\n",
        "\n",
        "# X_train - step takes roughly ~15:30 min \n",
        "X_train = cleaning(X_train)\n",
        "\n",
        "spacy_nlp = fr_core_news_sm.load()\n",
        "X_train['designation_cleaned'] = X_train['designation'].apply(lambda x: raw_to_tokens(x, spacy_nlp))\n",
        "spacy_nlp = spacy.load('en_core_web_sm')\n",
        "X_train['designation_cleaned'] = X_train['designation_cleaned'].apply(lambda x: raw_to_tokens(x, spacy_nlp))\n",
        "spacy_nlp = de_core_news_sm.load()\n",
        "X_train['designation_cleaned'] = X_train['designation_cleaned'].apply(lambda x: raw_to_tokens(x, spacy_nlp))"
      ],
      "execution_count": 0,
      "outputs": []
    },
    {
      "cell_type": "code",
      "metadata": {
        "id": "V_-Nxa_bcIaq",
        "colab_type": "code",
        "colab": {}
      },
      "source": [
        "# X_test - step takes roughly ~2:20 min \n",
        "X_test = cleaning(X_test)\n",
        "\n",
        "spacy_nlp = fr_core_news_sm.load()\n",
        "X_test['designation_cleaned'] = X_test['designation'].apply(lambda x: raw_to_tokens(x, spacy_nlp))\n",
        "spacy_nlp = spacy.load('en_core_web_sm')\n",
        "X_test['designation_cleaned'] = X_test['designation_cleaned'].apply(lambda x: raw_to_tokens(x, spacy_nlp))\n",
        "spacy_nlp = de_core_news_sm.load()\n",
        "X_test['designation_cleaned'] = X_test['designation_cleaned'].apply(lambda x: raw_to_tokens(x, spacy_nlp))"
      ],
      "execution_count": 0,
      "outputs": []
    },
    {
      "cell_type": "code",
      "metadata": {
        "id": "Y0CrkgjrcIav",
        "colab_type": "code",
        "colab": {}
      },
      "source": [
        "# save folders to avoid re-processing everytime\n",
        "X_train.to_csv((save_folder + 'data/X_train_cleaned.csv'), index = False, header=True)\n",
        "X_test.to_csv((save_folder + 'data/X_test_cleaned.csv'), index = False, header=True)"
      ],
      "execution_count": 0,
      "outputs": []
    },
    {
      "cell_type": "code",
      "metadata": {
        "id": "bfVPb_8cNujT",
        "colab_type": "code",
        "colab": {}
      },
      "source": [
        "# Y_train cleaning\n",
        "Y_train = cleaning_Y(Y_train)\n",
        "Y_test = cleaning_Y(Y_test)"
      ],
      "execution_count": 0,
      "outputs": []
    },
    {
      "cell_type": "markdown",
      "metadata": {
        "id": "locvGtwKcIa0",
        "colab_type": "text"
      },
      "source": [
        "## TF-IDF matrix\n",
        "\n",
        "Construct the TF-IDF matrix from the pre-processed data. "
      ]
    },
    {
      "cell_type": "code",
      "metadata": {
        "id": "btqxRLUNcIa1",
        "colab_type": "code",
        "colab": {}
      },
      "source": [
        "X_train = pd.read_csv(save_folder + 'data/X_train_cleaned.csv')\n",
        "X_test = pd.read_csv(save_folder + 'data/X_test_cleaned.csv')"
      ],
      "execution_count": 0,
      "outputs": []
    },
    {
      "cell_type": "code",
      "metadata": {
        "id": "y4VbcBOqcIa4",
        "colab_type": "code",
        "colab": {}
      },
      "source": [
        "# create a list from the processed cells\n",
        "doc_clean_train =  X_train['designation_cleaned'].astype('U').tolist()\n",
        "doc_clean_test = X_test['designation_cleaned'].astype('U').tolist()\n",
        "doc_clean = doc_clean_train + doc_clean_test"
      ],
      "execution_count": 0,
      "outputs": []
    },
    {
      "cell_type": "code",
      "metadata": {
        "id": "HbEVHH7OcIa7",
        "colab_type": "code",
        "outputId": "b1b6de29-5155-4a85-c65f-71f586d58ec9",
        "colab": {
          "base_uri": "https://localhost:8080/",
          "height": 50
        }
      },
      "source": [
        "# import TfidfVectorizer\n",
        "from sklearn.feature_extraction.text import TfidfVectorizer\n",
        "\n",
        "# convert raw documents into TF-IDF matrix.\n",
        "tfidf = TfidfVectorizer()\n",
        "X_tfidf = tfidf.fit_transform(doc_clean)\n",
        "\n",
        "print(\"Shape of the TF-IDF Matrix:\")\n",
        "print(X_tfidf.shape)"
      ],
      "execution_count": 0,
      "outputs": [
        {
          "output_type": "stream",
          "text": [
            "Shape of the TF-IDF Matrix:\n",
            "(1100, 4228)\n"
          ],
          "name": "stdout"
        }
      ]
    },
    {
      "cell_type": "markdown",
      "metadata": {
        "id": "oO0UjVRRcIa_",
        "colab_type": "text"
      },
      "source": [
        "### PCA of the TFIDF matrix \n",
        "We apply a PCA on the TF-IDF matrix to reduce the dimension. Given the matrix is very sparse, this improves the speed of the algorithms. We opt for **XY** principal components corresponding to 85% variance explained. Since the matrix is very sparse, Sparse PCA model is used. \n",
        "\n",
        "https://scikit-learn.org/stable/modules/generated/sklearn.decomposition.SparsePCA.html\n",
        "\n",
        "**Conclusion:** This model is not functional as it requires a lot of memory to store the dense array of size (98728, 86833). "
      ]
    },
    {
      "cell_type": "code",
      "metadata": {
        "id": "7Sqjhg13cIbA",
        "colab_type": "code",
        "colab": {}
      },
      "source": [
        "from sklearn.decomposition import SparsePCA\n",
        "\n",
        "transformer = SparsePCA(n_components=5, random_state=0)\n",
        "transformer.fit(X_tfidf.toarray())\n",
        "\n",
        "X_transformed = transformer.transform(X_tfidf)\n",
        "X_transformed.shape\n",
        "\n",
        "# most values in the components_ are zero (sparsity)\n",
        "np.mean(transformer.components_ == 0)"
      ],
      "execution_count": 0,
      "outputs": []
    },
    {
      "cell_type": "markdown",
      "metadata": {
        "id": "rrhaJYDGue4S",
        "colab_type": "text"
      },
      "source": [
        "### Truncated SVD\n",
        "Since PCA cannot be used here, truncated SVD, a method which is used to reduce the dimensions of TF-IDF matrices is applied on our matrix. We opt for the number of principal components corresponding to 85% variance explained. However, this is not viable given the shape of the curve representing variance explained and the fact 2000 principal components only represent 0.53 variance explained. "
      ]
    },
    {
      "cell_type": "code",
      "metadata": {
        "id": "F1i3PXH2uc2k",
        "colab_type": "code",
        "outputId": "a6a004bf-f895-46bc-8785-14458cdf09c2",
        "colab": {
          "base_uri": "https://localhost:8080/",
          "height": 67
        }
      },
      "source": [
        "from sklearn.decomposition import TruncatedSVD\n",
        "\n",
        "# number of chosen SVD components is 1000 only, it should be updated\n",
        "SVD = TruncatedSVD(n_components = 2000, algorithm='arpack', random_state = 42)\n",
        "X_transformed = SVD.fit_transform(X_tfidf)\n",
        "\n",
        "print('Explained variance:')\n",
        "print(SVD.explained_variance_ratio_.sum())\n",
        "print(X_transformed.shape)"
      ],
      "execution_count": 0,
      "outputs": [
        {
          "output_type": "stream",
          "text": [
            "Explained variance:\n",
            "0.53238859651639\n",
            "(84916, 2000)\n"
          ],
          "name": "stdout"
        }
      ]
    },
    {
      "cell_type": "code",
      "metadata": {
        "id": "PkZmUDR429N5",
        "colab_type": "code",
        "outputId": "9638ba5a-d956-4f0e-9fd6-761fcd64d437",
        "colab": {
          "base_uri": "https://localhost:8080/",
          "height": 500
        }
      },
      "source": [
        "import matplotlib.pyplot as plt\n",
        "plt.style.use('ggplot')\n",
        "\n",
        "fig = plt.figure(figsize=(10, 8))\n",
        "plt.plot(SVD.explained_variance_ratio_, color=\"black\")\n",
        "plt.xlabel('Principal Component', fontsize = 12)\n",
        "plt.ylabel('Variance Explained', fontsize = 12)\n",
        "fig.savefig(save_folder + \"SVD.png\")\n",
        "# 1000 : 0.3814 variance explained "
      ],
      "execution_count": 0,
      "outputs": [
        {
          "output_type": "display_data",
          "data": {
            "image/png": "[encoded data removed]",
            "text/plain": [
              "<Figure size 720x576 with 1 Axes>"
            ]
          },
          "metadata": {
            "tags": []
          }
        }
      ]
    },
    {
      "cell_type": "markdown",
      "metadata": {
        "id": "szJY3EbK-QYD",
        "colab_type": "text"
      },
      "source": [
        "### Use the TF-IDF matrix as the training set\n",
        "\n",
        "If applicable, based on the applied transformations:\n",
        "*   Define the X_train_T matrix as the truncated or TF-IDF matrix\n",
        "*   Divide back in train and test\n",
        "\n"
      ]
    },
    {
      "cell_type": "code",
      "metadata": {
        "id": "FElzRvq2cIbG",
        "colab_type": "code",
        "colab": {}
      },
      "source": [
        "# if no transformation is applied i.e. no PCA / truncated SVD: \n",
        "X_transformed = X_tfidf\n",
        "# print(X_transformed)"
      ],
      "execution_count": 0,
      "outputs": []
    },
    {
      "cell_type": "code",
      "metadata": {
        "id": "le0ndD_L-P9c",
        "colab_type": "code",
        "outputId": "b5724f6f-d45d-4282-a8e8-572e32806b91",
        "colab": {
          "base_uri": "https://localhost:8080/",
          "height": 50
        }
      },
      "source": [
        "X_train_T = X_transformed\n",
        "X_test_T = X_transformed\n",
        "\n",
        "print(X_train_T.shape) # 84916\n",
        "print(X_test_T.shape) # 13812"
      ],
      "execution_count": 0,
      "outputs": [
        {
          "output_type": "stream",
          "text": [
            "(1000, 4228)\n",
            "(100, 4228)\n"
          ],
          "name": "stdout"
        }
      ]
    },
    {
      "cell_type": "markdown",
      "metadata": {
        "id": "AzjmYOR9cIbJ",
        "colab_type": "text"
      },
      "source": [
        "## Apply various models to predict the target variable\n",
        "1. Decision Trees\n",
        "2. Bagging\n",
        "3. Random forests\n",
        "4. Boosting\n",
        "5. Gradient Boosted Trees\n",
        "6. AdaBoost, etc."
      ]
    },
    {
      "cell_type": "markdown",
      "metadata": {
        "id": "aPk03wxL-_EC",
        "colab_type": "text"
      },
      "source": [
        "### Reduce the dataset to 20% of its initial size for faster training\n",
        "\n",
        "The selection is done at random i.e. 20% of the training samples are chosen at random within the training set. Assuming the data is uniformly distributed."
      ]
    },
    {
      "cell_type": "code",
      "metadata": {
        "id": "Vnmk1fljBVyT",
        "colab_type": "code",
        "colab": {}
      },
      "source": [
        "# CHOOSE NUMBER OF SAMPLES TESTED\n",
        "import math \n",
        "row, col = X_train.shape\n",
        "N = math.ceil(row * 0.2) # 20% of the data\n",
        "#N = 1000"
      ],
      "execution_count": 0,
      "outputs": []
    },
    {
      "cell_type": "code",
      "metadata": {
        "id": "zIk8-0JJ-FAI",
        "colab_type": "code",
        "outputId": "e0a06dbf-f87c-4ef5-c5e6-2aa0524c8089",
        "colab": {
          "base_uri": "https://localhost:8080/",
          "height": 50
        }
      },
      "source": [
        "# pick at random 10% of the total samples\n",
        "import random \n",
        "\n",
        "rdsample = random.sample(range(1, row), N) \n",
        "\n",
        "X_train_sample = X_train_T[rdsample,]\n",
        "Y_train_sample = Y_train.to_numpy()[rdsample,]\n",
        "Y_train_sample = pd.DataFrame(Y_train_sample[:,1])\n",
        "\n",
        "print(X_train_sample.shape)\n",
        "print(Y_train_sample.shape)"
      ],
      "execution_count": 0,
      "outputs": [
        {
          "output_type": "stream",
          "text": [
            "(16984, 79402)\n",
            "(16984, 1)\n"
          ],
          "name": "stdout"
        }
      ]
    },
    {
      "cell_type": "markdown",
      "metadata": {
        "id": "uDIBzS5-mrM0",
        "colab_type": "text"
      },
      "source": [
        "#### Determine the number of classes"
      ]
    },
    {
      "cell_type": "code",
      "metadata": {
        "id": "8bn7J9hlmqIY",
        "colab_type": "code",
        "outputId": "b0e0a75b-0d63-4e52-b63a-1d04cd3be123",
        "colab": {
          "base_uri": "https://localhost:8080/",
          "height": 34
        }
      },
      "source": [
        "values, counts = np.unique(Y_train['prdtypecode'], return_counts=True)\n",
        "classes = len(counts)\n",
        "print(\"The number of classes is\", classes)"
      ],
      "execution_count": 0,
      "outputs": [
        {
          "output_type": "stream",
          "text": [
            "The number of classes is 27\n"
          ],
          "name": "stdout"
        }
      ]
    },
    {
      "cell_type": "markdown",
      "metadata": {
        "id": "MtafdfGAcIbK",
        "colab_type": "text"
      },
      "source": [
        "### 1. Decision trees"
      ]
    },
    {
      "cell_type": "code",
      "metadata": {
        "id": "1G15rXjucIbL",
        "colab_type": "code",
        "colab": {}
      },
      "source": [
        "from sklearn import tree\n",
        "from sklearn.tree import DecisionTreeClassifier\n",
        "from sklearn.model_selection import GridSearchCV\n",
        "from sklearn.model_selection import cross_val_score\n",
        "\n",
        "parameters = {'criterion':['gini','entropy'],\n",
        "              'max_depth': np.arange(25, 35), \n",
        "              'splitter':['best', 'random']}\n",
        "\n",
        "grid_dec_tree = GridSearchCV(tree.DecisionTreeClassifier(), parameters, cv = 5, scoring = 'f1_weighted', verbose=5, n_jobs=-1)\n",
        "result = grid_dec_tree.fit(X_train_sample, Y_train_sample)\n",
        "\n",
        "# update verbose to 2 for more steps\n",
        "# add-in progress bar to evaluate time taken / time it will take\n",
        "# https://infocenter.informationbuilders.com/wf80/index.jsp?topic=%2Fpubdocs%2FRStat16%2Fsource%2Ftopic47.htm"
      ],
      "execution_count": 0,
      "outputs": []
    },
    {
      "cell_type": "code",
      "metadata": {
        "id": "LkCWgRmVcIbN",
        "colab_type": "code",
        "outputId": "5877e7e8-e010-4c67-d209-dc3058c5a710",
        "colab": {
          "base_uri": "https://localhost:8080/",
          "height": 34
        }
      },
      "source": [
        "# print results from grid search \n",
        "result.best_params_\n",
        "# result.cv_results_"
      ],
      "execution_count": 0,
      "outputs": [
        {
          "output_type": "execute_result",
          "data": {
            "text/plain": [
              "{'criterion': 'entropy', 'max_depth': 34, 'splitter': 'random'}"
            ]
          },
          "metadata": {
            "tags": []
          },
          "execution_count": 22
        }
      ]
    },
    {
      "cell_type": "code",
      "metadata": {
        "id": "y3CAo5vCwERN",
        "colab_type": "code",
        "colab": {}
      },
      "source": [
        "import seaborn as sns\n",
        "\n",
        "table = pd.pivot_table(pd.DataFrame(result.cv_results_),\n",
        "    values='f1_weighted', index='parameters_max_depth', \n",
        "                       columns='parameters_criterion')\n",
        "     \n",
        "sns.heatmap(table)"
      ],
      "execution_count": 0,
      "outputs": []
    },
    {
      "cell_type": "code",
      "metadata": {
        "id": "gmfU5ohOoOjP",
        "colab_type": "code",
        "colab": {}
      },
      "source": [
        "from sklearn.model_selection import validation_curve\n",
        "\n",
        "param_range = np.arange(50, 200, 5)\n",
        "train_scores, test_scores = validation_curve(\n",
        "                            DecisionTreeClassifier(criterion = 'gini', splitter = 'random'),\n",
        "                            X = X_train_sample, y = Y_train_sample, scoring = \"f1_weighted\",\n",
        "                            param_name = 'max_depth', \n",
        "                            param_range = param_range, cv = 5)"
      ],
      "execution_count": 0,
      "outputs": []
    },
    {
      "cell_type": "code",
      "metadata": {
        "id": "MAyyrcAnr_Qu",
        "colab_type": "code",
        "outputId": "68b5485a-10cf-4c3f-ef13-b59c8fe85ffa",
        "colab": {
          "base_uri": "https://localhost:8080/",
          "height": 297
        }
      },
      "source": [
        "import matplotlib.pyplot as plt\n",
        "\n",
        "# Calculate mean and standard deviation for training set scores\n",
        "train_mean = np.mean(train_scores, axis=1)\n",
        "train_std = np.std(train_scores, axis=1)\n",
        "\n",
        "# Calculate mean and standard deviation for test set scores\n",
        "test_mean = np.mean(test_scores, axis=1)\n",
        "test_std = np.std(test_scores, axis=1)\n",
        "\n",
        "# Plot mean accuracy scores for training and test sets\n",
        "plt.plot(param_range, train_mean, label=\"Training score\", color=\"black\")\n",
        "plt.plot(param_range, test_mean, label=\"Cross-validation score\", color=\"dimgrey\")\n",
        "\n",
        "# Plot accurancy bands for training and test sets\n",
        "plt.fill_between(param_range, train_mean - train_std, train_mean + train_std, color=\"gray\")\n",
        "plt.fill_between(param_range, test_mean - test_std, test_mean + test_std, color=\"gainsboro\")\n",
        "\n",
        "# Create plot\n",
        "plt.title(\"Validation Curve With Decision Tree\")\n",
        "plt.xlabel(\"Max Depth\")\n",
        "plt.ylabel(\"Accuracy Score\")\n",
        "plt.tight_layout()\n",
        "plt.legend(loc=\"best\")\n",
        "plt.show()"
      ],
      "execution_count": 0,
      "outputs": [
        {
          "output_type": "display_data",
          "data": {
            "image/png": "[encoded data removed]",
            "text/plain": [
              "<Figure size 432x288 with 1 Axes>"
            ]
          },
          "metadata": {
            "tags": []
          }
        }
      ]
    },
    {
      "cell_type": "code",
      "metadata": {
        "id": "zKECU-0VMDV2",
        "colab_type": "code",
        "colab": {}
      },
      "source": [
        "dec_tree = DecisionTreeClassifier(result.best_params_)\n",
        "#result_model = dec_tree.fit(X_train_sample, Y_train_sample)\n",
        "cross_val_score(dec_tree, X_train_sample, Y_train_sample, cv = 5, score = \"f1_weighted\")\n",
        "#dec_tree"
      ],
      "execution_count": 0,
      "outputs": []
    },
    {
      "cell_type": "code",
      "metadata": {
        "id": "GO0HKre_OyY9",
        "colab_type": "code",
        "colab": {}
      },
      "source": [
        "# predict on X_test\n",
        "Y_test = dec_tree.predict(X_test_T)"
      ],
      "execution_count": 0,
      "outputs": []
    },
    {
      "cell_type": "markdown",
      "metadata": {
        "id": "REurW7slmOu8",
        "colab_type": "text"
      },
      "source": [
        "### 2. Random forests"
      ]
    },
    {
      "cell_type": "code",
      "metadata": {
        "id": "mrOx8y6Pz_Jv",
        "colab_type": "code",
        "colab": {}
      },
      "source": [
        "from sklearn.ensemble import RandomForestClassifier\n",
        "from sklearn.model_selection import GridSearchCV\n",
        "from sklearn.model_selection import cross_val_score\n",
        "\n",
        "parameters = {'bootstrap': [True, False],\n",
        "              'max_depth': [10, 20, 30, 40, 50, 60, 70, 80, 90, 100, None],\n",
        "              'max_features': ['auto', 'sqrt'],\n",
        "              'min_samples_leaf': [1, 2, 4],\n",
        "              'min_samples_split': [2, 5, 10],\n",
        "              'n_estimators': [200, 400, 600, 800, 1000, 1200, 1400, 1600, 1800, 2000]}\n",
        "\n",
        "rand_forest = RandomizedSearchCV(RandomForestClassifier(), \n",
        "                                 parameters, \n",
        "                                 cv = 5, \n",
        "                                 scoring = 'f1_weighted', \n",
        "                                 verbose = 10, \n",
        "                                 n_jobs = -1)\n",
        "\n",
        "result = rand_forest.fit(X_train_sample, Y_train_sample.values.ravel())"
      ],
      "execution_count": 0,
      "outputs": []
    },
    {
      "cell_type": "code",
      "metadata": {
        "id": "ItlQwCc8JlnA",
        "colab_type": "code",
        "colab": {}
      },
      "source": [
        "result.cv_results_"
      ],
      "execution_count": 0,
      "outputs": []
    },
    {
      "cell_type": "code",
      "metadata": {
        "id": "u1FK1DyrArOC",
        "colab_type": "code",
        "colab": {}
      },
      "source": [
        "# print results from grid search \n",
        "print(result.best_params_)\n",
        "print(result.best_score_)"
      ],
      "execution_count": 0,
      "outputs": []
    },
    {
      "cell_type": "code",
      "metadata": {
        "id": "OUaXpNZ7M-V4",
        "colab_type": "code",
        "colab": {}
      },
      "source": [
        "from sklearn.model_selection import validation_curve\n",
        "\n",
        "param_range = np.arange(5, 35, 5)\n",
        "train_scores, test_scores = validation_curve(\n",
        "                            RandomForestClassifier(bootstrap = True, min_samples_leaf = 2, min_samples_split = 2),\n",
        "                            X = X_train_sample, y = Y_train_sample, scoring = \"f1_weighted\",\n",
        "                            param_name = 'max_depth', \n",
        "                            param_range = param_range, cv = 5)"
      ],
      "execution_count": 0,
      "outputs": []
    },
    {
      "cell_type": "code",
      "metadata": {
        "id": "jxZ3HvmHQf0h",
        "colab_type": "code",
        "outputId": "8115402c-df92-484f-909f-79b0af085ffc",
        "colab": {
          "base_uri": "https://localhost:8080/"
        }
      },
      "source": [
        "# Calculate mean and standard deviation for training set scores\n",
        "train_mean = np.mean(train_scores, axis=1)\n",
        "train_std = np.std(train_scores, axis=1)\n",
        "\n",
        "# Calculate mean and standard deviation for test set scores\n",
        "test_mean = np.mean(test_scores, axis=1)\n",
        "test_std = np.std(test_scores, axis=1)\n",
        "\n",
        "# Plot mean accuracy scores for training and test sets\n",
        "plt.plot(param_range, train_mean, label=\"Training score\", color=\"black\")\n",
        "plt.plot(param_range, test_mean, label=\"Cross-validation score\", color=\"dimgrey\")\n",
        "\n",
        "# Plot accurancy bands for training and test sets\n",
        "plt.fill_between(param_range, train_mean - train_std, train_mean + train_std, color=\"gray\")\n",
        "plt.fill_between(param_range, test_mean - test_std, test_mean + test_std, color=\"gainsboro\")\n",
        "\n",
        "# Create plot\n",
        "plt.title(\"Validation Curve With Random Forest\")\n",
        "plt.xlabel(\"Number Of Trees\")\n",
        "plt.ylabel(\"Accuracy Score\")\n",
        "plt.tight_layout()\n",
        "plt.legend(loc=\"best\")\n",
        "plt.show()"
      ],
      "execution_count": 0,
      "outputs": [
        {
          "output_type": "display_data",
          "data": {
            "image/png": "[encoded data removed]",
            "text/plain": [
              "<Figure size 432x288 with 1 Axes>"
            ]
          },
          "metadata": {
            "tags": []
          }
        }
      ]
    },
    {
      "cell_type": "markdown",
      "metadata": {
        "id": "56Chp5LqmSCi",
        "colab_type": "text"
      },
      "source": [
        "### 3. Boosting"
      ]
    },
    {
      "cell_type": "code",
      "metadata": {
        "id": "3LLn2tb0TRAK",
        "colab_type": "code",
        "colab": {}
      },
      "source": [
        "import xgboost as xgb\n",
        "from sklearn.model_selection import GridSearchCV\n",
        "\n",
        "parameters = {\n",
        "    'eta': [0.01], \n",
        "    'max_depth': [3],  \n",
        "    'objective': ['multi:softmax'],  \n",
        "    'num_class': np.arange(5, 35, 5)} \n",
        "\n",
        "xgboost = GridSearchCV(xgb.XGBClassifier(), parameters, cv = 5, scoring = 'f1_weighted', verbose=5) # , n_jobs = -1\n",
        "result = xgboost.fit(X_train_sample, Y_train_sample)"
      ],
      "execution_count": 0,
      "outputs": []
    },
    {
      "cell_type": "code",
      "metadata": {
        "id": "9OVE3jdupegU",
        "colab_type": "code",
        "colab": {}
      },
      "source": [
        "parameters = {\n",
        "    'eta': [0.05, 0.1, 0.2, 0.3], \n",
        "    'max_depth': [6, 8, 10, 12],  \n",
        "    'objective': ['multi:softmax'], \n",
        "    'num_classes' : [27], \n",
        "    'subsample' : [0.8],\n",
        "    'colsample_bytree' : [0.8]} \n",
        "\n",
        "model = RandomizedSearchCV(xgb.XGBClassifier(), parameters, cv = 3, scoring = 'f1_weighted', verbose = 10, n_jobs = -1)\n",
        "result = model.fit(X_train_sample, Y_train_sample.values.ravel())"
      ],
      "execution_count": 0,
      "outputs": []
    },
    {
      "cell_type": "code",
      "metadata": {
        "id": "msV3DzuAVRvF",
        "colab_type": "code",
        "colab": {}
      },
      "source": [
        "parameters = {\n",
        "    'eta': [0.08, 0.1, 0.15], \n",
        "    'max_depth': [6, 8, 10, None], \n",
        "    'objective': ['multi:softmax'], \n",
        "    'num_classes' : [27], \n",
        "    'subsample' : [0.8],\n",
        "    'colsample_bytree' : [0.8],\n",
        "    'colsample_bylevel' : [1], \n",
        "    'tree_method' : ['approx', 'hist', 'gpu_hist'],\n",
        "    'silent' : [False],\n",
        "    'min_child_weight' : [1], \n",
        "    'max_delta_step' : [0],\n",
        "    'booster' : ['gbtree']\n",
        "    } \n",
        "\n",
        "model = RandomizedSearchCV(xgb.XGBClassifier(), \n",
        "                           parameters, \n",
        "                           cv = 3, \n",
        "                           scoring = 'f1_weighted', \n",
        "                           verbose = 10, \n",
        "                           n_jobs = -1, \n",
        "                           n_iter = 20)\n",
        "\n",
        "result = model.fit(X_train_sample, Y_train_sample.values.ravel())\n",
        "\n",
        "print(result.best_params_)\n",
        "print(result.best_score_)"
      ],
      "execution_count": 0,
      "outputs": []
    },
    {
      "cell_type": "code",
      "metadata": {
        "id": "zEhhQJLPU7Y3",
        "colab_type": "code",
        "outputId": "ec46f9fb-897c-4d9f-8724-081d56a739b3",
        "colab": {
          "base_uri": "https://localhost:8080/",
          "height": 34
        }
      },
      "source": [
        "# print results from grid search \n",
        "print(result.best_params_)\n",
        "print(result.best_score_)"
      ],
      "execution_count": 0,
      "outputs": [
        {
          "output_type": "execute_result",
          "data": {
            "text/plain": [
              "{'eta': 0.01, 'max_depth': 3, 'num_class': 5, 'objective': 'multi:softmax'}"
            ]
          },
          "metadata": {
            "tags": []
          },
          "execution_count": 25
        }
      ]
    },
    {
      "cell_type": "markdown",
      "metadata": {
        "id": "hf4hLHM2mW_6",
        "colab_type": "text"
      },
      "source": [
        "### 4. Gradient Boosted Trees"
      ]
    },
    {
      "cell_type": "code",
      "metadata": {
        "id": "-3M2ASJS8P-i",
        "colab_type": "code",
        "colab": {}
      },
      "source": [
        "from sklearn.ensemble import GradientBoostingClassifier\n",
        "from sklearn.model_selection import GridSearchCV\n",
        "\n",
        "parameters = {\n",
        "    \"max_depth\": [3, 30, 100],\n",
        "    \"n_estimators\": [10, 50],\n",
        "    \"learning_rate\": [0.01, 0.1, 1.0]\n",
        "}\n",
        "\n",
        "grad_boost = GridSearchCV(GradientBoostingClassifier(), parameters, cv = 3, scoring = 'f1_weighted', verbose=5, n_jobs = -1)\n",
        "result = grad_boost.fit(X_train_sample, Y_train_sample)"
      ],
      "execution_count": 0,
      "outputs": []
    },
    {
      "cell_type": "code",
      "metadata": {
        "id": "RT_xFjl_An2R",
        "colab_type": "code",
        "colab": {}
      },
      "source": [
        "# print results from grid search \n",
        "print(result.best_params_)\n",
        "print(result.best_score_)"
      ],
      "execution_count": 0,
      "outputs": []
    },
    {
      "cell_type": "markdown",
      "metadata": {
        "id": "qCn16HzYmKSA",
        "colab_type": "text"
      },
      "source": [
        "### 5. Bagging - Niels"
      ]
    },
    {
      "cell_type": "code",
      "metadata": {
        "id": "klLtbHYGTzG9",
        "colab_type": "code",
        "colab": {}
      },
      "source": [
        "parameters = {\"base_estimator__criterion\" : [\"gini\", \"entropy\"],\n",
        "              \"base_estimator__splitter\" :   [\"best\", \"random\"],\n",
        "              \"n_estimators\": [10, 20, 30], \n",
        "              \"max_samples\" : [0.7, 0.8, 1]\n",
        "             }\n",
        "\n",
        "DTC = DecisionTreeClassifier(random_state = 11, \n",
        "                             max_features = 0.8,\n",
        "                             max_depth = 6)\n",
        "\n",
        "BC = BaggingClassifier(base_estimator = DTC)\n",
        "\n",
        "bagging = RandomizedSearchCV(BC, \n",
        "                             parameters, \n",
        "                             random_state = 11, \n",
        "                             cv = 5, \n",
        "                             scoring = 'f1_weighted', \n",
        "                             verbose = 10,\n",
        "                             n_jobs = -1)\n",
        "\n",
        "result = bagging.fit(X_train_sample, Y_train_sample.values.ravel())"
      ],
      "execution_count": 0,
      "outputs": []
    },
    {
      "cell_type": "code",
      "metadata": {
        "id": "l1A4D5RwX1vf",
        "colab_type": "code",
        "outputId": "c430c37d-9abc-42dc-c08c-90562c3f6e71",
        "colab": {
          "base_uri": "https://localhost:8080/",
          "height": 67
        }
      },
      "source": [
        "# print results from grid search \n",
        "result.best_params_\n",
        "# result.cv_results_"
      ],
      "execution_count": 0,
      "outputs": [
        {
          "output_type": "execute_result",
          "data": {
            "text/plain": [
              "{'base_estimator__criterion': 'gini',\n",
              " 'base_estimator__splitter': 'best',\n",
              " 'n_estimators': 2}"
            ]
          },
          "metadata": {
            "tags": []
          },
          "execution_count": 84
        }
      ]
    },
    {
      "cell_type": "markdown",
      "metadata": {
        "id": "R43eJO7fmZCz",
        "colab_type": "text"
      },
      "source": [
        "### 6. AdaBoost - Ariel"
      ]
    },
    {
      "cell_type": "code",
      "metadata": {
        "id": "98L4n0E6T232",
        "colab_type": "code",
        "colab": {}
      },
      "source": [
        "parameters = {\"n_estimators\" : [20, 30], \n",
        "              \"learning_rate\" : [0.05, 0.1]}\n",
        "\n",
        "DTC = DecisionTreeClassifier(random_state = 11, \n",
        "                             max_features = \"auto\", \n",
        "                             class_weight = \"balanced\", \n",
        "                             max_depth = 100)\n",
        "\n",
        "RFC = RandomForestClassifier(criterion = 'gini', \n",
        "                             n_estimators = 2000, \n",
        "                             min_samples_split = 10, \n",
        "                             min_samples_leaf = 2, \n",
        "                             max_features = 'sqrt', \n",
        "                             max_samples = 0.8,\n",
        "                             max_depth = 100, \n",
        "                             bootstrap = True)\n",
        "\n",
        "ABC = AdaBoostClassifier(base_estimator = RFC)\n",
        "\n",
        "adaboost = GridSearchCV(ABC, \n",
        "                        parameters, \n",
        "                        cv = 3, \n",
        "                        scoring = 'f1_weighted', \n",
        "                        verbose = 20, \n",
        "                        n_jobs = -1)\n",
        "\n",
        "result = adaboost.fit(X_train_sample, Y_train_sample)"
      ],
      "execution_count": 0,
      "outputs": []
    },
    {
      "cell_type": "code",
      "metadata": {
        "id": "F0aTE2XsXuqj",
        "colab_type": "code",
        "outputId": "a5f19aef-89df-44b9-e312-cda5b3044df7",
        "colab": {
          "base_uri": "https://localhost:8080/",
          "height": 67
        }
      },
      "source": [
        "# print results from grid search \n",
        "result.best_params_\n",
        "# result.cv_results_"
      ],
      "execution_count": 0,
      "outputs": [
        {
          "output_type": "execute_result",
          "data": {
            "text/plain": [
              "{'base_estimator__criterion': 'gini',\n",
              " 'base_estimator__splitter': 'best',\n",
              " 'n_estimators': 2}"
            ]
          },
          "metadata": {
            "tags": []
          },
          "execution_count": 83
        }
      ]
    },
    {
      "cell_type": "markdown",
      "metadata": {
        "id": "5ZU8GpeqcIbQ",
        "colab_type": "text"
      },
      "source": [
        "After this preprocessing step, you have now access to a TF-IDF matrix that constitute our data set for the final evaluation project. The project guidelines are:\n",
        "1. Apply all approaches taught in the course and practiced in lab sessions () on this data set. The goal is to predict the target variable (prdtypecode).\n",
        "2. Compare performances of all these models in terms of the weighted-f1 scores you can output. \n",
        "3. Conclude about the most appropriate approach on this data set for the predictive task. \n",
        "4. Write a report in .tex format that adress all these guidelines with a maximal page number of 5 (including figures, tables and references). We will take into account the quality of writing and presentation of the report."
      ]
    }
  ]
}