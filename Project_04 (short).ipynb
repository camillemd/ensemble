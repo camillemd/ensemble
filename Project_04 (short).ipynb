{
 "cells": [
  {
   "cell_type": "markdown",
   "metadata": {
    "colab_type": "text",
    "id": "JQhP7Lf1cIZ-"
   },
   "source": [
    "## Course Project: Text Classification with Rakuten France Product Data\n",
    "\n",
    "The project focuses on the topic of large-scale product type code text classification where the goal is to predict each product’s type code as defined in the catalog of Rakuten France. This project is derived from a data challenge proposed by Rakuten Institute of Technology, Paris. Details of the data challenge is [available in this link](https://challengedata.ens.fr/challenges/35).\n",
    "\n",
    "The above data challenge focuses on multimodal product type code classification using text and image data. **For this project we will work with only text part of the data.**\n",
    "\n",
    "Please read carefully the description of the challenge provided in the above link. **You can disregard any information related to the image part of the data.**\n",
    "\n",
    "### To obtain the data\n",
    "You have to register yourself [in this link](https://challengedata.ens.fr/challenges/35) to get access to the data.\n",
    "\n",
    "For this project you will only need the text data. Download the training files `x_train` and `y_train`, containing the item texts, and the corresponding product type code labels.\n",
    "\n",
    "### Pandas for handling the data\n",
    "The files you obtained are in CSV format. We strongly suggest to use Python Pandas package to load and visualize the data. [Here is a basic tutorial](https://data36.com/pandas-tutorial-1-basics-reading-data-files-dataframes-data-selection/) on how to handle data in CSV file using Pandas.\n",
    "\n",
    "If you open the `x_train` dataset using Pandas, you will find that it contains following columns:\n",
    "1. an integer ID for the product\n",
    "2. **designation** - The product title\n",
    "3. description\n",
    "4. productid\n",
    "5. imageid\n",
    "\n",
    "For this project we will only need the integer ID and the designation. You can [`drop`](https://pandas.pydata.org/pandas-docs/stable/reference/api/pandas.DataFrame.drop.html) the other columns.\n",
    "\n",
    "The training output file `y_train.csv` contains the **prdtypecode**, the target/output variable for the classification task, for each integer id in the training input file `X_train.csv`.\n",
    "\n",
    "### Task for the break\n",
    "1. Register yourself and download the training and test for text data. You do not need the `supplementary files` for this project.\n",
    "2. Load the data using pandas and disregard unnecessary columns as mentioned above.\n",
    "3. On the **designation** column, apply the preprocessing techniques.\n",
    "\n",
    "### Task for the end of the course\n",
    "After this preprocessing step, you have now access to a TF-IDF matrix that constitute our data set for the final evaluation project. The project guidelines are:\n",
    "1. Apply all approaches taught in the course and practiced in lab sessions (Decision Trees, Bagging, Random forests, Boosting, Gradient Boosted Trees, AdaBoost, etc.) on this data set. The goal is to predict the target variable (prdtypecode).\n",
    "2. Compare performances of all these models in terms of the weighted-f1 scores you can output. \n",
    "3. Conclude about the most appropriate approach on this data set for the predictive task. \n",
    "4. Write a report in .tex format that adress all these guidelines with a maximal page number of 5 (including figures, tables and references). We will take into account the quality of writing and presentation of the report."
   ]
  },
  {
   "cell_type": "code",
   "execution_count": 1,
   "metadata": {},
   "outputs": [
    {
     "name": "stdout",
     "output_type": "stream",
     "text": [
      "Requirement already satisfied: spacy in /opt/conda/lib/python3.7/site-packages (2.2.4)\n",
      "Requirement already satisfied: wasabi<1.1.0,>=0.4.0 in /opt/conda/lib/python3.7/site-packages (from spacy) (0.6.0)\n",
      "Requirement already satisfied: preshed<3.1.0,>=3.0.2 in /opt/conda/lib/python3.7/site-packages (from spacy) (3.0.2)\n",
      "Requirement already satisfied: catalogue<1.1.0,>=0.0.7 in /opt/conda/lib/python3.7/site-packages (from spacy) (1.0.0)\n",
      "Requirement already satisfied: cymem<2.1.0,>=2.0.2 in /opt/conda/lib/python3.7/site-packages (from spacy) (2.0.3)\n",
      "Requirement already satisfied: tqdm<5.0.0,>=4.38.0 in /opt/conda/lib/python3.7/site-packages (from spacy) (4.43.0)\n",
      "Requirement already satisfied: plac<1.2.0,>=0.9.6 in /opt/conda/lib/python3.7/site-packages (from spacy) (1.1.3)\n",
      "Requirement already satisfied: requests<3.0.0,>=2.13.0 in /opt/conda/lib/python3.7/site-packages (from spacy) (2.23.0)\n",
      "Requirement already satisfied: blis<0.5.0,>=0.4.0 in /opt/conda/lib/python3.7/site-packages (from spacy) (0.4.1)\n",
      "Requirement already satisfied: srsly<1.1.0,>=1.0.2 in /opt/conda/lib/python3.7/site-packages (from spacy) (1.0.2)\n",
      "Requirement already satisfied: numpy>=1.15.0 in /opt/conda/lib/python3.7/site-packages (from spacy) (1.18.1)\n",
      "Requirement already satisfied: thinc==7.4.0 in /opt/conda/lib/python3.7/site-packages (from spacy) (7.4.0)\n",
      "Requirement already satisfied: setuptools in /opt/conda/lib/python3.7/site-packages (from spacy) (46.0.0.post20200311)\n",
      "Requirement already satisfied: murmurhash<1.1.0,>=0.28.0 in /opt/conda/lib/python3.7/site-packages (from spacy) (1.0.2)\n",
      "Requirement already satisfied: importlib-metadata>=0.20; python_version < \"3.8\" in /opt/conda/lib/python3.7/site-packages (from catalogue<1.1.0,>=0.0.7->spacy) (1.5.0)\n",
      "Requirement already satisfied: certifi>=2017.4.17 in /opt/conda/lib/python3.7/site-packages (from requests<3.0.0,>=2.13.0->spacy) (2019.11.28)\n",
      "Requirement already satisfied: idna<3,>=2.5 in /opt/conda/lib/python3.7/site-packages (from requests<3.0.0,>=2.13.0->spacy) (2.9)\n",
      "Requirement already satisfied: chardet<4,>=3.0.2 in /opt/conda/lib/python3.7/site-packages (from requests<3.0.0,>=2.13.0->spacy) (3.0.4)\n",
      "Requirement already satisfied: urllib3!=1.25.0,!=1.25.1,<1.26,>=1.21.1 in /opt/conda/lib/python3.7/site-packages (from requests<3.0.0,>=2.13.0->spacy) (1.25.7)\n",
      "Requirement already satisfied: zipp>=0.5 in /opt/conda/lib/python3.7/site-packages (from importlib-metadata>=0.20; python_version < \"3.8\"->catalogue<1.1.0,>=0.0.7->spacy) (3.1.0)\n"
     ]
    }
   ],
   "source": [
    "!pip install spacy"
   ]
  },
  {
   "cell_type": "code",
   "execution_count": 2,
   "metadata": {},
   "outputs": [
    {
     "name": "stdout",
     "output_type": "stream",
     "text": [
      "Requirement already satisfied: fr_core_news_sm==2.2.5 from https://github.com/explosion/spacy-models/releases/download/fr_core_news_sm-2.2.5/fr_core_news_sm-2.2.5.tar.gz#egg=fr_core_news_sm==2.2.5 in /opt/conda/lib/python3.7/site-packages (2.2.5)\n",
      "Requirement already satisfied: spacy>=2.2.2 in /opt/conda/lib/python3.7/site-packages (from fr_core_news_sm==2.2.5) (2.2.4)\n",
      "Requirement already satisfied: wasabi<1.1.0,>=0.4.0 in /opt/conda/lib/python3.7/site-packages (from spacy>=2.2.2->fr_core_news_sm==2.2.5) (0.6.0)\n",
      "Requirement already satisfied: thinc==7.4.0 in /opt/conda/lib/python3.7/site-packages (from spacy>=2.2.2->fr_core_news_sm==2.2.5) (7.4.0)\n",
      "Requirement already satisfied: blis<0.5.0,>=0.4.0 in /opt/conda/lib/python3.7/site-packages (from spacy>=2.2.2->fr_core_news_sm==2.2.5) (0.4.1)\n",
      "Requirement already satisfied: setuptools in /opt/conda/lib/python3.7/site-packages (from spacy>=2.2.2->fr_core_news_sm==2.2.5) (46.0.0.post20200311)\n",
      "Requirement already satisfied: plac<1.2.0,>=0.9.6 in /opt/conda/lib/python3.7/site-packages (from spacy>=2.2.2->fr_core_news_sm==2.2.5) (1.1.3)\n",
      "Requirement already satisfied: numpy>=1.15.0 in /opt/conda/lib/python3.7/site-packages (from spacy>=2.2.2->fr_core_news_sm==2.2.5) (1.18.1)\n",
      "Requirement already satisfied: cymem<2.1.0,>=2.0.2 in /opt/conda/lib/python3.7/site-packages (from spacy>=2.2.2->fr_core_news_sm==2.2.5) (2.0.3)\n",
      "Requirement already satisfied: murmurhash<1.1.0,>=0.28.0 in /opt/conda/lib/python3.7/site-packages (from spacy>=2.2.2->fr_core_news_sm==2.2.5) (1.0.2)\n",
      "Requirement already satisfied: requests<3.0.0,>=2.13.0 in /opt/conda/lib/python3.7/site-packages (from spacy>=2.2.2->fr_core_news_sm==2.2.5) (2.23.0)\n",
      "Requirement already satisfied: catalogue<1.1.0,>=0.0.7 in /opt/conda/lib/python3.7/site-packages (from spacy>=2.2.2->fr_core_news_sm==2.2.5) (1.0.0)\n",
      "Requirement already satisfied: preshed<3.1.0,>=3.0.2 in /opt/conda/lib/python3.7/site-packages (from spacy>=2.2.2->fr_core_news_sm==2.2.5) (3.0.2)\n",
      "Requirement already satisfied: srsly<1.1.0,>=1.0.2 in /opt/conda/lib/python3.7/site-packages (from spacy>=2.2.2->fr_core_news_sm==2.2.5) (1.0.2)\n",
      "Requirement already satisfied: tqdm<5.0.0,>=4.38.0 in /opt/conda/lib/python3.7/site-packages (from spacy>=2.2.2->fr_core_news_sm==2.2.5) (4.43.0)\n",
      "Requirement already satisfied: urllib3!=1.25.0,!=1.25.1,<1.26,>=1.21.1 in /opt/conda/lib/python3.7/site-packages (from requests<3.0.0,>=2.13.0->spacy>=2.2.2->fr_core_news_sm==2.2.5) (1.25.7)\n",
      "Requirement already satisfied: idna<3,>=2.5 in /opt/conda/lib/python3.7/site-packages (from requests<3.0.0,>=2.13.0->spacy>=2.2.2->fr_core_news_sm==2.2.5) (2.9)\n",
      "Requirement already satisfied: certifi>=2017.4.17 in /opt/conda/lib/python3.7/site-packages (from requests<3.0.0,>=2.13.0->spacy>=2.2.2->fr_core_news_sm==2.2.5) (2019.11.28)\n",
      "Requirement already satisfied: chardet<4,>=3.0.2 in /opt/conda/lib/python3.7/site-packages (from requests<3.0.0,>=2.13.0->spacy>=2.2.2->fr_core_news_sm==2.2.5) (3.0.4)\n",
      "Requirement already satisfied: importlib-metadata>=0.20; python_version < \"3.8\" in /opt/conda/lib/python3.7/site-packages (from catalogue<1.1.0,>=0.0.7->spacy>=2.2.2->fr_core_news_sm==2.2.5) (1.5.0)\n",
      "Requirement already satisfied: zipp>=0.5 in /opt/conda/lib/python3.7/site-packages (from importlib-metadata>=0.20; python_version < \"3.8\"->catalogue<1.1.0,>=0.0.7->spacy>=2.2.2->fr_core_news_sm==2.2.5) (3.1.0)\n",
      "\u001b[38;5;2m✔ Download and installation successful\u001b[0m\n",
      "You can now load the model via spacy.load('fr_core_news_sm')\n"
     ]
    }
   ],
   "source": [
    "!python -m spacy download fr_core_news_sm"
   ]
  },
  {
   "cell_type": "markdown",
   "metadata": {},
   "source": [
    "Libraries"
   ]
  },
  {
   "cell_type": "code",
   "execution_count": 3,
   "metadata": {
    "colab": {},
    "colab_type": "code",
    "id": "tUfoMyxocIaC"
   },
   "outputs": [],
   "source": [
    "import numpy as np\n",
    "import pandas as pd\n",
    "import spacy\n",
    "import fr_core_news_sm\n",
    "\n",
    "# Choose number of samples tested\n",
    "import math\n",
    "\n",
    "# import TfidfVectorizer\n",
    "from sklearn.feature_extraction.text import TfidfVectorizer\n",
    "\n",
    "# dimension reduction\n",
    "from sklearn.decomposition import TruncatedSVD\n",
    "from sklearn.decomposition import SparsePCA\n",
    "\n",
    "# plots\n",
    "import matplotlib.pyplot as plt\n",
    "import seaborn as sns\n",
    "\n",
    "# pick at random 10% of the total samples\n",
    "import random \n",
    "\n",
    "# classifiers\n",
    "from sklearn import tree\n",
    "from sklearn.tree import DecisionTreeClassifier\n",
    "from sklearn.ensemble import RandomForestClassifier\n",
    "from sklearn.ensemble import GradientBoostingClassifier\n",
    "import xgboost as xgb\n",
    "from sklearn.ensemble import BaggingClassifier\n",
    "from sklearn.ensemble import AdaBoostClassifier\n",
    "\n",
    "# hyperparameters tuning\n",
    "from sklearn.model_selection import GridSearchCV\n",
    "from sklearn.model_selection import cross_val_score\n",
    "from sklearn.model_selection import validation_curve\n",
    "from sklearn.model_selection import RandomizedSearchCV"
   ]
  },
  {
   "cell_type": "code",
   "execution_count": 4,
   "metadata": {},
   "outputs": [],
   "source": [
    "# Load spaCy for french\n",
    "spacy_nlp = fr_core_news_sm.load()"
   ]
  },
  {
   "cell_type": "code",
   "execution_count": 5,
   "metadata": {
    "colab": {},
    "colab_type": "code",
    "id": "cGgaeZqRcIaM"
   },
   "outputs": [],
   "source": [
    "# download data\n",
    "X_train = pd.read_csv('X_train.csv')\n",
    "Y_train = pd.read_csv('Y_train.csv')\n",
    "X_test = pd.read_csv('X_test.csv')"
   ]
  },
  {
   "cell_type": "markdown",
   "metadata": {
    "colab_type": "text",
    "id": "dlQlsV6xcIaW"
   },
   "source": [
    "## Pre-processing\n",
    "\n",
    "1. We only keep the designation and id. \n",
    "2. We normalize the accents, put the text in lower-case, remove the punctuation, tokenise the extracts"
   ]
  },
  {
   "cell_type": "code",
   "execution_count": 6,
   "metadata": {
    "colab": {},
    "colab_type": "code",
    "id": "NU1JUqUscIaY"
   },
   "outputs": [],
   "source": [
    "# designation and ids\n",
    "def cleaning(X_train): \n",
    "    X_train = X_train.drop(['description', 'productid','imageid'], axis=1)\n",
    "    X_train.columns = ['integer_id', 'designation']\n",
    "    return X_train"
   ]
  },
  {
   "cell_type": "code",
   "execution_count": 7,
   "metadata": {
    "colab": {},
    "colab_type": "code",
    "id": "rey2YgHKcIab"
   },
   "outputs": [],
   "source": [
    "def normalize_accent(string):\n",
    "    string = string.replace('á', 'a')\n",
    "    string = string.replace('â', 'a')\n",
    "\n",
    "    string = string.replace('é', 'e')\n",
    "    string = string.replace('è', 'e')\n",
    "    string = string.replace('ê', 'e')\n",
    "    string = string.replace('ë', 'e')\n",
    "\n",
    "    string = string.replace('î', 'i')\n",
    "    string = string.replace('ï', 'i')\n",
    "\n",
    "    string = string.replace('ö', 'o')\n",
    "    string = string.replace('ô', 'o')\n",
    "    string = string.replace('ò', 'o')\n",
    "    string = string.replace('ó', 'o')\n",
    "\n",
    "    string = string.replace('ù', 'u')\n",
    "    string = string.replace('û', 'u')\n",
    "    string = string.replace('ü', 'u')\n",
    "\n",
    "    string = string.replace('ç', 'c')\n",
    "    \n",
    "    return string"
   ]
  },
  {
   "cell_type": "code",
   "execution_count": 8,
   "metadata": {
    "colab": {},
    "colab_type": "code",
    "id": "8wNlScwQcIae"
   },
   "outputs": [],
   "source": [
    "def raw_to_tokens(raw_string, spacy_nlp):\n",
    "    # Write code for lower-casing\n",
    "    string = raw_string.lower()\n",
    "    \n",
    "    # Write code to normalize the accents\n",
    "    string = normalize_accent(string)\n",
    "        \n",
    "    # Write code to tokenize\n",
    "    spacy_tokens = spacy_nlp(string)\n",
    "        \n",
    "    # Write code to remove punctuation tokens and create string tokens\n",
    "    string_tokens = [token.orth_ for token in spacy_tokens if not token.is_punct if not token.is_stop]\n",
    "    \n",
    "    # Write code to join the tokens back into a single string\n",
    "    clean_string = \" \".join(string_tokens)\n",
    "    \n",
    "    return clean_string"
   ]
  },
  {
   "cell_type": "markdown",
   "metadata": {
    "colab_type": "text",
    "id": "locvGtwKcIa0"
   },
   "source": [
    "## TF-IDF matrix\n",
    "\n",
    "Construct the TF-IDF matrix from the pre-processed data. "
   ]
  },
  {
   "cell_type": "code",
   "execution_count": 9,
   "metadata": {
    "colab": {},
    "colab_type": "code",
    "id": "btqxRLUNcIa1"
   },
   "outputs": [],
   "source": [
    "X_train = pd.read_csv('X_train_cleaned.csv')\n",
    "X_test = pd.read_csv('X_test_cleaned.csv')"
   ]
  },
  {
   "cell_type": "code",
   "execution_count": 10,
   "metadata": {
    "colab": {},
    "colab_type": "code",
    "id": "y4VbcBOqcIa4"
   },
   "outputs": [],
   "source": [
    "# create a list from the processed cells\n",
    "doc_clean_train =  X_train['designation_cleaned'].astype('U').tolist()\n",
    "doc_clean_test = X_test['designation_cleaned'].astype('U').tolist()\n",
    "\n",
    "#doc_clean = doc_clean_train + doc_clean_test\n",
    "doc_clean = doc_clean_train"
   ]
  },
  {
   "cell_type": "code",
   "execution_count": 11,
   "metadata": {
    "colab": {
     "base_uri": "https://localhost:8080/",
     "height": 50
    },
    "colab_type": "code",
    "id": "HbEVHH7OcIa7",
    "outputId": "3fd054eb-5433-4f4c-b1c4-e57cccab1cf4"
   },
   "outputs": [
    {
     "name": "stdout",
     "output_type": "stream",
     "text": [
      "Shape of the TF-IDF Matrix:\n",
      "(84916, 79402)\n"
     ]
    }
   ],
   "source": [
    "# convert raw documents into TF-IDF matrix.\n",
    "tfidf = TfidfVectorizer()\n",
    "X_tfidf = tfidf.fit_transform(doc_clean)\n",
    "\n",
    "print(\"Shape of the TF-IDF Matrix:\")\n",
    "print(X_tfidf.shape)"
   ]
  },
  {
   "cell_type": "markdown",
   "metadata": {
    "colab_type": "text",
    "id": "szJY3EbK-QYD"
   },
   "source": [
    "### Use the TF-IDF matrix as the training set\n",
    "\n",
    "If applicable, based on the applied transformations:\n",
    "*   Define the X_train_T matrix as the truncated or TF-IDF matrix\n",
    "*   Divide back in train and test\n",
    "\n"
   ]
  },
  {
   "cell_type": "code",
   "execution_count": 12,
   "metadata": {
    "colab": {},
    "colab_type": "code",
    "id": "FElzRvq2cIbG"
   },
   "outputs": [],
   "source": [
    "# if no transformation is applied i.e. no PCA / truncated SVD: \n",
    "X_transformed = X_tfidf\n",
    "# print(X_transformed)"
   ]
  },
  {
   "cell_type": "code",
   "execution_count": 18,
   "metadata": {
    "colab": {
     "base_uri": "https://localhost:8080/",
     "height": 50
    },
    "colab_type": "code",
    "id": "le0ndD_L-P9c",
    "outputId": "fc94e070-1f2e-43ed-84b7-a07290cb6cb9"
   },
   "outputs": [
    {
     "name": "stdout",
     "output_type": "stream",
     "text": [
      "(84916, 79402)\n",
      "(0, 79402)\n"
     ]
    }
   ],
   "source": [
    "X_train_T = X_transformed[:84916]\n",
    "X_test_T = X_transformed[84916:]\n",
    "\n",
    "print(X_train_T.shape) # 84916\n",
    "print(X_test_T.shape) # 13812"
   ]
  },
  {
   "cell_type": "markdown",
   "metadata": {
    "colab_type": "text",
    "id": "AzjmYOR9cIbJ"
   },
   "source": [
    "## Apply various models to predict the target variable\n",
    "1. Decision Trees\n",
    "2. Bagging\n",
    "3. Random forests\n",
    "4. Boosting\n",
    "5. Gradient Boosted Trees\n",
    "6. AdaBoost, etc."
   ]
  },
  {
   "cell_type": "markdown",
   "metadata": {
    "colab_type": "text",
    "id": "aPk03wxL-_EC"
   },
   "source": [
    "### Reduce the dataset to 20% of its initial size for faster training\n",
    "\n",
    "The selection is done at random i.e. 20% of the training samples are chosen at random within the training set. Assuming the data is uniformly distributed."
   ]
  },
  {
   "cell_type": "code",
   "execution_count": 16,
   "metadata": {
    "colab": {},
    "colab_type": "code",
    "id": "Vnmk1fljBVyT"
   },
   "outputs": [],
   "source": [
    "row, col = X_train.shape\n",
    "N = math.ceil(row * 0.2) # 20% of the data\n",
    "#N = 1000"
   ]
  },
  {
   "cell_type": "code",
   "execution_count": 17,
   "metadata": {
    "colab": {
     "base_uri": "https://localhost:8080/",
     "height": 50
    },
    "colab_type": "code",
    "id": "zIk8-0JJ-FAI",
    "outputId": "0302bf6c-ac17-41d7-cded-2fb67360c80f"
   },
   "outputs": [
    {
     "name": "stdout",
     "output_type": "stream",
     "text": [
      "(16984, 79402)\n",
      "(16984, 1)\n"
     ]
    }
   ],
   "source": [
    "rdsample = random.sample(range(1, row), N) \n",
    "\n",
    "X_train_sample = X_train_T[rdsample,]\n",
    "Y_train_sample = Y_train.to_numpy()[rdsample,]\n",
    "Y_train_sample = pd.DataFrame(Y_train_sample[:,1])\n",
    "\n",
    "print(X_train_sample.shape)\n",
    "print(Y_train_sample.shape)"
   ]
  },
  {
   "cell_type": "markdown",
   "metadata": {
    "colab_type": "text",
    "id": "MtafdfGAcIbK"
   },
   "source": [
    "### 1. Decision trees - Ariel\n",
    "\n",
    "1.   First parameters tried: { 'criterion':['gini','entropy'],'max_depth': np.arange(3, 15), 'splitter':['best', 'random']} - **Optimal:** { 'criterion':['gini'],'max_depth': 14, 'splitter':['best']}\n",
    "2.   Second parameters tried: { 'criterion':['gini','entropy'],'max_depth': np.arange(13, 30), 'splitter':['best', 'random']} - **Optimal:** { 'criterion':['gini'],'max_depth': 27, 'splitter':['random']}\n",
    "\n"
   ]
  },
  {
   "cell_type": "code",
   "execution_count": 21,
   "metadata": {
    "colab": {
     "base_uri": "https://localhost:8080/",
     "height": 118
    },
    "colab_type": "code",
    "id": "1G15rXjucIbL",
    "outputId": "43cb03e8-0735-4183-9207-f7a5cd1e9964"
   },
   "outputs": [
    {
     "name": "stdout",
     "output_type": "stream",
     "text": [
      "Fitting 5 folds for each of 40 candidates, totalling 200 fits\n"
     ]
    },
    {
     "name": "stderr",
     "output_type": "stream",
     "text": [
      "[Parallel(n_jobs=-1)]: Using backend LokyBackend with 4 concurrent workers.\n",
      "[Parallel(n_jobs=-1)]: Done  10 tasks      | elapsed:    7.2s\n",
      "[Parallel(n_jobs=-1)]: Done  64 tasks      | elapsed:   36.5s\n",
      "[Parallel(n_jobs=-1)]: Done 154 tasks      | elapsed:  2.1min\n",
      "[Parallel(n_jobs=-1)]: Done 200 out of 200 | elapsed:  3.2min finished\n"
     ]
    }
   ],
   "source": [
    "parameters = {'criterion':['gini','entropy'],'max_depth': np.arange(25, 35), 'splitter':['best', 'random']}\n",
    "grid_dec_tree = GridSearchCV(tree.DecisionTreeClassifier(), parameters, cv = 5, scoring = 'f1_weighted', verbose = 10, n_jobs=-1)\n",
    "result = grid_dec_tree.fit(X_train_sample, Y_train_sample)\n",
    "\n",
    "# update verbose to 10 for more steps\n",
    "# add-in progress bar to evaluate time taken / time it will take\n",
    "# https://infocenter.informationbuilders.com/wf80/index.jsp?topic=%2Fpubdocs%2FRStat16%2Fsource%2Ftopic47.htm"
   ]
  },
  {
   "cell_type": "code",
   "execution_count": 22,
   "metadata": {
    "colab": {
     "base_uri": "https://localhost:8080/",
     "height": 34
    },
    "colab_type": "code",
    "id": "LkCWgRmVcIbN",
    "outputId": "5877e7e8-e010-4c67-d209-dc3058c5a710"
   },
   "outputs": [
    {
     "data": {
      "text/plain": [
       "{'criterion': 'entropy', 'max_depth': 34, 'splitter': 'random'}"
      ]
     },
     "execution_count": 22,
     "metadata": {
      "tags": []
     },
     "output_type": "execute_result"
    }
   ],
   "source": [
    "# print results from grid search \n",
    "result.best_params_\n",
    "# result.cv_results_"
   ]
  },
  {
   "cell_type": "code",
   "execution_count": null,
   "metadata": {
    "colab": {},
    "colab_type": "code",
    "id": "y3CAo5vCwERN"
   },
   "outputs": [],
   "source": [
    "table = pd.pivot_table(pd.DataFrame(result.cv_results_),\n",
    "    values='f1_weighted', index='parameters_max_depth', \n",
    "                       columns='parameters_criterion')\n",
    "     \n",
    "sns.heatmap(table)"
   ]
  },
  {
   "cell_type": "code",
   "execution_count": 77,
   "metadata": {
    "colab": {},
    "colab_type": "code",
    "id": "gmfU5ohOoOjP"
   },
   "outputs": [
    {
     "name": "stderr",
     "output_type": "stream",
     "text": [
      "[Parallel(n_jobs=-1)]: Using backend LokyBackend with 16 concurrent workers.\n",
      "[Parallel(n_jobs=-1)]: Done   1 out of  45 | elapsed:    4.3s remaining:  3.1min\n",
      "[Parallel(n_jobs=-1)]: Done   6 out of  45 | elapsed:    6.0s remaining:   39.3s\n",
      "[Parallel(n_jobs=-1)]: Done  11 out of  45 | elapsed:    7.4s remaining:   22.9s\n",
      "[Parallel(n_jobs=-1)]: Done  16 out of  45 | elapsed:    8.3s remaining:   15.1s\n",
      "[Parallel(n_jobs=-1)]: Done  21 out of  45 | elapsed:   11.2s remaining:   12.8s\n",
      "[Parallel(n_jobs=-1)]: Done  26 out of  45 | elapsed:   12.7s remaining:    9.3s\n",
      "[Parallel(n_jobs=-1)]: Done  31 out of  45 | elapsed:   14.2s remaining:    6.4s\n",
      "[Parallel(n_jobs=-1)]: Done  36 out of  45 | elapsed:   15.4s remaining:    3.9s\n",
      "[Parallel(n_jobs=-1)]: Done  41 out of  45 | elapsed:   17.4s remaining:    1.7s\n",
      "[Parallel(n_jobs=-1)]: Done  45 out of  45 | elapsed:   18.4s finished\n"
     ]
    }
   ],
   "source": [
    "param_range = np.arange(50, 200, 10)\n",
    "train_scores, test_scores = validation_curve(\n",
    "                            DecisionTreeClassifier(criterion = 'gini', splitter = 'best'),\n",
    "                            X = X_train_sample, y = Y_train_sample, scoring = \"f1_weighted\",\n",
    "                            param_name = 'max_depth', \n",
    "                            param_range = param_range, cv = 3, verbose = 10, n_jobs = -1)"
   ]
  },
  {
   "cell_type": "code",
   "execution_count": 78,
   "metadata": {
    "colab": {
     "base_uri": "https://localhost:8080/",
     "height": 297
    },
    "colab_type": "code",
    "id": "MAyyrcAnr_Qu",
    "outputId": "68b5485a-10cf-4c3f-ef13-b59c8fe85ffa"
   },
   "outputs": [
    {
     "data": {
      "image/png": "[encoded data removed]",
      "text/plain": [
       "<Figure size 432x288 with 1 Axes>"
      ]
     },
     "metadata": {
      "needs_background": "light"
     },
     "output_type": "display_data"
    }
   ],
   "source": [
    "# Calculate mean and standard deviation for training set scores\n",
    "train_mean = np.mean(train_scores, axis=1)\n",
    "train_std = np.std(train_scores, axis=1)\n",
    "\n",
    "# Calculate mean and standard deviation for test set scores\n",
    "test_mean = np.mean(test_scores, axis=1)\n",
    "test_std = np.std(test_scores, axis=1)\n",
    "\n",
    "# Plot mean accuracy scores for training and test sets\n",
    "plt.plot(param_range, train_mean, label=\"Training score\", color=\"black\")\n",
    "plt.plot(param_range, test_mean, label=\"Cross-validation score\", color=\"dimgrey\")\n",
    "\n",
    "# Plot accurancy bands for training and test sets\n",
    "plt.fill_between(param_range, train_mean - train_std, train_mean + train_std, color=\"gray\")\n",
    "plt.fill_between(param_range, test_mean - test_std, test_mean + test_std, color=\"gainsboro\")\n",
    "\n",
    "# Create plot\n",
    "plt.title(\"Validation Curve With Decision Tree\")\n",
    "plt.xlabel(\"Max Depth\")\n",
    "plt.ylabel(\"Accuracy Score\")\n",
    "plt.tight_layout()\n",
    "plt.legend(loc=\"best\")\n",
    "plt.show()"
   ]
  },
  {
   "cell_type": "code",
   "execution_count": null,
   "metadata": {
    "colab": {},
    "colab_type": "code",
    "id": "zKECU-0VMDV2"
   },
   "outputs": [],
   "source": [
    "dec_tree = DecisionTreeClassifier(result.best_params_)\n",
    "#result_model = dec_tree.fit(X_train_sample, Y_train_sample)\n",
    "cross_val_score(dec_tree, X_train_sample, Y_train_sample, cv = 5, score = \"f1_weighted\")"
   ]
  },
  {
   "cell_type": "code",
   "execution_count": null,
   "metadata": {
    "colab": {},
    "colab_type": "code",
    "id": "GO0HKre_OyY9"
   },
   "outputs": [],
   "source": [
    "# predict on X_test\n",
    "Y_test = dec_tree.predict(X_test_T)"
   ]
  },
  {
   "cell_type": "markdown",
   "metadata": {
    "colab_type": "text",
    "id": "REurW7slmOu8"
   },
   "source": [
    "### 2. Random forests - Camille"
   ]
  },
  {
   "cell_type": "code",
   "execution_count": null,
   "metadata": {
    "colab": {},
    "colab_type": "code",
    "id": "mrOx8y6Pz_Jv"
   },
   "outputs": [],
   "source": [
    "parameters = {\n",
    "    'bootstrap': [True, False], # whether bootstrap samples are used when building trees. If False, the whole datset is used to build each tree\n",
    "    'max_depth': [None],\n",
    "    # 'max_features': [None, auto], # \"auto\" = max_features=sqrt(n_features)\n",
    "    'min_samples_leaf': [1, 2],\n",
    "    'min_samples_split': [2],\n",
    "    'n_estimators': [10]} # flat validation curve - best at 15\n",
    "\n",
    "rand_forest = GridSearchCV(RandomForestClassifier(), parameters, cv = 5, scoring = 'f1_weighted', verbose=5)\n",
    "result = rand_forest.fit(X_train_sample, Y_train_sample)"
   ]
  },
  {
   "cell_type": "markdown",
   "metadata": {},
   "source": [
    "Source : https://towardsdatascience.com/hyperparameter-tuning-the-random-forest-in-python-using-scikit-learn-28d2aa77dd74"
   ]
  },
  {
   "cell_type": "code",
   "execution_count": 84,
   "metadata": {},
   "outputs": [
    {
     "name": "stdout",
     "output_type": "stream",
     "text": [
      "Fitting 5 folds for each of 10 candidates, totalling 50 fits\n"
     ]
    },
    {
     "name": "stderr",
     "output_type": "stream",
     "text": [
      "[Parallel(n_jobs=-1)]: Using backend LokyBackend with 16 concurrent workers.\n",
      "[Parallel(n_jobs=-1)]: Done   9 tasks      | elapsed:  6.4min\n",
      "[Parallel(n_jobs=-1)]: Done  18 tasks      | elapsed:  9.6min\n",
      "[Parallel(n_jobs=-1)]: Done  25 out of  50 | elapsed: 12.0min remaining: 12.0min\n",
      "[Parallel(n_jobs=-1)]: Done  31 out of  50 | elapsed: 15.4min remaining:  9.5min\n",
      "[Parallel(n_jobs=-1)]: Done  37 out of  50 | elapsed: 17.3min remaining:  6.1min\n",
      "[Parallel(n_jobs=-1)]: Done  43 out of  50 | elapsed: 19.3min remaining:  3.1min\n",
      "[Parallel(n_jobs=-1)]: Done  50 out of  50 | elapsed: 20.4min finished\n"
     ]
    }
   ],
   "source": [
    "parameters = {'bootstrap': [True, False],\n",
    "              'max_depth': [10, 20, 30, 40, 50, 60, 70, 80, 90, 100, None],\n",
    "              'max_features': ['auto', 'sqrt'],\n",
    "              'min_samples_leaf': [1, 2, 4],\n",
    "              'min_samples_split': [2, 5, 10],\n",
    "              'n_estimators': [200, 400, 600, 800, 1000, 1200, 1400, 1600, 1800, 2000]}\n",
    "\n",
    "rand_forest = RandomizedSearchCV(RandomForestClassifier(), \n",
    "                                 parameters, \n",
    "                                 cv = 5, \n",
    "                                 scoring = 'f1_weighted', \n",
    "                                 verbose = 10, \n",
    "                                 n_jobs = -1)\n",
    "\n",
    "result = rand_forest.fit(X_train_sample, Y_train_sample.values.ravel())"
   ]
  },
  {
   "cell_type": "code",
   "execution_count": 85,
   "metadata": {},
   "outputs": [
    {
     "name": "stdout",
     "output_type": "stream",
     "text": [
      "{'n_estimators': 2000, 'min_samples_split': 10, 'min_samples_leaf': 2, 'max_features': 'sqrt', 'max_depth': None, 'bootstrap': True}\n",
      "0.6815723183954626\n"
     ]
    }
   ],
   "source": [
    "# print results from grid search \n",
    "print(result.best_params_)\n",
    "print(result.best_score_)"
   ]
  },
  {
   "cell_type": "code",
   "execution_count": 86,
   "metadata": {
    "colab": {
     "base_uri": "https://localhost:8080/"
    },
    "colab_type": "code",
    "id": "OUaXpNZ7M-V4",
    "outputId": "ff52d3ac-0cdc-474d-d63f-ab0b4224dd33"
   },
   "outputs": [
    {
     "name": "stderr",
     "output_type": "stream",
     "text": [
      "[Parallel(n_jobs=-1)]: Using backend LokyBackend with 16 concurrent workers.\n",
      "[Parallel(n_jobs=-1)]: Done   9 out of  80 | elapsed:  2.4min remaining: 18.9min\n",
      "[Parallel(n_jobs=-1)]: Done  18 out of  80 | elapsed:  3.4min remaining: 11.7min\n",
      "[Parallel(n_jobs=-1)]: Done  27 out of  80 | elapsed:  4.9min remaining:  9.7min\n",
      "[Parallel(n_jobs=-1)]: Done  36 out of  80 | elapsed:  6.3min remaining:  7.7min\n",
      "[Parallel(n_jobs=-1)]: Done  45 out of  80 | elapsed:  7.5min remaining:  5.8min\n",
      "[Parallel(n_jobs=-1)]: Done  54 out of  80 | elapsed:  9.0min remaining:  4.3min\n",
      "[Parallel(n_jobs=-1)]: Done  63 out of  80 | elapsed: 10.3min remaining:  2.8min\n",
      "[Parallel(n_jobs=-1)]: Done  72 out of  80 | elapsed: 11.5min remaining:  1.3min\n",
      "[Parallel(n_jobs=-1)]: Done  80 out of  80 | elapsed: 13.0min finished\n"
     ]
    }
   ],
   "source": [
    "param_range = np.arange(20, 100, 5)\n",
    "train_scores, test_scores = validation_curve(\n",
    "                            RandomForestClassifier(bootstrap = True, \n",
    "                                                   n_estimators = 1000,\n",
    "                                                   max_features = \"sqrt\",\n",
    "                                                   min_samples_leaf = 2, \n",
    "                                                   min_samples_split = 10),\n",
    "                            X = X_train_sample, y = Y_train_sample, scoring = \"f1_weighted\",\n",
    "                            param_name = 'max_depth', \n",
    "                            param_range = param_range, cv = 5, verbose = 10, n_jobs = -1)"
   ]
  },
  {
   "cell_type": "code",
   "execution_count": 87,
   "metadata": {
    "colab": {
     "base_uri": "https://localhost:8080/"
    },
    "colab_type": "code",
    "id": "jxZ3HvmHQf0h",
    "outputId": "8115402c-df92-484f-909f-79b0af085ffc"
   },
   "outputs": [
    {
     "data": {
      "image/png": "[encoded data removed]",
      "text/plain": [
       "<Figure size 432x288 with 1 Axes>"
      ]
     },
     "metadata": {
      "needs_background": "light"
     },
     "output_type": "display_data"
    }
   ],
   "source": [
    "# Calculate mean and standard deviation for training set scores\n",
    "train_mean = np.mean(train_scores, axis=1)\n",
    "train_std = np.std(train_scores, axis=1)\n",
    "\n",
    "# Calculate mean and standard deviation for test set scores\n",
    "test_mean = np.mean(test_scores, axis=1)\n",
    "test_std = np.std(test_scores, axis=1)\n",
    "\n",
    "# Plot mean accuracy scores for training and test sets\n",
    "plt.plot(param_range, train_mean, label=\"Training score\", color=\"black\")\n",
    "plt.plot(param_range, test_mean, label=\"Cross-validation score\", color=\"dimgrey\")\n",
    "\n",
    "# Plot accurancy bands for training and test sets\n",
    "plt.fill_between(param_range, train_mean - train_std, train_mean + train_std, color=\"gray\")\n",
    "plt.fill_between(param_range, test_mean - test_std, test_mean + test_std, color=\"gainsboro\")\n",
    "\n",
    "# Create plot\n",
    "plt.title(\"Validation Curve With Random Forest\")\n",
    "plt.xlabel(\"Number Of Trees\")\n",
    "plt.ylabel(\"Accuracy Score\")\n",
    "plt.tight_layout()\n",
    "plt.legend(loc=\"best\")\n",
    "plt.show()"
   ]
  },
  {
   "cell_type": "code",
   "execution_count": null,
   "metadata": {
    "colab": {},
    "colab_type": "code",
    "id": "u1FK1DyrArOC"
   },
   "outputs": [],
   "source": [
    "# print results from grid search \n",
    "result.best_params_\n",
    "# result.cv_results_"
   ]
  },
  {
   "cell_type": "code",
   "execution_count": null,
   "metadata": {
    "colab": {},
    "colab_type": "code",
    "id": "izmrM_gIAt2x"
   },
   "outputs": [],
   "source": [
    "rand_forest = RandomForestClassifier(result.best_params_)\n",
    "#result_model = dec_tree.fit(X_train_sample, Y_train_sample)\n",
    "cross_val_score(rand_forest, X_train_sample, Y_train_sample, cv = 5, score = \"f1_weighted\")\n",
    "#dec_tree"
   ]
  },
  {
   "cell_type": "markdown",
   "metadata": {
    "colab_type": "text",
    "id": "56Chp5LqmSCi"
   },
   "source": [
    "### 3. Boosting - Niels"
   ]
  },
  {
   "cell_type": "code",
   "execution_count": 17,
   "metadata": {},
   "outputs": [
    {
     "name": "stdout",
     "output_type": "stream",
     "text": [
      "Collecting xgboost\n",
      "  Downloading xgboost-1.0.2-py3-none-manylinux1_x86_64.whl (109.7 MB)\n",
      "\u001b[K     |████████████████████████████████| 109.7 MB 9.5 kB/s s eta 0:00:01  |█████████████████████▏          | 72.5 MB 4.7 MB/s eta 0:00:08\n",
      "\u001b[?25hRequirement already satisfied: scipy in /opt/conda/lib/python3.7/site-packages (from xgboost) (1.4.1)\n",
      "Requirement already satisfied: numpy in /opt/conda/lib/python3.7/site-packages (from xgboost) (1.18.1)\n",
      "Installing collected packages: xgboost\n",
      "Successfully installed xgboost-1.0.2\n"
     ]
    }
   ],
   "source": [
    "!pip install xgboost"
   ]
  },
  {
   "cell_type": "code",
   "execution_count": 24,
   "metadata": {},
   "outputs": [
    {
     "name": "stdout",
     "output_type": "stream",
     "text": [
      "Fitting 3 folds for each of 20 candidates, totalling 60 fits\n"
     ]
    },
    {
     "name": "stderr",
     "output_type": "stream",
     "text": [
      "[Parallel(n_jobs=-1)]: Using backend LokyBackend with 16 concurrent workers.\n",
      "[Parallel(n_jobs=-1)]: Done   9 tasks      | elapsed: 10.0min\n",
      "[Parallel(n_jobs=-1)]: Done  18 tasks      | elapsed: 12.0min\n",
      "[Parallel(n_jobs=-1)]: Done  29 tasks      | elapsed: 22.0min\n",
      "[Parallel(n_jobs=-1)]: Done  36 out of  60 | elapsed: 24.0min remaining: 16.0min\n",
      "/opt/conda/lib/python3.7/site-packages/joblib/externals/loky/process_executor.py:706: UserWarning: A worker stopped while some jobs were given to the executor. This can be caused by a too short worker timeout or by a memory leak.\n",
      "  \"timeout or by a memory leak.\", UserWarning\n",
      "[Parallel(n_jobs=-1)]: Done  43 out of  60 | elapsed: 26.2min remaining: 10.4min\n",
      "[Parallel(n_jobs=-1)]: Done  50 out of  60 | elapsed: 32.4min remaining:  6.5min\n",
      "[Parallel(n_jobs=-1)]: Done  57 out of  60 | elapsed: 36.6min remaining:  1.9min\n",
      "[Parallel(n_jobs=-1)]: Done  60 out of  60 | elapsed: 37.3min finished\n"
     ]
    },
    {
     "name": "stdout",
     "output_type": "stream",
     "text": [
      "{'tree_method': 'approx', 'subsample': 0.8, 'silent': False, 'objective': 'multi:softmax', 'num_classes': 27, 'min_child_weight': 1, 'max_depth': 10, 'max_delta_step': 0, 'eta': 0.15, 'colsample_bytree': 0.8, 'colsample_bylevel': 1, 'booster': 'gbtree'}\n",
      "0.7001171536738044\n"
     ]
    }
   ],
   "source": [
    "parameters = {\n",
    "    'eta': [0.08, 0.1, 0.15], \n",
    "    'max_depth': [6, 8, 10, None], \n",
    "    'objective': ['multi:softmax'], \n",
    "    'num_classes' : [27], \n",
    "    'subsample' : [0.8],\n",
    "    'colsample_bytree' : [0.8],\n",
    "    'colsample_bylevel' : [1], \n",
    "    'tree_method' : ['approx', 'hist', 'gpu_hist'],\n",
    "    'silent' : [False],\n",
    "    'min_child_weight' : [1], \n",
    "    'max_delta_step' : [0],\n",
    "    'booster' : ['gbtree']\n",
    "    } \n",
    "\n",
    "model = RandomizedSearchCV(xgb.XGBClassifier(), \n",
    "                           parameters, \n",
    "                           cv = 3, \n",
    "                           scoring = 'f1_weighted', \n",
    "                           verbose = 10, \n",
    "                           n_jobs = -1, \n",
    "                           n_iter = 20)\n",
    "\n",
    "result = model.fit(X_train_sample, Y_train_sample.values.ravel())\n",
    "\n",
    "print(result.best_params_)\n",
    "print(result.best_score_)"
   ]
  },
  {
   "cell_type": "code",
   "execution_count": 19,
   "metadata": {},
   "outputs": [
    {
     "name": "stdout",
     "output_type": "stream",
     "text": [
      "{'subsample': 0.8, 'silent': False, 'reg_lambda': 1, 'reg_alpha': 0, 'objective': 'multi:softmax', 'num_classes': 27, 'min_child_weight': 1, 'max_depth': 6, 'max_delta_step': 0, 'gamma': 0, 'eta': 0.1, 'colsample_bytree': 0.8, 'colsample_bylevel': 1, 'booster': 'gbtree'}\n",
      "0.6641018615665804\n"
     ]
    }
   ],
   "source": [
    "print(result.best_params_)\n",
    "print(result.best_score_)"
   ]
  },
  {
   "cell_type": "code",
   "execution_count": 27,
   "metadata": {
    "colab": {
     "base_uri": "https://localhost:8080/",
     "height": 1000
    },
    "colab_type": "code",
    "id": "3LLn2tb0TRAK",
    "outputId": "b3cc6a3a-755b-45d5-d859-c4eb99e7ef92"
   },
   "outputs": [
    {
     "name": "stdout",
     "output_type": "stream",
     "text": [
      "Fitting 3 folds for each of 10 candidates, totalling 30 fits\n",
      "[Parallel(n_jobs=-1)]: Using backend LokyBackend with 16 concurrent workers.\n",
      "Pickling array (shape=(149091,), dtype=int32).\n",
      "Pickling array (shape=(16985,), dtype=int32).\n",
      "Memmapping (shape=(149091,), dtype=float64) to new file /dev/shm/joblib_memmapping_folder_2172_855603339/2172-139989702571664-a5201802d7bf4a4ab6440af1f8fb0dd5.pkl\n",
      "Pickling array (shape=(16984,), dtype=int64).\n",
      "Pickling array (shape=(11322,), dtype=int64).\n",
      "Pickling array (shape=(5662,), dtype=int64).\n",
      "Pickling array (shape=(149091,), dtype=int32).\n",
      "Pickling array (shape=(16985,), dtype=int32).\n",
      "Memmapping (shape=(149091,), dtype=float64) to old file /dev/shm/joblib_memmapping_folder_2172_855603339/2172-139989702571664-a5201802d7bf4a4ab6440af1f8fb0dd5.pkl\n",
      "Pickling array (shape=(16984,), dtype=int64).\n",
      "Pickling array (shape=(11323,), dtype=int64).\n",
      "Pickling array (shape=(5661,), dtype=int64).\n",
      "Pickling array (shape=(149091,), dtype=int32).\n",
      "Pickling array (shape=(16985,), dtype=int32).\n",
      "Memmapping (shape=(149091,), dtype=float64) to old file /dev/shm/joblib_memmapping_folder_2172_855603339/2172-139989702571664-a5201802d7bf4a4ab6440af1f8fb0dd5.pkl\n",
      "Pickling array (shape=(16984,), dtype=int64).\n",
      "Pickling array (shape=(11323,), dtype=int64).\n",
      "Pickling array (shape=(5661,), dtype=int64).\n",
      "Pickling array (shape=(149091,), dtype=int32).\n",
      "Pickling array (shape=(16985,), dtype=int32).\n",
      "Memmapping (shape=(149091,), dtype=float64) to old file /dev/shm/joblib_memmapping_folder_2172_855603339/2172-139989702571664-a5201802d7bf4a4ab6440af1f8fb0dd5.pkl\n",
      "Pickling array (shape=(16984,), dtype=int64).\n",
      "Pickling array (shape=(11322,), dtype=int64).\n",
      "Pickling array (shape=(5662,), dtype=int64).\n",
      "Pickling array (shape=(149091,), dtype=int32).\n",
      "Pickling array (shape=(16985,), dtype=int32).\n",
      "Memmapping (shape=(149091,), dtype=float64) to old file /dev/shm/joblib_memmapping_folder_2172_855603339/2172-139989702571664-a5201802d7bf4a4ab6440af1f8fb0dd5.pkl\n",
      "Pickling array (shape=(16984,), dtype=int64).\n",
      "Pickling array (shape=(11323,), dtype=int64).\n",
      "Pickling array (shape=(5661,), dtype=int64).\n",
      "Pickling array (shape=(149091,), dtype=int32).\n",
      "Pickling array (shape=(16985,), dtype=int32).\n",
      "Memmapping (shape=(149091,), dtype=float64) to old file /dev/shm/joblib_memmapping_folder_2172_855603339/2172-139989702571664-a5201802d7bf4a4ab6440af1f8fb0dd5.pkl\n",
      "Pickling array (shape=(16984,), dtype=int64).\n",
      "Pickling array (shape=(11323,), dtype=int64).\n",
      "Pickling array (shape=(5661,), dtype=int64).\n",
      "Pickling array (shape=(149091,), dtype=int32).\n",
      "Pickling array (shape=(16985,), dtype=int32).\n",
      "Memmapping (shape=(149091,), dtype=float64) to old file /dev/shm/joblib_memmapping_folder_2172_855603339/2172-139989702571664-a5201802d7bf4a4ab6440af1f8fb0dd5.pkl\n",
      "Pickling array (shape=(16984,), dtype=int64).\n",
      "Pickling array (shape=(11322,), dtype=int64).\n",
      "Pickling array (shape=(5662,), dtype=int64).\n",
      "Pickling array (shape=(149091,), dtype=int32).\n",
      "Pickling array (shape=(16985,), dtype=int32).\n",
      "Memmapping (shape=(149091,), dtype=float64) to old file /dev/shm/joblib_memmapping_folder_2172_855603339/2172-139989702571664-a5201802d7bf4a4ab6440af1f8fb0dd5.pkl\n",
      "Pickling array (shape=(16984,), dtype=int64).\n",
      "Pickling array (shape=(11323,), dtype=int64).\n",
      "Pickling array (shape=(5661,), dtype=int64).\n",
      "Pickling array (shape=(149091,), dtype=int32).\n",
      "Pickling array (shape=(16985,), dtype=int32).\n",
      "Memmapping (shape=(149091,), dtype=float64) to old file /dev/shm/joblib_memmapping_folder_2172_855603339/2172-139989702571664-a5201802d7bf4a4ab6440af1f8fb0dd5.pkl\n",
      "Pickling array (shape=(16984,), dtype=int64).\n",
      "Pickling array (shape=(11323,), dtype=int64).\n",
      "Pickling array (shape=(5661,), dtype=int64).\n",
      "Pickling array (shape=(149091,), dtype=int32).\n",
      "Pickling array (shape=(16985,), dtype=int32).\n",
      "Memmapping (shape=(149091,), dtype=float64) to old file /dev/shm/joblib_memmapping_folder_2172_855603339/2172-139989702571664-a5201802d7bf4a4ab6440af1f8fb0dd5.pkl\n",
      "Pickling array (shape=(16984,), dtype=int64).\n",
      "Pickling array (shape=(11322,), dtype=int64).\n",
      "Pickling array (shape=(5662,), dtype=int64).\n",
      "Pickling array (shape=(149091,), dtype=int32).\n",
      "Pickling array (shape=(16985,), dtype=int32).\n",
      "Memmapping (shape=(149091,), dtype=float64) to old file /dev/shm/joblib_memmapping_folder_2172_855603339/2172-139989702571664-a5201802d7bf4a4ab6440af1f8fb0dd5.pkl\n",
      "Pickling array (shape=(16984,), dtype=int64).\n",
      "Pickling array (shape=(11323,), dtype=int64).\n",
      "Pickling array (shape=(5661,), dtype=int64).\n",
      "Pickling array (shape=(149091,), dtype=int32).\n",
      "Pickling array (shape=(16985,), dtype=int32).\n",
      "Memmapping (shape=(149091,), dtype=float64) to old file /dev/shm/joblib_memmapping_folder_2172_855603339/2172-139989702571664-a5201802d7bf4a4ab6440af1f8fb0dd5.pkl\n",
      "Pickling array (shape=(16984,), dtype=int64).\n",
      "Pickling array (shape=(11323,), dtype=int64).\n",
      "Pickling array (shape=(5661,), dtype=int64).\n",
      "Pickling array (shape=(149091,), dtype=int32).\n",
      "Pickling array (shape=(16985,), dtype=int32).\n",
      "Memmapping (shape=(149091,), dtype=float64) to old file /dev/shm/joblib_memmapping_folder_2172_855603339/2172-139989702571664-a5201802d7bf4a4ab6440af1f8fb0dd5.pkl\n",
      "Pickling array (shape=(16984,), dtype=int64).\n",
      "Pickling array (shape=(11322,), dtype=int64).\n",
      "Pickling array (shape=(5662,), dtype=int64).\n",
      "Pickling array (shape=(149091,), dtype=int32).\n",
      "Pickling array (shape=(16985,), dtype=int32).\n",
      "Memmapping (shape=(149091,), dtype=float64) to old file /dev/shm/joblib_memmapping_folder_2172_855603339/2172-139989702571664-a5201802d7bf4a4ab6440af1f8fb0dd5.pkl\n",
      "Pickling array (shape=(16984,), dtype=int64).\n",
      "Pickling array (shape=(11323,), dtype=int64).\n",
      "Pickling array (shape=(5661,), dtype=int64).\n",
      "Pickling array (shape=(149091,), dtype=int32).\n",
      "Pickling array (shape=(16985,), dtype=int32).\n",
      "Memmapping (shape=(149091,), dtype=float64) to old file /dev/shm/joblib_memmapping_folder_2172_855603339/2172-139989702571664-a5201802d7bf4a4ab6440af1f8fb0dd5.pkl\n",
      "Pickling array (shape=(16984,), dtype=int64).\n",
      "Pickling array (shape=(11323,), dtype=int64).\n",
      "Pickling array (shape=(5661,), dtype=int64).\n",
      "Pickling array (shape=(149091,), dtype=int32).\n",
      "Pickling array (shape=(16985,), dtype=int32).\n",
      "Memmapping (shape=(149091,), dtype=float64) to old file /dev/shm/joblib_memmapping_folder_2172_855603339/2172-139989702571664-a5201802d7bf4a4ab6440af1f8fb0dd5.pkl\n",
      "Pickling array (shape=(16984,), dtype=int64).\n",
      "Pickling array (shape=(11322,), dtype=int64).\n",
      "Pickling array (shape=(5662,), dtype=int64).\n",
      "Pickling array (shape=(149091,), dtype=int32).\n",
      "Pickling array (shape=(16985,), dtype=int32).\n",
      "Memmapping (shape=(149091,), dtype=float64) to old file /dev/shm/joblib_memmapping_folder_2172_855603339/2172-139989702571664-a5201802d7bf4a4ab6440af1f8fb0dd5.pkl\n",
      "Pickling array (shape=(16984,), dtype=int64).\n",
      "Pickling array (shape=(11323,), dtype=int64).\n",
      "Pickling array (shape=(5661,), dtype=int64).\n",
      "[Parallel(n_jobs=-1)]: Done   4 out of  30 | elapsed: 13.8min remaining: 90.0min\n",
      "Pickling array (shape=(149091,), dtype=int32).\n",
      "Pickling array (shape=(16985,), dtype=int32).\n",
      "Memmapping (shape=(149091,), dtype=float64) to old file /dev/shm/joblib_memmapping_folder_2172_855603339/2172-139989702571664-a5201802d7bf4a4ab6440af1f8fb0dd5.pkl\n",
      "Pickling array (shape=(16984,), dtype=int64).\n",
      "Pickling array (shape=(11323,), dtype=int64).\n",
      "Pickling array (shape=(5661,), dtype=int64).\n",
      "[Parallel(n_jobs=-1)]: Done   5 out of  30 | elapsed: 14.1min remaining: 70.6min\n",
      "Pickling array (shape=(149091,), dtype=int32).\n",
      "Pickling array (shape=(16985,), dtype=int32).\n",
      "Memmapping (shape=(149091,), dtype=float64) to old file /dev/shm/joblib_memmapping_folder_2172_855603339/2172-139989702571664-a5201802d7bf4a4ab6440af1f8fb0dd5.pkl\n",
      "Pickling array (shape=(16984,), dtype=int64).\n",
      "Pickling array (shape=(11322,), dtype=int64).\n",
      "Pickling array (shape=(5662,), dtype=int64).\n",
      "[Parallel(n_jobs=-1)]: Done   6 out of  30 | elapsed: 14.1min remaining: 56.6min\n",
      "Pickling array (shape=(149091,), dtype=int32).\n",
      "Pickling array (shape=(16985,), dtype=int32).\n",
      "Memmapping (shape=(149091,), dtype=float64) to old file /dev/shm/joblib_memmapping_folder_2172_855603339/2172-139989702571664-a5201802d7bf4a4ab6440af1f8fb0dd5.pkl\n",
      "Pickling array (shape=(16984,), dtype=int64).\n",
      "Pickling array (shape=(11323,), dtype=int64).\n",
      "Pickling array (shape=(5661,), dtype=int64).\n",
      "[Parallel(n_jobs=-1)]: Done   7 out of  30 | elapsed: 14.3min remaining: 47.1min\n",
      "Pickling array (shape=(149091,), dtype=int32).\n",
      "Pickling array (shape=(16985,), dtype=int32).\n",
      "Memmapping (shape=(149091,), dtype=float64) to old file /dev/shm/joblib_memmapping_folder_2172_855603339/2172-139989702571664-a5201802d7bf4a4ab6440af1f8fb0dd5.pkl\n",
      "Pickling array (shape=(16984,), dtype=int64).\n",
      "Pickling array (shape=(11323,), dtype=int64).\n",
      "Pickling array (shape=(5661,), dtype=int64).\n",
      "[Parallel(n_jobs=-1)]: Done   8 out of  30 | elapsed: 16.9min remaining: 46.4min\n",
      "Pickling array (shape=(149091,), dtype=int32).\n",
      "Pickling array (shape=(16985,), dtype=int32).\n",
      "Memmapping (shape=(149091,), dtype=float64) to old file /dev/shm/joblib_memmapping_folder_2172_855603339/2172-139989702571664-a5201802d7bf4a4ab6440af1f8fb0dd5.pkl\n",
      "Pickling array (shape=(16984,), dtype=int64).\n",
      "Pickling array (shape=(11322,), dtype=int64).\n",
      "Pickling array (shape=(5662,), dtype=int64).\n",
      "[Parallel(n_jobs=-1)]: Done   9 out of  30 | elapsed: 17.1min remaining: 40.0min\n",
      "Pickling array (shape=(149091,), dtype=int32).\n",
      "Pickling array (shape=(16985,), dtype=int32).\n",
      "Memmapping (shape=(149091,), dtype=float64) to old file /dev/shm/joblib_memmapping_folder_2172_855603339/2172-139989702571664-a5201802d7bf4a4ab6440af1f8fb0dd5.pkl\n",
      "Pickling array (shape=(16984,), dtype=int64).\n",
      "Pickling array (shape=(11323,), dtype=int64).\n",
      "Pickling array (shape=(5661,), dtype=int64).\n",
      "[Parallel(n_jobs=-1)]: Done  10 out of  30 | elapsed: 17.2min remaining: 34.4min\n",
      "Pickling array (shape=(149091,), dtype=int32).\n",
      "Pickling array (shape=(16985,), dtype=int32).\n",
      "Memmapping (shape=(149091,), dtype=float64) to old file /dev/shm/joblib_memmapping_folder_2172_855603339/2172-139989702571664-a5201802d7bf4a4ab6440af1f8fb0dd5.pkl\n",
      "Pickling array (shape=(16984,), dtype=int64).\n",
      "Pickling array (shape=(11323,), dtype=int64).\n",
      "Pickling array (shape=(5661,), dtype=int64).\n",
      "[Parallel(n_jobs=-1)]: Done  11 out of  30 | elapsed: 17.5min remaining: 30.2min\n",
      "Pickling array (shape=(149091,), dtype=int32).\n",
      "Pickling array (shape=(16985,), dtype=int32).\n",
      "Memmapping (shape=(149091,), dtype=float64) to old file /dev/shm/joblib_memmapping_folder_2172_855603339/2172-139989702571664-a5201802d7bf4a4ab6440af1f8fb0dd5.pkl\n",
      "Pickling array (shape=(16984,), dtype=int64).\n",
      "Pickling array (shape=(11322,), dtype=int64).\n",
      "Pickling array (shape=(5662,), dtype=int64).\n",
      "[Parallel(n_jobs=-1)]: Done  12 out of  30 | elapsed: 17.6min remaining: 26.4min\n",
      "Pickling array (shape=(149091,), dtype=int32).\n",
      "Pickling array (shape=(16985,), dtype=int32).\n",
      "Memmapping (shape=(149091,), dtype=float64) to old file /dev/shm/joblib_memmapping_folder_2172_855603339/2172-139989702571664-a5201802d7bf4a4ab6440af1f8fb0dd5.pkl\n",
      "Pickling array (shape=(16984,), dtype=int64).\n",
      "Pickling array (shape=(11323,), dtype=int64).\n",
      "Pickling array (shape=(5661,), dtype=int64).\n",
      "[Parallel(n_jobs=-1)]: Done  13 out of  30 | elapsed: 17.7min remaining: 23.1min\n",
      "Pickling array (shape=(149091,), dtype=int32).\n",
      "Pickling array (shape=(16985,), dtype=int32).\n",
      "Memmapping (shape=(149091,), dtype=float64) to old file /dev/shm/joblib_memmapping_folder_2172_855603339/2172-139989702571664-a5201802d7bf4a4ab6440af1f8fb0dd5.pkl\n",
      "Pickling array (shape=(16984,), dtype=int64).\n",
      "Pickling array (shape=(11323,), dtype=int64).\n",
      "Pickling array (shape=(5661,), dtype=int64).\n",
      "[Parallel(n_jobs=-1)]: Done  14 out of  30 | elapsed: 21.3min remaining: 24.4min\n",
      "[Parallel(n_jobs=-1)]: Done  15 out of  30 | elapsed: 21.4min remaining: 21.4min\n",
      "[Parallel(n_jobs=-1)]: Done  16 out of  30 | elapsed: 21.4min remaining: 18.7min\n",
      "[Parallel(n_jobs=-1)]: Done  17 out of  30 | elapsed: 24.5min remaining: 18.8min\n",
      "[Parallel(n_jobs=-1)]: Done  18 out of  30 | elapsed: 24.8min remaining: 16.6min\n",
      "[Parallel(n_jobs=-1)]: Done  19 out of  30 | elapsed: 27.5min remaining: 15.9min\n",
      "[Parallel(n_jobs=-1)]: Done  20 out of  30 | elapsed: 27.6min remaining: 13.8min\n",
      "[Parallel(n_jobs=-1)]: Done  21 out of  30 | elapsed: 27.8min remaining: 11.9min\n",
      "[Parallel(n_jobs=-1)]: Done  22 out of  30 | elapsed: 29.4min remaining: 10.7min\n",
      "[Parallel(n_jobs=-1)]: Done  23 out of  30 | elapsed: 29.7min remaining:  9.0min\n",
      "[Parallel(n_jobs=-1)]: Done  24 out of  30 | elapsed: 29.8min remaining:  7.4min\n",
      "[Parallel(n_jobs=-1)]: Done  25 out of  30 | elapsed: 29.9min remaining:  6.0min\n",
      "[Parallel(n_jobs=-1)]: Done  26 out of  30 | elapsed: 30.0min remaining:  4.6min\n",
      "[Parallel(n_jobs=-1)]: Done  27 out of  30 | elapsed: 30.3min remaining:  3.4min\n",
      "[Parallel(n_jobs=-1)]: Done  28 out of  30 | elapsed: 32.0min remaining:  2.3min\n",
      "[Parallel(n_jobs=-1)]: Done  30 out of  30 | elapsed: 33.6min remaining:    0.0s\n",
      "[Parallel(n_jobs=-1)]: Done  30 out of  30 | elapsed: 33.6min finished\n"
     ]
    }
   ],
   "source": [
    "parameters = {\n",
    "    'eta': [0.05, 0.1, 0.2, 0.3], \n",
    "    'max_depth': [6, 8, 10, 12],  \n",
    "    'objective': ['multi:softmax'], \n",
    "    'num_classes' : [27], \n",
    "    'subsample' : [0.8],\n",
    "    'colsample_bytree' : [0.8]} \n",
    "\n",
    "model = RandomizedSearchCV(xgb.XGBClassifier(), parameters, cv = 3, scoring = 'f1_weighted', verbose = 10, n_jobs = -1) # , n_jobs = -1\n",
    "result = model.fit(X_train_sample, Y_train_sample.values.ravel())"
   ]
  },
  {
   "cell_type": "code",
   "execution_count": 28,
   "metadata": {},
   "outputs": [
    {
     "name": "stdout",
     "output_type": "stream",
     "text": [
      "{'subsample': 0.8, 'objective': 'multi:softmax', 'num_classes': 27, 'max_depth': 8, 'eta': 0.2, 'colsample_bytree': 0.8}\n",
      "0.6949316403731332\n"
     ]
    }
   ],
   "source": [
    "# print results from grid search \n",
    "\n",
    "print(result.best_params_)\n",
    "print(result.best_score_)\n",
    "#print(grad_boost.cv_results_)"
   ]
  },
  {
   "cell_type": "code",
   "execution_count": 25,
   "metadata": {},
   "outputs": [],
   "source": [
    "param_range = np.arange(2, 14, 2)\n",
    "train_scores, test_scores = validation_curve(\n",
    "                            xgb.XGBClassifier(eta = 0.1, objective = 'multi:softmax', num_classes = 27),\n",
    "                            X = X_train_sample, y = Y_train_sample.values.ravel(), scoring = \"f1_weighted\", \n",
    "                            param_name = 'max_depth', \n",
    "                            param_range = param_range, cv = 3)"
   ]
  },
  {
   "cell_type": "code",
   "execution_count": 26,
   "metadata": {},
   "outputs": [
    {
     "data": {
      "image/png": "[encoded data removed]",
      "text/plain": [
       "<Figure size 432x288 with 1 Axes>"
      ]
     },
     "metadata": {
      "needs_background": "light"
     },
     "output_type": "display_data"
    }
   ],
   "source": [
    "# Calculate mean and standard deviation for training set scores\n",
    "train_mean = np.mean(train_scores, axis=1)\n",
    "train_std = np.std(train_scores, axis=1)\n",
    "\n",
    "# Calculate mean and standard deviation for test set scores\n",
    "test_mean = np.mean(test_scores, axis=1)\n",
    "test_std = np.std(test_scores, axis=1)\n",
    "\n",
    "# Plot mean accuracy scores for training and test sets\n",
    "plt.plot(param_range, train_mean, label=\"Training score\", color=\"black\")\n",
    "plt.plot(param_range, test_mean, label=\"Cross-validation score\", color=\"dimgrey\")\n",
    "\n",
    "# Plot accurancy bands for training and test sets\n",
    "plt.fill_between(param_range, train_mean - train_std, train_mean + train_std, color=\"gray\")\n",
    "plt.fill_between(param_range, test_mean - test_std, test_mean + test_std, color=\"gainsboro\")\n",
    "\n",
    "# Create plot\n",
    "plt.title(\"Validation Curve With Random Forest\")\n",
    "plt.xlabel(\"Number Of Trees\")\n",
    "plt.ylabel(\"Accuracy Score\")\n",
    "plt.tight_layout()\n",
    "plt.legend(loc=\"best\")\n",
    "plt.show()"
   ]
  },
  {
   "cell_type": "code",
   "execution_count": 25,
   "metadata": {
    "colab": {
     "base_uri": "https://localhost:8080/",
     "height": 34
    },
    "colab_type": "code",
    "id": "zEhhQJLPU7Y3",
    "outputId": "ec46f9fb-897c-4d9f-8724-081d56a739b3"
   },
   "outputs": [
    {
     "data": {
      "text/plain": [
       "{'eta': 0.01, 'max_depth': 3, 'num_class': 5, 'objective': 'multi:softmax'}"
      ]
     },
     "execution_count": 25,
     "metadata": {
      "tags": []
     },
     "output_type": "execute_result"
    }
   ],
   "source": [
    "# print results from grid search \n",
    "result.best_params_\n",
    "# result.cv_results_"
   ]
  },
  {
   "cell_type": "markdown",
   "metadata": {
    "colab_type": "text",
    "id": "hf4hLHM2mW_6"
   },
   "source": [
    "### 4. Gradient Boosted Trees - Camille"
   ]
  },
  {
   "cell_type": "code",
   "execution_count": 28,
   "metadata": {
    "colab": {
     "base_uri": "https://localhost:8080/",
     "height": 524
    },
    "colab_type": "code",
    "id": "-3M2ASJS8P-i",
    "outputId": "2358ff92-e39f-4886-a7f4-77e9cfdb3f89"
   },
   "outputs": [
    {
     "name": "stdout",
     "output_type": "stream",
     "text": [
      "Fitting 3 folds for each of 10 candidates, totalling 30 fits\n",
      "[Parallel(n_jobs=-1)]: Using backend LokyBackend with 4 concurrent workers.\n",
      "Pickling array (shape=(148907,), dtype=int32).\n",
      "Pickling array (shape=(16985,), dtype=int32).\n",
      "Memmapping (shape=(148907,), dtype=float64) to new file C:\\Users\\arimo\\AppData\\Local\\Temp\\joblib_memmapping_folder_23008_204497212\\23008-2547443953168-f9268a42d16e4ba4a9d77d5294fa8ad4.pkl\n",
      "Pickling array (shape=(1, 16984), dtype=int64).\n",
      "Pickling array (shape=(11322,), dtype=int32).\n",
      "Pickling array (shape=(5662,), dtype=int32).\n",
      "Pickling array (shape=(148907,), dtype=int32).\n",
      "Pickling array (shape=(16985,), dtype=int32).\n",
      "Memmapping (shape=(148907,), dtype=float64) to old file C:\\Users\\arimo\\AppData\\Local\\Temp\\joblib_memmapping_folder_23008_204497212\\23008-2547443953168-f9268a42d16e4ba4a9d77d5294fa8ad4.pkl\n",
      "Pickling array (shape=(1, 16984), dtype=int64).\n",
      "Pickling array (shape=(11323,), dtype=int32).\n",
      "Pickling array (shape=(5661,), dtype=int32).\n",
      "Pickling array (shape=(148907,), dtype=int32).\n",
      "Pickling array (shape=(16985,), dtype=int32).\n",
      "Memmapping (shape=(148907,), dtype=float64) to old file C:\\Users\\arimo\\AppData\\Local\\Temp\\joblib_memmapping_folder_23008_204497212\\23008-2547443953168-f9268a42d16e4ba4a9d77d5294fa8ad4.pkl\n",
      "Pickling array (shape=(1, 16984), dtype=int64).\n",
      "Pickling array (shape=(11323,), dtype=int32).\n",
      "Pickling array (shape=(5661,), dtype=int32).\n",
      "Pickling array (shape=(148907,), dtype=int32).\n",
      "Pickling array (shape=(16985,), dtype=int32).\n",
      "Memmapping (shape=(148907,), dtype=float64) to old file C:\\Users\\arimo\\AppData\\Local\\Temp\\joblib_memmapping_folder_23008_204497212\\23008-2547443953168-f9268a42d16e4ba4a9d77d5294fa8ad4.pkl\n",
      "Pickling array (shape=(1, 16984), dtype=int64).\n",
      "Pickling array (shape=(11322,), dtype=int32).\n",
      "Pickling array (shape=(5662,), dtype=int32).\n",
      "Pickling array (shape=(148907,), dtype=int32).\n",
      "Pickling array (shape=(16985,), dtype=int32).\n",
      "Memmapping (shape=(148907,), dtype=float64) to old file C:\\Users\\arimo\\AppData\\Local\\Temp\\joblib_memmapping_folder_23008_204497212\\23008-2547443953168-f9268a42d16e4ba4a9d77d5294fa8ad4.pkl\n",
      "Pickling array (shape=(1, 16984), dtype=int64).\n",
      "Pickling array (shape=(11323,), dtype=int32).\n",
      "Pickling array (shape=(5661,), dtype=int32).\n",
      "[Parallel(n_jobs=-1)]: Done   1 tasks      | elapsed: 15.0min\n",
      "Pickling array (shape=(148907,), dtype=int32).\n",
      "Pickling array (shape=(16985,), dtype=int32).\n",
      "Memmapping (shape=(148907,), dtype=float64) to old file C:\\Users\\arimo\\AppData\\Local\\Temp\\joblib_memmapping_folder_23008_204497212\\23008-2547443953168-f9268a42d16e4ba4a9d77d5294fa8ad4.pkl\n",
      "Pickling array (shape=(1, 16984), dtype=int64).\n",
      "Pickling array (shape=(11323,), dtype=int32).\n",
      "Pickling array (shape=(5661,), dtype=int32).\n",
      "[Parallel(n_jobs=-1)]: Done   2 tasks      | elapsed: 15.2min\n",
      "Pickling array (shape=(148907,), dtype=int32).\n",
      "Pickling array (shape=(16985,), dtype=int32).\n",
      "Memmapping (shape=(148907,), dtype=float64) to old file C:\\Users\\arimo\\AppData\\Local\\Temp\\joblib_memmapping_folder_23008_204497212\\23008-2547443953168-f9268a42d16e4ba4a9d77d5294fa8ad4.pkl\n",
      "Pickling array (shape=(1, 16984), dtype=int64).\n",
      "Pickling array (shape=(11322,), dtype=int32).\n",
      "Pickling array (shape=(5662,), dtype=int32).\n",
      "[Parallel(n_jobs=-1)]: Done   3 tasks      | elapsed: 15.3min\n",
      "Pickling array (shape=(148907,), dtype=int32).\n",
      "Pickling array (shape=(16985,), dtype=int32).\n",
      "Memmapping (shape=(148907,), dtype=float64) to old file C:\\Users\\arimo\\AppData\\Local\\Temp\\joblib_memmapping_folder_23008_204497212\\23008-2547443953168-f9268a42d16e4ba4a9d77d5294fa8ad4.pkl\n",
      "Pickling array (shape=(1, 16984), dtype=int64).\n",
      "Pickling array (shape=(11323,), dtype=int32).\n",
      "Pickling array (shape=(5661,), dtype=int32).\n",
      "[Parallel(n_jobs=-1)]: Done   4 tasks      | elapsed: 19.4min\n",
      "Pickling array (shape=(148907,), dtype=int32).\n",
      "Pickling array (shape=(16985,), dtype=int32).\n",
      "Memmapping (shape=(148907,), dtype=float64) to old file C:\\Users\\arimo\\AppData\\Local\\Temp\\joblib_memmapping_folder_23008_204497212\\23008-2547443953168-f9268a42d16e4ba4a9d77d5294fa8ad4.pkl\n",
      "Pickling array (shape=(1, 16984), dtype=int64).\n",
      "Pickling array (shape=(11323,), dtype=int32).\n",
      "Pickling array (shape=(5661,), dtype=int32).\n",
      "[Parallel(n_jobs=-1)]: Done   5 tasks      | elapsed: 21.9min\n",
      "Pickling array (shape=(148907,), dtype=int32).\n",
      "Pickling array (shape=(16985,), dtype=int32).\n",
      "Memmapping (shape=(148907,), dtype=float64) to old file C:\\Users\\arimo\\AppData\\Local\\Temp\\joblib_memmapping_folder_23008_204497212\\23008-2547443953168-f9268a42d16e4ba4a9d77d5294fa8ad4.pkl\n",
      "Pickling array (shape=(1, 16984), dtype=int64).\n",
      "Pickling array (shape=(11322,), dtype=int32).\n",
      "Pickling array (shape=(5662,), dtype=int32).\n",
      "[Parallel(n_jobs=-1)]: Done   6 tasks      | elapsed: 26.0min\n",
      "Pickling array (shape=(148907,), dtype=int32).\n",
      "Pickling array (shape=(16985,), dtype=int32).\n",
      "Memmapping (shape=(148907,), dtype=float64) to old file C:\\Users\\arimo\\AppData\\Local\\Temp\\joblib_memmapping_folder_23008_204497212\\23008-2547443953168-f9268a42d16e4ba4a9d77d5294fa8ad4.pkl\n",
      "Pickling array (shape=(1, 16984), dtype=int64).\n",
      "Pickling array (shape=(11323,), dtype=int32).\n",
      "Pickling array (shape=(5661,), dtype=int32).\n",
      "[Parallel(n_jobs=-1)]: Done   7 tasks      | elapsed: 28.4min\n",
      "Pickling array (shape=(148907,), dtype=int32).\n",
      "Pickling array (shape=(16985,), dtype=int32).\n",
      "Memmapping (shape=(148907,), dtype=float64) to old file C:\\Users\\arimo\\AppData\\Local\\Temp\\joblib_memmapping_folder_23008_204497212\\23008-2547443953168-f9268a42d16e4ba4a9d77d5294fa8ad4.pkl\n",
      "Pickling array (shape=(1, 16984), dtype=int64).\n",
      "Pickling array (shape=(11323,), dtype=int32).\n",
      "Pickling array (shape=(5661,), dtype=int32).\n",
      "[Parallel(n_jobs=-1)]: Done   8 tasks      | elapsed: 36.4min\n",
      "Pickling array (shape=(148907,), dtype=int32).\n",
      "Pickling array (shape=(16985,), dtype=int32).\n",
      "Memmapping (shape=(148907,), dtype=float64) to old file C:\\Users\\arimo\\AppData\\Local\\Temp\\joblib_memmapping_folder_23008_204497212\\23008-2547443953168-f9268a42d16e4ba4a9d77d5294fa8ad4.pkl\n",
      "Pickling array (shape=(1, 16984), dtype=int64).\n",
      "Pickling array (shape=(11322,), dtype=int32).\n",
      "Pickling array (shape=(5662,), dtype=int32).\n",
      "[Parallel(n_jobs=-1)]: Done   9 tasks      | elapsed: 36.5min\n",
      "Pickling array (shape=(148907,), dtype=int32).\n",
      "Pickling array (shape=(16985,), dtype=int32).\n",
      "Memmapping (shape=(148907,), dtype=float64) to old file C:\\Users\\arimo\\AppData\\Local\\Temp\\joblib_memmapping_folder_23008_204497212\\23008-2547443953168-f9268a42d16e4ba4a9d77d5294fa8ad4.pkl\n",
      "Pickling array (shape=(1, 16984), dtype=int64).\n",
      "Pickling array (shape=(11323,), dtype=int32).\n",
      "Pickling array (shape=(5661,), dtype=int32).\n",
      "[Parallel(n_jobs=-1)]: Done  10 tasks      | elapsed: 46.8min\n",
      "Pickling array (shape=(148907,), dtype=int32).\n",
      "Pickling array (shape=(16985,), dtype=int32).\n",
      "Memmapping (shape=(148907,), dtype=float64) to old file C:\\Users\\arimo\\AppData\\Local\\Temp\\joblib_memmapping_folder_23008_204497212\\23008-2547443953168-f9268a42d16e4ba4a9d77d5294fa8ad4.pkl\n",
      "Pickling array (shape=(1, 16984), dtype=int64).\n",
      "Pickling array (shape=(11323,), dtype=int32).\n",
      "Pickling array (shape=(5661,), dtype=int32).\n",
      "[Parallel(n_jobs=-1)]: Done  11 tasks      | elapsed: 49.4min\n",
      "Pickling array (shape=(148907,), dtype=int32).\n",
      "Pickling array (shape=(16985,), dtype=int32).\n",
      "Memmapping (shape=(148907,), dtype=float64) to old file C:\\Users\\arimo\\AppData\\Local\\Temp\\joblib_memmapping_folder_23008_204497212\\23008-2547443953168-f9268a42d16e4ba4a9d77d5294fa8ad4.pkl\n",
      "Pickling array (shape=(1, 16984), dtype=int64).\n",
      "Pickling array (shape=(11322,), dtype=int32).\n",
      "Pickling array (shape=(5662,), dtype=int32).\n",
      "[Parallel(n_jobs=-1)]: Done  12 tasks      | elapsed: 55.5min\n",
      "Pickling array (shape=(148907,), dtype=int32).\n",
      "Pickling array (shape=(16985,), dtype=int32).\n",
      "Memmapping (shape=(148907,), dtype=float64) to old file C:\\Users\\arimo\\AppData\\Local\\Temp\\joblib_memmapping_folder_23008_204497212\\23008-2547443953168-f9268a42d16e4ba4a9d77d5294fa8ad4.pkl\n",
      "Pickling array (shape=(1, 16984), dtype=int64).\n",
      "Pickling array (shape=(11323,), dtype=int32).\n",
      "Pickling array (shape=(5661,), dtype=int32).\n",
      "[Parallel(n_jobs=-1)]: Done  13 tasks      | elapsed: 64.2min\n",
      "Pickling array (shape=(148907,), dtype=int32).\n",
      "Pickling array (shape=(16985,), dtype=int32).\n",
      "Memmapping (shape=(148907,), dtype=float64) to old file C:\\Users\\arimo\\AppData\\Local\\Temp\\joblib_memmapping_folder_23008_204497212\\23008-2547443953168-f9268a42d16e4ba4a9d77d5294fa8ad4.pkl\n",
      "Pickling array (shape=(1, 16984), dtype=int64).\n",
      "Pickling array (shape=(11323,), dtype=int32).\n",
      "Pickling array (shape=(5661,), dtype=int32).\n",
      "[Parallel(n_jobs=-1)]: Done  14 tasks      | elapsed: 64.4min\n",
      "Pickling array (shape=(148907,), dtype=int32).\n",
      "Pickling array (shape=(16985,), dtype=int32).\n",
      "Memmapping (shape=(148907,), dtype=float64) to old file C:\\Users\\arimo\\AppData\\Local\\Temp\\joblib_memmapping_folder_23008_204497212\\23008-2547443953168-f9268a42d16e4ba4a9d77d5294fa8ad4.pkl\n",
      "Pickling array (shape=(1, 16984), dtype=int64).\n",
      "Pickling array (shape=(11322,), dtype=int32).\n",
      "Pickling array (shape=(5662,), dtype=int32).\n",
      "[Parallel(n_jobs=-1)]: Done  15 tasks      | elapsed: 73.8min\n",
      "Pickling array (shape=(148907,), dtype=int32).\n",
      "Pickling array (shape=(16985,), dtype=int32).\n",
      "Memmapping (shape=(148907,), dtype=float64) to old file C:\\Users\\arimo\\AppData\\Local\\Temp\\joblib_memmapping_folder_23008_204497212\\23008-2547443953168-f9268a42d16e4ba4a9d77d5294fa8ad4.pkl\n",
      "Pickling array (shape=(1, 16984), dtype=int64).\n",
      "Pickling array (shape=(11323,), dtype=int32).\n",
      "Pickling array (shape=(5661,), dtype=int32).\n",
      "[Parallel(n_jobs=-1)]: Done  16 tasks      | elapsed: 73.9min\n",
      "Pickling array (shape=(148907,), dtype=int32).\n",
      "Pickling array (shape=(16985,), dtype=int32).\n",
      "Memmapping (shape=(148907,), dtype=float64) to old file C:\\Users\\arimo\\AppData\\Local\\Temp\\joblib_memmapping_folder_23008_204497212\\23008-2547443953168-f9268a42d16e4ba4a9d77d5294fa8ad4.pkl\n",
      "Pickling array (shape=(1, 16984), dtype=int64).\n",
      "Pickling array (shape=(11323,), dtype=int32).\n",
      "Pickling array (shape=(5661,), dtype=int32).\n",
      "[Parallel(n_jobs=-1)]: Done  17 tasks      | elapsed: 75.0min\n",
      "Pickling array (shape=(148907,), dtype=int32).\n",
      "Pickling array (shape=(16985,), dtype=int32).\n",
      "Memmapping (shape=(148907,), dtype=float64) to old file C:\\Users\\arimo\\AppData\\Local\\Temp\\joblib_memmapping_folder_23008_204497212\\23008-2547443953168-f9268a42d16e4ba4a9d77d5294fa8ad4.pkl\n",
      "Pickling array (shape=(1, 16984), dtype=int64).\n",
      "Pickling array (shape=(11322,), dtype=int32).\n",
      "Pickling array (shape=(5662,), dtype=int32).\n",
      "[Parallel(n_jobs=-1)]: Done  18 tasks      | elapsed: 77.4min\n",
      "Pickling array (shape=(148907,), dtype=int32).\n",
      "Pickling array (shape=(16985,), dtype=int32).\n",
      "Memmapping (shape=(148907,), dtype=float64) to old file C:\\Users\\arimo\\AppData\\Local\\Temp\\joblib_memmapping_folder_23008_204497212\\23008-2547443953168-f9268a42d16e4ba4a9d77d5294fa8ad4.pkl\n",
      "Pickling array (shape=(1, 16984), dtype=int64).\n",
      "Pickling array (shape=(11323,), dtype=int32).\n",
      "Pickling array (shape=(5661,), dtype=int32).\n",
      "[Parallel(n_jobs=-1)]: Done  19 tasks      | elapsed: 88.3min\n",
      "Pickling array (shape=(148907,), dtype=int32).\n",
      "Pickling array (shape=(16985,), dtype=int32).\n",
      "Memmapping (shape=(148907,), dtype=float64) to old file C:\\Users\\arimo\\AppData\\Local\\Temp\\joblib_memmapping_folder_23008_204497212\\23008-2547443953168-f9268a42d16e4ba4a9d77d5294fa8ad4.pkl\n",
      "Pickling array (shape=(1, 16984), dtype=int64).\n",
      "Pickling array (shape=(11323,), dtype=int32).\n",
      "Pickling array (shape=(5661,), dtype=int32).\n",
      "[Parallel(n_jobs=-1)]: Done  20 tasks      | elapsed: 88.5min\n",
      "Pickling array (shape=(148907,), dtype=int32).\n",
      "Pickling array (shape=(16985,), dtype=int32).\n",
      "Memmapping (shape=(148907,), dtype=float64) to old file C:\\Users\\arimo\\AppData\\Local\\Temp\\joblib_memmapping_folder_23008_204497212\\23008-2547443953168-f9268a42d16e4ba4a9d77d5294fa8ad4.pkl\n",
      "Pickling array (shape=(1, 16984), dtype=int64).\n",
      "Pickling array (shape=(11322,), dtype=int32).\n",
      "Pickling array (shape=(5662,), dtype=int32).\n",
      "[Parallel(n_jobs=-1)]: Done  21 tasks      | elapsed: 89.5min\n",
      "Pickling array (shape=(148907,), dtype=int32).\n",
      "Pickling array (shape=(16985,), dtype=int32).\n",
      "Memmapping (shape=(148907,), dtype=float64) to old file C:\\Users\\arimo\\AppData\\Local\\Temp\\joblib_memmapping_folder_23008_204497212\\23008-2547443953168-f9268a42d16e4ba4a9d77d5294fa8ad4.pkl\n",
      "Pickling array (shape=(1, 16984), dtype=int64).\n",
      "Pickling array (shape=(11323,), dtype=int32).\n",
      "Pickling array (shape=(5661,), dtype=int32).\n",
      "[Parallel(n_jobs=-1)]: Done  22 tasks      | elapsed: 92.3min\n",
      "Pickling array (shape=(148907,), dtype=int32).\n",
      "Pickling array (shape=(16985,), dtype=int32).\n",
      "Memmapping (shape=(148907,), dtype=float64) to old file C:\\Users\\arimo\\AppData\\Local\\Temp\\joblib_memmapping_folder_23008_204497212\\23008-2547443953168-f9268a42d16e4ba4a9d77d5294fa8ad4.pkl\n",
      "Pickling array (shape=(1, 16984), dtype=int64).\n",
      "Pickling array (shape=(11323,), dtype=int32).\n",
      "Pickling array (shape=(5661,), dtype=int32).\n",
      "[Parallel(n_jobs=-1)]: Done  23 tasks      | elapsed: 101.0min\n",
      "Pickling array (shape=(148907,), dtype=int32).\n",
      "Pickling array (shape=(16985,), dtype=int32).\n",
      "Memmapping (shape=(148907,), dtype=float64) to old file C:\\Users\\arimo\\AppData\\Local\\Temp\\joblib_memmapping_folder_23008_204497212\\23008-2547443953168-f9268a42d16e4ba4a9d77d5294fa8ad4.pkl\n",
      "Pickling array (shape=(1, 16984), dtype=int64).\n",
      "Pickling array (shape=(11322,), dtype=int32).\n",
      "Pickling array (shape=(5662,), dtype=int32).\n",
      "[Parallel(n_jobs=-1)]: Done  24 out of  30 | elapsed: 102.8min remaining: 25.7min\n",
      "Pickling array (shape=(148907,), dtype=int32).\n",
      "Pickling array (shape=(16985,), dtype=int32).\n",
      "Memmapping (shape=(148907,), dtype=float64) to old file C:\\Users\\arimo\\AppData\\Local\\Temp\\joblib_memmapping_folder_23008_204497212\\23008-2547443953168-f9268a42d16e4ba4a9d77d5294fa8ad4.pkl\n",
      "Pickling array (shape=(1, 16984), dtype=int64).\n",
      "Pickling array (shape=(11323,), dtype=int32).\n",
      "Pickling array (shape=(5661,), dtype=int32).\n",
      "[Parallel(n_jobs=-1)]: Done  25 out of  30 | elapsed: 103.0min remaining: 20.6min\n",
      "Pickling array (shape=(148907,), dtype=int32).\n",
      "Pickling array (shape=(16985,), dtype=int32).\n",
      "Memmapping (shape=(148907,), dtype=float64) to old file C:\\Users\\arimo\\AppData\\Local\\Temp\\joblib_memmapping_folder_23008_204497212\\23008-2547443953168-f9268a42d16e4ba4a9d77d5294fa8ad4.pkl\n",
      "Pickling array (shape=(1, 16984), dtype=int64).\n",
      "Pickling array (shape=(11323,), dtype=int32).\n",
      "Pickling array (shape=(5661,), dtype=int32).\n",
      "[Parallel(n_jobs=-1)]: Done  26 out of  30 | elapsed: 103.8min remaining: 16.0min\n",
      "[Parallel(n_jobs=-1)]: Done  27 out of  30 | elapsed: 112.6min remaining: 12.5min\n",
      "[Parallel(n_jobs=-1)]: Done  28 out of  30 | elapsed: 121.2min remaining:  8.7min\n",
      "[Parallel(n_jobs=-1)]: Done  30 out of  30 | elapsed: 122.0min remaining:    0.0s\n",
      "[Parallel(n_jobs=-1)]: Done  30 out of  30 | elapsed: 122.0min finished\n"
     ]
    },
    {
     "name": "stderr",
     "output_type": "stream",
     "text": [
      "C:\\Users\\arimo\\Anaconda3\\lib\\site-packages\\sklearn\\ensemble\\_gb.py:1454: DataConversionWarning: A column-vector y was passed when a 1d array was expected. Please change the shape of y to (n_samples, ), for example using ravel().\n",
      "  y = column_or_1d(y, warn=True)\n"
     ]
    }
   ],
   "source": [
    "parameters = {\n",
    "    \"max_depth\": [30, 50],\n",
    "    \"n_estimators\": [10, 20, 30],\n",
    "    \"learning_rate\": [0.05, 0.1, 0.2]\n",
    "}\n",
    "\n",
    "grad_boost = RandomizedSearchCV(GradientBoostingClassifier(), parameters, cv = 3, scoring = 'f1_weighted', verbose = 10, n_jobs = -1)\n",
    "result = grad_boost.fit(X_train_sample, Y_train_sample)"
   ]
  },
  {
   "cell_type": "code",
   "execution_count": 55,
   "metadata": {
    "colab": {
     "base_uri": "https://localhost:8080/",
     "height": 34
    },
    "colab_type": "code",
    "id": "RT_xFjl_An2R",
    "outputId": "6f176909-a9c8-4451-8dd7-6b588f4e293c"
   },
   "outputs": [
    {
     "name": "stdout",
     "output_type": "stream",
     "text": [
      "{'n_estimators': 30, 'max_depth': 50, 'learning_rate': 0.1}\n",
      "0.6769346662011252\n"
     ]
    }
   ],
   "source": [
    "# print results from grid search \n",
    "\n",
    "print(result.best_params_)\n",
    "print(result.best_score_)\n",
    "#print(grad_boost.cv_results_)"
   ]
  },
  {
   "cell_type": "markdown",
   "metadata": {
    "colab_type": "text",
    "id": "qCn16HzYmKSA"
   },
   "source": [
    "### 5. Bagging - Niels"
   ]
  },
  {
   "cell_type": "code",
   "execution_count": 32,
   "metadata": {},
   "outputs": [
    {
     "name": "stdout",
     "output_type": "stream",
     "text": [
      "[  10   40   50   60 1140 1160 1180 1280 1281 1300 1301 1302 1320 1560\n",
      " 1920 1940 2060 2220 2280 2403 2462 2522 2582 2583 2585 2705 2905]\n",
      "[ 3116  2508  1681   832  2671  3953   764  4870  2070  5045   807  2491\n",
      "  3241  5073  4303   803  4993   824  4760  4774  1421  4989  2589 10209\n",
      "  2496  2761   872]\n"
     ]
    }
   ],
   "source": [
    "values, counts = np.unique(Y_train['prdtypecode'], return_counts=True)\n",
    "print(values)\n",
    "print(counts)"
   ]
  },
  {
   "cell_type": "code",
   "execution_count": 38,
   "metadata": {},
   "outputs": [
    {
     "data": {
      "text/plain": [
       "{10: 0.03669508690941636,\n",
       " 40: 0.029535069951481464,\n",
       " 50: 0.0197960337274483,\n",
       " 60: 0.009797917942437232,\n",
       " 1140: 0.031454613971454146,\n",
       " 1160: 0.04655188657025767,\n",
       " 1180: 0.008997126572141882,\n",
       " 1280: 0.057350793725564085,\n",
       " 1281: 0.02437703141928494,\n",
       " 1300: 0.05941165386970653,\n",
       " 1301: 0.009503509350416883,\n",
       " 1302: 0.029334872108907627,\n",
       " 1320: 0.03816712986951811,\n",
       " 1560: 0.05974139149276932,\n",
       " 1920: 0.05067360685854256,\n",
       " 1940: 0.009456403975693627,\n",
       " 2060: 0.058799283998304204,\n",
       " 2220: 0.00970370719299072,\n",
       " 2280: 0.05605539592067455,\n",
       " 2403: 0.05622026473220595,\n",
       " 2462: 0.016734184370436667,\n",
       " 2522: 0.05875217862358095,\n",
       " 2582: 0.030488953789627397,\n",
       " 2583: 0.12022469263742994,\n",
       " 2585: 0.029393753827311696,\n",
       " 2705: 0.0325144849027274,\n",
       " 2905: 0.010268971689669792}"
      ]
     },
     "execution_count": 38,
     "metadata": {},
     "output_type": "execute_result"
    }
   ],
   "source": [
    "dict(zip(values, (counts/sum(counts))))"
   ]
  },
  {
   "cell_type": "code",
   "execution_count": 61,
   "metadata": {
    "colab": {
     "base_uri": "https://localhost:8080/",
     "height": 1000
    },
    "colab_type": "code",
    "id": "klLtbHYGTzG9",
    "outputId": "65a85717-8156-45af-9235-1ea627e1ff22"
   },
   "outputs": [
    {
     "name": "stdout",
     "output_type": "stream",
     "text": [
      "Fitting 5 folds for each of 10 candidates, totalling 50 fits\n"
     ]
    },
    {
     "name": "stderr",
     "output_type": "stream",
     "text": [
      "[Parallel(n_jobs=-1)]: Using backend LokyBackend with 16 concurrent workers.\n",
      "[Parallel(n_jobs=-1)]: Done   9 tasks      | elapsed:   19.4s\n",
      "[Parallel(n_jobs=-1)]: Done  18 tasks      | elapsed:   33.0s\n",
      "[Parallel(n_jobs=-1)]: Done  25 out of  50 | elapsed:   33.6s remaining:   33.6s\n",
      "[Parallel(n_jobs=-1)]: Done  31 out of  50 | elapsed:   40.0s remaining:   24.5s\n",
      "[Parallel(n_jobs=-1)]: Done  37 out of  50 | elapsed:   41.4s remaining:   14.5s\n",
      "[Parallel(n_jobs=-1)]: Done  43 out of  50 | elapsed:   45.0s remaining:    7.3s\n",
      "[Parallel(n_jobs=-1)]: Done  50 out of  50 | elapsed:   47.9s finished\n"
     ]
    }
   ],
   "source": [
    "parameters = {\"base_estimator__criterion\" : [\"gini\", \"entropy\"],\n",
    "              \"base_estimator__splitter\" :   [\"best\", \"random\"],\n",
    "              \"n_estimators\": [10, 20, 30], \n",
    "              \"max_samples\" : [0.7, 0.8, 1]\n",
    "             }\n",
    "\n",
    "DTC = DecisionTreeClassifier(random_state = 11, \n",
    "                             max_features = 0.8,\n",
    "                             max_depth = 6)\n",
    "\n",
    "BC = BaggingClassifier(base_estimator = DTC)\n",
    "\n",
    "bagging = RandomizedSearchCV(BC, \n",
    "                             parameters, \n",
    "                             random_state = 11, \n",
    "                             cv = 5, \n",
    "                             scoring = 'f1_weighted', \n",
    "                             verbose = 10,\n",
    "                             n_jobs = -1)\n",
    "\n",
    "result = bagging.fit(X_train_sample, Y_train_sample.values.ravel())"
   ]
  },
  {
   "cell_type": "code",
   "execution_count": 62,
   "metadata": {
    "colab": {
     "base_uri": "https://localhost:8080/",
     "height": 67
    },
    "colab_type": "code",
    "id": "l1A4D5RwX1vf",
    "outputId": "c430c37d-9abc-42dc-c08c-90562c3f6e71"
   },
   "outputs": [
    {
     "name": "stdout",
     "output_type": "stream",
     "text": [
      "{'n_estimators': 30, 'max_samples': 0.8, 'base_estimator__splitter': 'random', 'base_estimator__criterion': 'entropy'}\n",
      "0.2828390468266617\n"
     ]
    }
   ],
   "source": [
    "# print results from grid search \n",
    "\n",
    "print(result.best_params_)\n",
    "print(result.best_score_)"
   ]
  },
  {
   "cell_type": "code",
   "execution_count": 58,
   "metadata": {},
   "outputs": [
    {
     "name": "stdout",
     "output_type": "stream",
     "text": [
      "Fitting 5 folds for each of 10 candidates, totalling 50 fits\n"
     ]
    },
    {
     "name": "stderr",
     "output_type": "stream",
     "text": [
      "[Parallel(n_jobs=-1)]: Using backend LokyBackend with 16 concurrent workers.\n",
      "[Parallel(n_jobs=-1)]: Done   9 tasks      | elapsed:    3.3s\n",
      "[Parallel(n_jobs=-1)]: Done  18 tasks      | elapsed:    5.8s\n",
      "[Parallel(n_jobs=-1)]: Done  25 out of  50 | elapsed:    6.7s remaining:    6.7s\n",
      "[Parallel(n_jobs=-1)]: Done  31 out of  50 | elapsed:    8.9s remaining:    5.4s\n",
      "[Parallel(n_jobs=-1)]: Done  37 out of  50 | elapsed:    9.1s remaining:    3.2s\n",
      "[Parallel(n_jobs=-1)]: Done  43 out of  50 | elapsed:    9.9s remaining:    1.6s\n",
      "[Parallel(n_jobs=-1)]: Done  50 out of  50 | elapsed:   12.2s finished\n"
     ]
    }
   ],
   "source": [
    "parameters = {\"max_samples\" : [0.7, 0.8, 1],\n",
    "              \"base_estimator__bootstrap\": [True, False], \n",
    "              \"base_estimator__n_estimators\": [10, 20, 30], \n",
    "              \"base_estimator__max_depth\" : [6, 8, 10],\n",
    "              \"base_estimator__min_samples_leaf\" : [1, 2],\n",
    "              \"base_estimator__min_samples_split\": [2],\n",
    "             }\n",
    "\n",
    "bagging = RandomizedSearchCV(BaggingClassifier(base_estimator = RandomForestClassifier()), \n",
    "                             parameters, \n",
    "                             random_state = 11, \n",
    "                             cv = 5, \n",
    "                             scoring = 'f1_weighted', \n",
    "                             verbose = 10,\n",
    "                             n_jobs = -1)\n",
    "\n",
    "result = bagging.fit(X_train_sample, Y_train_sample.values.ravel())"
   ]
  },
  {
   "cell_type": "code",
   "execution_count": 59,
   "metadata": {},
   "outputs": [
    {
     "name": "stdout",
     "output_type": "stream",
     "text": [
      "{'max_samples': 0.7, 'base_estimator__n_estimators': 10, 'base_estimator__min_samples_split': 2, 'base_estimator__min_samples_leaf': 1, 'base_estimator__max_depth': 10, 'base_estimator__bootstrap': False}\n",
      "0.2087871794256951\n"
     ]
    }
   ],
   "source": [
    "# print results from grid search \n",
    "\n",
    "print(result.best_params_)\n",
    "print(result.best_score_)"
   ]
  },
  {
   "cell_type": "markdown",
   "metadata": {
    "colab_type": "text",
    "id": "R43eJO7fmZCz"
   },
   "source": [
    "### 6. AdaBoost - Ariel"
   ]
  },
  {
   "cell_type": "code",
   "execution_count": 18,
   "metadata": {
    "colab": {
     "base_uri": "https://localhost:8080/",
     "height": 1000
    },
    "colab_type": "code",
    "id": "98L4n0E6T232",
    "outputId": "ebaa0825-690e-4263-d22d-4a69a859e0c7"
   },
   "outputs": [
    {
     "ename": "NameError",
     "evalue": "name 'DecisionTreeClassifier' is not defined",
     "output_type": "error",
     "traceback": [
      "\u001b[0;31m---------------------------------------------------------------------------\u001b[0m",
      "\u001b[0;31mNameError\u001b[0m                                 Traceback (most recent call last)",
      "\u001b[0;32m<ipython-input-18-bc9f5c1aaef5>\u001b[0m in \u001b[0;36m<module>\u001b[0;34m\u001b[0m\n\u001b[1;32m      4\u001b[0m               \"learning_rate\" : [0.05, 0.1]}\n\u001b[1;32m      5\u001b[0m \u001b[0;34m\u001b[0m\u001b[0m\n\u001b[0;32m----> 6\u001b[0;31m DTC = DecisionTreeClassifier(random_state = 11, \n\u001b[0m\u001b[1;32m      7\u001b[0m                              \u001b[0mmax_features\u001b[0m \u001b[0;34m=\u001b[0m \u001b[0;34m\"auto\"\u001b[0m\u001b[0;34m,\u001b[0m\u001b[0;34m\u001b[0m\u001b[0;34m\u001b[0m\u001b[0m\n\u001b[1;32m      8\u001b[0m                              \u001b[0mclass_weight\u001b[0m \u001b[0;34m=\u001b[0m \u001b[0;34m\"balanced\"\u001b[0m\u001b[0;34m,\u001b[0m\u001b[0;34m\u001b[0m\u001b[0;34m\u001b[0m\u001b[0m\n",
      "\u001b[0;31mNameError\u001b[0m: name 'DecisionTreeClassifier' is not defined"
     ]
    }
   ],
   "source": [
    "parameters = {\"n_estimators\" : [20, 30], \n",
    "              \"learning_rate\" : [0.05, 0.1]}\n",
    "\n",
    "DTC = DecisionTreeClassifier(random_state = 11, \n",
    "                             max_features = \"auto\", \n",
    "                             class_weight = \"balanced\", \n",
    "                             max_depth = 100)\n",
    "\n",
    "RFC = RandomForestClassifier(criterion = 'gini', \n",
    "                             n_estimators = 2000, \n",
    "                             min_samples_split = 10, \n",
    "                             min_samples_leaf = 2, \n",
    "                             max_features = 'sqrt', \n",
    "                             max_samples = 0.8,\n",
    "                             max_depth = 100, \n",
    "                             bootstrap = True)\n",
    "\n",
    "ABC = AdaBoostClassifier(base_estimator = RFC)\n",
    "\n",
    "adaboost = GridSearchCV(ABC, \n",
    "                        parameters, \n",
    "                        cv = 3, \n",
    "                        scoring = 'f1_weighted', \n",
    "                        verbose = 20, \n",
    "                        n_jobs = -1)\n",
    "\n",
    "result = adaboost.fit(X_train_sample, Y_train_sample)"
   ]
  },
  {
   "cell_type": "code",
   "execution_count": 96,
   "metadata": {
    "colab": {
     "base_uri": "https://localhost:8080/",
     "height": 67
    },
    "colab_type": "code",
    "id": "F0aTE2XsXuqj",
    "outputId": "a5f19aef-89df-44b9-e312-cda5b3044df7"
   },
   "outputs": [
    {
     "name": "stdout",
     "output_type": "stream",
     "text": [
      "{'n_estimators': 2000, 'min_samples_split': 10, 'min_samples_leaf': 2, 'max_features': 'sqrt', 'max_depth': None, 'bootstrap': True}\n",
      "0.6815723183954626\n"
     ]
    }
   ],
   "source": [
    "# print results from grid search \n",
    "print(result.best_params_)\n",
    "print(result.best_score_)"
   ]
  },
  {
   "cell_type": "markdown",
   "metadata": {
    "colab_type": "text",
    "id": "5ZU8GpeqcIbQ"
   },
   "source": [
    "After this preprocessing step, you have now access to a TF-IDF matrix that constitute our data set for the final evaluation project. The project guidelines are:\n",
    "1. Apply all approaches taught in the course and practiced in lab sessions () on this data set. The goal is to predict the target variable (prdtypecode).\n",
    "2. Compare performances of all these models in terms of the weighted-f1 scores you can output. \n",
    "3. Conclude about the most appropriate approach on this data set for the predictive task. \n",
    "4. Write a report in .tex format that adress all these guidelines with a maximal page number of 5 (including figures, tables and references). We will take into account the quality of writing and presentation of the report."
   ]
  },
  {
   "cell_type": "markdown",
   "metadata": {
    "colab_type": "text",
    "id": "NvQoG2Rc-PJp"
   },
   "source": [
    "IDEAS: For the test set maybe recreate a TF-IDF based on train + test "
   ]
  },
  {
   "cell_type": "code",
   "execution_count": null,
   "metadata": {
    "colab": {},
    "colab_type": "code",
    "id": "seRem5uK-UoN"
   },
   "outputs": [],
   "source": []
  },
  {
   "cell_type": "code",
   "execution_count": null,
   "metadata": {
    "colab": {},
    "colab_type": "code",
    "id": "P73ive8BCAun"
   },
   "outputs": [],
   "source": [
    "def plot_results(model, param = 'min_samples_leaf', name = 'min_samples_leaf'):\n",
    "    param_name = 'param_%s' % param\n",
    "\n",
    "    # Extract information from the cross validation model\n",
    "    train_scores = result.cv_results_['mean_test_score']\n",
    "    test_scores = result.cv_results_['mean_test_score']\n",
    "    train_time = result.cv_results_['mean_test_score']\n",
    "    param_values = list(model.cv_results_[param_name])\n",
    "    \n",
    "    # Plot the scores over the parameter\n",
    "    plt.subplots(1, 2, figsize=(10, 6))\n",
    "    plt.subplot(121)\n",
    "    plt.plot(param_values, train_scores, 'bo-', label = 'train')\n",
    "    plt.plot(param_values, test_scores, 'go-', label = 'test')\n",
    "    plt.ylim(ymin = -10, ymax = 0)\n",
    "    plt.legend()\n",
    "    plt.xlabel(name)\n",
    "    plt.ylabel('Neg Mean Absolute Error')\n",
    "    plt.title('Score vs %s' % name)\n",
    "    \n",
    "    plt.subplot(122)\n",
    "    plt.plot(param_values, train_time, 'ro-')\n",
    "    plt.ylim(ymin = 0.0, ymax = 2.0)\n",
    "    plt.xlabel(name)\n",
    "    plt.ylabel('Train Time (sec)')\n",
    "    plt.title('Training Time vs %s' % name)\n",
    "    \n",
    "    plt.tight_layout(pad = 4)"
   ]
  },
  {
   "cell_type": "code",
   "execution_count": null,
   "metadata": {
    "colab": {
     "base_uri": "https://localhost:8080/",
     "height": 383
    },
    "colab_type": "code",
    "id": "bQhIQqbTI4xk",
    "outputId": "b5763937-b8ae-46a6-93c0-bdfafeaaf8f6"
   },
   "outputs": [
    {
     "data": {
      "image/png": "[encoded data removed]",
      "text/plain": [
       "<Figure size 720x432 with 2 Axes>"
      ]
     },
     "metadata": {
      "tags": []
     },
     "output_type": "display_data"
    }
   ],
   "source": [
    "plot_results(rand_forest)"
   ]
  }
 ],
 "metadata": {
  "accelerator": "GPU",
  "colab": {
   "collapsed_sections": [],
   "machine_shape": "hm",
   "name": "Project-02.ipynb",
   "provenance": []
  },
  "kernelspec": {
   "display_name": "Python 3",
   "language": "python",
   "name": "python3"
  },
  "language_info": {
   "codemirror_mode": {
    "name": "ipython",
    "version": 3
   },
   "file_extension": ".py",
   "mimetype": "text/x-python",
   "name": "python",
   "nbconvert_exporter": "python",
   "pygments_lexer": "ipython3",
   "version": "3.7.6"
  }
 },
 "nbformat": 4,
 "nbformat_minor": 4
}
